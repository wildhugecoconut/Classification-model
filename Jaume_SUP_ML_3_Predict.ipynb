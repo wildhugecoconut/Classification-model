{
  "nbformat": 4,
  "nbformat_minor": 0,
  "metadata": {
    "colab": {
      "provenance": [],
      "include_colab_link": true
    },
    "kernelspec": {
      "name": "python3",
      "display_name": "Python 3"
    },
    "language_info": {
      "name": "python"
    }
  },
  "cells": [
    {
      "cell_type": "markdown",
      "metadata": {
        "id": "view-in-github",
        "colab_type": "text"
      },
      "source": [
        "<a href=\"https://colab.research.google.com/github/wildhugecoconut/Classification-model/blob/main/Jaume_SUP_ML_3_Predict.ipynb\" target=\"_parent\"><img src=\"https://colab.research.google.com/assets/colab-badge.svg\" alt=\"Open In Colab\"/></a>"
      ]
    },
    {
      "cell_type": "markdown",
      "source": [
        "# SUP ML 3 - PREDICT"
      ],
      "metadata": {
        "id": "87Bve6QZggnT"
      }
    },
    {
      "cell_type": "markdown",
      "source": [
        "# Librerias"
      ],
      "metadata": {
        "id": "jTEOHHidYOV-"
      }
    },
    {
      "cell_type": "code",
      "source": [
        "import pandas as pd\n",
        "import numpy as np\n",
        "import matplotlib.pyplot as plt\n",
        "import seaborn as sns\n",
        "\n",
        "pd.set_option('display.max_columns',None)\n",
        "\n",
        "import warnings\n",
        "warnings.filterwarnings(\"ignore\")"
      ],
      "metadata": {
        "id": "5Rkor61lYTQX"
      },
      "execution_count": null,
      "outputs": []
    },
    {
      "cell_type": "code",
      "source": [
        "from google.colab import drive\n",
        "drive.mount('/content/drive')"
      ],
      "metadata": {
        "colab": {
          "base_uri": "https://localhost:8080/"
        },
        "id": "2FwqmWWCajaG",
        "outputId": "d7bde828-f61a-4bf7-9c0c-08625ac1d3be"
      },
      "execution_count": null,
      "outputs": [
        {
          "output_type": "stream",
          "name": "stdout",
          "text": [
            "Mounted at /content/drive\n"
          ]
        }
      ]
    },
    {
      "cell_type": "markdown",
      "source": [
        "# Carga modelo"
      ],
      "metadata": {
        "id": "KohbVrqkJIKU"
      }
    },
    {
      "cell_type": "markdown",
      "source": [
        "* Cargar el modelo\n",
        "* Obtener la lista de model features"
      ],
      "metadata": {
        "id": "y4ncLcUnMlT-"
      }
    },
    {
      "cell_type": "code",
      "source": [
        "import pickle"
      ],
      "metadata": {
        "id": "AvosrAKsaPEy"
      },
      "execution_count": null,
      "outputs": []
    },
    {
      "cell_type": "code",
      "source": [
        "model = pickle.load(open('/content/drive/MyDrive/DSC 0523– Entregable 2 - Borrero, Dottori, He/Modelo/EJERCICIO-ML-Sup/data/traintest.pkl', 'rb'))"
      ],
      "metadata": {
        "id": "KE59D78rhIor"
      },
      "execution_count": null,
      "outputs": []
    },
    {
      "cell_type": "markdown",
      "source": [
        "# Carga PREDICT dataset"
      ],
      "metadata": {
        "id": "9MEmBvLvJA-s"
      }
    },
    {
      "cell_type": "code",
      "source": [
        "X_pred = pd.read_csv('/content/drive/MyDrive/DSC 0523– Entregable 2 - Borrero, Dottori, He/Modelo/EJERCICIO-ML-Sup/data/telecom_churn_PREDICT.csv')\n",
        "X_pred.head()"
      ],
      "metadata": {
        "id": "StbMbwFVMjQL",
        "colab": {
          "base_uri": "https://localhost:8080/",
          "height": 339
        },
        "outputId": "62d95802-e0a4-4fc9-f9c5-48dead694ca2"
      },
      "execution_count": null,
      "outputs": [
        {
          "output_type": "execute_result",
          "data": {
            "text/plain": [
              "        rev      mou    totmrc      da  ovrmou  ovrrev  vceovr  datovr  \\\n",
              "0   30.8350   136.75   29.9900  0.2475    1.25   0.500     0.5   0.000   \n",
              "1   35.8475   352.75   24.2700  0.4950   23.25   9.285     8.7   0.585   \n",
              "2   30.3275   241.50   39.9900  0.0000    0.00   0.000     0.0   0.000   \n",
              "3  154.6925  2297.00  149.9900  4.7025    0.00   0.000     0.0   0.000   \n",
              "4  156.0050   542.25   48.9475  0.7425   70.75  28.295    28.1   0.195   \n",
              "\n",
              "     roam  change_mou  change_rev   drop_vce  drop_dat   blck_vce  blck_dat  \\\n",
              "0  0.0975       48.25      1.1550   2.000000  0.000000  10.333333       0.0   \n",
              "1  1.8000     -352.75    -35.8475   9.000000  0.000000   0.000000       0.0   \n",
              "2  0.0000      -86.50      0.8625   2.000000  0.000000   4.666667       0.0   \n",
              "3  0.0000      119.00      0.2475  20.333333  0.000000   5.000000       0.0   \n",
              "4  0.0000      195.75     40.0150   5.666667  0.333333   0.666667       0.0   \n",
              "\n",
              "     unan_vce  unan_dat     plcd_vce  plcd_dat    recv_vce  recv_sms  \\\n",
              "0   13.333333       0.0    66.000000  0.000000    3.333333       0.0   \n",
              "1   10.000000       0.0    82.666667  1.000000   31.000000       0.0   \n",
              "2   20.666667       0.0    85.333333  0.000000   26.666667       0.0   \n",
              "3  329.333333       0.0  1067.000000  0.000000  628.000000       0.0   \n",
              "4   46.333333       0.0   167.666667  0.666667   11.333333       0.0   \n",
              "\n",
              "     comp_vce  comp_dat   custcare   ccrndmou     cc_mou    inonemin  \\\n",
              "0   40.666667  0.000000   1.333333   1.333333   0.896667    0.666667   \n",
              "1   65.333333  1.000000   3.666667   9.000000   5.890000   18.333333   \n",
              "2   59.333333  0.000000   4.333333   6.333333   4.466667   17.000000   \n",
              "3  723.000000  0.000000   0.333333   0.666667   0.376667  408.000000   \n",
              "4  115.000000  0.333333  21.666667  48.000000  31.346667   10.000000   \n",
              "\n",
              "   threeway    mou_cvce  mou_cdat    mou_rvce  owylis_vce  mouowylisv  \\\n",
              "0  0.333333   71.746667  0.000000    5.406667    1.333333    0.713333   \n",
              "1  1.333333   98.543333  1.023333   83.666667   15.666667   12.683333   \n",
              "2  1.666667  143.530000  0.000000   27.373333    9.666667    3.760000   \n",
              "3  0.000000  769.136667  0.000000  679.020000  271.000000  167.090000   \n",
              "4  0.333333  343.066667  0.010000   11.243333   13.000000   14.563333   \n",
              "\n",
              "   iwylis_vce  mouiwylisv    peak_vce  peak_dat    mou_peav  mou_pead  \\\n",
              "0    0.333333    0.473333   30.000000       0.0   54.500000       0.0   \n",
              "1    1.333333   14.286667   38.000000       0.0  106.926667       0.0   \n",
              "2   19.666667   21.736667   48.666667       0.0   76.356667       0.0   \n",
              "3   68.666667  150.656667  723.000000       0.0  961.736667       0.0   \n",
              "4    1.333333    2.100000   91.000000       0.0  205.216667       0.0   \n",
              "\n",
              "      opk_vce   opk_dat    mou_opkv  mou_opkd   drop_blk      attempt  \\\n",
              "0   13.666667  0.000000   22.653333  0.000000  12.333333    66.000000   \n",
              "1   43.666667  1.000000   75.283333  1.023333   9.000000    83.666667   \n",
              "2   36.000000  0.000000   94.543333  0.000000   6.666667    85.333333   \n",
              "3  346.000000  0.000000  486.420000  0.000000  25.333333  1067.000000   \n",
              "4   31.000000  0.333333  149.096667  0.010000   6.666667   168.333333   \n",
              "\n",
              "     complete  callfwdv  callwait  months  uniqsubs  actvsubs new_cell  \\\n",
              "0   40.666667       0.0  0.000000       7         1         1        U   \n",
              "1   66.333333       0.0  1.333333       7         1         1        U   \n",
              "2   59.333333       0.0  0.333333       9         2         2        Y   \n",
              "3  723.000000       0.0  8.333333      11         1         1        U   \n",
              "4  115.333333       0.0  0.666667       9         1         1        U   \n",
              "\n",
              "  crclscod asl_flag  totcalls   totmou   totrev   adjrev   adjmou  adjqty  \\\n",
              "0       AA        N       393    958.0   248.46   182.94    958.0     393   \n",
              "1       EA        Y      1641   4011.0   391.87   305.59   3998.0    1634   \n",
              "2        A        N       780   1889.0   312.91   219.45   1772.0     734   \n",
              "3       AA        N      9018  18478.0  2217.05  2131.17  18478.0    9018   \n",
              "4       CA        Y       791   2601.0   879.51   608.66   2601.0     791   \n",
              "\n",
              "   avgrev   avgmou  avgqty  avg3mou  avg3qty  avg3rev  avg6mou  avg6qty  \\\n",
              "0   30.49   159.67   65.50      121       52       30    160.0     66.0   \n",
              "1   50.93   666.33  272.33      470      181       48    666.0    272.0   \n",
              "2   31.35   253.14  104.86      270      107       30    273.0    109.0   \n",
              "3  213.12  1847.80  901.80     2257     1045      155   2452.0   1171.0   \n",
              "4   86.95   371.57  113.00      477      130      143    349.0    103.0   \n",
              "\n",
              "   avg6rev prizm_social_one                           area dualband  \\\n",
              "0     31.0                C            ATLANTIC SOUTH AREA        Y   \n",
              "1     51.0                C  NORTHWEST/ROCKY MOUNTAIN AREA        T   \n",
              "2     31.0                T       CENTRAL/SOUTH TEXAS AREA        N   \n",
              "3    278.0                S            ATLANTIC SOUTH AREA        N   \n",
              "4     91.0                U               LOS ANGELES AREA        Y   \n",
              "\n",
              "  refurb_new  hnd_price  phones  models hnd_webcap  truck   rv ownrent   lor  \\\n",
              "0          N  149.98999     1.0     1.0       WCMB    0.0  0.0       R   NaN   \n",
              "1          N   99.98999     2.0     1.0       WCMB    0.0  0.0     NaN   NaN   \n",
              "2          N  129.98999     1.0     1.0       WCMB    1.0  0.0       O  13.0   \n",
              "3          R   79.98999     2.0     1.0       WCMB    0.0  0.0       O   3.0   \n",
              "4          N  149.98999     2.0     1.0       WCMB    0.0  0.0       O   1.0   \n",
              "\n",
              "  dwlltype marital  adults infobase  income  numbcars HHstatin dwllsize  \\\n",
              "0        M       M     1.0        M     3.0       NaN        C      NaN   \n",
              "1      NaN       U     NaN      NaN     NaN       NaN      NaN      NaN   \n",
              "2        S       M     3.0        M     6.0       1.0        C        A   \n",
              "3        S       U     3.0        M     6.0       1.0      NaN        A   \n",
              "4      NaN       S     1.0        M     6.0       1.0        C      NaN   \n",
              "\n",
              "   forgntvl ethnic kid0_2 kid3_5 kid6_10 kid11_15 kid16_17 creditcd  eqpdays  \\\n",
              "0       1.0      U      U      U       U        U        U        Y    216.0   \n",
              "1       0.0      N      U      U       U        U        U        N    101.0   \n",
              "2       0.0      N      U      U       U        U        U        Y    262.0   \n",
              "3       0.0      S      U      U       U        U        U        Y    127.0   \n",
              "4       0.0      N      U      U       U        U        U        Y     37.0   \n",
              "\n",
              "   Customer_ID  \n",
              "0      1090001  \n",
              "1      1090002  \n",
              "2      1090003  \n",
              "3      1090004  \n",
              "4      1090005  "
            ],
            "text/html": [
              "\n",
              "\n",
              "  <div id=\"df-7a85b196-16fb-4575-88b0-19824ebf6dc7\">\n",
              "    <div class=\"colab-df-container\">\n",
              "      <div>\n",
              "<style scoped>\n",
              "    .dataframe tbody tr th:only-of-type {\n",
              "        vertical-align: middle;\n",
              "    }\n",
              "\n",
              "    .dataframe tbody tr th {\n",
              "        vertical-align: top;\n",
              "    }\n",
              "\n",
              "    .dataframe thead th {\n",
              "        text-align: right;\n",
              "    }\n",
              "</style>\n",
              "<table border=\"1\" class=\"dataframe\">\n",
              "  <thead>\n",
              "    <tr style=\"text-align: right;\">\n",
              "      <th></th>\n",
              "      <th>rev</th>\n",
              "      <th>mou</th>\n",
              "      <th>totmrc</th>\n",
              "      <th>da</th>\n",
              "      <th>ovrmou</th>\n",
              "      <th>ovrrev</th>\n",
              "      <th>vceovr</th>\n",
              "      <th>datovr</th>\n",
              "      <th>roam</th>\n",
              "      <th>change_mou</th>\n",
              "      <th>change_rev</th>\n",
              "      <th>drop_vce</th>\n",
              "      <th>drop_dat</th>\n",
              "      <th>blck_vce</th>\n",
              "      <th>blck_dat</th>\n",
              "      <th>unan_vce</th>\n",
              "      <th>unan_dat</th>\n",
              "      <th>plcd_vce</th>\n",
              "      <th>plcd_dat</th>\n",
              "      <th>recv_vce</th>\n",
              "      <th>recv_sms</th>\n",
              "      <th>comp_vce</th>\n",
              "      <th>comp_dat</th>\n",
              "      <th>custcare</th>\n",
              "      <th>ccrndmou</th>\n",
              "      <th>cc_mou</th>\n",
              "      <th>inonemin</th>\n",
              "      <th>threeway</th>\n",
              "      <th>mou_cvce</th>\n",
              "      <th>mou_cdat</th>\n",
              "      <th>mou_rvce</th>\n",
              "      <th>owylis_vce</th>\n",
              "      <th>mouowylisv</th>\n",
              "      <th>iwylis_vce</th>\n",
              "      <th>mouiwylisv</th>\n",
              "      <th>peak_vce</th>\n",
              "      <th>peak_dat</th>\n",
              "      <th>mou_peav</th>\n",
              "      <th>mou_pead</th>\n",
              "      <th>opk_vce</th>\n",
              "      <th>opk_dat</th>\n",
              "      <th>mou_opkv</th>\n",
              "      <th>mou_opkd</th>\n",
              "      <th>drop_blk</th>\n",
              "      <th>attempt</th>\n",
              "      <th>complete</th>\n",
              "      <th>callfwdv</th>\n",
              "      <th>callwait</th>\n",
              "      <th>months</th>\n",
              "      <th>uniqsubs</th>\n",
              "      <th>actvsubs</th>\n",
              "      <th>new_cell</th>\n",
              "      <th>crclscod</th>\n",
              "      <th>asl_flag</th>\n",
              "      <th>totcalls</th>\n",
              "      <th>totmou</th>\n",
              "      <th>totrev</th>\n",
              "      <th>adjrev</th>\n",
              "      <th>adjmou</th>\n",
              "      <th>adjqty</th>\n",
              "      <th>avgrev</th>\n",
              "      <th>avgmou</th>\n",
              "      <th>avgqty</th>\n",
              "      <th>avg3mou</th>\n",
              "      <th>avg3qty</th>\n",
              "      <th>avg3rev</th>\n",
              "      <th>avg6mou</th>\n",
              "      <th>avg6qty</th>\n",
              "      <th>avg6rev</th>\n",
              "      <th>prizm_social_one</th>\n",
              "      <th>area</th>\n",
              "      <th>dualband</th>\n",
              "      <th>refurb_new</th>\n",
              "      <th>hnd_price</th>\n",
              "      <th>phones</th>\n",
              "      <th>models</th>\n",
              "      <th>hnd_webcap</th>\n",
              "      <th>truck</th>\n",
              "      <th>rv</th>\n",
              "      <th>ownrent</th>\n",
              "      <th>lor</th>\n",
              "      <th>dwlltype</th>\n",
              "      <th>marital</th>\n",
              "      <th>adults</th>\n",
              "      <th>infobase</th>\n",
              "      <th>income</th>\n",
              "      <th>numbcars</th>\n",
              "      <th>HHstatin</th>\n",
              "      <th>dwllsize</th>\n",
              "      <th>forgntvl</th>\n",
              "      <th>ethnic</th>\n",
              "      <th>kid0_2</th>\n",
              "      <th>kid3_5</th>\n",
              "      <th>kid6_10</th>\n",
              "      <th>kid11_15</th>\n",
              "      <th>kid16_17</th>\n",
              "      <th>creditcd</th>\n",
              "      <th>eqpdays</th>\n",
              "      <th>Customer_ID</th>\n",
              "    </tr>\n",
              "  </thead>\n",
              "  <tbody>\n",
              "    <tr>\n",
              "      <th>0</th>\n",
              "      <td>30.8350</td>\n",
              "      <td>136.75</td>\n",
              "      <td>29.9900</td>\n",
              "      <td>0.2475</td>\n",
              "      <td>1.25</td>\n",
              "      <td>0.500</td>\n",
              "      <td>0.5</td>\n",
              "      <td>0.000</td>\n",
              "      <td>0.0975</td>\n",
              "      <td>48.25</td>\n",
              "      <td>1.1550</td>\n",
              "      <td>2.000000</td>\n",
              "      <td>0.000000</td>\n",
              "      <td>10.333333</td>\n",
              "      <td>0.0</td>\n",
              "      <td>13.333333</td>\n",
              "      <td>0.0</td>\n",
              "      <td>66.000000</td>\n",
              "      <td>0.000000</td>\n",
              "      <td>3.333333</td>\n",
              "      <td>0.0</td>\n",
              "      <td>40.666667</td>\n",
              "      <td>0.000000</td>\n",
              "      <td>1.333333</td>\n",
              "      <td>1.333333</td>\n",
              "      <td>0.896667</td>\n",
              "      <td>0.666667</td>\n",
              "      <td>0.333333</td>\n",
              "      <td>71.746667</td>\n",
              "      <td>0.000000</td>\n",
              "      <td>5.406667</td>\n",
              "      <td>1.333333</td>\n",
              "      <td>0.713333</td>\n",
              "      <td>0.333333</td>\n",
              "      <td>0.473333</td>\n",
              "      <td>30.000000</td>\n",
              "      <td>0.0</td>\n",
              "      <td>54.500000</td>\n",
              "      <td>0.0</td>\n",
              "      <td>13.666667</td>\n",
              "      <td>0.000000</td>\n",
              "      <td>22.653333</td>\n",
              "      <td>0.000000</td>\n",
              "      <td>12.333333</td>\n",
              "      <td>66.000000</td>\n",
              "      <td>40.666667</td>\n",
              "      <td>0.0</td>\n",
              "      <td>0.000000</td>\n",
              "      <td>7</td>\n",
              "      <td>1</td>\n",
              "      <td>1</td>\n",
              "      <td>U</td>\n",
              "      <td>AA</td>\n",
              "      <td>N</td>\n",
              "      <td>393</td>\n",
              "      <td>958.0</td>\n",
              "      <td>248.46</td>\n",
              "      <td>182.94</td>\n",
              "      <td>958.0</td>\n",
              "      <td>393</td>\n",
              "      <td>30.49</td>\n",
              "      <td>159.67</td>\n",
              "      <td>65.50</td>\n",
              "      <td>121</td>\n",
              "      <td>52</td>\n",
              "      <td>30</td>\n",
              "      <td>160.0</td>\n",
              "      <td>66.0</td>\n",
              "      <td>31.0</td>\n",
              "      <td>C</td>\n",
              "      <td>ATLANTIC SOUTH AREA</td>\n",
              "      <td>Y</td>\n",
              "      <td>N</td>\n",
              "      <td>149.98999</td>\n",
              "      <td>1.0</td>\n",
              "      <td>1.0</td>\n",
              "      <td>WCMB</td>\n",
              "      <td>0.0</td>\n",
              "      <td>0.0</td>\n",
              "      <td>R</td>\n",
              "      <td>NaN</td>\n",
              "      <td>M</td>\n",
              "      <td>M</td>\n",
              "      <td>1.0</td>\n",
              "      <td>M</td>\n",
              "      <td>3.0</td>\n",
              "      <td>NaN</td>\n",
              "      <td>C</td>\n",
              "      <td>NaN</td>\n",
              "      <td>1.0</td>\n",
              "      <td>U</td>\n",
              "      <td>U</td>\n",
              "      <td>U</td>\n",
              "      <td>U</td>\n",
              "      <td>U</td>\n",
              "      <td>U</td>\n",
              "      <td>Y</td>\n",
              "      <td>216.0</td>\n",
              "      <td>1090001</td>\n",
              "    </tr>\n",
              "    <tr>\n",
              "      <th>1</th>\n",
              "      <td>35.8475</td>\n",
              "      <td>352.75</td>\n",
              "      <td>24.2700</td>\n",
              "      <td>0.4950</td>\n",
              "      <td>23.25</td>\n",
              "      <td>9.285</td>\n",
              "      <td>8.7</td>\n",
              "      <td>0.585</td>\n",
              "      <td>1.8000</td>\n",
              "      <td>-352.75</td>\n",
              "      <td>-35.8475</td>\n",
              "      <td>9.000000</td>\n",
              "      <td>0.000000</td>\n",
              "      <td>0.000000</td>\n",
              "      <td>0.0</td>\n",
              "      <td>10.000000</td>\n",
              "      <td>0.0</td>\n",
              "      <td>82.666667</td>\n",
              "      <td>1.000000</td>\n",
              "      <td>31.000000</td>\n",
              "      <td>0.0</td>\n",
              "      <td>65.333333</td>\n",
              "      <td>1.000000</td>\n",
              "      <td>3.666667</td>\n",
              "      <td>9.000000</td>\n",
              "      <td>5.890000</td>\n",
              "      <td>18.333333</td>\n",
              "      <td>1.333333</td>\n",
              "      <td>98.543333</td>\n",
              "      <td>1.023333</td>\n",
              "      <td>83.666667</td>\n",
              "      <td>15.666667</td>\n",
              "      <td>12.683333</td>\n",
              "      <td>1.333333</td>\n",
              "      <td>14.286667</td>\n",
              "      <td>38.000000</td>\n",
              "      <td>0.0</td>\n",
              "      <td>106.926667</td>\n",
              "      <td>0.0</td>\n",
              "      <td>43.666667</td>\n",
              "      <td>1.000000</td>\n",
              "      <td>75.283333</td>\n",
              "      <td>1.023333</td>\n",
              "      <td>9.000000</td>\n",
              "      <td>83.666667</td>\n",
              "      <td>66.333333</td>\n",
              "      <td>0.0</td>\n",
              "      <td>1.333333</td>\n",
              "      <td>7</td>\n",
              "      <td>1</td>\n",
              "      <td>1</td>\n",
              "      <td>U</td>\n",
              "      <td>EA</td>\n",
              "      <td>Y</td>\n",
              "      <td>1641</td>\n",
              "      <td>4011.0</td>\n",
              "      <td>391.87</td>\n",
              "      <td>305.59</td>\n",
              "      <td>3998.0</td>\n",
              "      <td>1634</td>\n",
              "      <td>50.93</td>\n",
              "      <td>666.33</td>\n",
              "      <td>272.33</td>\n",
              "      <td>470</td>\n",
              "      <td>181</td>\n",
              "      <td>48</td>\n",
              "      <td>666.0</td>\n",
              "      <td>272.0</td>\n",
              "      <td>51.0</td>\n",
              "      <td>C</td>\n",
              "      <td>NORTHWEST/ROCKY MOUNTAIN AREA</td>\n",
              "      <td>T</td>\n",
              "      <td>N</td>\n",
              "      <td>99.98999</td>\n",
              "      <td>2.0</td>\n",
              "      <td>1.0</td>\n",
              "      <td>WCMB</td>\n",
              "      <td>0.0</td>\n",
              "      <td>0.0</td>\n",
              "      <td>NaN</td>\n",
              "      <td>NaN</td>\n",
              "      <td>NaN</td>\n",
              "      <td>U</td>\n",
              "      <td>NaN</td>\n",
              "      <td>NaN</td>\n",
              "      <td>NaN</td>\n",
              "      <td>NaN</td>\n",
              "      <td>NaN</td>\n",
              "      <td>NaN</td>\n",
              "      <td>0.0</td>\n",
              "      <td>N</td>\n",
              "      <td>U</td>\n",
              "      <td>U</td>\n",
              "      <td>U</td>\n",
              "      <td>U</td>\n",
              "      <td>U</td>\n",
              "      <td>N</td>\n",
              "      <td>101.0</td>\n",
              "      <td>1090002</td>\n",
              "    </tr>\n",
              "    <tr>\n",
              "      <th>2</th>\n",
              "      <td>30.3275</td>\n",
              "      <td>241.50</td>\n",
              "      <td>39.9900</td>\n",
              "      <td>0.0000</td>\n",
              "      <td>0.00</td>\n",
              "      <td>0.000</td>\n",
              "      <td>0.0</td>\n",
              "      <td>0.000</td>\n",
              "      <td>0.0000</td>\n",
              "      <td>-86.50</td>\n",
              "      <td>0.8625</td>\n",
              "      <td>2.000000</td>\n",
              "      <td>0.000000</td>\n",
              "      <td>4.666667</td>\n",
              "      <td>0.0</td>\n",
              "      <td>20.666667</td>\n",
              "      <td>0.0</td>\n",
              "      <td>85.333333</td>\n",
              "      <td>0.000000</td>\n",
              "      <td>26.666667</td>\n",
              "      <td>0.0</td>\n",
              "      <td>59.333333</td>\n",
              "      <td>0.000000</td>\n",
              "      <td>4.333333</td>\n",
              "      <td>6.333333</td>\n",
              "      <td>4.466667</td>\n",
              "      <td>17.000000</td>\n",
              "      <td>1.666667</td>\n",
              "      <td>143.530000</td>\n",
              "      <td>0.000000</td>\n",
              "      <td>27.373333</td>\n",
              "      <td>9.666667</td>\n",
              "      <td>3.760000</td>\n",
              "      <td>19.666667</td>\n",
              "      <td>21.736667</td>\n",
              "      <td>48.666667</td>\n",
              "      <td>0.0</td>\n",
              "      <td>76.356667</td>\n",
              "      <td>0.0</td>\n",
              "      <td>36.000000</td>\n",
              "      <td>0.000000</td>\n",
              "      <td>94.543333</td>\n",
              "      <td>0.000000</td>\n",
              "      <td>6.666667</td>\n",
              "      <td>85.333333</td>\n",
              "      <td>59.333333</td>\n",
              "      <td>0.0</td>\n",
              "      <td>0.333333</td>\n",
              "      <td>9</td>\n",
              "      <td>2</td>\n",
              "      <td>2</td>\n",
              "      <td>Y</td>\n",
              "      <td>A</td>\n",
              "      <td>N</td>\n",
              "      <td>780</td>\n",
              "      <td>1889.0</td>\n",
              "      <td>312.91</td>\n",
              "      <td>219.45</td>\n",
              "      <td>1772.0</td>\n",
              "      <td>734</td>\n",
              "      <td>31.35</td>\n",
              "      <td>253.14</td>\n",
              "      <td>104.86</td>\n",
              "      <td>270</td>\n",
              "      <td>107</td>\n",
              "      <td>30</td>\n",
              "      <td>273.0</td>\n",
              "      <td>109.0</td>\n",
              "      <td>31.0</td>\n",
              "      <td>T</td>\n",
              "      <td>CENTRAL/SOUTH TEXAS AREA</td>\n",
              "      <td>N</td>\n",
              "      <td>N</td>\n",
              "      <td>129.98999</td>\n",
              "      <td>1.0</td>\n",
              "      <td>1.0</td>\n",
              "      <td>WCMB</td>\n",
              "      <td>1.0</td>\n",
              "      <td>0.0</td>\n",
              "      <td>O</td>\n",
              "      <td>13.0</td>\n",
              "      <td>S</td>\n",
              "      <td>M</td>\n",
              "      <td>3.0</td>\n",
              "      <td>M</td>\n",
              "      <td>6.0</td>\n",
              "      <td>1.0</td>\n",
              "      <td>C</td>\n",
              "      <td>A</td>\n",
              "      <td>0.0</td>\n",
              "      <td>N</td>\n",
              "      <td>U</td>\n",
              "      <td>U</td>\n",
              "      <td>U</td>\n",
              "      <td>U</td>\n",
              "      <td>U</td>\n",
              "      <td>Y</td>\n",
              "      <td>262.0</td>\n",
              "      <td>1090003</td>\n",
              "    </tr>\n",
              "    <tr>\n",
              "      <th>3</th>\n",
              "      <td>154.6925</td>\n",
              "      <td>2297.00</td>\n",
              "      <td>149.9900</td>\n",
              "      <td>4.7025</td>\n",
              "      <td>0.00</td>\n",
              "      <td>0.000</td>\n",
              "      <td>0.0</td>\n",
              "      <td>0.000</td>\n",
              "      <td>0.0000</td>\n",
              "      <td>119.00</td>\n",
              "      <td>0.2475</td>\n",
              "      <td>20.333333</td>\n",
              "      <td>0.000000</td>\n",
              "      <td>5.000000</td>\n",
              "      <td>0.0</td>\n",
              "      <td>329.333333</td>\n",
              "      <td>0.0</td>\n",
              "      <td>1067.000000</td>\n",
              "      <td>0.000000</td>\n",
              "      <td>628.000000</td>\n",
              "      <td>0.0</td>\n",
              "      <td>723.000000</td>\n",
              "      <td>0.000000</td>\n",
              "      <td>0.333333</td>\n",
              "      <td>0.666667</td>\n",
              "      <td>0.376667</td>\n",
              "      <td>408.000000</td>\n",
              "      <td>0.000000</td>\n",
              "      <td>769.136667</td>\n",
              "      <td>0.000000</td>\n",
              "      <td>679.020000</td>\n",
              "      <td>271.000000</td>\n",
              "      <td>167.090000</td>\n",
              "      <td>68.666667</td>\n",
              "      <td>150.656667</td>\n",
              "      <td>723.000000</td>\n",
              "      <td>0.0</td>\n",
              "      <td>961.736667</td>\n",
              "      <td>0.0</td>\n",
              "      <td>346.000000</td>\n",
              "      <td>0.000000</td>\n",
              "      <td>486.420000</td>\n",
              "      <td>0.000000</td>\n",
              "      <td>25.333333</td>\n",
              "      <td>1067.000000</td>\n",
              "      <td>723.000000</td>\n",
              "      <td>0.0</td>\n",
              "      <td>8.333333</td>\n",
              "      <td>11</td>\n",
              "      <td>1</td>\n",
              "      <td>1</td>\n",
              "      <td>U</td>\n",
              "      <td>AA</td>\n",
              "      <td>N</td>\n",
              "      <td>9018</td>\n",
              "      <td>18478.0</td>\n",
              "      <td>2217.05</td>\n",
              "      <td>2131.17</td>\n",
              "      <td>18478.0</td>\n",
              "      <td>9018</td>\n",
              "      <td>213.12</td>\n",
              "      <td>1847.80</td>\n",
              "      <td>901.80</td>\n",
              "      <td>2257</td>\n",
              "      <td>1045</td>\n",
              "      <td>155</td>\n",
              "      <td>2452.0</td>\n",
              "      <td>1171.0</td>\n",
              "      <td>278.0</td>\n",
              "      <td>S</td>\n",
              "      <td>ATLANTIC SOUTH AREA</td>\n",
              "      <td>N</td>\n",
              "      <td>R</td>\n",
              "      <td>79.98999</td>\n",
              "      <td>2.0</td>\n",
              "      <td>1.0</td>\n",
              "      <td>WCMB</td>\n",
              "      <td>0.0</td>\n",
              "      <td>0.0</td>\n",
              "      <td>O</td>\n",
              "      <td>3.0</td>\n",
              "      <td>S</td>\n",
              "      <td>U</td>\n",
              "      <td>3.0</td>\n",
              "      <td>M</td>\n",
              "      <td>6.0</td>\n",
              "      <td>1.0</td>\n",
              "      <td>NaN</td>\n",
              "      <td>A</td>\n",
              "      <td>0.0</td>\n",
              "      <td>S</td>\n",
              "      <td>U</td>\n",
              "      <td>U</td>\n",
              "      <td>U</td>\n",
              "      <td>U</td>\n",
              "      <td>U</td>\n",
              "      <td>Y</td>\n",
              "      <td>127.0</td>\n",
              "      <td>1090004</td>\n",
              "    </tr>\n",
              "    <tr>\n",
              "      <th>4</th>\n",
              "      <td>156.0050</td>\n",
              "      <td>542.25</td>\n",
              "      <td>48.9475</td>\n",
              "      <td>0.7425</td>\n",
              "      <td>70.75</td>\n",
              "      <td>28.295</td>\n",
              "      <td>28.1</td>\n",
              "      <td>0.195</td>\n",
              "      <td>0.0000</td>\n",
              "      <td>195.75</td>\n",
              "      <td>40.0150</td>\n",
              "      <td>5.666667</td>\n",
              "      <td>0.333333</td>\n",
              "      <td>0.666667</td>\n",
              "      <td>0.0</td>\n",
              "      <td>46.333333</td>\n",
              "      <td>0.0</td>\n",
              "      <td>167.666667</td>\n",
              "      <td>0.666667</td>\n",
              "      <td>11.333333</td>\n",
              "      <td>0.0</td>\n",
              "      <td>115.000000</td>\n",
              "      <td>0.333333</td>\n",
              "      <td>21.666667</td>\n",
              "      <td>48.000000</td>\n",
              "      <td>31.346667</td>\n",
              "      <td>10.000000</td>\n",
              "      <td>0.333333</td>\n",
              "      <td>343.066667</td>\n",
              "      <td>0.010000</td>\n",
              "      <td>11.243333</td>\n",
              "      <td>13.000000</td>\n",
              "      <td>14.563333</td>\n",
              "      <td>1.333333</td>\n",
              "      <td>2.100000</td>\n",
              "      <td>91.000000</td>\n",
              "      <td>0.0</td>\n",
              "      <td>205.216667</td>\n",
              "      <td>0.0</td>\n",
              "      <td>31.000000</td>\n",
              "      <td>0.333333</td>\n",
              "      <td>149.096667</td>\n",
              "      <td>0.010000</td>\n",
              "      <td>6.666667</td>\n",
              "      <td>168.333333</td>\n",
              "      <td>115.333333</td>\n",
              "      <td>0.0</td>\n",
              "      <td>0.666667</td>\n",
              "      <td>9</td>\n",
              "      <td>1</td>\n",
              "      <td>1</td>\n",
              "      <td>U</td>\n",
              "      <td>CA</td>\n",
              "      <td>Y</td>\n",
              "      <td>791</td>\n",
              "      <td>2601.0</td>\n",
              "      <td>879.51</td>\n",
              "      <td>608.66</td>\n",
              "      <td>2601.0</td>\n",
              "      <td>791</td>\n",
              "      <td>86.95</td>\n",
              "      <td>371.57</td>\n",
              "      <td>113.00</td>\n",
              "      <td>477</td>\n",
              "      <td>130</td>\n",
              "      <td>143</td>\n",
              "      <td>349.0</td>\n",
              "      <td>103.0</td>\n",
              "      <td>91.0</td>\n",
              "      <td>U</td>\n",
              "      <td>LOS ANGELES AREA</td>\n",
              "      <td>Y</td>\n",
              "      <td>N</td>\n",
              "      <td>149.98999</td>\n",
              "      <td>2.0</td>\n",
              "      <td>1.0</td>\n",
              "      <td>WCMB</td>\n",
              "      <td>0.0</td>\n",
              "      <td>0.0</td>\n",
              "      <td>O</td>\n",
              "      <td>1.0</td>\n",
              "      <td>NaN</td>\n",
              "      <td>S</td>\n",
              "      <td>1.0</td>\n",
              "      <td>M</td>\n",
              "      <td>6.0</td>\n",
              "      <td>1.0</td>\n",
              "      <td>C</td>\n",
              "      <td>NaN</td>\n",
              "      <td>0.0</td>\n",
              "      <td>N</td>\n",
              "      <td>U</td>\n",
              "      <td>U</td>\n",
              "      <td>U</td>\n",
              "      <td>U</td>\n",
              "      <td>U</td>\n",
              "      <td>Y</td>\n",
              "      <td>37.0</td>\n",
              "      <td>1090005</td>\n",
              "    </tr>\n",
              "  </tbody>\n",
              "</table>\n",
              "</div>\n",
              "      <button class=\"colab-df-convert\" onclick=\"convertToInteractive('df-7a85b196-16fb-4575-88b0-19824ebf6dc7')\"\n",
              "              title=\"Convert this dataframe to an interactive table.\"\n",
              "              style=\"display:none;\">\n",
              "\n",
              "  <svg xmlns=\"http://www.w3.org/2000/svg\" height=\"24px\"viewBox=\"0 0 24 24\"\n",
              "       width=\"24px\">\n",
              "    <path d=\"M0 0h24v24H0V0z\" fill=\"none\"/>\n",
              "    <path d=\"M18.56 5.44l.94 2.06.94-2.06 2.06-.94-2.06-.94-.94-2.06-.94 2.06-2.06.94zm-11 1L8.5 8.5l.94-2.06 2.06-.94-2.06-.94L8.5 2.5l-.94 2.06-2.06.94zm10 10l.94 2.06.94-2.06 2.06-.94-2.06-.94-.94-2.06-.94 2.06-2.06.94z\"/><path d=\"M17.41 7.96l-1.37-1.37c-.4-.4-.92-.59-1.43-.59-.52 0-1.04.2-1.43.59L10.3 9.45l-7.72 7.72c-.78.78-.78 2.05 0 2.83L4 21.41c.39.39.9.59 1.41.59.51 0 1.02-.2 1.41-.59l7.78-7.78 2.81-2.81c.8-.78.8-2.07 0-2.86zM5.41 20L4 18.59l7.72-7.72 1.47 1.35L5.41 20z\"/>\n",
              "  </svg>\n",
              "      </button>\n",
              "\n",
              "\n",
              "\n",
              "    <div id=\"df-4ba91da5-c5d2-474c-b8f9-a2ad4fa17476\">\n",
              "      <button class=\"colab-df-quickchart\" onclick=\"quickchart('df-4ba91da5-c5d2-474c-b8f9-a2ad4fa17476')\"\n",
              "              title=\"Suggest charts.\"\n",
              "              style=\"display:none;\">\n",
              "\n",
              "<svg xmlns=\"http://www.w3.org/2000/svg\" height=\"24px\"viewBox=\"0 0 24 24\"\n",
              "     width=\"24px\">\n",
              "    <g>\n",
              "        <path d=\"M19 3H5c-1.1 0-2 .9-2 2v14c0 1.1.9 2 2 2h14c1.1 0 2-.9 2-2V5c0-1.1-.9-2-2-2zM9 17H7v-7h2v7zm4 0h-2V7h2v10zm4 0h-2v-4h2v4z\"/>\n",
              "    </g>\n",
              "</svg>\n",
              "      </button>\n",
              "    </div>\n",
              "\n",
              "<style>\n",
              "  .colab-df-quickchart {\n",
              "    background-color: #E8F0FE;\n",
              "    border: none;\n",
              "    border-radius: 50%;\n",
              "    cursor: pointer;\n",
              "    display: none;\n",
              "    fill: #1967D2;\n",
              "    height: 32px;\n",
              "    padding: 0 0 0 0;\n",
              "    width: 32px;\n",
              "  }\n",
              "\n",
              "  .colab-df-quickchart:hover {\n",
              "    background-color: #E2EBFA;\n",
              "    box-shadow: 0px 1px 2px rgba(60, 64, 67, 0.3), 0px 1px 3px 1px rgba(60, 64, 67, 0.15);\n",
              "    fill: #174EA6;\n",
              "  }\n",
              "\n",
              "  [theme=dark] .colab-df-quickchart {\n",
              "    background-color: #3B4455;\n",
              "    fill: #D2E3FC;\n",
              "  }\n",
              "\n",
              "  [theme=dark] .colab-df-quickchart:hover {\n",
              "    background-color: #434B5C;\n",
              "    box-shadow: 0px 1px 3px 1px rgba(0, 0, 0, 0.15);\n",
              "    filter: drop-shadow(0px 1px 2px rgba(0, 0, 0, 0.3));\n",
              "    fill: #FFFFFF;\n",
              "  }\n",
              "</style>\n",
              "\n",
              "    <script>\n",
              "      async function quickchart(key) {\n",
              "        const containerElement = document.querySelector('#' + key);\n",
              "        const charts = await google.colab.kernel.invokeFunction(\n",
              "            'suggestCharts', [key], {});\n",
              "      }\n",
              "    </script>\n",
              "\n",
              "      <script>\n",
              "\n",
              "function displayQuickchartButton(domScope) {\n",
              "  let quickchartButtonEl =\n",
              "    domScope.querySelector('#df-4ba91da5-c5d2-474c-b8f9-a2ad4fa17476 button.colab-df-quickchart');\n",
              "  quickchartButtonEl.style.display =\n",
              "    google.colab.kernel.accessAllowed ? 'block' : 'none';\n",
              "}\n",
              "\n",
              "        displayQuickchartButton(document);\n",
              "      </script>\n",
              "      <style>\n",
              "    .colab-df-container {\n",
              "      display:flex;\n",
              "      flex-wrap:wrap;\n",
              "      gap: 12px;\n",
              "    }\n",
              "\n",
              "    .colab-df-convert {\n",
              "      background-color: #E8F0FE;\n",
              "      border: none;\n",
              "      border-radius: 50%;\n",
              "      cursor: pointer;\n",
              "      display: none;\n",
              "      fill: #1967D2;\n",
              "      height: 32px;\n",
              "      padding: 0 0 0 0;\n",
              "      width: 32px;\n",
              "    }\n",
              "\n",
              "    .colab-df-convert:hover {\n",
              "      background-color: #E2EBFA;\n",
              "      box-shadow: 0px 1px 2px rgba(60, 64, 67, 0.3), 0px 1px 3px 1px rgba(60, 64, 67, 0.15);\n",
              "      fill: #174EA6;\n",
              "    }\n",
              "\n",
              "    [theme=dark] .colab-df-convert {\n",
              "      background-color: #3B4455;\n",
              "      fill: #D2E3FC;\n",
              "    }\n",
              "\n",
              "    [theme=dark] .colab-df-convert:hover {\n",
              "      background-color: #434B5C;\n",
              "      box-shadow: 0px 1px 3px 1px rgba(0, 0, 0, 0.15);\n",
              "      filter: drop-shadow(0px 1px 2px rgba(0, 0, 0, 0.3));\n",
              "      fill: #FFFFFF;\n",
              "    }\n",
              "  </style>\n",
              "\n",
              "      <script>\n",
              "        const buttonEl =\n",
              "          document.querySelector('#df-7a85b196-16fb-4575-88b0-19824ebf6dc7 button.colab-df-convert');\n",
              "        buttonEl.style.display =\n",
              "          google.colab.kernel.accessAllowed ? 'block' : 'none';\n",
              "\n",
              "        async function convertToInteractive(key) {\n",
              "          const element = document.querySelector('#df-7a85b196-16fb-4575-88b0-19824ebf6dc7');\n",
              "          const dataTable =\n",
              "            await google.colab.kernel.invokeFunction('convertToInteractive',\n",
              "                                                     [key], {});\n",
              "          if (!dataTable) return;\n",
              "\n",
              "          const docLinkHtml = 'Like what you see? Visit the ' +\n",
              "            '<a target=\"_blank\" href=https://colab.research.google.com/notebooks/data_table.ipynb>data table notebook</a>'\n",
              "            + ' to learn more about interactive tables.';\n",
              "          element.innerHTML = '';\n",
              "          dataTable['output_type'] = 'display_data';\n",
              "          await google.colab.output.renderOutput(dataTable, element);\n",
              "          const docLink = document.createElement('div');\n",
              "          docLink.innerHTML = docLinkHtml;\n",
              "          element.appendChild(docLink);\n",
              "        }\n",
              "      </script>\n",
              "    </div>\n",
              "  </div>\n"
            ]
          },
          "metadata": {},
          "execution_count": 5
        }
      ]
    },
    {
      "cell_type": "code",
      "source": [
        "# Check features matched features model\n",
        "features_predict = list(X_pred.columns)\n",
        "model_features = list(model.feature_names_in_)"
      ],
      "metadata": {
        "id": "SCwYo-3gqYq6"
      },
      "execution_count": null,
      "outputs": []
    },
    {
      "cell_type": "code",
      "source": [
        "model.feature_names_in_"
      ],
      "metadata": {
        "colab": {
          "base_uri": "https://localhost:8080/"
        },
        "id": "JuHttvBaqZN1",
        "outputId": "2740d4e2-92d5-4f16-d511-41028f73037f"
      },
      "execution_count": null,
      "outputs": [
        {
          "output_type": "execute_result",
          "data": {
            "text/plain": [
              "array(['rev', 'totmrc', 'ovrmou', 'vceovr', 'datovr', 'roam',\n",
              "       'change_mou', 'change_rev', 'drop_vce', 'drop_dat', 'blck_vce',\n",
              "       'blck_dat', 'unan_vce', 'unan_dat', 'recv_sms', 'comp_dat',\n",
              "       'custcare', 'cc_mou', 'inonemin', 'threeway', 'mou_cvce',\n",
              "       'mou_rvce', 'owylis_vce', 'mouowylisv', 'iwylis_vce', 'mouiwylisv',\n",
              "       'peak_vce', 'peak_dat', 'mou_peav', 'mou_pead', 'opk_vce',\n",
              "       'opk_dat', 'mou_opkv', 'mou_opkd', 'drop_blk', 'complete',\n",
              "       'callfwdv', 'callwait', 'months', 'uniqsubs', 'actvsubs', 'adjrev',\n",
              "       'adjmou', 'adjqty', 'avgrev', 'avgmou', 'avgqty', 'avg3mou',\n",
              "       'avg3qty', 'avg3rev', 'avg6mou', 'avg6qty', 'avg6rev', 'hnd_price',\n",
              "       'phones', 'models', 'lor', 'adults', 'income', 'numbcars',\n",
              "       'eqpdays', 'truck_bool', 'rv_bool', 'forgntvl_bool', 'new_cell_N',\n",
              "       'new_cell_U', 'new_cell_Y', 'crclscod_A', 'crclscod_AA',\n",
              "       'crclscod_B', 'crclscod_BA', 'crclscod_C', 'crclscod_CA',\n",
              "       'crclscod_DA', 'crclscod_EA', 'crclscod_ZA', 'asl_flag_Y',\n",
              "       'prizm_social_one_C', 'prizm_social_one_R', 'prizm_social_one_S',\n",
              "       'prizm_social_one_T', 'prizm_social_one_U', 'area_Mid-Atlantic',\n",
              "       'area_Midwest', 'area_Northeast', 'area_Southeast',\n",
              "       'area_Southwest', 'area_West', 'dualband_N', 'dualband_T',\n",
              "       'dualband_Y', 'refurb_new_R', 'hnd_webcap_WCMB', 'ownrent_R',\n",
              "       'dwlltype_S', 'marital_A', 'marital_B', 'marital_M', 'marital_S',\n",
              "       'marital_U', 'HHstatin_A', 'HHstatin_B', 'HHstatin_C',\n",
              "       'HHstatin_G', 'HHstatin_H', 'HHstatin_I', 'dwllsize_A',\n",
              "       'dwllsize_B', 'dwllsize_C', 'dwllsize_J', 'dwllsize_O', 'ethnic_B',\n",
              "       'ethnic_F', 'ethnic_G', 'ethnic_H', 'ethnic_I', 'ethnic_J',\n",
              "       'ethnic_N', 'ethnic_O', 'ethnic_R', 'ethnic_S', 'ethnic_U',\n",
              "       'ethnic_Z', 'kid0_2_Y', 'kid3_5_Y', 'kid6_10_Y', 'kid11_15_Y',\n",
              "       'kid16_17_Y', 'creditcd_Y'], dtype='<U18')"
            ]
          },
          "metadata": {},
          "execution_count": 7
        }
      ]
    },
    {
      "cell_type": "code",
      "source": [
        "features_model =  list(model.feature_names_in_)\n",
        "print('Estas son las variables que tenemos que conseguir en el preprocessing para que el modelo funcione:\\n', features_model)"
      ],
      "metadata": {
        "colab": {
          "base_uri": "https://localhost:8080/"
        },
        "id": "VvWsmkk7p39h",
        "outputId": "4aad12e6-58a1-4255-eba4-8f8d3bde0ce4"
      },
      "execution_count": null,
      "outputs": [
        {
          "output_type": "stream",
          "name": "stdout",
          "text": [
            "Estas son las variables que tenemos que conseguir en el preprocessing para que el modelo funcione:\n",
            " ['rev', 'totmrc', 'ovrmou', 'vceovr', 'datovr', 'roam', 'change_mou', 'change_rev', 'drop_vce', 'drop_dat', 'blck_vce', 'blck_dat', 'unan_vce', 'unan_dat', 'recv_sms', 'comp_dat', 'custcare', 'cc_mou', 'inonemin', 'threeway', 'mou_cvce', 'mou_rvce', 'owylis_vce', 'mouowylisv', 'iwylis_vce', 'mouiwylisv', 'peak_vce', 'peak_dat', 'mou_peav', 'mou_pead', 'opk_vce', 'opk_dat', 'mou_opkv', 'mou_opkd', 'drop_blk', 'complete', 'callfwdv', 'callwait', 'months', 'uniqsubs', 'actvsubs', 'adjrev', 'adjmou', 'adjqty', 'avgrev', 'avgmou', 'avgqty', 'avg3mou', 'avg3qty', 'avg3rev', 'avg6mou', 'avg6qty', 'avg6rev', 'hnd_price', 'phones', 'models', 'lor', 'adults', 'income', 'numbcars', 'eqpdays', 'truck_bool', 'rv_bool', 'forgntvl_bool', 'new_cell_N', 'new_cell_U', 'new_cell_Y', 'crclscod_A', 'crclscod_AA', 'crclscod_B', 'crclscod_BA', 'crclscod_C', 'crclscod_CA', 'crclscod_DA', 'crclscod_EA', 'crclscod_ZA', 'asl_flag_Y', 'prizm_social_one_C', 'prizm_social_one_R', 'prizm_social_one_S', 'prizm_social_one_T', 'prizm_social_one_U', 'area_Mid-Atlantic', 'area_Midwest', 'area_Northeast', 'area_Southeast', 'area_Southwest', 'area_West', 'dualband_N', 'dualband_T', 'dualband_Y', 'refurb_new_R', 'hnd_webcap_WCMB', 'ownrent_R', 'dwlltype_S', 'marital_A', 'marital_B', 'marital_M', 'marital_S', 'marital_U', 'HHstatin_A', 'HHstatin_B', 'HHstatin_C', 'HHstatin_G', 'HHstatin_H', 'HHstatin_I', 'dwllsize_A', 'dwllsize_B', 'dwllsize_C', 'dwllsize_J', 'dwllsize_O', 'ethnic_B', 'ethnic_F', 'ethnic_G', 'ethnic_H', 'ethnic_I', 'ethnic_J', 'ethnic_N', 'ethnic_O', 'ethnic_R', 'ethnic_S', 'ethnic_U', 'ethnic_Z', 'kid0_2_Y', 'kid3_5_Y', 'kid6_10_Y', 'kid11_15_Y', 'kid16_17_Y', 'creditcd_Y']\n"
          ]
        }
      ]
    },
    {
      "cell_type": "code",
      "source": [
        "features_predict == model_features"
      ],
      "metadata": {
        "colab": {
          "base_uri": "https://localhost:8080/"
        },
        "id": "PYZyIKgJqdCx",
        "outputId": "dc22d2fe-6e42-41c4-d568-6489b78dc23d"
      },
      "execution_count": null,
      "outputs": [
        {
          "output_type": "execute_result",
          "data": {
            "text/plain": [
              "False"
            ]
          },
          "metadata": {},
          "execution_count": 9
        }
      ]
    },
    {
      "cell_type": "markdown",
      "source": [
        "# ML Preprocessing"
      ],
      "metadata": {
        "id": "3DbfLkADLbc0"
      }
    },
    {
      "cell_type": "markdown",
      "source": [
        "Se deben realizar las mismas transformaciones que se aplicaron en el preprocessing del train:\n",
        "  * Eliminar mismas variables\n",
        "  * Imputar mismos valores a nulos\n",
        "  * Aplicar mismo encoding de categoricos\n",
        "  * ...todo lo necesario para replicar las variables con las que el modelo se entrenó\n",
        "\n",
        "NO SE DEBEN repetir:\n",
        "  * Analisis visual de los datos\n",
        "  * Analisis de correlaciones\n",
        "  * Analisis de varianza\n",
        "  * Calculo de metricas que varien con la distribución"
      ],
      "metadata": {
        "id": "LmoNP1NsJeaj"
      }
    },
    {
      "cell_type": "code",
      "source": [
        "X_pred.set_index('Customer_ID', inplace=True)"
      ],
      "metadata": {
        "id": "eX3rhO9fqsJZ"
      },
      "execution_count": null,
      "outputs": []
    },
    {
      "cell_type": "code",
      "source": [
        "print('Se define {Customer_ID} como indice')"
      ],
      "metadata": {
        "colab": {
          "base_uri": "https://localhost:8080/"
        },
        "id": "RlLU_CvLr7nb",
        "outputId": "96ae0a51-a98b-4155-b356-5a4c69f9ccb4"
      },
      "execution_count": null,
      "outputs": [
        {
          "output_type": "stream",
          "name": "stdout",
          "text": [
            "Se define {Customer_ID} como indice\n"
          ]
        }
      ]
    },
    {
      "cell_type": "code",
      "source": [
        "X_pred.head()"
      ],
      "metadata": {
        "colab": {
          "base_uri": "https://localhost:8080/",
          "height": 371
        },
        "id": "LBLuBfZ7r-1w",
        "outputId": "46651086-e9a2-4ee7-f5b6-35d813a54c0f"
      },
      "execution_count": null,
      "outputs": [
        {
          "output_type": "execute_result",
          "data": {
            "text/plain": [
              "                  rev      mou    totmrc      da  ovrmou  ovrrev  vceovr  \\\n",
              "Customer_ID                                                                \n",
              "1090001       30.8350   136.75   29.9900  0.2475    1.25   0.500     0.5   \n",
              "1090002       35.8475   352.75   24.2700  0.4950   23.25   9.285     8.7   \n",
              "1090003       30.3275   241.50   39.9900  0.0000    0.00   0.000     0.0   \n",
              "1090004      154.6925  2297.00  149.9900  4.7025    0.00   0.000     0.0   \n",
              "1090005      156.0050   542.25   48.9475  0.7425   70.75  28.295    28.1   \n",
              "\n",
              "             datovr    roam  change_mou  change_rev   drop_vce  drop_dat  \\\n",
              "Customer_ID                                                                \n",
              "1090001       0.000  0.0975       48.25      1.1550   2.000000  0.000000   \n",
              "1090002       0.585  1.8000     -352.75    -35.8475   9.000000  0.000000   \n",
              "1090003       0.000  0.0000      -86.50      0.8625   2.000000  0.000000   \n",
              "1090004       0.000  0.0000      119.00      0.2475  20.333333  0.000000   \n",
              "1090005       0.195  0.0000      195.75     40.0150   5.666667  0.333333   \n",
              "\n",
              "              blck_vce  blck_dat    unan_vce  unan_dat     plcd_vce  plcd_dat  \\\n",
              "Customer_ID                                                                     \n",
              "1090001      10.333333       0.0   13.333333       0.0    66.000000  0.000000   \n",
              "1090002       0.000000       0.0   10.000000       0.0    82.666667  1.000000   \n",
              "1090003       4.666667       0.0   20.666667       0.0    85.333333  0.000000   \n",
              "1090004       5.000000       0.0  329.333333       0.0  1067.000000  0.000000   \n",
              "1090005       0.666667       0.0   46.333333       0.0   167.666667  0.666667   \n",
              "\n",
              "               recv_vce  recv_sms    comp_vce  comp_dat   custcare   ccrndmou  \\\n",
              "Customer_ID                                                                     \n",
              "1090001        3.333333       0.0   40.666667  0.000000   1.333333   1.333333   \n",
              "1090002       31.000000       0.0   65.333333  1.000000   3.666667   9.000000   \n",
              "1090003       26.666667       0.0   59.333333  0.000000   4.333333   6.333333   \n",
              "1090004      628.000000       0.0  723.000000  0.000000   0.333333   0.666667   \n",
              "1090005       11.333333       0.0  115.000000  0.333333  21.666667  48.000000   \n",
              "\n",
              "                cc_mou    inonemin  threeway    mou_cvce  mou_cdat  \\\n",
              "Customer_ID                                                          \n",
              "1090001       0.896667    0.666667  0.333333   71.746667  0.000000   \n",
              "1090002       5.890000   18.333333  1.333333   98.543333  1.023333   \n",
              "1090003       4.466667   17.000000  1.666667  143.530000  0.000000   \n",
              "1090004       0.376667  408.000000  0.000000  769.136667  0.000000   \n",
              "1090005      31.346667   10.000000  0.333333  343.066667  0.010000   \n",
              "\n",
              "               mou_rvce  owylis_vce  mouowylisv  iwylis_vce  mouiwylisv  \\\n",
              "Customer_ID                                                               \n",
              "1090001        5.406667    1.333333    0.713333    0.333333    0.473333   \n",
              "1090002       83.666667   15.666667   12.683333    1.333333   14.286667   \n",
              "1090003       27.373333    9.666667    3.760000   19.666667   21.736667   \n",
              "1090004      679.020000  271.000000  167.090000   68.666667  150.656667   \n",
              "1090005       11.243333   13.000000   14.563333    1.333333    2.100000   \n",
              "\n",
              "               peak_vce  peak_dat    mou_peav  mou_pead     opk_vce   opk_dat  \\\n",
              "Customer_ID                                                                     \n",
              "1090001       30.000000       0.0   54.500000       0.0   13.666667  0.000000   \n",
              "1090002       38.000000       0.0  106.926667       0.0   43.666667  1.000000   \n",
              "1090003       48.666667       0.0   76.356667       0.0   36.000000  0.000000   \n",
              "1090004      723.000000       0.0  961.736667       0.0  346.000000  0.000000   \n",
              "1090005       91.000000       0.0  205.216667       0.0   31.000000  0.333333   \n",
              "\n",
              "               mou_opkv  mou_opkd   drop_blk      attempt    complete  \\\n",
              "Customer_ID                                                             \n",
              "1090001       22.653333  0.000000  12.333333    66.000000   40.666667   \n",
              "1090002       75.283333  1.023333   9.000000    83.666667   66.333333   \n",
              "1090003       94.543333  0.000000   6.666667    85.333333   59.333333   \n",
              "1090004      486.420000  0.000000  25.333333  1067.000000  723.000000   \n",
              "1090005      149.096667  0.010000   6.666667   168.333333  115.333333   \n",
              "\n",
              "             callfwdv  callwait  months  uniqsubs  actvsubs new_cell crclscod  \\\n",
              "Customer_ID                                                                     \n",
              "1090001           0.0  0.000000       7         1         1        U       AA   \n",
              "1090002           0.0  1.333333       7         1         1        U       EA   \n",
              "1090003           0.0  0.333333       9         2         2        Y        A   \n",
              "1090004           0.0  8.333333      11         1         1        U       AA   \n",
              "1090005           0.0  0.666667       9         1         1        U       CA   \n",
              "\n",
              "            asl_flag  totcalls   totmou   totrev   adjrev   adjmou  adjqty  \\\n",
              "Customer_ID                                                                  \n",
              "1090001            N       393    958.0   248.46   182.94    958.0     393   \n",
              "1090002            Y      1641   4011.0   391.87   305.59   3998.0    1634   \n",
              "1090003            N       780   1889.0   312.91   219.45   1772.0     734   \n",
              "1090004            N      9018  18478.0  2217.05  2131.17  18478.0    9018   \n",
              "1090005            Y       791   2601.0   879.51   608.66   2601.0     791   \n",
              "\n",
              "             avgrev   avgmou  avgqty  avg3mou  avg3qty  avg3rev  avg6mou  \\\n",
              "Customer_ID                                                                \n",
              "1090001       30.49   159.67   65.50      121       52       30    160.0   \n",
              "1090002       50.93   666.33  272.33      470      181       48    666.0   \n",
              "1090003       31.35   253.14  104.86      270      107       30    273.0   \n",
              "1090004      213.12  1847.80  901.80     2257     1045      155   2452.0   \n",
              "1090005       86.95   371.57  113.00      477      130      143    349.0   \n",
              "\n",
              "             avg6qty  avg6rev prizm_social_one                           area  \\\n",
              "Customer_ID                                                                     \n",
              "1090001         66.0     31.0                C            ATLANTIC SOUTH AREA   \n",
              "1090002        272.0     51.0                C  NORTHWEST/ROCKY MOUNTAIN AREA   \n",
              "1090003        109.0     31.0                T       CENTRAL/SOUTH TEXAS AREA   \n",
              "1090004       1171.0    278.0                S            ATLANTIC SOUTH AREA   \n",
              "1090005        103.0     91.0                U               LOS ANGELES AREA   \n",
              "\n",
              "            dualband refurb_new  hnd_price  phones  models hnd_webcap  truck  \\\n",
              "Customer_ID                                                                    \n",
              "1090001            Y          N  149.98999     1.0     1.0       WCMB    0.0   \n",
              "1090002            T          N   99.98999     2.0     1.0       WCMB    0.0   \n",
              "1090003            N          N  129.98999     1.0     1.0       WCMB    1.0   \n",
              "1090004            N          R   79.98999     2.0     1.0       WCMB    0.0   \n",
              "1090005            Y          N  149.98999     2.0     1.0       WCMB    0.0   \n",
              "\n",
              "              rv ownrent   lor dwlltype marital  adults infobase  income  \\\n",
              "Customer_ID                                                                \n",
              "1090001      0.0       R   NaN        M       M     1.0        M     3.0   \n",
              "1090002      0.0     NaN   NaN      NaN       U     NaN      NaN     NaN   \n",
              "1090003      0.0       O  13.0        S       M     3.0        M     6.0   \n",
              "1090004      0.0       O   3.0        S       U     3.0        M     6.0   \n",
              "1090005      0.0       O   1.0      NaN       S     1.0        M     6.0   \n",
              "\n",
              "             numbcars HHstatin dwllsize  forgntvl ethnic kid0_2 kid3_5  \\\n",
              "Customer_ID                                                              \n",
              "1090001           NaN        C      NaN       1.0      U      U      U   \n",
              "1090002           NaN      NaN      NaN       0.0      N      U      U   \n",
              "1090003           1.0        C        A       0.0      N      U      U   \n",
              "1090004           1.0      NaN        A       0.0      S      U      U   \n",
              "1090005           1.0        C      NaN       0.0      N      U      U   \n",
              "\n",
              "            kid6_10 kid11_15 kid16_17 creditcd  eqpdays  \n",
              "Customer_ID                                              \n",
              "1090001           U        U        U        Y    216.0  \n",
              "1090002           U        U        U        N    101.0  \n",
              "1090003           U        U        U        Y    262.0  \n",
              "1090004           U        U        U        Y    127.0  \n",
              "1090005           U        U        U        Y     37.0  "
            ],
            "text/html": [
              "\n",
              "\n",
              "  <div id=\"df-3642384f-2496-4a85-8756-23d749e29f2d\">\n",
              "    <div class=\"colab-df-container\">\n",
              "      <div>\n",
              "<style scoped>\n",
              "    .dataframe tbody tr th:only-of-type {\n",
              "        vertical-align: middle;\n",
              "    }\n",
              "\n",
              "    .dataframe tbody tr th {\n",
              "        vertical-align: top;\n",
              "    }\n",
              "\n",
              "    .dataframe thead th {\n",
              "        text-align: right;\n",
              "    }\n",
              "</style>\n",
              "<table border=\"1\" class=\"dataframe\">\n",
              "  <thead>\n",
              "    <tr style=\"text-align: right;\">\n",
              "      <th></th>\n",
              "      <th>rev</th>\n",
              "      <th>mou</th>\n",
              "      <th>totmrc</th>\n",
              "      <th>da</th>\n",
              "      <th>ovrmou</th>\n",
              "      <th>ovrrev</th>\n",
              "      <th>vceovr</th>\n",
              "      <th>datovr</th>\n",
              "      <th>roam</th>\n",
              "      <th>change_mou</th>\n",
              "      <th>change_rev</th>\n",
              "      <th>drop_vce</th>\n",
              "      <th>drop_dat</th>\n",
              "      <th>blck_vce</th>\n",
              "      <th>blck_dat</th>\n",
              "      <th>unan_vce</th>\n",
              "      <th>unan_dat</th>\n",
              "      <th>plcd_vce</th>\n",
              "      <th>plcd_dat</th>\n",
              "      <th>recv_vce</th>\n",
              "      <th>recv_sms</th>\n",
              "      <th>comp_vce</th>\n",
              "      <th>comp_dat</th>\n",
              "      <th>custcare</th>\n",
              "      <th>ccrndmou</th>\n",
              "      <th>cc_mou</th>\n",
              "      <th>inonemin</th>\n",
              "      <th>threeway</th>\n",
              "      <th>mou_cvce</th>\n",
              "      <th>mou_cdat</th>\n",
              "      <th>mou_rvce</th>\n",
              "      <th>owylis_vce</th>\n",
              "      <th>mouowylisv</th>\n",
              "      <th>iwylis_vce</th>\n",
              "      <th>mouiwylisv</th>\n",
              "      <th>peak_vce</th>\n",
              "      <th>peak_dat</th>\n",
              "      <th>mou_peav</th>\n",
              "      <th>mou_pead</th>\n",
              "      <th>opk_vce</th>\n",
              "      <th>opk_dat</th>\n",
              "      <th>mou_opkv</th>\n",
              "      <th>mou_opkd</th>\n",
              "      <th>drop_blk</th>\n",
              "      <th>attempt</th>\n",
              "      <th>complete</th>\n",
              "      <th>callfwdv</th>\n",
              "      <th>callwait</th>\n",
              "      <th>months</th>\n",
              "      <th>uniqsubs</th>\n",
              "      <th>actvsubs</th>\n",
              "      <th>new_cell</th>\n",
              "      <th>crclscod</th>\n",
              "      <th>asl_flag</th>\n",
              "      <th>totcalls</th>\n",
              "      <th>totmou</th>\n",
              "      <th>totrev</th>\n",
              "      <th>adjrev</th>\n",
              "      <th>adjmou</th>\n",
              "      <th>adjqty</th>\n",
              "      <th>avgrev</th>\n",
              "      <th>avgmou</th>\n",
              "      <th>avgqty</th>\n",
              "      <th>avg3mou</th>\n",
              "      <th>avg3qty</th>\n",
              "      <th>avg3rev</th>\n",
              "      <th>avg6mou</th>\n",
              "      <th>avg6qty</th>\n",
              "      <th>avg6rev</th>\n",
              "      <th>prizm_social_one</th>\n",
              "      <th>area</th>\n",
              "      <th>dualband</th>\n",
              "      <th>refurb_new</th>\n",
              "      <th>hnd_price</th>\n",
              "      <th>phones</th>\n",
              "      <th>models</th>\n",
              "      <th>hnd_webcap</th>\n",
              "      <th>truck</th>\n",
              "      <th>rv</th>\n",
              "      <th>ownrent</th>\n",
              "      <th>lor</th>\n",
              "      <th>dwlltype</th>\n",
              "      <th>marital</th>\n",
              "      <th>adults</th>\n",
              "      <th>infobase</th>\n",
              "      <th>income</th>\n",
              "      <th>numbcars</th>\n",
              "      <th>HHstatin</th>\n",
              "      <th>dwllsize</th>\n",
              "      <th>forgntvl</th>\n",
              "      <th>ethnic</th>\n",
              "      <th>kid0_2</th>\n",
              "      <th>kid3_5</th>\n",
              "      <th>kid6_10</th>\n",
              "      <th>kid11_15</th>\n",
              "      <th>kid16_17</th>\n",
              "      <th>creditcd</th>\n",
              "      <th>eqpdays</th>\n",
              "    </tr>\n",
              "    <tr>\n",
              "      <th>Customer_ID</th>\n",
              "      <th></th>\n",
              "      <th></th>\n",
              "      <th></th>\n",
              "      <th></th>\n",
              "      <th></th>\n",
              "      <th></th>\n",
              "      <th></th>\n",
              "      <th></th>\n",
              "      <th></th>\n",
              "      <th></th>\n",
              "      <th></th>\n",
              "      <th></th>\n",
              "      <th></th>\n",
              "      <th></th>\n",
              "      <th></th>\n",
              "      <th></th>\n",
              "      <th></th>\n",
              "      <th></th>\n",
              "      <th></th>\n",
              "      <th></th>\n",
              "      <th></th>\n",
              "      <th></th>\n",
              "      <th></th>\n",
              "      <th></th>\n",
              "      <th></th>\n",
              "      <th></th>\n",
              "      <th></th>\n",
              "      <th></th>\n",
              "      <th></th>\n",
              "      <th></th>\n",
              "      <th></th>\n",
              "      <th></th>\n",
              "      <th></th>\n",
              "      <th></th>\n",
              "      <th></th>\n",
              "      <th></th>\n",
              "      <th></th>\n",
              "      <th></th>\n",
              "      <th></th>\n",
              "      <th></th>\n",
              "      <th></th>\n",
              "      <th></th>\n",
              "      <th></th>\n",
              "      <th></th>\n",
              "      <th></th>\n",
              "      <th></th>\n",
              "      <th></th>\n",
              "      <th></th>\n",
              "      <th></th>\n",
              "      <th></th>\n",
              "      <th></th>\n",
              "      <th></th>\n",
              "      <th></th>\n",
              "      <th></th>\n",
              "      <th></th>\n",
              "      <th></th>\n",
              "      <th></th>\n",
              "      <th></th>\n",
              "      <th></th>\n",
              "      <th></th>\n",
              "      <th></th>\n",
              "      <th></th>\n",
              "      <th></th>\n",
              "      <th></th>\n",
              "      <th></th>\n",
              "      <th></th>\n",
              "      <th></th>\n",
              "      <th></th>\n",
              "      <th></th>\n",
              "      <th></th>\n",
              "      <th></th>\n",
              "      <th></th>\n",
              "      <th></th>\n",
              "      <th></th>\n",
              "      <th></th>\n",
              "      <th></th>\n",
              "      <th></th>\n",
              "      <th></th>\n",
              "      <th></th>\n",
              "      <th></th>\n",
              "      <th></th>\n",
              "      <th></th>\n",
              "      <th></th>\n",
              "      <th></th>\n",
              "      <th></th>\n",
              "      <th></th>\n",
              "      <th></th>\n",
              "      <th></th>\n",
              "      <th></th>\n",
              "      <th></th>\n",
              "      <th></th>\n",
              "      <th></th>\n",
              "      <th></th>\n",
              "      <th></th>\n",
              "      <th></th>\n",
              "      <th></th>\n",
              "      <th></th>\n",
              "      <th></th>\n",
              "    </tr>\n",
              "  </thead>\n",
              "  <tbody>\n",
              "    <tr>\n",
              "      <th>1090001</th>\n",
              "      <td>30.8350</td>\n",
              "      <td>136.75</td>\n",
              "      <td>29.9900</td>\n",
              "      <td>0.2475</td>\n",
              "      <td>1.25</td>\n",
              "      <td>0.500</td>\n",
              "      <td>0.5</td>\n",
              "      <td>0.000</td>\n",
              "      <td>0.0975</td>\n",
              "      <td>48.25</td>\n",
              "      <td>1.1550</td>\n",
              "      <td>2.000000</td>\n",
              "      <td>0.000000</td>\n",
              "      <td>10.333333</td>\n",
              "      <td>0.0</td>\n",
              "      <td>13.333333</td>\n",
              "      <td>0.0</td>\n",
              "      <td>66.000000</td>\n",
              "      <td>0.000000</td>\n",
              "      <td>3.333333</td>\n",
              "      <td>0.0</td>\n",
              "      <td>40.666667</td>\n",
              "      <td>0.000000</td>\n",
              "      <td>1.333333</td>\n",
              "      <td>1.333333</td>\n",
              "      <td>0.896667</td>\n",
              "      <td>0.666667</td>\n",
              "      <td>0.333333</td>\n",
              "      <td>71.746667</td>\n",
              "      <td>0.000000</td>\n",
              "      <td>5.406667</td>\n",
              "      <td>1.333333</td>\n",
              "      <td>0.713333</td>\n",
              "      <td>0.333333</td>\n",
              "      <td>0.473333</td>\n",
              "      <td>30.000000</td>\n",
              "      <td>0.0</td>\n",
              "      <td>54.500000</td>\n",
              "      <td>0.0</td>\n",
              "      <td>13.666667</td>\n",
              "      <td>0.000000</td>\n",
              "      <td>22.653333</td>\n",
              "      <td>0.000000</td>\n",
              "      <td>12.333333</td>\n",
              "      <td>66.000000</td>\n",
              "      <td>40.666667</td>\n",
              "      <td>0.0</td>\n",
              "      <td>0.000000</td>\n",
              "      <td>7</td>\n",
              "      <td>1</td>\n",
              "      <td>1</td>\n",
              "      <td>U</td>\n",
              "      <td>AA</td>\n",
              "      <td>N</td>\n",
              "      <td>393</td>\n",
              "      <td>958.0</td>\n",
              "      <td>248.46</td>\n",
              "      <td>182.94</td>\n",
              "      <td>958.0</td>\n",
              "      <td>393</td>\n",
              "      <td>30.49</td>\n",
              "      <td>159.67</td>\n",
              "      <td>65.50</td>\n",
              "      <td>121</td>\n",
              "      <td>52</td>\n",
              "      <td>30</td>\n",
              "      <td>160.0</td>\n",
              "      <td>66.0</td>\n",
              "      <td>31.0</td>\n",
              "      <td>C</td>\n",
              "      <td>ATLANTIC SOUTH AREA</td>\n",
              "      <td>Y</td>\n",
              "      <td>N</td>\n",
              "      <td>149.98999</td>\n",
              "      <td>1.0</td>\n",
              "      <td>1.0</td>\n",
              "      <td>WCMB</td>\n",
              "      <td>0.0</td>\n",
              "      <td>0.0</td>\n",
              "      <td>R</td>\n",
              "      <td>NaN</td>\n",
              "      <td>M</td>\n",
              "      <td>M</td>\n",
              "      <td>1.0</td>\n",
              "      <td>M</td>\n",
              "      <td>3.0</td>\n",
              "      <td>NaN</td>\n",
              "      <td>C</td>\n",
              "      <td>NaN</td>\n",
              "      <td>1.0</td>\n",
              "      <td>U</td>\n",
              "      <td>U</td>\n",
              "      <td>U</td>\n",
              "      <td>U</td>\n",
              "      <td>U</td>\n",
              "      <td>U</td>\n",
              "      <td>Y</td>\n",
              "      <td>216.0</td>\n",
              "    </tr>\n",
              "    <tr>\n",
              "      <th>1090002</th>\n",
              "      <td>35.8475</td>\n",
              "      <td>352.75</td>\n",
              "      <td>24.2700</td>\n",
              "      <td>0.4950</td>\n",
              "      <td>23.25</td>\n",
              "      <td>9.285</td>\n",
              "      <td>8.7</td>\n",
              "      <td>0.585</td>\n",
              "      <td>1.8000</td>\n",
              "      <td>-352.75</td>\n",
              "      <td>-35.8475</td>\n",
              "      <td>9.000000</td>\n",
              "      <td>0.000000</td>\n",
              "      <td>0.000000</td>\n",
              "      <td>0.0</td>\n",
              "      <td>10.000000</td>\n",
              "      <td>0.0</td>\n",
              "      <td>82.666667</td>\n",
              "      <td>1.000000</td>\n",
              "      <td>31.000000</td>\n",
              "      <td>0.0</td>\n",
              "      <td>65.333333</td>\n",
              "      <td>1.000000</td>\n",
              "      <td>3.666667</td>\n",
              "      <td>9.000000</td>\n",
              "      <td>5.890000</td>\n",
              "      <td>18.333333</td>\n",
              "      <td>1.333333</td>\n",
              "      <td>98.543333</td>\n",
              "      <td>1.023333</td>\n",
              "      <td>83.666667</td>\n",
              "      <td>15.666667</td>\n",
              "      <td>12.683333</td>\n",
              "      <td>1.333333</td>\n",
              "      <td>14.286667</td>\n",
              "      <td>38.000000</td>\n",
              "      <td>0.0</td>\n",
              "      <td>106.926667</td>\n",
              "      <td>0.0</td>\n",
              "      <td>43.666667</td>\n",
              "      <td>1.000000</td>\n",
              "      <td>75.283333</td>\n",
              "      <td>1.023333</td>\n",
              "      <td>9.000000</td>\n",
              "      <td>83.666667</td>\n",
              "      <td>66.333333</td>\n",
              "      <td>0.0</td>\n",
              "      <td>1.333333</td>\n",
              "      <td>7</td>\n",
              "      <td>1</td>\n",
              "      <td>1</td>\n",
              "      <td>U</td>\n",
              "      <td>EA</td>\n",
              "      <td>Y</td>\n",
              "      <td>1641</td>\n",
              "      <td>4011.0</td>\n",
              "      <td>391.87</td>\n",
              "      <td>305.59</td>\n",
              "      <td>3998.0</td>\n",
              "      <td>1634</td>\n",
              "      <td>50.93</td>\n",
              "      <td>666.33</td>\n",
              "      <td>272.33</td>\n",
              "      <td>470</td>\n",
              "      <td>181</td>\n",
              "      <td>48</td>\n",
              "      <td>666.0</td>\n",
              "      <td>272.0</td>\n",
              "      <td>51.0</td>\n",
              "      <td>C</td>\n",
              "      <td>NORTHWEST/ROCKY MOUNTAIN AREA</td>\n",
              "      <td>T</td>\n",
              "      <td>N</td>\n",
              "      <td>99.98999</td>\n",
              "      <td>2.0</td>\n",
              "      <td>1.0</td>\n",
              "      <td>WCMB</td>\n",
              "      <td>0.0</td>\n",
              "      <td>0.0</td>\n",
              "      <td>NaN</td>\n",
              "      <td>NaN</td>\n",
              "      <td>NaN</td>\n",
              "      <td>U</td>\n",
              "      <td>NaN</td>\n",
              "      <td>NaN</td>\n",
              "      <td>NaN</td>\n",
              "      <td>NaN</td>\n",
              "      <td>NaN</td>\n",
              "      <td>NaN</td>\n",
              "      <td>0.0</td>\n",
              "      <td>N</td>\n",
              "      <td>U</td>\n",
              "      <td>U</td>\n",
              "      <td>U</td>\n",
              "      <td>U</td>\n",
              "      <td>U</td>\n",
              "      <td>N</td>\n",
              "      <td>101.0</td>\n",
              "    </tr>\n",
              "    <tr>\n",
              "      <th>1090003</th>\n",
              "      <td>30.3275</td>\n",
              "      <td>241.50</td>\n",
              "      <td>39.9900</td>\n",
              "      <td>0.0000</td>\n",
              "      <td>0.00</td>\n",
              "      <td>0.000</td>\n",
              "      <td>0.0</td>\n",
              "      <td>0.000</td>\n",
              "      <td>0.0000</td>\n",
              "      <td>-86.50</td>\n",
              "      <td>0.8625</td>\n",
              "      <td>2.000000</td>\n",
              "      <td>0.000000</td>\n",
              "      <td>4.666667</td>\n",
              "      <td>0.0</td>\n",
              "      <td>20.666667</td>\n",
              "      <td>0.0</td>\n",
              "      <td>85.333333</td>\n",
              "      <td>0.000000</td>\n",
              "      <td>26.666667</td>\n",
              "      <td>0.0</td>\n",
              "      <td>59.333333</td>\n",
              "      <td>0.000000</td>\n",
              "      <td>4.333333</td>\n",
              "      <td>6.333333</td>\n",
              "      <td>4.466667</td>\n",
              "      <td>17.000000</td>\n",
              "      <td>1.666667</td>\n",
              "      <td>143.530000</td>\n",
              "      <td>0.000000</td>\n",
              "      <td>27.373333</td>\n",
              "      <td>9.666667</td>\n",
              "      <td>3.760000</td>\n",
              "      <td>19.666667</td>\n",
              "      <td>21.736667</td>\n",
              "      <td>48.666667</td>\n",
              "      <td>0.0</td>\n",
              "      <td>76.356667</td>\n",
              "      <td>0.0</td>\n",
              "      <td>36.000000</td>\n",
              "      <td>0.000000</td>\n",
              "      <td>94.543333</td>\n",
              "      <td>0.000000</td>\n",
              "      <td>6.666667</td>\n",
              "      <td>85.333333</td>\n",
              "      <td>59.333333</td>\n",
              "      <td>0.0</td>\n",
              "      <td>0.333333</td>\n",
              "      <td>9</td>\n",
              "      <td>2</td>\n",
              "      <td>2</td>\n",
              "      <td>Y</td>\n",
              "      <td>A</td>\n",
              "      <td>N</td>\n",
              "      <td>780</td>\n",
              "      <td>1889.0</td>\n",
              "      <td>312.91</td>\n",
              "      <td>219.45</td>\n",
              "      <td>1772.0</td>\n",
              "      <td>734</td>\n",
              "      <td>31.35</td>\n",
              "      <td>253.14</td>\n",
              "      <td>104.86</td>\n",
              "      <td>270</td>\n",
              "      <td>107</td>\n",
              "      <td>30</td>\n",
              "      <td>273.0</td>\n",
              "      <td>109.0</td>\n",
              "      <td>31.0</td>\n",
              "      <td>T</td>\n",
              "      <td>CENTRAL/SOUTH TEXAS AREA</td>\n",
              "      <td>N</td>\n",
              "      <td>N</td>\n",
              "      <td>129.98999</td>\n",
              "      <td>1.0</td>\n",
              "      <td>1.0</td>\n",
              "      <td>WCMB</td>\n",
              "      <td>1.0</td>\n",
              "      <td>0.0</td>\n",
              "      <td>O</td>\n",
              "      <td>13.0</td>\n",
              "      <td>S</td>\n",
              "      <td>M</td>\n",
              "      <td>3.0</td>\n",
              "      <td>M</td>\n",
              "      <td>6.0</td>\n",
              "      <td>1.0</td>\n",
              "      <td>C</td>\n",
              "      <td>A</td>\n",
              "      <td>0.0</td>\n",
              "      <td>N</td>\n",
              "      <td>U</td>\n",
              "      <td>U</td>\n",
              "      <td>U</td>\n",
              "      <td>U</td>\n",
              "      <td>U</td>\n",
              "      <td>Y</td>\n",
              "      <td>262.0</td>\n",
              "    </tr>\n",
              "    <tr>\n",
              "      <th>1090004</th>\n",
              "      <td>154.6925</td>\n",
              "      <td>2297.00</td>\n",
              "      <td>149.9900</td>\n",
              "      <td>4.7025</td>\n",
              "      <td>0.00</td>\n",
              "      <td>0.000</td>\n",
              "      <td>0.0</td>\n",
              "      <td>0.000</td>\n",
              "      <td>0.0000</td>\n",
              "      <td>119.00</td>\n",
              "      <td>0.2475</td>\n",
              "      <td>20.333333</td>\n",
              "      <td>0.000000</td>\n",
              "      <td>5.000000</td>\n",
              "      <td>0.0</td>\n",
              "      <td>329.333333</td>\n",
              "      <td>0.0</td>\n",
              "      <td>1067.000000</td>\n",
              "      <td>0.000000</td>\n",
              "      <td>628.000000</td>\n",
              "      <td>0.0</td>\n",
              "      <td>723.000000</td>\n",
              "      <td>0.000000</td>\n",
              "      <td>0.333333</td>\n",
              "      <td>0.666667</td>\n",
              "      <td>0.376667</td>\n",
              "      <td>408.000000</td>\n",
              "      <td>0.000000</td>\n",
              "      <td>769.136667</td>\n",
              "      <td>0.000000</td>\n",
              "      <td>679.020000</td>\n",
              "      <td>271.000000</td>\n",
              "      <td>167.090000</td>\n",
              "      <td>68.666667</td>\n",
              "      <td>150.656667</td>\n",
              "      <td>723.000000</td>\n",
              "      <td>0.0</td>\n",
              "      <td>961.736667</td>\n",
              "      <td>0.0</td>\n",
              "      <td>346.000000</td>\n",
              "      <td>0.000000</td>\n",
              "      <td>486.420000</td>\n",
              "      <td>0.000000</td>\n",
              "      <td>25.333333</td>\n",
              "      <td>1067.000000</td>\n",
              "      <td>723.000000</td>\n",
              "      <td>0.0</td>\n",
              "      <td>8.333333</td>\n",
              "      <td>11</td>\n",
              "      <td>1</td>\n",
              "      <td>1</td>\n",
              "      <td>U</td>\n",
              "      <td>AA</td>\n",
              "      <td>N</td>\n",
              "      <td>9018</td>\n",
              "      <td>18478.0</td>\n",
              "      <td>2217.05</td>\n",
              "      <td>2131.17</td>\n",
              "      <td>18478.0</td>\n",
              "      <td>9018</td>\n",
              "      <td>213.12</td>\n",
              "      <td>1847.80</td>\n",
              "      <td>901.80</td>\n",
              "      <td>2257</td>\n",
              "      <td>1045</td>\n",
              "      <td>155</td>\n",
              "      <td>2452.0</td>\n",
              "      <td>1171.0</td>\n",
              "      <td>278.0</td>\n",
              "      <td>S</td>\n",
              "      <td>ATLANTIC SOUTH AREA</td>\n",
              "      <td>N</td>\n",
              "      <td>R</td>\n",
              "      <td>79.98999</td>\n",
              "      <td>2.0</td>\n",
              "      <td>1.0</td>\n",
              "      <td>WCMB</td>\n",
              "      <td>0.0</td>\n",
              "      <td>0.0</td>\n",
              "      <td>O</td>\n",
              "      <td>3.0</td>\n",
              "      <td>S</td>\n",
              "      <td>U</td>\n",
              "      <td>3.0</td>\n",
              "      <td>M</td>\n",
              "      <td>6.0</td>\n",
              "      <td>1.0</td>\n",
              "      <td>NaN</td>\n",
              "      <td>A</td>\n",
              "      <td>0.0</td>\n",
              "      <td>S</td>\n",
              "      <td>U</td>\n",
              "      <td>U</td>\n",
              "      <td>U</td>\n",
              "      <td>U</td>\n",
              "      <td>U</td>\n",
              "      <td>Y</td>\n",
              "      <td>127.0</td>\n",
              "    </tr>\n",
              "    <tr>\n",
              "      <th>1090005</th>\n",
              "      <td>156.0050</td>\n",
              "      <td>542.25</td>\n",
              "      <td>48.9475</td>\n",
              "      <td>0.7425</td>\n",
              "      <td>70.75</td>\n",
              "      <td>28.295</td>\n",
              "      <td>28.1</td>\n",
              "      <td>0.195</td>\n",
              "      <td>0.0000</td>\n",
              "      <td>195.75</td>\n",
              "      <td>40.0150</td>\n",
              "      <td>5.666667</td>\n",
              "      <td>0.333333</td>\n",
              "      <td>0.666667</td>\n",
              "      <td>0.0</td>\n",
              "      <td>46.333333</td>\n",
              "      <td>0.0</td>\n",
              "      <td>167.666667</td>\n",
              "      <td>0.666667</td>\n",
              "      <td>11.333333</td>\n",
              "      <td>0.0</td>\n",
              "      <td>115.000000</td>\n",
              "      <td>0.333333</td>\n",
              "      <td>21.666667</td>\n",
              "      <td>48.000000</td>\n",
              "      <td>31.346667</td>\n",
              "      <td>10.000000</td>\n",
              "      <td>0.333333</td>\n",
              "      <td>343.066667</td>\n",
              "      <td>0.010000</td>\n",
              "      <td>11.243333</td>\n",
              "      <td>13.000000</td>\n",
              "      <td>14.563333</td>\n",
              "      <td>1.333333</td>\n",
              "      <td>2.100000</td>\n",
              "      <td>91.000000</td>\n",
              "      <td>0.0</td>\n",
              "      <td>205.216667</td>\n",
              "      <td>0.0</td>\n",
              "      <td>31.000000</td>\n",
              "      <td>0.333333</td>\n",
              "      <td>149.096667</td>\n",
              "      <td>0.010000</td>\n",
              "      <td>6.666667</td>\n",
              "      <td>168.333333</td>\n",
              "      <td>115.333333</td>\n",
              "      <td>0.0</td>\n",
              "      <td>0.666667</td>\n",
              "      <td>9</td>\n",
              "      <td>1</td>\n",
              "      <td>1</td>\n",
              "      <td>U</td>\n",
              "      <td>CA</td>\n",
              "      <td>Y</td>\n",
              "      <td>791</td>\n",
              "      <td>2601.0</td>\n",
              "      <td>879.51</td>\n",
              "      <td>608.66</td>\n",
              "      <td>2601.0</td>\n",
              "      <td>791</td>\n",
              "      <td>86.95</td>\n",
              "      <td>371.57</td>\n",
              "      <td>113.00</td>\n",
              "      <td>477</td>\n",
              "      <td>130</td>\n",
              "      <td>143</td>\n",
              "      <td>349.0</td>\n",
              "      <td>103.0</td>\n",
              "      <td>91.0</td>\n",
              "      <td>U</td>\n",
              "      <td>LOS ANGELES AREA</td>\n",
              "      <td>Y</td>\n",
              "      <td>N</td>\n",
              "      <td>149.98999</td>\n",
              "      <td>2.0</td>\n",
              "      <td>1.0</td>\n",
              "      <td>WCMB</td>\n",
              "      <td>0.0</td>\n",
              "      <td>0.0</td>\n",
              "      <td>O</td>\n",
              "      <td>1.0</td>\n",
              "      <td>NaN</td>\n",
              "      <td>S</td>\n",
              "      <td>1.0</td>\n",
              "      <td>M</td>\n",
              "      <td>6.0</td>\n",
              "      <td>1.0</td>\n",
              "      <td>C</td>\n",
              "      <td>NaN</td>\n",
              "      <td>0.0</td>\n",
              "      <td>N</td>\n",
              "      <td>U</td>\n",
              "      <td>U</td>\n",
              "      <td>U</td>\n",
              "      <td>U</td>\n",
              "      <td>U</td>\n",
              "      <td>Y</td>\n",
              "      <td>37.0</td>\n",
              "    </tr>\n",
              "  </tbody>\n",
              "</table>\n",
              "</div>\n",
              "      <button class=\"colab-df-convert\" onclick=\"convertToInteractive('df-3642384f-2496-4a85-8756-23d749e29f2d')\"\n",
              "              title=\"Convert this dataframe to an interactive table.\"\n",
              "              style=\"display:none;\">\n",
              "\n",
              "  <svg xmlns=\"http://www.w3.org/2000/svg\" height=\"24px\"viewBox=\"0 0 24 24\"\n",
              "       width=\"24px\">\n",
              "    <path d=\"M0 0h24v24H0V0z\" fill=\"none\"/>\n",
              "    <path d=\"M18.56 5.44l.94 2.06.94-2.06 2.06-.94-2.06-.94-.94-2.06-.94 2.06-2.06.94zm-11 1L8.5 8.5l.94-2.06 2.06-.94-2.06-.94L8.5 2.5l-.94 2.06-2.06.94zm10 10l.94 2.06.94-2.06 2.06-.94-2.06-.94-.94-2.06-.94 2.06-2.06.94z\"/><path d=\"M17.41 7.96l-1.37-1.37c-.4-.4-.92-.59-1.43-.59-.52 0-1.04.2-1.43.59L10.3 9.45l-7.72 7.72c-.78.78-.78 2.05 0 2.83L4 21.41c.39.39.9.59 1.41.59.51 0 1.02-.2 1.41-.59l7.78-7.78 2.81-2.81c.8-.78.8-2.07 0-2.86zM5.41 20L4 18.59l7.72-7.72 1.47 1.35L5.41 20z\"/>\n",
              "  </svg>\n",
              "      </button>\n",
              "\n",
              "\n",
              "\n",
              "    <div id=\"df-ebf1034a-8f3d-4ec4-af9c-7a6c6380aff8\">\n",
              "      <button class=\"colab-df-quickchart\" onclick=\"quickchart('df-ebf1034a-8f3d-4ec4-af9c-7a6c6380aff8')\"\n",
              "              title=\"Suggest charts.\"\n",
              "              style=\"display:none;\">\n",
              "\n",
              "<svg xmlns=\"http://www.w3.org/2000/svg\" height=\"24px\"viewBox=\"0 0 24 24\"\n",
              "     width=\"24px\">\n",
              "    <g>\n",
              "        <path d=\"M19 3H5c-1.1 0-2 .9-2 2v14c0 1.1.9 2 2 2h14c1.1 0 2-.9 2-2V5c0-1.1-.9-2-2-2zM9 17H7v-7h2v7zm4 0h-2V7h2v10zm4 0h-2v-4h2v4z\"/>\n",
              "    </g>\n",
              "</svg>\n",
              "      </button>\n",
              "    </div>\n",
              "\n",
              "<style>\n",
              "  .colab-df-quickchart {\n",
              "    background-color: #E8F0FE;\n",
              "    border: none;\n",
              "    border-radius: 50%;\n",
              "    cursor: pointer;\n",
              "    display: none;\n",
              "    fill: #1967D2;\n",
              "    height: 32px;\n",
              "    padding: 0 0 0 0;\n",
              "    width: 32px;\n",
              "  }\n",
              "\n",
              "  .colab-df-quickchart:hover {\n",
              "    background-color: #E2EBFA;\n",
              "    box-shadow: 0px 1px 2px rgba(60, 64, 67, 0.3), 0px 1px 3px 1px rgba(60, 64, 67, 0.15);\n",
              "    fill: #174EA6;\n",
              "  }\n",
              "\n",
              "  [theme=dark] .colab-df-quickchart {\n",
              "    background-color: #3B4455;\n",
              "    fill: #D2E3FC;\n",
              "  }\n",
              "\n",
              "  [theme=dark] .colab-df-quickchart:hover {\n",
              "    background-color: #434B5C;\n",
              "    box-shadow: 0px 1px 3px 1px rgba(0, 0, 0, 0.15);\n",
              "    filter: drop-shadow(0px 1px 2px rgba(0, 0, 0, 0.3));\n",
              "    fill: #FFFFFF;\n",
              "  }\n",
              "</style>\n",
              "\n",
              "    <script>\n",
              "      async function quickchart(key) {\n",
              "        const containerElement = document.querySelector('#' + key);\n",
              "        const charts = await google.colab.kernel.invokeFunction(\n",
              "            'suggestCharts', [key], {});\n",
              "      }\n",
              "    </script>\n",
              "\n",
              "      <script>\n",
              "\n",
              "function displayQuickchartButton(domScope) {\n",
              "  let quickchartButtonEl =\n",
              "    domScope.querySelector('#df-ebf1034a-8f3d-4ec4-af9c-7a6c6380aff8 button.colab-df-quickchart');\n",
              "  quickchartButtonEl.style.display =\n",
              "    google.colab.kernel.accessAllowed ? 'block' : 'none';\n",
              "}\n",
              "\n",
              "        displayQuickchartButton(document);\n",
              "      </script>\n",
              "      <style>\n",
              "    .colab-df-container {\n",
              "      display:flex;\n",
              "      flex-wrap:wrap;\n",
              "      gap: 12px;\n",
              "    }\n",
              "\n",
              "    .colab-df-convert {\n",
              "      background-color: #E8F0FE;\n",
              "      border: none;\n",
              "      border-radius: 50%;\n",
              "      cursor: pointer;\n",
              "      display: none;\n",
              "      fill: #1967D2;\n",
              "      height: 32px;\n",
              "      padding: 0 0 0 0;\n",
              "      width: 32px;\n",
              "    }\n",
              "\n",
              "    .colab-df-convert:hover {\n",
              "      background-color: #E2EBFA;\n",
              "      box-shadow: 0px 1px 2px rgba(60, 64, 67, 0.3), 0px 1px 3px 1px rgba(60, 64, 67, 0.15);\n",
              "      fill: #174EA6;\n",
              "    }\n",
              "\n",
              "    [theme=dark] .colab-df-convert {\n",
              "      background-color: #3B4455;\n",
              "      fill: #D2E3FC;\n",
              "    }\n",
              "\n",
              "    [theme=dark] .colab-df-convert:hover {\n",
              "      background-color: #434B5C;\n",
              "      box-shadow: 0px 1px 3px 1px rgba(0, 0, 0, 0.15);\n",
              "      filter: drop-shadow(0px 1px 2px rgba(0, 0, 0, 0.3));\n",
              "      fill: #FFFFFF;\n",
              "    }\n",
              "  </style>\n",
              "\n",
              "      <script>\n",
              "        const buttonEl =\n",
              "          document.querySelector('#df-3642384f-2496-4a85-8756-23d749e29f2d button.colab-df-convert');\n",
              "        buttonEl.style.display =\n",
              "          google.colab.kernel.accessAllowed ? 'block' : 'none';\n",
              "\n",
              "        async function convertToInteractive(key) {\n",
              "          const element = document.querySelector('#df-3642384f-2496-4a85-8756-23d749e29f2d');\n",
              "          const dataTable =\n",
              "            await google.colab.kernel.invokeFunction('convertToInteractive',\n",
              "                                                     [key], {});\n",
              "          if (!dataTable) return;\n",
              "\n",
              "          const docLinkHtml = 'Like what you see? Visit the ' +\n",
              "            '<a target=\"_blank\" href=https://colab.research.google.com/notebooks/data_table.ipynb>data table notebook</a>'\n",
              "            + ' to learn more about interactive tables.';\n",
              "          element.innerHTML = '';\n",
              "          dataTable['output_type'] = 'display_data';\n",
              "          await google.colab.output.renderOutput(dataTable, element);\n",
              "          const docLink = document.createElement('div');\n",
              "          docLink.innerHTML = docLinkHtml;\n",
              "          element.appendChild(docLink);\n",
              "        }\n",
              "      </script>\n",
              "    </div>\n",
              "  </div>\n"
            ]
          },
          "metadata": {},
          "execution_count": 12
        }
      ]
    },
    {
      "cell_type": "code",
      "source": [
        "X_pred.info()"
      ],
      "metadata": {
        "colab": {
          "base_uri": "https://localhost:8080/"
        },
        "id": "Sg5vcsIWsBW0",
        "outputId": "149b0d11-6793-40e8-d83b-eef5216baa04"
      },
      "execution_count": null,
      "outputs": [
        {
          "output_type": "stream",
          "name": "stdout",
          "text": [
            "<class 'pandas.core.frame.DataFrame'>\n",
            "Int64Index: 10000 entries, 1090001 to 1100000\n",
            "Data columns (total 98 columns):\n",
            " #   Column            Non-Null Count  Dtype  \n",
            "---  ------            --------------  -----  \n",
            " 0   rev               9777 non-null   float64\n",
            " 1   mou               9777 non-null   float64\n",
            " 2   totmrc            9777 non-null   float64\n",
            " 3   da                9777 non-null   float64\n",
            " 4   ovrmou            9777 non-null   float64\n",
            " 5   ovrrev            9777 non-null   float64\n",
            " 6   vceovr            9777 non-null   float64\n",
            " 7   datovr            9777 non-null   float64\n",
            " 8   roam              9777 non-null   float64\n",
            " 9   change_mou        9704 non-null   float64\n",
            " 10  change_rev        9704 non-null   float64\n",
            " 11  drop_vce          10000 non-null  float64\n",
            " 12  drop_dat          10000 non-null  float64\n",
            " 13  blck_vce          10000 non-null  float64\n",
            " 14  blck_dat          10000 non-null  float64\n",
            " 15  unan_vce          10000 non-null  float64\n",
            " 16  unan_dat          10000 non-null  float64\n",
            " 17  plcd_vce          10000 non-null  float64\n",
            " 18  plcd_dat          10000 non-null  float64\n",
            " 19  recv_vce          10000 non-null  float64\n",
            " 20  recv_sms          10000 non-null  float64\n",
            " 21  comp_vce          10000 non-null  float64\n",
            " 22  comp_dat          10000 non-null  float64\n",
            " 23  custcare          10000 non-null  float64\n",
            " 24  ccrndmou          10000 non-null  float64\n",
            " 25  cc_mou            10000 non-null  float64\n",
            " 26  inonemin          10000 non-null  float64\n",
            " 27  threeway          10000 non-null  float64\n",
            " 28  mou_cvce          10000 non-null  float64\n",
            " 29  mou_cdat          10000 non-null  float64\n",
            " 30  mou_rvce          10000 non-null  float64\n",
            " 31  owylis_vce        10000 non-null  float64\n",
            " 32  mouowylisv        10000 non-null  float64\n",
            " 33  iwylis_vce        10000 non-null  float64\n",
            " 34  mouiwylisv        10000 non-null  float64\n",
            " 35  peak_vce          10000 non-null  float64\n",
            " 36  peak_dat          10000 non-null  float64\n",
            " 37  mou_peav          10000 non-null  float64\n",
            " 38  mou_pead          10000 non-null  float64\n",
            " 39  opk_vce           10000 non-null  float64\n",
            " 40  opk_dat           10000 non-null  float64\n",
            " 41  mou_opkv          10000 non-null  float64\n",
            " 42  mou_opkd          10000 non-null  float64\n",
            " 43  drop_blk          10000 non-null  float64\n",
            " 44  attempt           10000 non-null  float64\n",
            " 45  complete          10000 non-null  float64\n",
            " 46  callfwdv          10000 non-null  float64\n",
            " 47  callwait          10000 non-null  float64\n",
            " 48  months            10000 non-null  int64  \n",
            " 49  uniqsubs          10000 non-null  int64  \n",
            " 50  actvsubs          10000 non-null  int64  \n",
            " 51  new_cell          10000 non-null  object \n",
            " 52  crclscod          10000 non-null  object \n",
            " 53  asl_flag          10000 non-null  object \n",
            " 54  totcalls          10000 non-null  int64  \n",
            " 55  totmou            10000 non-null  float64\n",
            " 56  totrev            10000 non-null  float64\n",
            " 57  adjrev            10000 non-null  float64\n",
            " 58  adjmou            10000 non-null  float64\n",
            " 59  adjqty            10000 non-null  int64  \n",
            " 60  avgrev            10000 non-null  float64\n",
            " 61  avgmou            10000 non-null  float64\n",
            " 62  avgqty            10000 non-null  float64\n",
            " 63  avg3mou           10000 non-null  int64  \n",
            " 64  avg3qty           10000 non-null  int64  \n",
            " 65  avg3rev           10000 non-null  int64  \n",
            " 66  avg6mou           8568 non-null   float64\n",
            " 67  avg6qty           8568 non-null   float64\n",
            " 68  avg6rev           8568 non-null   float64\n",
            " 69  prizm_social_one  9149 non-null   object \n",
            " 70  area              10000 non-null  object \n",
            " 71  dualband          10000 non-null  object \n",
            " 72  refurb_new        10000 non-null  object \n",
            " 73  hnd_price         9857 non-null   float64\n",
            " 74  phones            10000 non-null  float64\n",
            " 75  models            10000 non-null  float64\n",
            " 76  hnd_webcap        9330 non-null   object \n",
            " 77  truck             9719 non-null   float64\n",
            " 78  rv                9719 non-null   float64\n",
            " 79  ownrent           5785 non-null   object \n",
            " 80  lor               6312 non-null   float64\n",
            " 81  dwlltype          6069 non-null   object \n",
            " 82  marital           9719 non-null   object \n",
            " 83  adults            7014 non-null   float64\n",
            " 84  infobase          7324 non-null   object \n",
            " 85  income            6760 non-null   float64\n",
            " 86  numbcars          4202 non-null   float64\n",
            " 87  HHstatin          5109 non-null   object \n",
            " 88  dwllsize          5456 non-null   object \n",
            " 89  forgntvl          9719 non-null   float64\n",
            " 90  ethnic            9719 non-null   object \n",
            " 91  kid0_2            9719 non-null   object \n",
            " 92  kid3_5            9719 non-null   object \n",
            " 93  kid6_10           9719 non-null   object \n",
            " 94  kid11_15          9719 non-null   object \n",
            " 95  kid16_17          9719 non-null   object \n",
            " 96  creditcd          9719 non-null   object \n",
            " 97  eqpdays           10000 non-null  float64\n",
            "dtypes: float64(69), int64(8), object(21)\n",
            "memory usage: 7.6+ MB\n"
          ]
        }
      ]
    },
    {
      "cell_type": "code",
      "source": [
        "X_pred.shape"
      ],
      "metadata": {
        "colab": {
          "base_uri": "https://localhost:8080/"
        },
        "id": "hYJeG3wesH2i",
        "outputId": "38714057-21b9-4bb2-eb73-5bd21121401d"
      },
      "execution_count": null,
      "outputs": [
        {
          "output_type": "execute_result",
          "data": {
            "text/plain": [
              "(10000, 98)"
            ]
          },
          "metadata": {},
          "execution_count": 14
        }
      ]
    },
    {
      "cell_type": "code",
      "source": [
        "X_pred.isnull().values.any()"
      ],
      "metadata": {
        "colab": {
          "base_uri": "https://localhost:8080/"
        },
        "id": "Pzg6FdTmsKEg",
        "outputId": "96873efe-c37a-496b-a1ce-fec166e06b1e"
      },
      "execution_count": null,
      "outputs": [
        {
          "output_type": "execute_result",
          "data": {
            "text/plain": [
              "True"
            ]
          },
          "metadata": {},
          "execution_count": 15
        }
      ]
    },
    {
      "cell_type": "code",
      "source": [
        "X_pred.info()"
      ],
      "metadata": {
        "colab": {
          "base_uri": "https://localhost:8080/"
        },
        "id": "EbBzwiVrsLS9",
        "outputId": "3072ae94-a580-4e15-d799-4a51d21465ba"
      },
      "execution_count": null,
      "outputs": [
        {
          "output_type": "stream",
          "name": "stdout",
          "text": [
            "<class 'pandas.core.frame.DataFrame'>\n",
            "Int64Index: 10000 entries, 1090001 to 1100000\n",
            "Data columns (total 98 columns):\n",
            " #   Column            Non-Null Count  Dtype  \n",
            "---  ------            --------------  -----  \n",
            " 0   rev               9777 non-null   float64\n",
            " 1   mou               9777 non-null   float64\n",
            " 2   totmrc            9777 non-null   float64\n",
            " 3   da                9777 non-null   float64\n",
            " 4   ovrmou            9777 non-null   float64\n",
            " 5   ovrrev            9777 non-null   float64\n",
            " 6   vceovr            9777 non-null   float64\n",
            " 7   datovr            9777 non-null   float64\n",
            " 8   roam              9777 non-null   float64\n",
            " 9   change_mou        9704 non-null   float64\n",
            " 10  change_rev        9704 non-null   float64\n",
            " 11  drop_vce          10000 non-null  float64\n",
            " 12  drop_dat          10000 non-null  float64\n",
            " 13  blck_vce          10000 non-null  float64\n",
            " 14  blck_dat          10000 non-null  float64\n",
            " 15  unan_vce          10000 non-null  float64\n",
            " 16  unan_dat          10000 non-null  float64\n",
            " 17  plcd_vce          10000 non-null  float64\n",
            " 18  plcd_dat          10000 non-null  float64\n",
            " 19  recv_vce          10000 non-null  float64\n",
            " 20  recv_sms          10000 non-null  float64\n",
            " 21  comp_vce          10000 non-null  float64\n",
            " 22  comp_dat          10000 non-null  float64\n",
            " 23  custcare          10000 non-null  float64\n",
            " 24  ccrndmou          10000 non-null  float64\n",
            " 25  cc_mou            10000 non-null  float64\n",
            " 26  inonemin          10000 non-null  float64\n",
            " 27  threeway          10000 non-null  float64\n",
            " 28  mou_cvce          10000 non-null  float64\n",
            " 29  mou_cdat          10000 non-null  float64\n",
            " 30  mou_rvce          10000 non-null  float64\n",
            " 31  owylis_vce        10000 non-null  float64\n",
            " 32  mouowylisv        10000 non-null  float64\n",
            " 33  iwylis_vce        10000 non-null  float64\n",
            " 34  mouiwylisv        10000 non-null  float64\n",
            " 35  peak_vce          10000 non-null  float64\n",
            " 36  peak_dat          10000 non-null  float64\n",
            " 37  mou_peav          10000 non-null  float64\n",
            " 38  mou_pead          10000 non-null  float64\n",
            " 39  opk_vce           10000 non-null  float64\n",
            " 40  opk_dat           10000 non-null  float64\n",
            " 41  mou_opkv          10000 non-null  float64\n",
            " 42  mou_opkd          10000 non-null  float64\n",
            " 43  drop_blk          10000 non-null  float64\n",
            " 44  attempt           10000 non-null  float64\n",
            " 45  complete          10000 non-null  float64\n",
            " 46  callfwdv          10000 non-null  float64\n",
            " 47  callwait          10000 non-null  float64\n",
            " 48  months            10000 non-null  int64  \n",
            " 49  uniqsubs          10000 non-null  int64  \n",
            " 50  actvsubs          10000 non-null  int64  \n",
            " 51  new_cell          10000 non-null  object \n",
            " 52  crclscod          10000 non-null  object \n",
            " 53  asl_flag          10000 non-null  object \n",
            " 54  totcalls          10000 non-null  int64  \n",
            " 55  totmou            10000 non-null  float64\n",
            " 56  totrev            10000 non-null  float64\n",
            " 57  adjrev            10000 non-null  float64\n",
            " 58  adjmou            10000 non-null  float64\n",
            " 59  adjqty            10000 non-null  int64  \n",
            " 60  avgrev            10000 non-null  float64\n",
            " 61  avgmou            10000 non-null  float64\n",
            " 62  avgqty            10000 non-null  float64\n",
            " 63  avg3mou           10000 non-null  int64  \n",
            " 64  avg3qty           10000 non-null  int64  \n",
            " 65  avg3rev           10000 non-null  int64  \n",
            " 66  avg6mou           8568 non-null   float64\n",
            " 67  avg6qty           8568 non-null   float64\n",
            " 68  avg6rev           8568 non-null   float64\n",
            " 69  prizm_social_one  9149 non-null   object \n",
            " 70  area              10000 non-null  object \n",
            " 71  dualband          10000 non-null  object \n",
            " 72  refurb_new        10000 non-null  object \n",
            " 73  hnd_price         9857 non-null   float64\n",
            " 74  phones            10000 non-null  float64\n",
            " 75  models            10000 non-null  float64\n",
            " 76  hnd_webcap        9330 non-null   object \n",
            " 77  truck             9719 non-null   float64\n",
            " 78  rv                9719 non-null   float64\n",
            " 79  ownrent           5785 non-null   object \n",
            " 80  lor               6312 non-null   float64\n",
            " 81  dwlltype          6069 non-null   object \n",
            " 82  marital           9719 non-null   object \n",
            " 83  adults            7014 non-null   float64\n",
            " 84  infobase          7324 non-null   object \n",
            " 85  income            6760 non-null   float64\n",
            " 86  numbcars          4202 non-null   float64\n",
            " 87  HHstatin          5109 non-null   object \n",
            " 88  dwllsize          5456 non-null   object \n",
            " 89  forgntvl          9719 non-null   float64\n",
            " 90  ethnic            9719 non-null   object \n",
            " 91  kid0_2            9719 non-null   object \n",
            " 92  kid3_5            9719 non-null   object \n",
            " 93  kid6_10           9719 non-null   object \n",
            " 94  kid11_15          9719 non-null   object \n",
            " 95  kid16_17          9719 non-null   object \n",
            " 96  creditcd          9719 non-null   object \n",
            " 97  eqpdays           10000 non-null  float64\n",
            "dtypes: float64(69), int64(8), object(21)\n",
            "memory usage: 7.6+ MB\n"
          ]
        }
      ]
    },
    {
      "cell_type": "code",
      "source": [
        "X_pred.isnull().sum()"
      ],
      "metadata": {
        "colab": {
          "base_uri": "https://localhost:8080/"
        },
        "id": "8ww-o55csNxw",
        "outputId": "b1520b11-e3bb-475c-80c3-4bfb134990a9"
      },
      "execution_count": null,
      "outputs": [
        {
          "output_type": "execute_result",
          "data": {
            "text/plain": [
              "rev         223\n",
              "mou         223\n",
              "totmrc      223\n",
              "da          223\n",
              "ovrmou      223\n",
              "           ... \n",
              "kid6_10     281\n",
              "kid11_15    281\n",
              "kid16_17    281\n",
              "creditcd    281\n",
              "eqpdays       0\n",
              "Length: 98, dtype: int64"
            ]
          },
          "metadata": {},
          "execution_count": 17
        }
      ]
    },
    {
      "cell_type": "code",
      "source": [
        "X_pred['rev'].isnull().sum()"
      ],
      "metadata": {
        "colab": {
          "base_uri": "https://localhost:8080/"
        },
        "id": "D8erbUrisUgH",
        "outputId": "7186d93f-3955-4fae-ab47-6bd9dc3e039a"
      },
      "execution_count": null,
      "outputs": [
        {
          "output_type": "execute_result",
          "data": {
            "text/plain": [
              "223"
            ]
          },
          "metadata": {},
          "execution_count": 18
        }
      ]
    },
    {
      "cell_type": "code",
      "source": [
        "X_pred['rev'].max()"
      ],
      "metadata": {
        "colab": {
          "base_uri": "https://localhost:8080/"
        },
        "id": "EV_rqlqusYPL",
        "outputId": "19366101-b304-40aa-8063-f7aea9b3c9c8"
      },
      "execution_count": null,
      "outputs": [
        {
          "output_type": "execute_result",
          "data": {
            "text/plain": [
              "847.8175"
            ]
          },
          "metadata": {},
          "execution_count": 19
        }
      ]
    },
    {
      "cell_type": "code",
      "source": [
        "X_pred['rev'].min()"
      ],
      "metadata": {
        "colab": {
          "base_uri": "https://localhost:8080/"
        },
        "id": "YHUlM9aAsYyo",
        "outputId": "064a613c-58ea-491b-84f1-185075eb2339"
      },
      "execution_count": null,
      "outputs": [
        {
          "output_type": "execute_result",
          "data": {
            "text/plain": [
              "-6.1675"
            ]
          },
          "metadata": {},
          "execution_count": 20
        }
      ]
    },
    {
      "cell_type": "code",
      "source": [
        "X_pred['rev'] = np.where(X_pred['rev']<0, X_pred['rev'] == 0, X_pred['rev'])"
      ],
      "metadata": {
        "id": "3gZZXt0csbfq"
      },
      "execution_count": null,
      "outputs": []
    },
    {
      "cell_type": "code",
      "source": [
        "X_pred['rev'].min()"
      ],
      "metadata": {
        "colab": {
          "base_uri": "https://localhost:8080/"
        },
        "id": "NfafsLmQsfZT",
        "outputId": "1a2f8121-06fe-402b-d479-5d9d87fb0c08"
      },
      "execution_count": null,
      "outputs": [
        {
          "output_type": "execute_result",
          "data": {
            "text/plain": [
              "0.0"
            ]
          },
          "metadata": {},
          "execution_count": 22
        }
      ]
    },
    {
      "cell_type": "code",
      "source": [
        "X_pred['rev'].fillna(-999, inplace = True)"
      ],
      "metadata": {
        "id": "NXxNVqLdskIV"
      },
      "execution_count": null,
      "outputs": []
    },
    {
      "cell_type": "code",
      "source": [
        "X_pred['rev'].isnull().sum()"
      ],
      "metadata": {
        "colab": {
          "base_uri": "https://localhost:8080/"
        },
        "id": "4nhlPLKrsmLA",
        "outputId": "3a8b854b-2d53-419b-8b8f-668d30133513"
      },
      "execution_count": null,
      "outputs": [
        {
          "output_type": "execute_result",
          "data": {
            "text/plain": [
              "0"
            ]
          },
          "metadata": {},
          "execution_count": 24
        }
      ]
    },
    {
      "cell_type": "code",
      "source": [
        "X_pred['mou'].isnull().sum()"
      ],
      "metadata": {
        "colab": {
          "base_uri": "https://localhost:8080/"
        },
        "id": "14aYa4QHsp9r",
        "outputId": "94dc278f-9b97-4d4b-8182-05f0f5beeea7"
      },
      "execution_count": null,
      "outputs": [
        {
          "output_type": "execute_result",
          "data": {
            "text/plain": [
              "223"
            ]
          },
          "metadata": {},
          "execution_count": 25
        }
      ]
    },
    {
      "cell_type": "code",
      "source": [
        "X_pred['mou'].max()"
      ],
      "metadata": {
        "colab": {
          "base_uri": "https://localhost:8080/"
        },
        "id": "-ZQP1w9JssQu",
        "outputId": "39b3c525-64a2-442c-8d51-cdf45bcecfe3"
      },
      "execution_count": null,
      "outputs": [
        {
          "output_type": "execute_result",
          "data": {
            "text/plain": [
              "7667.75"
            ]
          },
          "metadata": {},
          "execution_count": 26
        }
      ]
    },
    {
      "cell_type": "code",
      "source": [
        "X_pred['mou'].min()"
      ],
      "metadata": {
        "colab": {
          "base_uri": "https://localhost:8080/"
        },
        "id": "bkHjK7Esss1i",
        "outputId": "0eb38e88-8d25-4e50-8be6-f50b93b01b15"
      },
      "execution_count": null,
      "outputs": [
        {
          "output_type": "execute_result",
          "data": {
            "text/plain": [
              "0.0"
            ]
          },
          "metadata": {},
          "execution_count": 27
        }
      ]
    },
    {
      "cell_type": "code",
      "source": [
        "X_pred['mou'].fillna(-999, inplace = True)"
      ],
      "metadata": {
        "id": "65NjAe-WsxP4"
      },
      "execution_count": null,
      "outputs": []
    },
    {
      "cell_type": "code",
      "source": [
        "X_pred['mou'].isnull().sum()"
      ],
      "metadata": {
        "colab": {
          "base_uri": "https://localhost:8080/"
        },
        "id": "9YCVb3fmsxDy",
        "outputId": "0c5c454f-101a-4c55-fd79-1cabdf03ac29"
      },
      "execution_count": null,
      "outputs": [
        {
          "output_type": "execute_result",
          "data": {
            "text/plain": [
              "0"
            ]
          },
          "metadata": {},
          "execution_count": 29
        }
      ]
    },
    {
      "cell_type": "code",
      "source": [
        "X_pred['totmrc'].max()"
      ],
      "metadata": {
        "colab": {
          "base_uri": "https://localhost:8080/"
        },
        "id": "l75R0-uCsw6G",
        "outputId": "48d8ac98-328b-4a88-951e-e0091dfc00f3"
      },
      "execution_count": null,
      "outputs": [
        {
          "output_type": "execute_result",
          "data": {
            "text/plain": [
              "399.99"
            ]
          },
          "metadata": {},
          "execution_count": 30
        }
      ]
    },
    {
      "cell_type": "code",
      "source": [
        "X_pred['totmrc'].min()"
      ],
      "metadata": {
        "colab": {
          "base_uri": "https://localhost:8080/"
        },
        "id": "3VB9iCYosw4a",
        "outputId": "f1a20662-6ba7-4c85-e046-051d2ae31d6a"
      },
      "execution_count": null,
      "outputs": [
        {
          "output_type": "execute_result",
          "data": {
            "text/plain": [
              "-6.1675"
            ]
          },
          "metadata": {},
          "execution_count": 31
        }
      ]
    },
    {
      "cell_type": "code",
      "source": [
        "X_pred['totmrc'] = np.where(X_pred['totmrc']<0, X_pred['totmrc'] == 0, X_pred['totmrc'])"
      ],
      "metadata": {
        "id": "fT_RNKqEswlz"
      },
      "execution_count": null,
      "outputs": []
    },
    {
      "cell_type": "code",
      "source": [
        "X_pred['totmrc'].isnull().sum()"
      ],
      "metadata": {
        "colab": {
          "base_uri": "https://localhost:8080/"
        },
        "id": "zauKoq75s-Ut",
        "outputId": "5ec357a3-4336-41cd-8717-79753a734d55"
      },
      "execution_count": null,
      "outputs": [
        {
          "output_type": "execute_result",
          "data": {
            "text/plain": [
              "223"
            ]
          },
          "metadata": {},
          "execution_count": 33
        }
      ]
    },
    {
      "cell_type": "code",
      "source": [
        "X_pred['totmrc'].fillna(-999, inplace = True)"
      ],
      "metadata": {
        "id": "mKF5y6Pzs-Pv"
      },
      "execution_count": null,
      "outputs": []
    },
    {
      "cell_type": "code",
      "source": [
        "X_pred['totmrc'].isnull().sum()"
      ],
      "metadata": {
        "colab": {
          "base_uri": "https://localhost:8080/"
        },
        "id": "xQUVoKkTs-Oe",
        "outputId": "17797044-5ff6-4724-9f09-4426238437f9"
      },
      "execution_count": null,
      "outputs": [
        {
          "output_type": "execute_result",
          "data": {
            "text/plain": [
              "0"
            ]
          },
          "metadata": {},
          "execution_count": 35
        }
      ]
    },
    {
      "cell_type": "code",
      "source": [
        "X_pred['da'].isnull().sum()"
      ],
      "metadata": {
        "colab": {
          "base_uri": "https://localhost:8080/"
        },
        "id": "FuKY7JdMtKY_",
        "outputId": "ff7b2b46-6422-43c5-cff2-4995f9727a44"
      },
      "execution_count": null,
      "outputs": [
        {
          "output_type": "execute_result",
          "data": {
            "text/plain": [
              "223"
            ]
          },
          "metadata": {},
          "execution_count": 36
        }
      ]
    },
    {
      "cell_type": "code",
      "source": [
        "X_pred['da'].max()"
      ],
      "metadata": {
        "colab": {
          "base_uri": "https://localhost:8080/"
        },
        "id": "B3zU__kOtMjY",
        "outputId": "4a3adb62-6b6e-4b67-ee90-2f59260bd24e"
      },
      "execution_count": null,
      "outputs": [
        {
          "output_type": "execute_result",
          "data": {
            "text/plain": [
              "38.8575"
            ]
          },
          "metadata": {},
          "execution_count": 37
        }
      ]
    },
    {
      "cell_type": "code",
      "source": [
        "X_pred['da'].min()"
      ],
      "metadata": {
        "colab": {
          "base_uri": "https://localhost:8080/"
        },
        "id": "9DCuNPBTtNOm",
        "outputId": "585d34bd-bd6c-49c0-d8ec-07ff645b78a0"
      },
      "execution_count": null,
      "outputs": [
        {
          "output_type": "execute_result",
          "data": {
            "text/plain": [
              "0.0"
            ]
          },
          "metadata": {},
          "execution_count": 38
        }
      ]
    },
    {
      "cell_type": "code",
      "source": [
        "X_pred['da'].fillna(-999, inplace = True)"
      ],
      "metadata": {
        "id": "MLR0s_O6tNKc"
      },
      "execution_count": null,
      "outputs": []
    },
    {
      "cell_type": "code",
      "source": [
        "X_pred['da'].isnull().sum()"
      ],
      "metadata": {
        "colab": {
          "base_uri": "https://localhost:8080/"
        },
        "id": "vM7DgnSDtNIl",
        "outputId": "34a81ede-adf4-4c7d-cb68-895b3298cbe7"
      },
      "execution_count": null,
      "outputs": [
        {
          "output_type": "execute_result",
          "data": {
            "text/plain": [
              "0"
            ]
          },
          "metadata": {},
          "execution_count": 40
        }
      ]
    },
    {
      "cell_type": "code",
      "source": [
        "X_pred['ovrmou'].isnull().sum()"
      ],
      "metadata": {
        "colab": {
          "base_uri": "https://localhost:8080/"
        },
        "id": "1M7FGzD6tsU8",
        "outputId": "0b21edce-8fbd-4b1d-903b-ce1915ae3c0d"
      },
      "execution_count": null,
      "outputs": [
        {
          "output_type": "execute_result",
          "data": {
            "text/plain": [
              "223"
            ]
          },
          "metadata": {},
          "execution_count": 41
        }
      ]
    },
    {
      "cell_type": "code",
      "source": [
        "X_pred['ovrmou'].max()"
      ],
      "metadata": {
        "colab": {
          "base_uri": "https://localhost:8080/"
        },
        "id": "x8hoZ4nltzug",
        "outputId": "8bce6f95-37ac-4e32-e6e7-eb8a53f797a0"
      },
      "execution_count": null,
      "outputs": [
        {
          "output_type": "execute_result",
          "data": {
            "text/plain": [
              "3472.25"
            ]
          },
          "metadata": {},
          "execution_count": 42
        }
      ]
    },
    {
      "cell_type": "code",
      "source": [
        "X_pred['ovrmou'].min()"
      ],
      "metadata": {
        "colab": {
          "base_uri": "https://localhost:8080/"
        },
        "id": "vNotOx--t1ks",
        "outputId": "f0466e37-e974-4d3c-f0ed-c1e014a2111b"
      },
      "execution_count": null,
      "outputs": [
        {
          "output_type": "execute_result",
          "data": {
            "text/plain": [
              "0.0"
            ]
          },
          "metadata": {},
          "execution_count": 43
        }
      ]
    },
    {
      "cell_type": "code",
      "source": [
        "X_pred['ovrmou'].fillna(-999, inplace = True)"
      ],
      "metadata": {
        "id": "KBEbTxoXt1h8"
      },
      "execution_count": null,
      "outputs": []
    },
    {
      "cell_type": "code",
      "source": [
        "X_pred['ovrmou'].isnull().sum()"
      ],
      "metadata": {
        "colab": {
          "base_uri": "https://localhost:8080/"
        },
        "id": "MJQs8JYtt1gD",
        "outputId": "95f7adae-c44c-4915-bbbb-0c7f8da10abe"
      },
      "execution_count": null,
      "outputs": [
        {
          "output_type": "execute_result",
          "data": {
            "text/plain": [
              "0"
            ]
          },
          "metadata": {},
          "execution_count": 45
        }
      ]
    },
    {
      "cell_type": "code",
      "source": [
        "X_pred['ovrrev'].max()"
      ],
      "metadata": {
        "colab": {
          "base_uri": "https://localhost:8080/"
        },
        "id": "EpmU2LNFt1dG",
        "outputId": "5712778b-4f47-42aa-c0cf-0b75459f7b97"
      },
      "execution_count": null,
      "outputs": [
        {
          "output_type": "execute_result",
          "data": {
            "text/plain": [
              "595.68"
            ]
          },
          "metadata": {},
          "execution_count": 46
        }
      ]
    },
    {
      "cell_type": "code",
      "source": [
        "X_pred['ovrrev'].min()"
      ],
      "metadata": {
        "colab": {
          "base_uri": "https://localhost:8080/"
        },
        "id": "2UsIgAVLt1aS",
        "outputId": "1da45a00-e412-44e6-8cfc-0f37d1a1444f"
      },
      "execution_count": null,
      "outputs": [
        {
          "output_type": "execute_result",
          "data": {
            "text/plain": [
              "0.0"
            ]
          },
          "metadata": {},
          "execution_count": 47
        }
      ]
    },
    {
      "cell_type": "code",
      "source": [
        "X_pred['ovrrev'].isnull().sum()"
      ],
      "metadata": {
        "colab": {
          "base_uri": "https://localhost:8080/"
        },
        "id": "IQbzjhs8t1Xe",
        "outputId": "ee821aac-e7c8-4d78-bb39-ffec72b46da1"
      },
      "execution_count": null,
      "outputs": [
        {
          "output_type": "execute_result",
          "data": {
            "text/plain": [
              "223"
            ]
          },
          "metadata": {},
          "execution_count": 48
        }
      ]
    },
    {
      "cell_type": "code",
      "source": [
        "X_pred['ovrrev'].fillna(-999, inplace = True)"
      ],
      "metadata": {
        "id": "fgUdk1Ust1Uq"
      },
      "execution_count": null,
      "outputs": []
    },
    {
      "cell_type": "code",
      "source": [
        "X_pred['ovrrev'].isnull().sum()"
      ],
      "metadata": {
        "colab": {
          "base_uri": "https://localhost:8080/"
        },
        "id": "NLxC5sU2t1Q-",
        "outputId": "b4bda8b5-c075-4f74-8dbd-e22627daae67"
      },
      "execution_count": null,
      "outputs": [
        {
          "output_type": "execute_result",
          "data": {
            "text/plain": [
              "0"
            ]
          },
          "metadata": {},
          "execution_count": 50
        }
      ]
    },
    {
      "cell_type": "code",
      "source": [
        "X_pred['vceovr'].isnull().sum()"
      ],
      "metadata": {
        "colab": {
          "base_uri": "https://localhost:8080/"
        },
        "id": "GJbDczNTt1Oz",
        "outputId": "c9c28d68-fdad-4594-86d1-03b221f4a31b"
      },
      "execution_count": null,
      "outputs": [
        {
          "output_type": "execute_result",
          "data": {
            "text/plain": [
              "223"
            ]
          },
          "metadata": {},
          "execution_count": 51
        }
      ]
    },
    {
      "cell_type": "code",
      "source": [
        "X_pred['vceovr'].max()"
      ],
      "metadata": {
        "colab": {
          "base_uri": "https://localhost:8080/"
        },
        "id": "Z3xtBVH3t1Jw",
        "outputId": "9bcae517-a21c-436e-82c0-19ef6a3b8e38"
      },
      "execution_count": null,
      "outputs": [
        {
          "output_type": "execute_result",
          "data": {
            "text/plain": [
              "594.9"
            ]
          },
          "metadata": {},
          "execution_count": 52
        }
      ]
    },
    {
      "cell_type": "code",
      "source": [
        "X_pred['vceovr'].min()"
      ],
      "metadata": {
        "colab": {
          "base_uri": "https://localhost:8080/"
        },
        "id": "xqFDtdq_t1HH",
        "outputId": "4fa43221-ba71-46e2-c87d-4c9481ea3875"
      },
      "execution_count": null,
      "outputs": [
        {
          "output_type": "execute_result",
          "data": {
            "text/plain": [
              "0.0"
            ]
          },
          "metadata": {},
          "execution_count": 53
        }
      ]
    },
    {
      "cell_type": "code",
      "source": [
        "X_pred['vceovr'].fillna(-999, inplace = True)"
      ],
      "metadata": {
        "id": "a8LOLoxmt1Eq"
      },
      "execution_count": null,
      "outputs": []
    },
    {
      "cell_type": "code",
      "source": [
        "X_pred['vceovr'].isnull().sum()"
      ],
      "metadata": {
        "colab": {
          "base_uri": "https://localhost:8080/"
        },
        "id": "vtopVk8Bt1Cs",
        "outputId": "76d2579f-1470-41da-eba1-b1ef5b9d98a9"
      },
      "execution_count": null,
      "outputs": [
        {
          "output_type": "execute_result",
          "data": {
            "text/plain": [
              "0"
            ]
          },
          "metadata": {},
          "execution_count": 55
        }
      ]
    },
    {
      "cell_type": "code",
      "source": [
        "X_pred['datovr'].max()"
      ],
      "metadata": {
        "colab": {
          "base_uri": "https://localhost:8080/"
        },
        "id": "TGy7nnEnt1Al",
        "outputId": "acbdf8cc-76e0-4114-9d9d-40fc3920e987"
      },
      "execution_count": null,
      "outputs": [
        {
          "output_type": "execute_result",
          "data": {
            "text/plain": [
              "242.8725"
            ]
          },
          "metadata": {},
          "execution_count": 56
        }
      ]
    },
    {
      "cell_type": "code",
      "source": [
        "X_pred['datovr'].min()"
      ],
      "metadata": {
        "colab": {
          "base_uri": "https://localhost:8080/"
        },
        "id": "kXwuVn_vt08_",
        "outputId": "753ed77f-bc57-4cc0-eea2-7efde191721c"
      },
      "execution_count": null,
      "outputs": [
        {
          "output_type": "execute_result",
          "data": {
            "text/plain": [
              "0.0"
            ]
          },
          "metadata": {},
          "execution_count": 57
        }
      ]
    },
    {
      "cell_type": "code",
      "source": [
        "X_pred['datovr'].isnull().sum()"
      ],
      "metadata": {
        "colab": {
          "base_uri": "https://localhost:8080/"
        },
        "id": "2sRsdjf4t05s",
        "outputId": "ea5d031b-256d-4590-9e51-17657cb7191c"
      },
      "execution_count": null,
      "outputs": [
        {
          "output_type": "execute_result",
          "data": {
            "text/plain": [
              "223"
            ]
          },
          "metadata": {},
          "execution_count": 58
        }
      ]
    },
    {
      "cell_type": "code",
      "source": [
        "X_pred['datovr'].fillna(-999, inplace = True)"
      ],
      "metadata": {
        "id": "skk1mAWQt02j"
      },
      "execution_count": null,
      "outputs": []
    },
    {
      "cell_type": "code",
      "source": [
        "X_pred['datovr'].isnull().sum()"
      ],
      "metadata": {
        "colab": {
          "base_uri": "https://localhost:8080/"
        },
        "id": "1Nj2sC0Et0pt",
        "outputId": "9b06cf62-6afe-4ff6-c2f0-0a45445ad6bd"
      },
      "execution_count": null,
      "outputs": [
        {
          "output_type": "execute_result",
          "data": {
            "text/plain": [
              "0"
            ]
          },
          "metadata": {},
          "execution_count": 60
        }
      ]
    },
    {
      "cell_type": "code",
      "source": [
        "X_pred['roam'].max()"
      ],
      "metadata": {
        "colab": {
          "base_uri": "https://localhost:8080/"
        },
        "id": "hbDVrhcbt0eY",
        "outputId": "498a2d0c-fd04-4472-b034-4f3aafb55aee"
      },
      "execution_count": null,
      "outputs": [
        {
          "output_type": "execute_result",
          "data": {
            "text/plain": [
              "159.85"
            ]
          },
          "metadata": {},
          "execution_count": 61
        }
      ]
    },
    {
      "cell_type": "code",
      "source": [
        "X_pred['roam'].min()"
      ],
      "metadata": {
        "colab": {
          "base_uri": "https://localhost:8080/"
        },
        "id": "bCSvcNZ1ud6L",
        "outputId": "73a53869-88e0-402d-f165-2b4fdbb55728"
      },
      "execution_count": null,
      "outputs": [
        {
          "output_type": "execute_result",
          "data": {
            "text/plain": [
              "0.0"
            ]
          },
          "metadata": {},
          "execution_count": 62
        }
      ]
    },
    {
      "cell_type": "code",
      "source": [
        "X_pred['roam'].isnull().sum()"
      ],
      "metadata": {
        "colab": {
          "base_uri": "https://localhost:8080/"
        },
        "id": "nOwbZdEBud3R",
        "outputId": "705ba81a-252f-4c5d-ae11-a00edbb6de45"
      },
      "execution_count": null,
      "outputs": [
        {
          "output_type": "execute_result",
          "data": {
            "text/plain": [
              "223"
            ]
          },
          "metadata": {},
          "execution_count": 63
        }
      ]
    },
    {
      "cell_type": "code",
      "source": [
        "X_pred['roam'].fillna(-999, inplace = True)"
      ],
      "metadata": {
        "id": "P08Mbatbudx4"
      },
      "execution_count": null,
      "outputs": []
    },
    {
      "cell_type": "code",
      "source": [
        "X_pred['roam'].isnull().sum()"
      ],
      "metadata": {
        "colab": {
          "base_uri": "https://localhost:8080/"
        },
        "id": "F8OWqJswudvk",
        "outputId": "a0ee8a39-481a-40f0-b25a-b423922947ea"
      },
      "execution_count": null,
      "outputs": [
        {
          "output_type": "execute_result",
          "data": {
            "text/plain": [
              "0"
            ]
          },
          "metadata": {},
          "execution_count": 65
        }
      ]
    },
    {
      "cell_type": "code",
      "source": [
        "X_pred['change_mou'].max()"
      ],
      "metadata": {
        "colab": {
          "base_uri": "https://localhost:8080/"
        },
        "id": "Kb0U--2NudsW",
        "outputId": "4cc51f19-f043-4399-af49-b20492a31170"
      },
      "execution_count": null,
      "outputs": [
        {
          "output_type": "execute_result",
          "data": {
            "text/plain": [
              "5192.25"
            ]
          },
          "metadata": {},
          "execution_count": 66
        }
      ]
    },
    {
      "cell_type": "code",
      "source": [
        "X_pred['change_mou'].min()"
      ],
      "metadata": {
        "colab": {
          "base_uri": "https://localhost:8080/"
        },
        "id": "X04LLNhVudqF",
        "outputId": "40a2c334-60e6-43af-b67f-bd1a7edd4591"
      },
      "execution_count": null,
      "outputs": [
        {
          "output_type": "execute_result",
          "data": {
            "text/plain": [
              "-3041.25"
            ]
          },
          "metadata": {},
          "execution_count": 67
        }
      ]
    },
    {
      "cell_type": "code",
      "source": [
        "X_pred['change_mou'].isnull().sum()"
      ],
      "metadata": {
        "colab": {
          "base_uri": "https://localhost:8080/"
        },
        "id": "8qhI9ln0udm4",
        "outputId": "f6183a67-c7fc-49df-f2aa-7d15b298b884"
      },
      "execution_count": null,
      "outputs": [
        {
          "output_type": "execute_result",
          "data": {
            "text/plain": [
              "296"
            ]
          },
          "metadata": {},
          "execution_count": 68
        }
      ]
    },
    {
      "cell_type": "code",
      "source": [
        "X_pred['change_mou'].fillna(-999, inplace = True)"
      ],
      "metadata": {
        "id": "LPUntTz7udkm"
      },
      "execution_count": null,
      "outputs": []
    },
    {
      "cell_type": "code",
      "source": [
        "X_pred['change_mou'].isnull().sum()"
      ],
      "metadata": {
        "colab": {
          "base_uri": "https://localhost:8080/"
        },
        "id": "zUyrYLRCu7he",
        "outputId": "fc3fadd2-f70c-459c-9134-2586825693e6"
      },
      "execution_count": null,
      "outputs": [
        {
          "output_type": "execute_result",
          "data": {
            "text/plain": [
              "0"
            ]
          },
          "metadata": {},
          "execution_count": 70
        }
      ]
    },
    {
      "cell_type": "code",
      "source": [
        "X_pred['change_rev'].isnull().sum()"
      ],
      "metadata": {
        "colab": {
          "base_uri": "https://localhost:8080/"
        },
        "id": "7ebcR219u7eu",
        "outputId": "8e9e31ab-163a-4bfd-c09c-54169fa8b8eb"
      },
      "execution_count": null,
      "outputs": [
        {
          "output_type": "execute_result",
          "data": {
            "text/plain": [
              "296"
            ]
          },
          "metadata": {},
          "execution_count": 71
        }
      ]
    },
    {
      "cell_type": "code",
      "source": [
        "X_pred['change_rev'].max()"
      ],
      "metadata": {
        "colab": {
          "base_uri": "https://localhost:8080/"
        },
        "id": "Y6oUO1_5u7cK",
        "outputId": "58f69229-a460-4644-f0a4-d535e015122c"
      },
      "execution_count": null,
      "outputs": [
        {
          "output_type": "execute_result",
          "data": {
            "text/plain": [
              "2483.4825"
            ]
          },
          "metadata": {},
          "execution_count": 72
        }
      ]
    },
    {
      "cell_type": "code",
      "source": [
        "X_pred['change_rev'].min()"
      ],
      "metadata": {
        "colab": {
          "base_uri": "https://localhost:8080/"
        },
        "id": "Ox5eO6lgu7Z9",
        "outputId": "3fede874-25e5-47be-d545-fdea9e31d221"
      },
      "execution_count": null,
      "outputs": [
        {
          "output_type": "execute_result",
          "data": {
            "text/plain": [
              "-458.9725"
            ]
          },
          "metadata": {},
          "execution_count": 73
        }
      ]
    },
    {
      "cell_type": "code",
      "source": [
        "X_pred['change_rev'].fillna(-999, inplace = True)"
      ],
      "metadata": {
        "id": "mluV7jOXu7XW"
      },
      "execution_count": null,
      "outputs": []
    },
    {
      "cell_type": "code",
      "source": [
        "X_pred['change_rev'].isnull().sum()"
      ],
      "metadata": {
        "colab": {
          "base_uri": "https://localhost:8080/"
        },
        "id": "hO79JILgu7Vj",
        "outputId": "07a03d10-123a-4bac-b33d-a7e42ce17fc9"
      },
      "execution_count": null,
      "outputs": [
        {
          "output_type": "execute_result",
          "data": {
            "text/plain": [
              "0"
            ]
          },
          "metadata": {},
          "execution_count": 75
        }
      ]
    },
    {
      "cell_type": "code",
      "source": [
        "X_pred['drop_vce'].min()"
      ],
      "metadata": {
        "colab": {
          "base_uri": "https://localhost:8080/"
        },
        "id": "wCracjNTu7Th",
        "outputId": "3aa34d16-6ff9-4e5f-bb34-57361e8a9c3a"
      },
      "execution_count": null,
      "outputs": [
        {
          "output_type": "execute_result",
          "data": {
            "text/plain": [
              "0.0"
            ]
          },
          "metadata": {},
          "execution_count": 76
        }
      ]
    },
    {
      "cell_type": "code",
      "source": [
        "X_pred['drop_vce'].max()"
      ],
      "metadata": {
        "colab": {
          "base_uri": "https://localhost:8080/"
        },
        "id": "RsxGaw13u7Qp",
        "outputId": "16068a50-b193-43ca-9fe4-3809e893e2d7"
      },
      "execution_count": null,
      "outputs": [
        {
          "output_type": "execute_result",
          "data": {
            "text/plain": [
              "208.6666667"
            ]
          },
          "metadata": {},
          "execution_count": 77
        }
      ]
    },
    {
      "cell_type": "code",
      "source": [
        "X_pred['drop_vce'].isnull().sum()"
      ],
      "metadata": {
        "colab": {
          "base_uri": "https://localhost:8080/"
        },
        "id": "nPRYMBIRu7OH",
        "outputId": "2fa05612-a66e-4fe3-a038-92515f72b5a3"
      },
      "execution_count": null,
      "outputs": [
        {
          "output_type": "execute_result",
          "data": {
            "text/plain": [
              "0"
            ]
          },
          "metadata": {},
          "execution_count": 78
        }
      ]
    },
    {
      "cell_type": "code",
      "source": [
        "X_pred['drop_dat'].max()"
      ],
      "metadata": {
        "colab": {
          "base_uri": "https://localhost:8080/"
        },
        "id": "wn_iM2Atu7Ln",
        "outputId": "38084d0c-b8bd-452a-c813-09114ea647f3"
      },
      "execution_count": null,
      "outputs": [
        {
          "output_type": "execute_result",
          "data": {
            "text/plain": [
              "58.0"
            ]
          },
          "metadata": {},
          "execution_count": 79
        }
      ]
    },
    {
      "cell_type": "code",
      "source": [
        "X_pred['drop_dat'].min()"
      ],
      "metadata": {
        "colab": {
          "base_uri": "https://localhost:8080/"
        },
        "id": "9hyUdiMRu7Hu",
        "outputId": "1489eb7a-d6ca-4063-bd91-a372b77c4c58"
      },
      "execution_count": null,
      "outputs": [
        {
          "output_type": "execute_result",
          "data": {
            "text/plain": [
              "0.0"
            ]
          },
          "metadata": {},
          "execution_count": 80
        }
      ]
    },
    {
      "cell_type": "code",
      "source": [
        "X_pred['blck_vce'].min()"
      ],
      "metadata": {
        "colab": {
          "base_uri": "https://localhost:8080/"
        },
        "id": "oB84aHxhu7Fu",
        "outputId": "996b29ad-c7a5-4f3b-9f52-0d122fe7d108"
      },
      "execution_count": null,
      "outputs": [
        {
          "output_type": "execute_result",
          "data": {
            "text/plain": [
              "0.0"
            ]
          },
          "metadata": {},
          "execution_count": 81
        }
      ]
    },
    {
      "cell_type": "code",
      "source": [
        "X_pred['blck_vce'].max()"
      ],
      "metadata": {
        "colab": {
          "base_uri": "https://localhost:8080/"
        },
        "id": "6Mhkl_u6vmiM",
        "outputId": "4bf425b4-d649-4f64-9691-83dda59017ac"
      },
      "execution_count": null,
      "outputs": [
        {
          "output_type": "execute_result",
          "data": {
            "text/plain": [
              "384.3333333"
            ]
          },
          "metadata": {},
          "execution_count": 82
        }
      ]
    },
    {
      "cell_type": "code",
      "source": [
        "X_pred['blck_dat'].max()"
      ],
      "metadata": {
        "colab": {
          "base_uri": "https://localhost:8080/"
        },
        "id": "pJ_JvAlhvmgG",
        "outputId": "be840df3-f3e1-44eb-a27f-accca982fd7e"
      },
      "execution_count": null,
      "outputs": [
        {
          "output_type": "execute_result",
          "data": {
            "text/plain": [
              "413.3333333"
            ]
          },
          "metadata": {},
          "execution_count": 83
        }
      ]
    },
    {
      "cell_type": "code",
      "source": [
        "X_pred['blck_dat'].min()"
      ],
      "metadata": {
        "colab": {
          "base_uri": "https://localhost:8080/"
        },
        "id": "LnDjju9jvmds",
        "outputId": "b3d95bfb-ae23-40df-aa5e-f81902240126"
      },
      "execution_count": null,
      "outputs": [
        {
          "output_type": "execute_result",
          "data": {
            "text/plain": [
              "0.0"
            ]
          },
          "metadata": {},
          "execution_count": 84
        }
      ]
    },
    {
      "cell_type": "code",
      "source": [
        "X_pred['unan_vce'].max()"
      ],
      "metadata": {
        "colab": {
          "base_uri": "https://localhost:8080/"
        },
        "id": "BDhUiDhXvmbq",
        "outputId": "d2b559f0-9824-40d0-ff5e-63f49d428313"
      },
      "execution_count": null,
      "outputs": [
        {
          "output_type": "execute_result",
          "data": {
            "text/plain": [
              "676.6666667"
            ]
          },
          "metadata": {},
          "execution_count": 85
        }
      ]
    },
    {
      "cell_type": "code",
      "source": [
        "X_pred['unan_vce'].min()"
      ],
      "metadata": {
        "colab": {
          "base_uri": "https://localhost:8080/"
        },
        "id": "q5u-KtcovmZt",
        "outputId": "1bead3d9-5a78-4e69-f472-413407ed5bff"
      },
      "execution_count": null,
      "outputs": [
        {
          "output_type": "execute_result",
          "data": {
            "text/plain": [
              "0.0"
            ]
          },
          "metadata": {},
          "execution_count": 86
        }
      ]
    },
    {
      "cell_type": "code",
      "source": [
        "X_pred['unan_dat'].max()"
      ],
      "metadata": {
        "colab": {
          "base_uri": "https://localhost:8080/"
        },
        "id": "ngDqj13vvmXq",
        "outputId": "3c509b18-ca38-4459-9773-d90e307a7780"
      },
      "execution_count": null,
      "outputs": [
        {
          "output_type": "execute_result",
          "data": {
            "text/plain": [
              "20.66666667"
            ]
          },
          "metadata": {},
          "execution_count": 87
        }
      ]
    },
    {
      "cell_type": "code",
      "source": [
        "X_pred['unan_dat'].min()"
      ],
      "metadata": {
        "colab": {
          "base_uri": "https://localhost:8080/"
        },
        "id": "KK7P78-tvmUl",
        "outputId": "5fa8e484-f3a7-400b-a42f-3ca27440f9f5"
      },
      "execution_count": null,
      "outputs": [
        {
          "output_type": "execute_result",
          "data": {
            "text/plain": [
              "0.0"
            ]
          },
          "metadata": {},
          "execution_count": 88
        }
      ]
    },
    {
      "cell_type": "code",
      "source": [
        "X_pred['plcd_vce'].max()"
      ],
      "metadata": {
        "colab": {
          "base_uri": "https://localhost:8080/"
        },
        "id": "Gj1Da6LwvmSi",
        "outputId": "7c98c0b8-0e79-4d76-8ba7-740ef291d4c7"
      },
      "execution_count": null,
      "outputs": [
        {
          "output_type": "execute_result",
          "data": {
            "text/plain": [
              "2136.0"
            ]
          },
          "metadata": {},
          "execution_count": 89
        }
      ]
    },
    {
      "cell_type": "code",
      "source": [
        "X_pred['plcd_vce'].min()"
      ],
      "metadata": {
        "colab": {
          "base_uri": "https://localhost:8080/"
        },
        "id": "uqihAUr8vmQT",
        "outputId": "473c7209-0f29-44b3-8981-358269dd339f"
      },
      "execution_count": null,
      "outputs": [
        {
          "output_type": "execute_result",
          "data": {
            "text/plain": [
              "0.0"
            ]
          },
          "metadata": {},
          "execution_count": 90
        }
      ]
    },
    {
      "cell_type": "code",
      "source": [
        "X_pred['plcd_dat'].max()"
      ],
      "metadata": {
        "colab": {
          "base_uri": "https://localhost:8080/"
        },
        "id": "Gfdork7OvmON",
        "outputId": "c283f1f8-3fac-4968-bbf0-0ae710ee799d"
      },
      "execution_count": null,
      "outputs": [
        {
          "output_type": "execute_result",
          "data": {
            "text/plain": [
              "547.3333333"
            ]
          },
          "metadata": {},
          "execution_count": 91
        }
      ]
    },
    {
      "cell_type": "code",
      "source": [
        "X_pred['plcd_dat'].min()"
      ],
      "metadata": {
        "colab": {
          "base_uri": "https://localhost:8080/"
        },
        "id": "gAEnnprJvmKv",
        "outputId": "765bb6ae-6033-4f63-8bc6-1411f78af60d"
      },
      "execution_count": null,
      "outputs": [
        {
          "output_type": "execute_result",
          "data": {
            "text/plain": [
              "0.0"
            ]
          },
          "metadata": {},
          "execution_count": 92
        }
      ]
    },
    {
      "cell_type": "code",
      "source": [
        "X_pred['recv_vce'].max()"
      ],
      "metadata": {
        "colab": {
          "base_uri": "https://localhost:8080/"
        },
        "id": "3wuKQsRIvmHN",
        "outputId": "fa38470a-217d-459f-e318-92de749b3a6c"
      },
      "execution_count": null,
      "outputs": [
        {
          "output_type": "execute_result",
          "data": {
            "text/plain": [
              "1589.0"
            ]
          },
          "metadata": {},
          "execution_count": 93
        }
      ]
    },
    {
      "cell_type": "code",
      "source": [
        "X_pred['recv_vce'].min()"
      ],
      "metadata": {
        "colab": {
          "base_uri": "https://localhost:8080/"
        },
        "id": "lHgGPDPqvmFK",
        "outputId": "aa983311-ee68-4320-8ba9-61cedbe1b67e"
      },
      "execution_count": null,
      "outputs": [
        {
          "output_type": "execute_result",
          "data": {
            "text/plain": [
              "0.0"
            ]
          },
          "metadata": {},
          "execution_count": 94
        }
      ]
    },
    {
      "cell_type": "code",
      "source": [
        "cols_a_revisar = ['recv_sms', 'comp_vce', 'comp_dat',\n",
        "                  'custcare', 'ccrndmou', 'cc_mou', 'inonemin', 'threeway',\n",
        "                  'threeway', 'mou_cvce', 'mou_cdat', 'mou_rvce', 'owylis_vce',\n",
        "                  'mouowylisv']\n"
      ],
      "metadata": {
        "id": "trDFQkxwwIA0"
      },
      "execution_count": null,
      "outputs": []
    },
    {
      "cell_type": "code",
      "source": [
        "for i in cols_a_revisar:\n",
        "  print(X_pred.hist(i, bins = 5))"
      ],
      "metadata": {
        "colab": {
          "base_uri": "https://localhost:8080/",
          "height": 1000
        },
        "id": "8BOqS51hwH9A",
        "outputId": "cc78f732-7c33-4ffb-b377-f313cc5108f2"
      },
      "execution_count": null,
      "outputs": [
        {
          "output_type": "stream",
          "name": "stdout",
          "text": [
            "[[<Axes: title={'center': 'recv_sms'}>]]\n",
            "[[<Axes: title={'center': 'comp_vce'}>]]\n",
            "[[<Axes: title={'center': 'comp_dat'}>]]\n",
            "[[<Axes: title={'center': 'custcare'}>]]\n",
            "[[<Axes: title={'center': 'ccrndmou'}>]]\n",
            "[[<Axes: title={'center': 'cc_mou'}>]]\n",
            "[[<Axes: title={'center': 'inonemin'}>]]\n",
            "[[<Axes: title={'center': 'threeway'}>]]\n",
            "[[<Axes: title={'center': 'threeway'}>]]\n",
            "[[<Axes: title={'center': 'mou_cvce'}>]]\n",
            "[[<Axes: title={'center': 'mou_cdat'}>]]\n",
            "[[<Axes: title={'center': 'mou_rvce'}>]]\n",
            "[[<Axes: title={'center': 'owylis_vce'}>]]\n",
            "[[<Axes: title={'center': 'mouowylisv'}>]]\n"
          ]
        },
        {
          "output_type": "display_data",
          "data": {
            "text/plain": [
              "<Figure size 640x480 with 1 Axes>"
            ],
            "image/png": "[encoded data removed]"
          },
          "metadata": {}
        },
        {
          "output_type": "display_data",
          "data": {
            "text/plain": [
              "<Figure size 640x480 with 1 Axes>"
            ],
            "image/png": "[encoded data removed]"
          },
          "metadata": {}
        },
        {
          "output_type": "display_data",
          "data": {
            "text/plain": [
              "<Figure size 640x480 with 1 Axes>"
            ],
            "image/png": "[encoded data removed]"
          },
          "metadata": {}
        },
        {
          "output_type": "display_data",
          "data": {
            "text/plain": [
              "<Figure size 640x480 with 1 Axes>"
            ],
            "image/png": "[encoded data removed]"
          },
          "metadata": {}
        },
        {
          "output_type": "display_data",
          "data": {
            "text/plain": [
              "<Figure size 640x480 with 1 Axes>"
            ],
            "image/png": "[encoded data removed]"
          },
          "metadata": {}
        },
        {
          "output_type": "display_data",
          "data": {
            "text/plain": [
              "<Figure size 640x480 with 1 Axes>"
            ],
            "image/png": "[encoded data removed]"
          },
          "metadata": {}
        },
        {
          "output_type": "display_data",
          "data": {
            "text/plain": [
              "<Figure size 640x480 with 1 Axes>"
            ],
            "image/png": "[encoded data removed]"
          },
          "metadata": {}
        },
        {
          "output_type": "display_data",
          "data": {
            "text/plain": [
              "<Figure size 640x480 with 1 Axes>"
            ],
            "image/png": "[encoded data removed]"
          },
          "metadata": {}
        },
        {
          "output_type": "display_data",
          "data": {
            "text/plain": [
              "<Figure size 640x480 with 1 Axes>"
            ],
            "image/png": "[encoded data removed]"
          },
          "metadata": {}
        },
        {
          "output_type": "display_data",
          "data": {
            "text/plain": [
              "<Figure size 640x480 with 1 Axes>"
            ],
            "image/png": "[encoded data removed]"
          },
          "metadata": {}
        },
        {
          "output_type": "display_data",
          "data": {
            "text/plain": [
              "<Figure size 640x480 with 1 Axes>"
            ],
            "image/png": "[encoded data removed]"
          },
          "metadata": {}
        },
        {
          "output_type": "display_data",
          "data": {
            "text/plain": [
              "<Figure size 640x480 with 1 Axes>"
            ],
            "image/png": "[encoded data removed]"
          },
          "metadata": {}
        },
        {
          "output_type": "display_data",
          "data": {
            "text/plain": [
              "<Figure size 640x480 with 1 Axes>"
            ],
            "image/png": "[encoded data removed]"
          },
          "metadata": {}
        },
        {
          "output_type": "display_data",
          "data": {
            "text/plain": [
              "<Figure size 640x480 with 1 Axes>"
            ],
            "image/png": "[encoded data removed]"
          },
          "metadata": {}
        }
      ]
    },
    {
      "cell_type": "code",
      "source": [
        "X_pred['new_cell'].value_counts()"
      ],
      "metadata": {
        "colab": {
          "base_uri": "https://localhost:8080/"
        },
        "id": "HJF0Y47RwH65",
        "outputId": "b244f12a-a92b-4573-df03-b55b4893e2c6"
      },
      "execution_count": null,
      "outputs": [
        {
          "output_type": "execute_result",
          "data": {
            "text/plain": [
              "U    8102\n",
              "Y    1187\n",
              "N     711\n",
              "Name: new_cell, dtype: int64"
            ]
          },
          "metadata": {},
          "execution_count": 97
        }
      ]
    },
    {
      "cell_type": "code",
      "source": [
        "X_pred.isnull().sum()"
      ],
      "metadata": {
        "colab": {
          "base_uri": "https://localhost:8080/"
        },
        "id": "sXYkSv7nwH4X",
        "outputId": "167a7d38-d408-4083-ced3-e3da0e5eabbf"
      },
      "execution_count": null,
      "outputs": [
        {
          "output_type": "execute_result",
          "data": {
            "text/plain": [
              "rev           0\n",
              "mou           0\n",
              "totmrc        0\n",
              "da            0\n",
              "ovrmou        0\n",
              "           ... \n",
              "kid6_10     281\n",
              "kid11_15    281\n",
              "kid16_17    281\n",
              "creditcd    281\n",
              "eqpdays       0\n",
              "Length: 98, dtype: int64"
            ]
          },
          "metadata": {},
          "execution_count": 98
        }
      ]
    },
    {
      "cell_type": "code",
      "source": [
        "X_pred.hist('avg6mou')"
      ],
      "metadata": {
        "colab": {
          "base_uri": "https://localhost:8080/",
          "height": 469
        },
        "id": "V4nTQCbawH2e",
        "outputId": "728d3045-200b-4676-f0c4-f79e76704b5e"
      },
      "execution_count": null,
      "outputs": [
        {
          "output_type": "execute_result",
          "data": {
            "text/plain": [
              "array([[<Axes: title={'center': 'avg6mou'}>]], dtype=object)"
            ]
          },
          "metadata": {},
          "execution_count": 99
        },
        {
          "output_type": "display_data",
          "data": {
            "text/plain": [
              "<Figure size 640x480 with 1 Axes>"
            ],
            "image/png": "[encoded data removed]"
          },
          "metadata": {}
        }
      ]
    },
    {
      "cell_type": "code",
      "source": [
        "X_pred['avg6mou'].isnull().sum()"
      ],
      "metadata": {
        "colab": {
          "base_uri": "https://localhost:8080/"
        },
        "id": "3RPdre_nwH0Y",
        "outputId": "625e1814-e25d-4b90-a7fc-fff17ea568b5"
      },
      "execution_count": null,
      "outputs": [
        {
          "output_type": "execute_result",
          "data": {
            "text/plain": [
              "1432"
            ]
          },
          "metadata": {},
          "execution_count": 100
        }
      ]
    },
    {
      "cell_type": "code",
      "source": [
        "X_pred['avg6mou'].fillna(-999, inplace=True)"
      ],
      "metadata": {
        "id": "NYyE4gUawHxX"
      },
      "execution_count": null,
      "outputs": []
    },
    {
      "cell_type": "code",
      "source": [
        "X_pred['avg6mou'].isnull().sum()"
      ],
      "metadata": {
        "colab": {
          "base_uri": "https://localhost:8080/"
        },
        "id": "BDq7rSL3wHug",
        "outputId": "ef24dd2d-cddf-4bac-9b9f-c0fb86845d66"
      },
      "execution_count": null,
      "outputs": [
        {
          "output_type": "execute_result",
          "data": {
            "text/plain": [
              "0"
            ]
          },
          "metadata": {},
          "execution_count": 102
        }
      ]
    },
    {
      "cell_type": "code",
      "source": [
        "X_pred.hist('avg6qty')"
      ],
      "metadata": {
        "colab": {
          "base_uri": "https://localhost:8080/",
          "height": 469
        },
        "id": "5ox9YXJmwHsY",
        "outputId": "de991c8b-4f4b-489b-a1a5-83f665fb96c4"
      },
      "execution_count": null,
      "outputs": [
        {
          "output_type": "execute_result",
          "data": {
            "text/plain": [
              "array([[<Axes: title={'center': 'avg6qty'}>]], dtype=object)"
            ]
          },
          "metadata": {},
          "execution_count": 103
        },
        {
          "output_type": "display_data",
          "data": {
            "text/plain": [
              "<Figure size 640x480 with 1 Axes>"
            ],
            "image/png": "[encoded data removed]"
          },
          "metadata": {}
        }
      ]
    },
    {
      "cell_type": "code",
      "source": [
        "X_pred['avg6qty'].isnull().sum()"
      ],
      "metadata": {
        "colab": {
          "base_uri": "https://localhost:8080/"
        },
        "id": "Y3wlezTRwHqE",
        "outputId": "1f4721cd-09d8-451a-e1bf-47f2193d941c"
      },
      "execution_count": null,
      "outputs": [
        {
          "output_type": "execute_result",
          "data": {
            "text/plain": [
              "1432"
            ]
          },
          "metadata": {},
          "execution_count": 104
        }
      ]
    },
    {
      "cell_type": "code",
      "source": [
        "X_pred['avg6qty'].fillna(-999, inplace=True)"
      ],
      "metadata": {
        "id": "rvQ8hypjwHns"
      },
      "execution_count": null,
      "outputs": []
    },
    {
      "cell_type": "code",
      "source": [
        "X_pred['avg6rev'].isnull().sum()"
      ],
      "metadata": {
        "colab": {
          "base_uri": "https://localhost:8080/"
        },
        "id": "oQ0sOmGwwHid",
        "outputId": "56c4c313-b130-4261-a94f-b5a957f89bb8"
      },
      "execution_count": null,
      "outputs": [
        {
          "output_type": "execute_result",
          "data": {
            "text/plain": [
              "1432"
            ]
          },
          "metadata": {},
          "execution_count": 106
        }
      ]
    },
    {
      "cell_type": "code",
      "source": [
        "X_pred.hist('avg6rev')"
      ],
      "metadata": {
        "colab": {
          "base_uri": "https://localhost:8080/",
          "height": 469
        },
        "id": "Ogz9tJUiwHgu",
        "outputId": "f4edf4aa-52c8-4b51-a117-978c5f7e5e12"
      },
      "execution_count": null,
      "outputs": [
        {
          "output_type": "execute_result",
          "data": {
            "text/plain": [
              "array([[<Axes: title={'center': 'avg6rev'}>]], dtype=object)"
            ]
          },
          "metadata": {},
          "execution_count": 107
        },
        {
          "output_type": "display_data",
          "data": {
            "text/plain": [
              "<Figure size 640x480 with 1 Axes>"
            ],
            "image/png": "[encoded data removed]"
          },
          "metadata": {}
        }
      ]
    },
    {
      "cell_type": "code",
      "source": [
        "X_pred['avg6rev'].isnull().sum()"
      ],
      "metadata": {
        "colab": {
          "base_uri": "https://localhost:8080/"
        },
        "id": "dp3EtfQNwvlv",
        "outputId": "d386b204-e9b8-4933-f10b-609c312e923a"
      },
      "execution_count": null,
      "outputs": [
        {
          "output_type": "execute_result",
          "data": {
            "text/plain": [
              "1432"
            ]
          },
          "metadata": {},
          "execution_count": 108
        }
      ]
    },
    {
      "cell_type": "code",
      "source": [
        "X_pred['avg6rev'].fillna(-999, inplace=True)"
      ],
      "metadata": {
        "id": "ezxvut-owvjk"
      },
      "execution_count": null,
      "outputs": []
    },
    {
      "cell_type": "code",
      "source": [
        "X_pred['avg6rev'].isnull().sum()"
      ],
      "metadata": {
        "colab": {
          "base_uri": "https://localhost:8080/"
        },
        "id": "XY_engWIwvhM",
        "outputId": "78d8fe35-3fe4-44a6-de2f-cdf159ce1f3e"
      },
      "execution_count": null,
      "outputs": [
        {
          "output_type": "execute_result",
          "data": {
            "text/plain": [
              "0"
            ]
          },
          "metadata": {},
          "execution_count": 110
        }
      ]
    },
    {
      "cell_type": "code",
      "source": [
        "X_pred['prizm_social_one'].value_counts()"
      ],
      "metadata": {
        "colab": {
          "base_uri": "https://localhost:8080/"
        },
        "id": "GN1Pb23XwvfY",
        "outputId": "bd26b0d4-69f7-47fa-9fdc-f95bc6b0dc07"
      },
      "execution_count": null,
      "outputs": [
        {
          "output_type": "execute_result",
          "data": {
            "text/plain": [
              "S    2894\n",
              "U    2678\n",
              "C    1774\n",
              "T    1284\n",
              "R     519\n",
              "Name: prizm_social_one, dtype: int64"
            ]
          },
          "metadata": {},
          "execution_count": 111
        }
      ]
    },
    {
      "cell_type": "code",
      "source": [
        "X_pred['prizm_social_one'].isnull().sum()"
      ],
      "metadata": {
        "colab": {
          "base_uri": "https://localhost:8080/"
        },
        "id": "4bxDzvrewvdP",
        "outputId": "adf88f46-969a-4617-aab4-250cfd84c98f"
      },
      "execution_count": null,
      "outputs": [
        {
          "output_type": "execute_result",
          "data": {
            "text/plain": [
              "851"
            ]
          },
          "metadata": {},
          "execution_count": 112
        }
      ]
    },
    {
      "cell_type": "code",
      "source": [
        "X_pred['prizm_social_one'].fillna('S', inplace=True)"
      ],
      "metadata": {
        "id": "HDeMlPISwvZf"
      },
      "execution_count": null,
      "outputs": []
    },
    {
      "cell_type": "code",
      "source": [
        "X_pred['prizm_social_one'].value_counts()"
      ],
      "metadata": {
        "colab": {
          "base_uri": "https://localhost:8080/"
        },
        "id": "fNJpgxCZwvXp",
        "outputId": "79a8a29e-92cb-4c81-f0ca-a452e8bec188"
      },
      "execution_count": null,
      "outputs": [
        {
          "output_type": "execute_result",
          "data": {
            "text/plain": [
              "S    3745\n",
              "U    2678\n",
              "C    1774\n",
              "T    1284\n",
              "R     519\n",
              "Name: prizm_social_one, dtype: int64"
            ]
          },
          "metadata": {},
          "execution_count": 114
        }
      ]
    },
    {
      "cell_type": "code",
      "source": [
        "X_pred['prizm_social_one'].isnull().sum()"
      ],
      "metadata": {
        "colab": {
          "base_uri": "https://localhost:8080/"
        },
        "id": "0FiPp2iQwvVl",
        "outputId": "aaa595fe-2a27-4417-c75b-581a4ff876dc"
      },
      "execution_count": null,
      "outputs": [
        {
          "output_type": "execute_result",
          "data": {
            "text/plain": [
              "0"
            ]
          },
          "metadata": {},
          "execution_count": 115
        }
      ]
    },
    {
      "cell_type": "code",
      "source": [
        "X_pred['area'].isnull().sum()"
      ],
      "metadata": {
        "colab": {
          "base_uri": "https://localhost:8080/"
        },
        "id": "eJUvZUa5wvS_",
        "outputId": "f43f5b22-8474-4221-88c0-f5721a4652d0"
      },
      "execution_count": null,
      "outputs": [
        {
          "output_type": "execute_result",
          "data": {
            "text/plain": [
              "0"
            ]
          },
          "metadata": {},
          "execution_count": 116
        }
      ]
    },
    {
      "cell_type": "code",
      "source": [
        "X_pred['area'].value_counts()"
      ],
      "metadata": {
        "colab": {
          "base_uri": "https://localhost:8080/"
        },
        "id": "3i9phYHYwvQb",
        "outputId": "e480e0ba-f735-457f-efc7-fdf8cf1b8a54"
      },
      "execution_count": null,
      "outputs": [
        {
          "output_type": "execute_result",
          "data": {
            "text/plain": [
              "LOS ANGELES AREA                 2080\n",
              "SOUTHWEST AREA                   1181\n",
              "NEW YORK CITY AREA                805\n",
              "DC/MARYLAND/VIRGINIA AREA         643\n",
              "ATLANTIC SOUTH AREA               606\n",
              "MIDWEST AREA                      455\n",
              "HOUSTON AREA                      454\n",
              "CALIFORNIA NORTH AREA             437\n",
              "CHICAGO AREA                      379\n",
              "GREAT LAKES AREA                  373\n",
              "NEW ENGLAND AREA                  362\n",
              "NORTH FLORIDA AREA                354\n",
              "CENTRAL/SOUTH TEXAS AREA          337\n",
              "DALLAS AREA                       320\n",
              "OHIO AREA                         320\n",
              "NORTHWEST/ROCKY MOUNTAIN AREA     315\n",
              "SOUTH FLORIDA AREA                213\n",
              "TENNESSEE AREA                    183\n",
              "PHILADELPHIA AREA                 183\n",
              "Name: area, dtype: int64"
            ]
          },
          "metadata": {},
          "execution_count": 117
        }
      ]
    },
    {
      "cell_type": "code",
      "source": [
        "X_pred['area'].fillna('NEW YORK CITY AREA', inplace=True)"
      ],
      "metadata": {
        "id": "CutdbW90wvOH"
      },
      "execution_count": null,
      "outputs": []
    },
    {
      "cell_type": "code",
      "source": [
        "X_pred['area'].value_counts()"
      ],
      "metadata": {
        "colab": {
          "base_uri": "https://localhost:8080/"
        },
        "id": "ArWprlB1wvKR",
        "outputId": "68366cd1-9715-43f3-c7ff-93a4ab4d1e8c"
      },
      "execution_count": null,
      "outputs": [
        {
          "output_type": "execute_result",
          "data": {
            "text/plain": [
              "LOS ANGELES AREA                 2080\n",
              "SOUTHWEST AREA                   1181\n",
              "NEW YORK CITY AREA                805\n",
              "DC/MARYLAND/VIRGINIA AREA         643\n",
              "ATLANTIC SOUTH AREA               606\n",
              "MIDWEST AREA                      455\n",
              "HOUSTON AREA                      454\n",
              "CALIFORNIA NORTH AREA             437\n",
              "CHICAGO AREA                      379\n",
              "GREAT LAKES AREA                  373\n",
              "NEW ENGLAND AREA                  362\n",
              "NORTH FLORIDA AREA                354\n",
              "CENTRAL/SOUTH TEXAS AREA          337\n",
              "DALLAS AREA                       320\n",
              "OHIO AREA                         320\n",
              "NORTHWEST/ROCKY MOUNTAIN AREA     315\n",
              "SOUTH FLORIDA AREA                213\n",
              "TENNESSEE AREA                    183\n",
              "PHILADELPHIA AREA                 183\n",
              "Name: area, dtype: int64"
            ]
          },
          "metadata": {},
          "execution_count": 119
        }
      ]
    },
    {
      "cell_type": "code",
      "source": [
        "X_pred['area'].isnull().sum()"
      ],
      "metadata": {
        "colab": {
          "base_uri": "https://localhost:8080/"
        },
        "id": "DMHxCArmwvIb",
        "outputId": "c20bd3f6-3462-4795-869a-7baea720c28d"
      },
      "execution_count": null,
      "outputs": [
        {
          "output_type": "execute_result",
          "data": {
            "text/plain": [
              "0"
            ]
          },
          "metadata": {},
          "execution_count": 120
        }
      ]
    },
    {
      "cell_type": "code",
      "source": [
        "city_areas = {\n",
        "    'NEW YORK CITY AREA': 'Northeast',\n",
        "    'DC/MARYLAND/VIRGINIA AREA': 'Mid-Atlantic',\n",
        "    'MIDWEST AREA': 'Midwest',\n",
        "    'ATLANTIC SOUTH AREA': 'Southeast',\n",
        "    'CALIFORNIA NORTH AREA': 'West',\n",
        "    'DALLAS AREA': 'Southwest',\n",
        "    'NEW ENGLAND AREA': 'Northeast',\n",
        "    'SOUTHWEST AREA': 'Southwest',\n",
        "    'CHICAGO AREA': 'Midwest',\n",
        "    'LOS ANGELES AREA': 'West',\n",
        "    'GREAT LAKES AREA': 'Midwest',\n",
        "    'OHIO AREA': 'Midwest',\n",
        "    'NORTHWEST/ROCKY MOUNTAIN AREA': 'West',\n",
        "    'NORTH FLORIDA AREA': 'Southeast',\n",
        "    'CENTRAL/SOUTH TEXAS AREA': 'Southwest',\n",
        "    'HOUSTON AREA': 'Southwest',\n",
        "    'SOUTH FLORIDA AREA': 'Southeast',\n",
        "    'TENNESSEE AREA': 'Southeast',\n",
        "    'PHILADELPHIA AREA': 'Mid-Atlantic'\n",
        "}"
      ],
      "metadata": {
        "id": "W8XK_KUExMzv"
      },
      "execution_count": null,
      "outputs": []
    },
    {
      "cell_type": "code",
      "source": [
        "X_pred['area'] = X_pred['area'].map(city_areas)"
      ],
      "metadata": {
        "id": "vqgXeymexMxG"
      },
      "execution_count": null,
      "outputs": []
    },
    {
      "cell_type": "code",
      "source": [
        "X_pred['area'].value_counts()"
      ],
      "metadata": {
        "colab": {
          "base_uri": "https://localhost:8080/"
        },
        "id": "B6Xu-LE4xMu-",
        "outputId": "351dec77-bcb7-415f-fbe7-2d92a36982bc"
      },
      "execution_count": null,
      "outputs": [
        {
          "output_type": "execute_result",
          "data": {
            "text/plain": [
              "West            2832\n",
              "Southwest       2292\n",
              "Midwest         1527\n",
              "Southeast       1356\n",
              "Northeast       1167\n",
              "Mid-Atlantic     826\n",
              "Name: area, dtype: int64"
            ]
          },
          "metadata": {},
          "execution_count": 123
        }
      ]
    },
    {
      "cell_type": "code",
      "source": [
        "X_pred['dualband'].value_counts()"
      ],
      "metadata": {
        "colab": {
          "base_uri": "https://localhost:8080/"
        },
        "id": "3JhJ0WJ8xMsH",
        "outputId": "23c957ad-6e7d-4b0d-cf68-d65752603d31"
      },
      "execution_count": null,
      "outputs": [
        {
          "output_type": "execute_result",
          "data": {
            "text/plain": [
              "Y    6288\n",
              "N    2778\n",
              "T     903\n",
              "U      31\n",
              "Name: dualband, dtype: int64"
            ]
          },
          "metadata": {},
          "execution_count": 124
        }
      ]
    },
    {
      "cell_type": "code",
      "source": [
        "X_pred['dualband'].isnull().sum()"
      ],
      "metadata": {
        "colab": {
          "base_uri": "https://localhost:8080/"
        },
        "id": "jDtgsaTMxMpg",
        "outputId": "fdfdce9c-9fbe-4272-9e69-9ab26c8911c6"
      },
      "execution_count": null,
      "outputs": [
        {
          "output_type": "execute_result",
          "data": {
            "text/plain": [
              "0"
            ]
          },
          "metadata": {},
          "execution_count": 125
        }
      ]
    },
    {
      "cell_type": "code",
      "source": [
        "X_pred['dualband'].fillna('Y', inplace=True)"
      ],
      "metadata": {
        "id": "ovdqzYNKxMm4"
      },
      "execution_count": null,
      "outputs": []
    },
    {
      "cell_type": "code",
      "source": [
        "X_pred['dualband'].isnull().sum()"
      ],
      "metadata": {
        "colab": {
          "base_uri": "https://localhost:8080/"
        },
        "id": "WrNybZFrxMkl",
        "outputId": "23f7c3e9-d22b-4423-bc79-7096fdf6227a"
      },
      "execution_count": null,
      "outputs": [
        {
          "output_type": "execute_result",
          "data": {
            "text/plain": [
              "0"
            ]
          },
          "metadata": {},
          "execution_count": 127
        }
      ]
    },
    {
      "cell_type": "code",
      "source": [
        "X_pred['refurb_new'].value_counts()"
      ],
      "metadata": {
        "colab": {
          "base_uri": "https://localhost:8080/"
        },
        "id": "PD0dTdEpxMiJ",
        "outputId": "8adf8da9-4892-4cf6-b70d-97855c4a061a"
      },
      "execution_count": null,
      "outputs": [
        {
          "output_type": "execute_result",
          "data": {
            "text/plain": [
              "N    8969\n",
              "R    1031\n",
              "Name: refurb_new, dtype: int64"
            ]
          },
          "metadata": {},
          "execution_count": 128
        }
      ]
    },
    {
      "cell_type": "code",
      "source": [
        "X_pred['refurb_new'].isnull().sum()"
      ],
      "metadata": {
        "colab": {
          "base_uri": "https://localhost:8080/"
        },
        "id": "rP3ndf_vxMgS",
        "outputId": "2fcf7442-99e8-40c1-ac88-03025918ea7a"
      },
      "execution_count": null,
      "outputs": [
        {
          "output_type": "execute_result",
          "data": {
            "text/plain": [
              "0"
            ]
          },
          "metadata": {},
          "execution_count": 129
        }
      ]
    },
    {
      "cell_type": "code",
      "source": [
        "X_pred['refurb_new'].fillna('N', inplace=True)\n"
      ],
      "metadata": {
        "id": "a_CXTqwwxMcH"
      },
      "execution_count": null,
      "outputs": []
    },
    {
      "cell_type": "code",
      "source": [
        "X_pred['refurb_new'].isnull().sum()"
      ],
      "metadata": {
        "colab": {
          "base_uri": "https://localhost:8080/"
        },
        "id": "QwMgR5EgxMZU",
        "outputId": "7a31fd86-8a5e-438d-97b1-3bff0332f598"
      },
      "execution_count": null,
      "outputs": [
        {
          "output_type": "execute_result",
          "data": {
            "text/plain": [
              "0"
            ]
          },
          "metadata": {},
          "execution_count": 131
        }
      ]
    },
    {
      "cell_type": "code",
      "source": [
        "X_pred['hnd_price'].isnull().sum()"
      ],
      "metadata": {
        "colab": {
          "base_uri": "https://localhost:8080/"
        },
        "id": "fcIVPFR8xMU3",
        "outputId": "d0bc1258-e5f5-4f20-d9dd-108c4fd5cdcc"
      },
      "execution_count": null,
      "outputs": [
        {
          "output_type": "execute_result",
          "data": {
            "text/plain": [
              "143"
            ]
          },
          "metadata": {},
          "execution_count": 132
        }
      ]
    },
    {
      "cell_type": "code",
      "source": [
        "X_pred.hist('hnd_price')"
      ],
      "metadata": {
        "colab": {
          "base_uri": "https://localhost:8080/",
          "height": 469
        },
        "id": "P0QLp6PDxMTF",
        "outputId": "4c10768e-b40f-4deb-ea1b-539466d73fc1"
      },
      "execution_count": null,
      "outputs": [
        {
          "output_type": "execute_result",
          "data": {
            "text/plain": [
              "array([[<Axes: title={'center': 'hnd_price'}>]], dtype=object)"
            ]
          },
          "metadata": {},
          "execution_count": 133
        },
        {
          "output_type": "display_data",
          "data": {
            "text/plain": [
              "<Figure size 640x480 with 1 Axes>"
            ],
            "image/png": "[encoded data removed]"
          },
          "metadata": {}
        }
      ]
    },
    {
      "cell_type": "code",
      "source": [
        "X_pred['hnd_price'].fillna(-999, inplace=True)"
      ],
      "metadata": {
        "id": "Ek3O4HIjyRM1"
      },
      "execution_count": null,
      "outputs": []
    },
    {
      "cell_type": "code",
      "source": [
        "X_pred['hnd_price'].isnull().sum()"
      ],
      "metadata": {
        "colab": {
          "base_uri": "https://localhost:8080/"
        },
        "id": "G2si-iQ1yYX1",
        "outputId": "5ad3db4a-2d96-476c-a304-d90853ff3243"
      },
      "execution_count": null,
      "outputs": [
        {
          "output_type": "execute_result",
          "data": {
            "text/plain": [
              "0"
            ]
          },
          "metadata": {},
          "execution_count": 135
        }
      ]
    },
    {
      "cell_type": "code",
      "source": [
        "X_pred['phones'].isnull().sum()"
      ],
      "metadata": {
        "colab": {
          "base_uri": "https://localhost:8080/"
        },
        "id": "9ImCR-cQykmP",
        "outputId": "f242ced0-a479-41eb-ae7d-57a734448a3f"
      },
      "execution_count": null,
      "outputs": [
        {
          "output_type": "execute_result",
          "data": {
            "text/plain": [
              "0"
            ]
          },
          "metadata": {},
          "execution_count": 136
        }
      ]
    },
    {
      "cell_type": "code",
      "source": [
        "X_pred['phones'].value_counts()"
      ],
      "metadata": {
        "colab": {
          "base_uri": "https://localhost:8080/"
        },
        "id": "ceaHv_tOymr5",
        "outputId": "33fa86f5-7703-4866-8e77-1b5c98b8e6bd"
      },
      "execution_count": null,
      "outputs": [
        {
          "output_type": "execute_result",
          "data": {
            "text/plain": [
              "1.0     6456\n",
              "2.0     2131\n",
              "3.0      769\n",
              "4.0      322\n",
              "5.0      135\n",
              "6.0       63\n",
              "7.0       46\n",
              "8.0       34\n",
              "9.0       16\n",
              "11.0      10\n",
              "10.0       7\n",
              "12.0       6\n",
              "16.0       2\n",
              "28.0       1\n",
              "13.0       1\n",
              "14.0       1\n",
              "Name: phones, dtype: int64"
            ]
          },
          "metadata": {},
          "execution_count": 137
        }
      ]
    },
    {
      "cell_type": "code",
      "source": [
        "X_pred['phones'].fillna(1.0, inplace=True)"
      ],
      "metadata": {
        "id": "Pt04nl59yo1s"
      },
      "execution_count": null,
      "outputs": []
    },
    {
      "cell_type": "code",
      "source": [
        "X_pred['models'].describe()"
      ],
      "metadata": {
        "colab": {
          "base_uri": "https://localhost:8080/"
        },
        "id": "LXOnMWLqyoza",
        "outputId": "1f0a3367-f0a8-4927-8428-1d1cce9baa29"
      },
      "execution_count": null,
      "outputs": [
        {
          "output_type": "execute_result",
          "data": {
            "text/plain": [
              "count    10000.000000\n",
              "mean         1.452600\n",
              "std          0.870993\n",
              "min          1.000000\n",
              "25%          1.000000\n",
              "50%          1.000000\n",
              "75%          2.000000\n",
              "max         16.000000\n",
              "Name: models, dtype: float64"
            ]
          },
          "metadata": {},
          "execution_count": 139
        }
      ]
    },
    {
      "cell_type": "code",
      "source": [
        "X_pred.hist('models')"
      ],
      "metadata": {
        "colab": {
          "base_uri": "https://localhost:8080/",
          "height": 469
        },
        "id": "SCwC8uXOyovr",
        "outputId": "287724c1-115b-4d84-be45-c742c47f7e04"
      },
      "execution_count": null,
      "outputs": [
        {
          "output_type": "execute_result",
          "data": {
            "text/plain": [
              "array([[<Axes: title={'center': 'models'}>]], dtype=object)"
            ]
          },
          "metadata": {},
          "execution_count": 140
        },
        {
          "output_type": "display_data",
          "data": {
            "text/plain": [
              "<Figure size 640x480 with 1 Axes>"
            ],
            "image/png": "[encoded data removed]"
          },
          "metadata": {}
        }
      ]
    },
    {
      "cell_type": "code",
      "source": [
        "X_pred['models'].isnull().sum()"
      ],
      "metadata": {
        "colab": {
          "base_uri": "https://localhost:8080/"
        },
        "id": "CyZZDRu2yosh",
        "outputId": "a9a1d767-5553-49e2-c8b7-5510ef8d474b"
      },
      "execution_count": null,
      "outputs": [
        {
          "output_type": "execute_result",
          "data": {
            "text/plain": [
              "0"
            ]
          },
          "metadata": {},
          "execution_count": 141
        }
      ]
    },
    {
      "cell_type": "code",
      "source": [
        "X_pred['models'].fillna(1.0, inplace=True)"
      ],
      "metadata": {
        "id": "tquZETCayoqH"
      },
      "execution_count": null,
      "outputs": []
    },
    {
      "cell_type": "code",
      "source": [
        "X_pred['models'].isnull().sum()"
      ],
      "metadata": {
        "colab": {
          "base_uri": "https://localhost:8080/"
        },
        "id": "M8V2NTGjyon7",
        "outputId": "0697b134-48e6-44ec-a68d-76933f3537b6"
      },
      "execution_count": null,
      "outputs": [
        {
          "output_type": "execute_result",
          "data": {
            "text/plain": [
              "0"
            ]
          },
          "metadata": {},
          "execution_count": 143
        }
      ]
    },
    {
      "cell_type": "code",
      "source": [
        "X_pred['hnd_webcap'].value_counts()"
      ],
      "metadata": {
        "colab": {
          "base_uri": "https://localhost:8080/"
        },
        "id": "--sbMDIcyoli",
        "outputId": "53385521-620a-448f-dccc-d63628a7fa80"
      },
      "execution_count": null,
      "outputs": [
        {
          "output_type": "execute_result",
          "data": {
            "text/plain": [
              "WCMB    8337\n",
              "WC       960\n",
              "UNKW      33\n",
              "Name: hnd_webcap, dtype: int64"
            ]
          },
          "metadata": {},
          "execution_count": 144
        }
      ]
    },
    {
      "cell_type": "code",
      "source": [
        "X_pred['hnd_webcap'].isnull().sum()"
      ],
      "metadata": {
        "colab": {
          "base_uri": "https://localhost:8080/"
        },
        "id": "MxBLBofmyojC",
        "outputId": "a9704fd1-747d-4f9e-ebc0-f99dadac5e46"
      },
      "execution_count": null,
      "outputs": [
        {
          "output_type": "execute_result",
          "data": {
            "text/plain": [
              "670"
            ]
          },
          "metadata": {},
          "execution_count": 145
        }
      ]
    },
    {
      "cell_type": "code",
      "source": [
        "X_pred['hnd_webcap'].fillna('WCMB', inplace=True)"
      ],
      "metadata": {
        "id": "8yqzE0uxyogw"
      },
      "execution_count": null,
      "outputs": []
    },
    {
      "cell_type": "code",
      "source": [
        "X_pred['hnd_webcap'].value_counts()"
      ],
      "metadata": {
        "colab": {
          "base_uri": "https://localhost:8080/"
        },
        "id": "PX8TV_LGyoec",
        "outputId": "87d35028-d2fa-42e3-919b-be14f190f091"
      },
      "execution_count": null,
      "outputs": [
        {
          "output_type": "execute_result",
          "data": {
            "text/plain": [
              "WCMB    9007\n",
              "WC       960\n",
              "UNKW      33\n",
              "Name: hnd_webcap, dtype: int64"
            ]
          },
          "metadata": {},
          "execution_count": 147
        }
      ]
    },
    {
      "cell_type": "code",
      "source": [
        "X_pred['hnd_webcap'].isnull().sum()"
      ],
      "metadata": {
        "colab": {
          "base_uri": "https://localhost:8080/"
        },
        "id": "KqtAWf0Cyobs",
        "outputId": "18cc5dd0-c735-49a9-d8d5-33a6316edc0b"
      },
      "execution_count": null,
      "outputs": [
        {
          "output_type": "execute_result",
          "data": {
            "text/plain": [
              "0"
            ]
          },
          "metadata": {},
          "execution_count": 148
        }
      ]
    },
    {
      "cell_type": "code",
      "source": [
        "X_pred['truck'].value_counts()"
      ],
      "metadata": {
        "colab": {
          "base_uri": "https://localhost:8080/"
        },
        "id": "trpCnk6gyoZg",
        "outputId": "80aa1983-c001-4d16-8999-8e0e1b5e9762"
      },
      "execution_count": null,
      "outputs": [
        {
          "output_type": "execute_result",
          "data": {
            "text/plain": [
              "0.0    8625\n",
              "1.0    1094\n",
              "Name: truck, dtype: int64"
            ]
          },
          "metadata": {},
          "execution_count": 149
        }
      ]
    },
    {
      "cell_type": "code",
      "source": [
        "X_pred['truck'].isnull().sum()"
      ],
      "metadata": {
        "colab": {
          "base_uri": "https://localhost:8080/"
        },
        "id": "hbCAkfv7yoXA",
        "outputId": "16735f11-b381-4a8a-a459-a9685f3c9c27"
      },
      "execution_count": null,
      "outputs": [
        {
          "output_type": "execute_result",
          "data": {
            "text/plain": [
              "281"
            ]
          },
          "metadata": {},
          "execution_count": 150
        }
      ]
    },
    {
      "cell_type": "code",
      "source": [
        "X_pred['truck'].fillna(0.0, inplace=True)"
      ],
      "metadata": {
        "id": "lOyQ5C2uyoUb"
      },
      "execution_count": null,
      "outputs": []
    },
    {
      "cell_type": "code",
      "source": [
        "X_pred['truck'].value_counts()"
      ],
      "metadata": {
        "colab": {
          "base_uri": "https://localhost:8080/"
        },
        "id": "cm_780xIyoSD",
        "outputId": "fa311ce8-2d95-48a3-9867-06dd9e97efd9"
      },
      "execution_count": null,
      "outputs": [
        {
          "output_type": "execute_result",
          "data": {
            "text/plain": [
              "0.0    8906\n",
              "1.0    1094\n",
              "Name: truck, dtype: int64"
            ]
          },
          "metadata": {},
          "execution_count": 152
        }
      ]
    },
    {
      "cell_type": "code",
      "source": [
        "X_pred['truck'].isnull().sum()"
      ],
      "metadata": {
        "colab": {
          "base_uri": "https://localhost:8080/"
        },
        "id": "9o777PHPyoOn",
        "outputId": "5dbc5d5c-c515-47f9-db90-ce678d00f214"
      },
      "execution_count": null,
      "outputs": [
        {
          "output_type": "execute_result",
          "data": {
            "text/plain": [
              "0"
            ]
          },
          "metadata": {},
          "execution_count": 153
        }
      ]
    },
    {
      "cell_type": "code",
      "source": [
        "X_pred['rv'].value_counts()"
      ],
      "metadata": {
        "colab": {
          "base_uri": "https://localhost:8080/"
        },
        "id": "7H6kSlSzyoLs",
        "outputId": "dc291df7-d547-4397-b0eb-c52895b000e7"
      },
      "execution_count": null,
      "outputs": [
        {
          "output_type": "execute_result",
          "data": {
            "text/plain": [
              "0.0    9296\n",
              "1.0     423\n",
              "Name: rv, dtype: int64"
            ]
          },
          "metadata": {},
          "execution_count": 154
        }
      ]
    },
    {
      "cell_type": "code",
      "source": [
        "X_pred['rv'].fillna(0.0, inplace=True)"
      ],
      "metadata": {
        "id": "YNf-YsEbyoJM"
      },
      "execution_count": null,
      "outputs": []
    },
    {
      "cell_type": "code",
      "source": [
        "X_pred['rv'].value_counts()"
      ],
      "metadata": {
        "colab": {
          "base_uri": "https://localhost:8080/"
        },
        "id": "TX35ctcvyoFB",
        "outputId": "499caae5-ca40-4b8a-e56f-b52e2ea50b9a"
      },
      "execution_count": null,
      "outputs": [
        {
          "output_type": "execute_result",
          "data": {
            "text/plain": [
              "0.0    9577\n",
              "1.0     423\n",
              "Name: rv, dtype: int64"
            ]
          },
          "metadata": {},
          "execution_count": 156
        }
      ]
    },
    {
      "cell_type": "code",
      "source": [
        "X_pred['ownrent'].value_counts()"
      ],
      "metadata": {
        "colab": {
          "base_uri": "https://localhost:8080/"
        },
        "id": "mZ-9syqYyoDG",
        "outputId": "d16e524b-7291-4f20-d254-d1e2fd99193b"
      },
      "execution_count": null,
      "outputs": [
        {
          "output_type": "execute_result",
          "data": {
            "text/plain": [
              "O    5555\n",
              "R     230\n",
              "Name: ownrent, dtype: int64"
            ]
          },
          "metadata": {},
          "execution_count": 157
        }
      ]
    },
    {
      "cell_type": "code",
      "source": [
        "X_pred['ownrent'].isnull().sum() *100/len(X_pred['ownrent'])"
      ],
      "metadata": {
        "colab": {
          "base_uri": "https://localhost:8080/"
        },
        "id": "9ic5Uj08zyp_",
        "outputId": "a5bbc05f-95ab-4aeb-9616-a425b18c2433"
      },
      "execution_count": null,
      "outputs": [
        {
          "output_type": "execute_result",
          "data": {
            "text/plain": [
              "42.15"
            ]
          },
          "metadata": {},
          "execution_count": 158
        }
      ]
    },
    {
      "cell_type": "code",
      "source": [
        "X_pred['ownrent'].value_counts(normalize=True)"
      ],
      "metadata": {
        "colab": {
          "base_uri": "https://localhost:8080/"
        },
        "id": "PNBEbQCfzymE",
        "outputId": "f34385b2-80de-4f40-ae83-17cca27b4aea"
      },
      "execution_count": null,
      "outputs": [
        {
          "output_type": "execute_result",
          "data": {
            "text/plain": [
              "O    0.960242\n",
              "R    0.039758\n",
              "Name: ownrent, dtype: float64"
            ]
          },
          "metadata": {},
          "execution_count": 159
        }
      ]
    },
    {
      "cell_type": "code",
      "source": [
        "X_pred['ownrent'].isnull().sum()"
      ],
      "metadata": {
        "colab": {
          "base_uri": "https://localhost:8080/"
        },
        "id": "bsca5lWKzyji",
        "outputId": "1254efc6-f5d6-459f-d0a0-1116aa525596"
      },
      "execution_count": null,
      "outputs": [
        {
          "output_type": "execute_result",
          "data": {
            "text/plain": [
              "4215"
            ]
          },
          "metadata": {},
          "execution_count": 160
        }
      ]
    },
    {
      "cell_type": "code",
      "source": [
        "X_pred['ownrent'].fillna('O', inplace=True)"
      ],
      "metadata": {
        "id": "yf62uFNNzygq"
      },
      "execution_count": null,
      "outputs": []
    },
    {
      "cell_type": "code",
      "source": [
        "X_pred['ownrent'].isnull().sum()"
      ],
      "metadata": {
        "colab": {
          "base_uri": "https://localhost:8080/"
        },
        "id": "M0xwAqhbzydz",
        "outputId": "6c0dd729-2ba8-4be5-c029-889f1ccfac72"
      },
      "execution_count": null,
      "outputs": [
        {
          "output_type": "execute_result",
          "data": {
            "text/plain": [
              "0"
            ]
          },
          "metadata": {},
          "execution_count": 162
        }
      ]
    },
    {
      "cell_type": "code",
      "source": [
        "X_pred.hist('lor')"
      ],
      "metadata": {
        "colab": {
          "base_uri": "https://localhost:8080/",
          "height": 469
        },
        "id": "onZvCdkqzybV",
        "outputId": "c09ce86f-33f0-422d-a903-31c37ca74a1d"
      },
      "execution_count": null,
      "outputs": [
        {
          "output_type": "execute_result",
          "data": {
            "text/plain": [
              "array([[<Axes: title={'center': 'lor'}>]], dtype=object)"
            ]
          },
          "metadata": {},
          "execution_count": 163
        },
        {
          "output_type": "display_data",
          "data": {
            "text/plain": [
              "<Figure size 640x480 with 1 Axes>"
            ],
            "image/png": "[encoded data removed]"
          },
          "metadata": {}
        }
      ]
    },
    {
      "cell_type": "code",
      "source": [
        "X_pred['lor'].isnull().sum() *100/len(X_pred['lor'])"
      ],
      "metadata": {
        "colab": {
          "base_uri": "https://localhost:8080/"
        },
        "id": "7KkBp_CXzyY3",
        "outputId": "fcb0e399-198d-44a2-a12d-0fc9004c3643"
      },
      "execution_count": null,
      "outputs": [
        {
          "output_type": "execute_result",
          "data": {
            "text/plain": [
              "36.88"
            ]
          },
          "metadata": {},
          "execution_count": 164
        }
      ]
    },
    {
      "cell_type": "code",
      "source": [
        "X_pred['lor'].fillna(-999, inplace=True)"
      ],
      "metadata": {
        "id": "0oWuG-LUzyWQ"
      },
      "execution_count": null,
      "outputs": []
    },
    {
      "cell_type": "code",
      "source": [
        "X_pred['dwlltype'].value_counts()"
      ],
      "metadata": {
        "colab": {
          "base_uri": "https://localhost:8080/"
        },
        "id": "KIAfRBzMzySn",
        "outputId": "43bbdfcf-8f7d-4dbc-d2b6-3a779e48e098"
      },
      "execution_count": null,
      "outputs": [
        {
          "output_type": "execute_result",
          "data": {
            "text/plain": [
              "S    4238\n",
              "M    1831\n",
              "Name: dwlltype, dtype: int64"
            ]
          },
          "metadata": {},
          "execution_count": 166
        }
      ]
    },
    {
      "cell_type": "code",
      "source": [
        "X_pred['dwlltype'].isnull().sum()"
      ],
      "metadata": {
        "colab": {
          "base_uri": "https://localhost:8080/"
        },
        "id": "gnL5US7QzyQM",
        "outputId": "02158ac3-6b85-459c-ae3c-e43d6f065eb4"
      },
      "execution_count": null,
      "outputs": [
        {
          "output_type": "execute_result",
          "data": {
            "text/plain": [
              "3931"
            ]
          },
          "metadata": {},
          "execution_count": 167
        }
      ]
    },
    {
      "cell_type": "code",
      "source": [
        "X_pred['dwlltype'].isnull().sum() * 100/len(X_pred['dwlltype'])"
      ],
      "metadata": {
        "colab": {
          "base_uri": "https://localhost:8080/"
        },
        "id": "zgdWIIZOzyOA",
        "outputId": "d6d1c3ef-73c2-470c-8925-cae90e90a4ae"
      },
      "execution_count": null,
      "outputs": [
        {
          "output_type": "execute_result",
          "data": {
            "text/plain": [
              "39.31"
            ]
          },
          "metadata": {},
          "execution_count": 168
        }
      ]
    },
    {
      "cell_type": "code",
      "source": [
        "X_pred['dwlltype'].value_counts(normalize=True)"
      ],
      "metadata": {
        "colab": {
          "base_uri": "https://localhost:8080/"
        },
        "id": "Kq2wlDO-zyLE",
        "outputId": "7a90a0b1-8b2f-4128-ade9-1388d391ed54"
      },
      "execution_count": null,
      "outputs": [
        {
          "output_type": "execute_result",
          "data": {
            "text/plain": [
              "S    0.698303\n",
              "M    0.301697\n",
              "Name: dwlltype, dtype: float64"
            ]
          },
          "metadata": {},
          "execution_count": 169
        }
      ]
    },
    {
      "cell_type": "code",
      "source": [
        "X_pred_dwlltype_counts = X_pred[\"dwlltype\"].value_counts()\n",
        "\n",
        "# Calcular la proporción de cada color en relación con el total de colores no nulos\n",
        "total_non_null = X_pred_dwlltype_counts.sum()\n",
        "proportions = X_pred_dwlltype_counts / total_non_null\n",
        "\n",
        "# Calcular el número de nulos que se asignará a cada color\n",
        "total_nulls = X_pred[\"dwlltype\"].isnull().sum()\n",
        "\n",
        "# Manejar el caso cuando no hay valores nulos\n",
        "if total_nulls == 0:\n",
        "    print(\"No hay valores nulos en la columna 'color'.\")\n",
        "else:\n",
        "    nulls_per_dwlltype = np.round(proportions * total_nulls).astype(int)\n",
        "\n",
        "    # Distribuir los nulos proporcionalmente en los colores existentes\n",
        "    null_indices = X_pred[X_pred[\"dwlltype\"].isnull()].index\n",
        "    dwlltype = nulls_per_dwlltype.index.to_list()\n",
        "    weights = nulls_per_dwlltype.values / nulls_per_dwlltype.sum()\n",
        "    replacement_dwlltype = np.random.choice(dwlltype, size=len(null_indices), p=weights)\n",
        "    X_pred.loc[null_indices, \"dwlltype\"] = replacement_dwlltype"
      ],
      "metadata": {
        "id": "S8GRTuYEzyJE"
      },
      "execution_count": null,
      "outputs": []
    },
    {
      "cell_type": "code",
      "source": [
        "X_pred['dwlltype'].value_counts()"
      ],
      "metadata": {
        "colab": {
          "base_uri": "https://localhost:8080/"
        },
        "id": "t6Cdhi543S40",
        "outputId": "8b04af89-253b-4d1e-c6c4-349ec22f4811"
      },
      "execution_count": null,
      "outputs": [
        {
          "output_type": "execute_result",
          "data": {
            "text/plain": [
              "S    7043\n",
              "M    2957\n",
              "Name: dwlltype, dtype: int64"
            ]
          },
          "metadata": {},
          "execution_count": 171
        }
      ]
    },
    {
      "cell_type": "code",
      "source": [
        "X_pred['marital'].value_counts()"
      ],
      "metadata": {
        "colab": {
          "base_uri": "https://localhost:8080/"
        },
        "id": "bp-ade7p3S2X",
        "outputId": "642efa45-3b52-433c-931f-285d7ff5f48e"
      },
      "execution_count": null,
      "outputs": [
        {
          "output_type": "execute_result",
          "data": {
            "text/plain": [
              "U    4283\n",
              "M    2633\n",
              "S    1676\n",
              "B     725\n",
              "A     402\n",
              "Name: marital, dtype: int64"
            ]
          },
          "metadata": {},
          "execution_count": 172
        }
      ]
    },
    {
      "cell_type": "code",
      "source": [
        "X_pred['marital'].isnull().sum()"
      ],
      "metadata": {
        "colab": {
          "base_uri": "https://localhost:8080/"
        },
        "id": "RJGcwQs53SqB",
        "outputId": "3d851d20-bfe4-4a76-e929-f3ff844771a7"
      },
      "execution_count": null,
      "outputs": [
        {
          "output_type": "execute_result",
          "data": {
            "text/plain": [
              "281"
            ]
          },
          "metadata": {},
          "execution_count": 173
        }
      ]
    },
    {
      "cell_type": "code",
      "source": [
        "X_pred['marital'].value_counts()"
      ],
      "metadata": {
        "colab": {
          "base_uri": "https://localhost:8080/"
        },
        "id": "qnmZpKWh3Sm_",
        "outputId": "d2060db1-62ca-4ed5-b839-784a02b5188d"
      },
      "execution_count": null,
      "outputs": [
        {
          "output_type": "execute_result",
          "data": {
            "text/plain": [
              "U    4283\n",
              "M    2633\n",
              "S    1676\n",
              "B     725\n",
              "A     402\n",
              "Name: marital, dtype: int64"
            ]
          },
          "metadata": {},
          "execution_count": 174
        }
      ]
    },
    {
      "cell_type": "code",
      "source": [
        "X_pred['marital'].fillna('U', inplace=True)"
      ],
      "metadata": {
        "id": "hnrMKZir3Sj7"
      },
      "execution_count": null,
      "outputs": []
    },
    {
      "cell_type": "code",
      "source": [
        "X_pred['marital'].isnull().sum()"
      ],
      "metadata": {
        "colab": {
          "base_uri": "https://localhost:8080/"
        },
        "id": "H_HP5Lxx3Sg3",
        "outputId": "c7d3d921-2a3d-4dfe-ea03-cb5075a3c1cb"
      },
      "execution_count": null,
      "outputs": [
        {
          "output_type": "execute_result",
          "data": {
            "text/plain": [
              "0"
            ]
          },
          "metadata": {},
          "execution_count": 176
        }
      ]
    },
    {
      "cell_type": "code",
      "source": [
        "X_pred['adults'].value_counts()"
      ],
      "metadata": {
        "colab": {
          "base_uri": "https://localhost:8080/"
        },
        "id": "KuPbwpm33ScM",
        "outputId": "a9c0a45e-8539-47c9-c6d6-adcad093211d"
      },
      "execution_count": null,
      "outputs": [
        {
          "output_type": "execute_result",
          "data": {
            "text/plain": [
              "1.0    2258\n",
              "2.0    2023\n",
              "3.0    1224\n",
              "4.0     714\n",
              "5.0     405\n",
              "6.0     390\n",
              "Name: adults, dtype: int64"
            ]
          },
          "metadata": {},
          "execution_count": 177
        }
      ]
    },
    {
      "cell_type": "code",
      "source": [
        "X_pred['adults'].isnull().sum()"
      ],
      "metadata": {
        "colab": {
          "base_uri": "https://localhost:8080/"
        },
        "id": "UVxiDz5W3SYR",
        "outputId": "92e6876e-1485-48e0-c68f-8642a9ea1b2c"
      },
      "execution_count": null,
      "outputs": [
        {
          "output_type": "execute_result",
          "data": {
            "text/plain": [
              "2986"
            ]
          },
          "metadata": {},
          "execution_count": 178
        }
      ]
    },
    {
      "cell_type": "code",
      "source": [
        "# Assuming you have already loaded the DataFrame \"df\" containing the \"adults\" column\n",
        "\n",
        "# Calculate the counts of each category in the \"adults\" column\n",
        "X_pred_adults_counts = X_pred[\"adults\"].value_counts()\n",
        "\n",
        "# Calculate the proportion of each category in relation to the total non-null categories\n",
        "total_non_null = X_pred_adults_counts.sum()\n",
        "proportions = X_pred_adults_counts / total_non_null\n",
        "\n",
        "# Calculate the number of missing values that will be assigned to each category\n",
        "total_nulls = X_pred[\"adults\"].isnull().sum()\n",
        "\n",
        "# Handle the case when there are no missing values\n",
        "if total_nulls == 0:\n",
        "    print(\"No hay valores nulos en la columna 'adults'.\")\n",
        "else:\n",
        "    nulls_per_adults = np.round(proportions * total_nulls).astype(int)\n",
        "\n",
        "    # Distribute the missing values proportionally among the existing categories\n",
        "    null_indices = X_pred[X_pred[\"adults\"].isnull()].index\n",
        "    adults = nulls_per_adults.index.to_list()\n",
        "    weights = nulls_per_adults.values / nulls_per_adults.sum()\n",
        "    replacement_adults = np.random.choice(adults, size=len(null_indices), p=weights)\n",
        "    X_pred.loc[null_indices, \"adults\"] = replacement_adults"
      ],
      "metadata": {
        "id": "H374Sn7Z3SVZ"
      },
      "execution_count": null,
      "outputs": []
    },
    {
      "cell_type": "code",
      "source": [
        "X_pred['adults'].isnull().sum()"
      ],
      "metadata": {
        "colab": {
          "base_uri": "https://localhost:8080/"
        },
        "id": "y-uQl6Lq4UqL",
        "outputId": "2c22a9dc-5c53-4ebd-bd51-3ebd3bf0105b"
      },
      "execution_count": null,
      "outputs": [
        {
          "output_type": "execute_result",
          "data": {
            "text/plain": [
              "0"
            ]
          },
          "metadata": {},
          "execution_count": 180
        }
      ]
    },
    {
      "cell_type": "code",
      "source": [
        "X_pred['adults'].value_counts()"
      ],
      "metadata": {
        "colab": {
          "base_uri": "https://localhost:8080/"
        },
        "id": "NBCLNKOO4UnI",
        "outputId": "cb2c619b-7170-4ec7-8b76-3e1602be5c77"
      },
      "execution_count": null,
      "outputs": [
        {
          "output_type": "execute_result",
          "data": {
            "text/plain": [
              "1.0    3209\n",
              "2.0    2885\n",
              "3.0    1770\n",
              "4.0    1011\n",
              "5.0     579\n",
              "6.0     546\n",
              "Name: adults, dtype: int64"
            ]
          },
          "metadata": {},
          "execution_count": 181
        }
      ]
    },
    {
      "cell_type": "code",
      "source": [
        "X_pred['infobase'].value_counts()"
      ],
      "metadata": {
        "colab": {
          "base_uri": "https://localhost:8080/"
        },
        "id": "0xErPNmm4Ukg",
        "outputId": "161c686b-da79-4159-e70a-a856d6f4279c"
      },
      "execution_count": null,
      "outputs": [
        {
          "output_type": "execute_result",
          "data": {
            "text/plain": [
              "M    7100\n",
              "N     224\n",
              "Name: infobase, dtype: int64"
            ]
          },
          "metadata": {},
          "execution_count": 182
        }
      ]
    },
    {
      "cell_type": "code",
      "source": [
        "X_pred['infobase'].isnull().sum()*100/len(X_pred['infobase'])"
      ],
      "metadata": {
        "colab": {
          "base_uri": "https://localhost:8080/"
        },
        "id": "DqC_04Bp4Uhd",
        "outputId": "2eed1439-3fab-4729-e035-9be215a9c062"
      },
      "execution_count": null,
      "outputs": [
        {
          "output_type": "execute_result",
          "data": {
            "text/plain": [
              "26.76"
            ]
          },
          "metadata": {},
          "execution_count": 183
        }
      ]
    },
    {
      "cell_type": "code",
      "source": [
        "X_pred['infobase'].fillna('M', inplace=True)"
      ],
      "metadata": {
        "id": "PXYBaVkG4Ueh"
      },
      "execution_count": null,
      "outputs": []
    },
    {
      "cell_type": "code",
      "source": [
        "X_pred['infobase'].isnull().sum()"
      ],
      "metadata": {
        "colab": {
          "base_uri": "https://localhost:8080/"
        },
        "id": "TP2_xq6S4Ubq",
        "outputId": "035b2537-97a0-4583-941c-32dfe2733c7b"
      },
      "execution_count": null,
      "outputs": [
        {
          "output_type": "execute_result",
          "data": {
            "text/plain": [
              "0"
            ]
          },
          "metadata": {},
          "execution_count": 185
        }
      ]
    },
    {
      "cell_type": "code",
      "source": [
        "X_pred['income'].isnull().sum()"
      ],
      "metadata": {
        "colab": {
          "base_uri": "https://localhost:8080/"
        },
        "id": "ORO4hl-i4UY3",
        "outputId": "1fa44654-b2fa-4be9-8770-8f019bed0005"
      },
      "execution_count": null,
      "outputs": [
        {
          "output_type": "execute_result",
          "data": {
            "text/plain": [
              "3240"
            ]
          },
          "metadata": {},
          "execution_count": 186
        }
      ]
    },
    {
      "cell_type": "code",
      "source": [
        "X_pred.hist('income')"
      ],
      "metadata": {
        "colab": {
          "base_uri": "https://localhost:8080/",
          "height": 469
        },
        "id": "e9GD06OS4UWG",
        "outputId": "1d4b8ce6-ba67-43b0-8a47-21d35721c618"
      },
      "execution_count": null,
      "outputs": [
        {
          "output_type": "execute_result",
          "data": {
            "text/plain": [
              "array([[<Axes: title={'center': 'income'}>]], dtype=object)"
            ]
          },
          "metadata": {},
          "execution_count": 187
        },
        {
          "output_type": "display_data",
          "data": {
            "text/plain": [
              "<Figure size 640x480 with 1 Axes>"
            ],
            "image/png": "[encoded data removed]"
          },
          "metadata": {}
        }
      ]
    },
    {
      "cell_type": "code",
      "source": [
        "X_pred['income'].describe()"
      ],
      "metadata": {
        "colab": {
          "base_uri": "https://localhost:8080/"
        },
        "id": "V9-kGk_V4UTf",
        "outputId": "c63bb72e-eb80-486b-96b9-45eae02e0554"
      },
      "execution_count": null,
      "outputs": [
        {
          "output_type": "execute_result",
          "data": {
            "text/plain": [
              "count    6760.00000\n",
              "mean        5.52071\n",
              "std         2.21680\n",
              "min         1.00000\n",
              "25%         4.00000\n",
              "50%         6.00000\n",
              "75%         7.00000\n",
              "max         9.00000\n",
              "Name: income, dtype: float64"
            ]
          },
          "metadata": {},
          "execution_count": 188
        }
      ]
    },
    {
      "cell_type": "code",
      "source": [
        "X_pred['income'].fillna(-999, inplace=True)"
      ],
      "metadata": {
        "id": "ASdmp65s4UPI"
      },
      "execution_count": null,
      "outputs": []
    },
    {
      "cell_type": "code",
      "source": [
        "X_pred['income'].isnull().sum()"
      ],
      "metadata": {
        "colab": {
          "base_uri": "https://localhost:8080/"
        },
        "id": "IqDU58Zn4UMU",
        "outputId": "128d608d-bea7-409e-da65-c2fd713e1c2c"
      },
      "execution_count": null,
      "outputs": [
        {
          "output_type": "execute_result",
          "data": {
            "text/plain": [
              "0"
            ]
          },
          "metadata": {},
          "execution_count": 190
        }
      ]
    },
    {
      "cell_type": "code",
      "source": [
        "X_pred['numbcars'].value_counts()"
      ],
      "metadata": {
        "colab": {
          "base_uri": "https://localhost:8080/"
        },
        "id": "Mk57c2Ch4UJM",
        "outputId": "0dab1718-2174-43ab-918e-e2008115f44d"
      },
      "execution_count": null,
      "outputs": [
        {
          "output_type": "execute_result",
          "data": {
            "text/plain": [
              "1.0    2098\n",
              "2.0    1885\n",
              "3.0     219\n",
              "Name: numbcars, dtype: int64"
            ]
          },
          "metadata": {},
          "execution_count": 191
        }
      ]
    },
    {
      "cell_type": "code",
      "source": [
        "X_pred['numbcars'].fillna(-999.00, inplace=True)"
      ],
      "metadata": {
        "id": "Zr8hXNN44UGe"
      },
      "execution_count": null,
      "outputs": []
    },
    {
      "cell_type": "code",
      "source": [
        "X_pred['numbcars'].isnull().sum()"
      ],
      "metadata": {
        "colab": {
          "base_uri": "https://localhost:8080/"
        },
        "id": "Fn_Zyc-t5HGC",
        "outputId": "872c73c7-497b-4187-ce43-523a92f236b3"
      },
      "execution_count": null,
      "outputs": [
        {
          "output_type": "execute_result",
          "data": {
            "text/plain": [
              "0"
            ]
          },
          "metadata": {},
          "execution_count": 193
        }
      ]
    },
    {
      "cell_type": "code",
      "source": [
        "X_pred['HHstatin'].value_counts()"
      ],
      "metadata": {
        "colab": {
          "base_uri": "https://localhost:8080/"
        },
        "id": "AADxFkyb5Jxk",
        "outputId": "12fb55fa-6e93-42e9-9e11-6f06b080f694"
      },
      "execution_count": null,
      "outputs": [
        {
          "output_type": "execute_result",
          "data": {
            "text/plain": [
              "C    3031\n",
              "I     967\n",
              "A     472\n",
              "B     338\n",
              "G     208\n",
              "H      93\n",
              "Name: HHstatin, dtype: int64"
            ]
          },
          "metadata": {},
          "execution_count": 194
        }
      ]
    },
    {
      "cell_type": "code",
      "source": [
        "X_pred['HHstatin'].isnull().sum() * 100/len(X_pred['HHstatin'])"
      ],
      "metadata": {
        "colab": {
          "base_uri": "https://localhost:8080/"
        },
        "id": "snGmqIEL5JtU",
        "outputId": "733894c7-da2b-4909-d177-144ebf127910"
      },
      "execution_count": null,
      "outputs": [
        {
          "output_type": "execute_result",
          "data": {
            "text/plain": [
              "48.91"
            ]
          },
          "metadata": {},
          "execution_count": 195
        }
      ]
    },
    {
      "cell_type": "code",
      "source": [
        "# Assuming you have already loaded the DataFrame \"df\" containing the \"HHstatin\" column\n",
        "\n",
        "# Calculate the counts of each category in the \"HHstatin\" column\n",
        "X_pred_HHstatin_counts = X_pred[\"HHstatin\"].value_counts()\n",
        "\n",
        "# Calculate the proportion of each category in relation to the total non-null categories\n",
        "total_non_null = X_pred_HHstatin_counts.sum()\n",
        "proportions = X_pred_HHstatin_counts / total_non_null\n",
        "\n",
        "# Calculate the number of missing values that will be assigned to each category\n",
        "total_nulls = X_pred[\"HHstatin\"].isnull().sum()\n",
        "\n",
        "# Handle the case when there are no missing values\n",
        "if total_nulls == 0:\n",
        "    print(\"No hay valores nulos en la columna 'HHstatin'.\")\n",
        "else:\n",
        "    nulls_per_category = np.round(proportions * total_nulls).astype(int)\n",
        "\n",
        "    # Distribute the missing values proportionally among the existing categories\n",
        "    null_indices = X_pred[X_pred[\"HHstatin\"].isnull()].index\n",
        "    categories = nulls_per_category.index.to_list()\n",
        "    weights = nulls_per_category.values / nulls_per_category.sum()\n",
        "    replacement_HHstatin = np.random.choice(categories, size=len(null_indices), p=weights)\n",
        "    X_pred.loc[null_indices, \"HHstatin\"] = replacement_HHstatin"
      ],
      "metadata": {
        "id": "lVuDKdxk5Jqb"
      },
      "execution_count": null,
      "outputs": []
    },
    {
      "cell_type": "code",
      "source": [
        "X_pred['HHstatin'].isnull().sum()"
      ],
      "metadata": {
        "colab": {
          "base_uri": "https://localhost:8080/"
        },
        "id": "clOaoBgs5Jm7",
        "outputId": "530601a3-e639-4085-883b-ad76ef54f0f9"
      },
      "execution_count": null,
      "outputs": [
        {
          "output_type": "execute_result",
          "data": {
            "text/plain": [
              "0"
            ]
          },
          "metadata": {},
          "execution_count": 197
        }
      ]
    },
    {
      "cell_type": "code",
      "source": [
        "X_pred['dwllsize'].value_counts()"
      ],
      "metadata": {
        "colab": {
          "base_uri": "https://localhost:8080/"
        },
        "id": "kmVU-w-65Jjs",
        "outputId": "4b20912a-2a1d-4ecb-e836-179206e088df"
      },
      "execution_count": null,
      "outputs": [
        {
          "output_type": "execute_result",
          "data": {
            "text/plain": [
              "A    4087\n",
              "B     462\n",
              "J     150\n",
              "C     140\n",
              "N      95\n",
              "O      93\n",
              "D      69\n",
              "K      66\n",
              "L      63\n",
              "E      53\n",
              "G      46\n",
              "F      37\n",
              "H      37\n",
              "M      31\n",
              "I      27\n",
              "Name: dwllsize, dtype: int64"
            ]
          },
          "metadata": {},
          "execution_count": 198
        }
      ]
    },
    {
      "cell_type": "code",
      "source": [
        "X_pred['dwllsize'].isnull().sum()"
      ],
      "metadata": {
        "colab": {
          "base_uri": "https://localhost:8080/"
        },
        "id": "zjf-0vx75Jgu",
        "outputId": "97c37818-ba1f-4771-d8c4-c0f28cbedd93"
      },
      "execution_count": null,
      "outputs": [
        {
          "output_type": "execute_result",
          "data": {
            "text/plain": [
              "4544"
            ]
          },
          "metadata": {},
          "execution_count": 199
        }
      ]
    },
    {
      "cell_type": "code",
      "source": [
        "X_pred['dwllsize'].isnull().sum() * 100/len(X_pred['dwllsize'])"
      ],
      "metadata": {
        "colab": {
          "base_uri": "https://localhost:8080/"
        },
        "id": "wYyXFzpt5Jdp",
        "outputId": "5114f6d3-533d-4961-d2f3-86450e8fc602"
      },
      "execution_count": null,
      "outputs": [
        {
          "output_type": "execute_result",
          "data": {
            "text/plain": [
              "45.44"
            ]
          },
          "metadata": {},
          "execution_count": 200
        }
      ]
    },
    {
      "cell_type": "code",
      "source": [
        "X_pred['dwllsize'].value_counts(normalize=True)"
      ],
      "metadata": {
        "colab": {
          "base_uri": "https://localhost:8080/"
        },
        "id": "5vOb79Vd5JZ-",
        "outputId": "7e805c13-6a99-4713-8df5-44e390efec1c"
      },
      "execution_count": null,
      "outputs": [
        {
          "output_type": "execute_result",
          "data": {
            "text/plain": [
              "A    0.749084\n",
              "B    0.084677\n",
              "J    0.027493\n",
              "C    0.025660\n",
              "N    0.017412\n",
              "O    0.017045\n",
              "D    0.012647\n",
              "K    0.012097\n",
              "L    0.011547\n",
              "E    0.009714\n",
              "G    0.008431\n",
              "F    0.006782\n",
              "H    0.006782\n",
              "M    0.005682\n",
              "I    0.004949\n",
              "Name: dwllsize, dtype: float64"
            ]
          },
          "metadata": {},
          "execution_count": 201
        }
      ]
    },
    {
      "cell_type": "code",
      "source": [
        "X_pred['dwllsize'].fillna('A', inplace=True)"
      ],
      "metadata": {
        "id": "KotOYtjZ5JW9"
      },
      "execution_count": null,
      "outputs": []
    },
    {
      "cell_type": "code",
      "source": [
        "X_pred['forgntvl'].isnull().sum()"
      ],
      "metadata": {
        "colab": {
          "base_uri": "https://localhost:8080/"
        },
        "id": "EGzsfHhd5JT3",
        "outputId": "690f7c42-60b5-4870-9872-02b39afd4b7e"
      },
      "execution_count": null,
      "outputs": [
        {
          "output_type": "execute_result",
          "data": {
            "text/plain": [
              "281"
            ]
          },
          "metadata": {},
          "execution_count": 203
        }
      ]
    },
    {
      "cell_type": "code",
      "source": [
        "X_pred['forgntvl'].value_counts()"
      ],
      "metadata": {
        "colab": {
          "base_uri": "https://localhost:8080/"
        },
        "id": "y8V-zQN05JPY",
        "outputId": "ae370a68-c55c-4f65-c097-213a80822880"
      },
      "execution_count": null,
      "outputs": [
        {
          "output_type": "execute_result",
          "data": {
            "text/plain": [
              "0.0    9269\n",
              "1.0     450\n",
              "Name: forgntvl, dtype: int64"
            ]
          },
          "metadata": {},
          "execution_count": 204
        }
      ]
    },
    {
      "cell_type": "code",
      "source": [
        "X_pred['forgntvl'].fillna(0.0, inplace=True)"
      ],
      "metadata": {
        "id": "7ykRyuCj5JL3"
      },
      "execution_count": null,
      "outputs": []
    },
    {
      "cell_type": "code",
      "source": [
        "X_pred['forgntvl'].value_counts()"
      ],
      "metadata": {
        "colab": {
          "base_uri": "https://localhost:8080/"
        },
        "id": "2ONyJkD-5JIh",
        "outputId": "df75e16c-fb60-4db3-cec7-6e4374309e96"
      },
      "execution_count": null,
      "outputs": [
        {
          "output_type": "execute_result",
          "data": {
            "text/plain": [
              "0.0    9550\n",
              "1.0     450\n",
              "Name: forgntvl, dtype: int64"
            ]
          },
          "metadata": {},
          "execution_count": 206
        }
      ]
    },
    {
      "cell_type": "code",
      "source": [
        "X_pred['ethnic'].value_counts()"
      ],
      "metadata": {
        "colab": {
          "base_uri": "https://localhost:8080/"
        },
        "id": "-2-aAjvw5vBQ",
        "outputId": "b788b9d1-0174-48dd-9e0d-84f71ca6749c"
      },
      "execution_count": null,
      "outputs": [
        {
          "output_type": "execute_result",
          "data": {
            "text/plain": [
              "N    2989\n",
              "H    1652\n",
              "S    1123\n",
              "U     968\n",
              "G     458\n",
              "Z     445\n",
              "P     394\n",
              "O     387\n",
              "I     302\n",
              "C     244\n",
              "J     216\n",
              "F     187\n",
              "R      99\n",
              "B      95\n",
              "X      82\n",
              "D      66\n",
              "M      12\n",
              "Name: ethnic, dtype: int64"
            ]
          },
          "metadata": {},
          "execution_count": 207
        }
      ]
    },
    {
      "cell_type": "code",
      "source": [
        "X_pred['ethnic'].isnull().sum()"
      ],
      "metadata": {
        "colab": {
          "base_uri": "https://localhost:8080/"
        },
        "id": "w5VF_qXu5u-k",
        "outputId": "2e59eb19-9890-4a3c-a7b6-c277b4df5594"
      },
      "execution_count": null,
      "outputs": [
        {
          "output_type": "execute_result",
          "data": {
            "text/plain": [
              "281"
            ]
          },
          "metadata": {},
          "execution_count": 208
        }
      ]
    },
    {
      "cell_type": "code",
      "source": [
        "X_pred['ethnic'].fillna('N', inplace=True)"
      ],
      "metadata": {
        "id": "tMZUhaiu5u6Q"
      },
      "execution_count": null,
      "outputs": []
    },
    {
      "cell_type": "code",
      "source": [
        "X_pred['ethnic'].isnull().sum()"
      ],
      "metadata": {
        "colab": {
          "base_uri": "https://localhost:8080/"
        },
        "id": "X26XXyED5u3u",
        "outputId": "eea4e3ee-ada5-41bd-a07b-245819b77d24"
      },
      "execution_count": null,
      "outputs": [
        {
          "output_type": "execute_result",
          "data": {
            "text/plain": [
              "0"
            ]
          },
          "metadata": {},
          "execution_count": 210
        }
      ]
    },
    {
      "cell_type": "code",
      "source": [
        "X_pred['kid0_2'].value_counts()"
      ],
      "metadata": {
        "colab": {
          "base_uri": "https://localhost:8080/"
        },
        "id": "u_wrjwP05u07",
        "outputId": "01f4c306-aa21-4df8-c4bb-73cef5883837"
      },
      "execution_count": null,
      "outputs": [
        {
          "output_type": "execute_result",
          "data": {
            "text/plain": [
              "U    9318\n",
              "Y     401\n",
              "Name: kid0_2, dtype: int64"
            ]
          },
          "metadata": {},
          "execution_count": 211
        }
      ]
    },
    {
      "cell_type": "code",
      "source": [
        "X_pred['kid0_2'].isnull().sum()"
      ],
      "metadata": {
        "colab": {
          "base_uri": "https://localhost:8080/"
        },
        "id": "Z9VD_6gN5ux6",
        "outputId": "a971a30c-5a88-4340-bc92-03197e196c04"
      },
      "execution_count": null,
      "outputs": [
        {
          "output_type": "execute_result",
          "data": {
            "text/plain": [
              "281"
            ]
          },
          "metadata": {},
          "execution_count": 212
        }
      ]
    },
    {
      "cell_type": "code",
      "source": [
        "X_pred['kid0_2'].fillna('U', inplace=True)"
      ],
      "metadata": {
        "id": "5p9DxyQM5uu8"
      },
      "execution_count": null,
      "outputs": []
    },
    {
      "cell_type": "code",
      "source": [
        "X_pred['kid0_2'].isnull().sum()"
      ],
      "metadata": {
        "colab": {
          "base_uri": "https://localhost:8080/"
        },
        "id": "08xhVSLl5usZ",
        "outputId": "856cee17-4565-4b03-f2c9-2085a0450c15"
      },
      "execution_count": null,
      "outputs": [
        {
          "output_type": "execute_result",
          "data": {
            "text/plain": [
              "0"
            ]
          },
          "metadata": {},
          "execution_count": 214
        }
      ]
    },
    {
      "cell_type": "code",
      "source": [
        "X_pred['kid3_5'].value_counts()"
      ],
      "metadata": {
        "colab": {
          "base_uri": "https://localhost:8080/"
        },
        "id": "H5Iq5WSx6MaW",
        "outputId": "225f9a73-01e1-4aa2-f0a4-f2a423b12f99"
      },
      "execution_count": null,
      "outputs": [
        {
          "output_type": "execute_result",
          "data": {
            "text/plain": [
              "U    9264\n",
              "Y     455\n",
              "Name: kid3_5, dtype: int64"
            ]
          },
          "metadata": {},
          "execution_count": 215
        }
      ]
    },
    {
      "cell_type": "code",
      "source": [
        "X_pred['kid3_5'].isnull().sum()"
      ],
      "metadata": {
        "colab": {
          "base_uri": "https://localhost:8080/"
        },
        "id": "AAiskhu36MXn",
        "outputId": "b28ca5b8-cf96-4b44-d770-b28c7aaf438f"
      },
      "execution_count": null,
      "outputs": [
        {
          "output_type": "execute_result",
          "data": {
            "text/plain": [
              "281"
            ]
          },
          "metadata": {},
          "execution_count": 216
        }
      ]
    },
    {
      "cell_type": "code",
      "source": [
        "X_pred['kid3_5'].fillna('U', inplace=True)"
      ],
      "metadata": {
        "id": "dyWuyfK66MTE"
      },
      "execution_count": null,
      "outputs": []
    },
    {
      "cell_type": "code",
      "source": [
        "X_pred['kid3_5'].isnull().sum()"
      ],
      "metadata": {
        "colab": {
          "base_uri": "https://localhost:8080/"
        },
        "id": "UuARKy3_6MQX",
        "outputId": "19148f8b-8e29-45d8-c7bc-8418f1cdb24d"
      },
      "execution_count": null,
      "outputs": [
        {
          "output_type": "execute_result",
          "data": {
            "text/plain": [
              "0"
            ]
          },
          "metadata": {},
          "execution_count": 218
        }
      ]
    },
    {
      "cell_type": "code",
      "source": [
        "X_pred['kid6_10'].value_counts()"
      ],
      "metadata": {
        "colab": {
          "base_uri": "https://localhost:8080/"
        },
        "id": "XoCpG45_6MNw",
        "outputId": "0f97b12e-f33f-48c4-bc8d-9e9822dc667a"
      },
      "execution_count": null,
      "outputs": [
        {
          "output_type": "execute_result",
          "data": {
            "text/plain": [
              "U    8999\n",
              "Y     720\n",
              "Name: kid6_10, dtype: int64"
            ]
          },
          "metadata": {},
          "execution_count": 219
        }
      ]
    },
    {
      "cell_type": "code",
      "source": [
        "X_pred['kid6_10'].isnull().sum()"
      ],
      "metadata": {
        "colab": {
          "base_uri": "https://localhost:8080/"
        },
        "id": "5PtZMkAY6MLL",
        "outputId": "073d5ab4-6320-42a0-8fd0-fba3bff98cbf"
      },
      "execution_count": null,
      "outputs": [
        {
          "output_type": "execute_result",
          "data": {
            "text/plain": [
              "281"
            ]
          },
          "metadata": {},
          "execution_count": 220
        }
      ]
    },
    {
      "cell_type": "code",
      "source": [
        "X_pred['kid6_10'].fillna('U', inplace=True)"
      ],
      "metadata": {
        "id": "dwdWT8bH6fQn"
      },
      "execution_count": null,
      "outputs": []
    },
    {
      "cell_type": "code",
      "source": [
        "X_pred['kid6_10'].isnull().sum()"
      ],
      "metadata": {
        "colab": {
          "base_uri": "https://localhost:8080/"
        },
        "id": "NGbtnWDK6fNF",
        "outputId": "d25be0c6-2547-4e13-cedc-63f75051e8f5"
      },
      "execution_count": null,
      "outputs": [
        {
          "output_type": "execute_result",
          "data": {
            "text/plain": [
              "0"
            ]
          },
          "metadata": {},
          "execution_count": 222
        }
      ]
    },
    {
      "cell_type": "code",
      "source": [
        "X_pred['kid11_15'].value_counts()"
      ],
      "metadata": {
        "colab": {
          "base_uri": "https://localhost:8080/"
        },
        "id": "pi5Qvtbg6fJH",
        "outputId": "35bbc61f-c832-4d1a-b823-c72097816771"
      },
      "execution_count": null,
      "outputs": [
        {
          "output_type": "execute_result",
          "data": {
            "text/plain": [
              "U    8957\n",
              "Y     762\n",
              "Name: kid11_15, dtype: int64"
            ]
          },
          "metadata": {},
          "execution_count": 223
        }
      ]
    },
    {
      "cell_type": "code",
      "source": [
        "X_pred['kid11_15'].isnull().sum()"
      ],
      "metadata": {
        "colab": {
          "base_uri": "https://localhost:8080/"
        },
        "id": "XEZ3sb9I6fFZ",
        "outputId": "3883a3c4-e0fc-451e-baec-b9a4ec2bc7b4"
      },
      "execution_count": null,
      "outputs": [
        {
          "output_type": "execute_result",
          "data": {
            "text/plain": [
              "281"
            ]
          },
          "metadata": {},
          "execution_count": 224
        }
      ]
    },
    {
      "cell_type": "code",
      "source": [
        "X_pred['kid11_15'].fillna('U', inplace=True)"
      ],
      "metadata": {
        "id": "pPQU4G8-6fB6"
      },
      "execution_count": null,
      "outputs": []
    },
    {
      "cell_type": "code",
      "source": [
        "X_pred['kid11_15'].isnull().sum()"
      ],
      "metadata": {
        "colab": {
          "base_uri": "https://localhost:8080/"
        },
        "id": "pxsGFQbB6e_B",
        "outputId": "85637a50-dbf9-4108-a721-04ed094ab251"
      },
      "execution_count": null,
      "outputs": [
        {
          "output_type": "execute_result",
          "data": {
            "text/plain": [
              "0"
            ]
          },
          "metadata": {},
          "execution_count": 226
        }
      ]
    },
    {
      "cell_type": "code",
      "source": [
        "X_pred['kid16_17'].value_counts()"
      ],
      "metadata": {
        "colab": {
          "base_uri": "https://localhost:8080/"
        },
        "id": "ljzpG1KE6e4Q",
        "outputId": "a6a9b342-3c9a-4e67-e13f-5dac073fb4bd"
      },
      "execution_count": null,
      "outputs": [
        {
          "output_type": "execute_result",
          "data": {
            "text/plain": [
              "U    8885\n",
              "Y     834\n",
              "Name: kid16_17, dtype: int64"
            ]
          },
          "metadata": {},
          "execution_count": 227
        }
      ]
    },
    {
      "cell_type": "code",
      "source": [
        "X_pred['kid16_17'].isnull().sum()"
      ],
      "metadata": {
        "colab": {
          "base_uri": "https://localhost:8080/"
        },
        "id": "2lVq6WDn609A",
        "outputId": "6c5420f7-6192-4fbf-9d54-94262212240d"
      },
      "execution_count": null,
      "outputs": [
        {
          "output_type": "execute_result",
          "data": {
            "text/plain": [
              "281"
            ]
          },
          "metadata": {},
          "execution_count": 228
        }
      ]
    },
    {
      "cell_type": "code",
      "source": [
        "X_pred['kid16_17'].fillna('U', inplace=True)"
      ],
      "metadata": {
        "id": "71_gAfjp606e"
      },
      "execution_count": null,
      "outputs": []
    },
    {
      "cell_type": "code",
      "source": [
        "X_pred['kid16_17'].isnull().sum()"
      ],
      "metadata": {
        "colab": {
          "base_uri": "https://localhost:8080/"
        },
        "id": "rIQTCQpe602J",
        "outputId": "1006d47b-a784-4bd0-9a8d-7dd3224c994f"
      },
      "execution_count": null,
      "outputs": [
        {
          "output_type": "execute_result",
          "data": {
            "text/plain": [
              "0"
            ]
          },
          "metadata": {},
          "execution_count": 230
        }
      ]
    },
    {
      "cell_type": "code",
      "source": [
        "X_pred['creditcd'].value_counts()"
      ],
      "metadata": {
        "colab": {
          "base_uri": "https://localhost:8080/"
        },
        "id": "EfuL_39U60zY",
        "outputId": "4b46f4d4-8462-4764-cf00-d50065055906"
      },
      "execution_count": null,
      "outputs": [
        {
          "output_type": "execute_result",
          "data": {
            "text/plain": [
              "Y    5518\n",
              "N    4201\n",
              "Name: creditcd, dtype: int64"
            ]
          },
          "metadata": {},
          "execution_count": 231
        }
      ]
    },
    {
      "cell_type": "code",
      "source": [
        "X_pred['creditcd'].isnull().sum()"
      ],
      "metadata": {
        "colab": {
          "base_uri": "https://localhost:8080/"
        },
        "id": "1SIS6jnl60wc",
        "outputId": "13373aab-6fa1-4e47-f244-6a5e6a727ebb"
      },
      "execution_count": null,
      "outputs": [
        {
          "output_type": "execute_result",
          "data": {
            "text/plain": [
              "281"
            ]
          },
          "metadata": {},
          "execution_count": 232
        }
      ]
    },
    {
      "cell_type": "code",
      "source": [
        "X_pred['creditcd'].fillna('Y', inplace=True)"
      ],
      "metadata": {
        "id": "BEuPGWr460tn"
      },
      "execution_count": null,
      "outputs": []
    },
    {
      "cell_type": "code",
      "source": [
        "X_pred.hist('eqpdays')"
      ],
      "metadata": {
        "colab": {
          "base_uri": "https://localhost:8080/",
          "height": 469
        },
        "id": "9_tCe3kH60qj",
        "outputId": "42e250e4-023e-4375-d4f0-3d029b942ccd"
      },
      "execution_count": null,
      "outputs": [
        {
          "output_type": "execute_result",
          "data": {
            "text/plain": [
              "array([[<Axes: title={'center': 'eqpdays'}>]], dtype=object)"
            ]
          },
          "metadata": {},
          "execution_count": 234
        },
        {
          "output_type": "display_data",
          "data": {
            "text/plain": [
              "<Figure size 640x480 with 1 Axes>"
            ],
            "image/png": "[encoded data removed]"
          },
          "metadata": {}
        }
      ]
    },
    {
      "cell_type": "code",
      "source": [
        "X_pred['eqpdays'].isnull().sum()"
      ],
      "metadata": {
        "colab": {
          "base_uri": "https://localhost:8080/"
        },
        "id": "84a45wPo7Xsm",
        "outputId": "4adb342f-6371-4201-aecb-c5856b08dede"
      },
      "execution_count": null,
      "outputs": [
        {
          "output_type": "execute_result",
          "data": {
            "text/plain": [
              "0"
            ]
          },
          "metadata": {},
          "execution_count": 235
        }
      ]
    },
    {
      "cell_type": "code",
      "source": [
        "X_pred['eqpdays'].fillna(-999, inplace=True)"
      ],
      "metadata": {
        "id": "EUsD6_ow7Xpz"
      },
      "execution_count": null,
      "outputs": []
    },
    {
      "cell_type": "code",
      "source": [
        "X_pred['eqpdays'].isnull().sum()"
      ],
      "metadata": {
        "colab": {
          "base_uri": "https://localhost:8080/"
        },
        "id": "oytZQzLD7XlJ",
        "outputId": "46ad26bf-2c1f-4026-8595-19a0b5901e04"
      },
      "execution_count": null,
      "outputs": [
        {
          "output_type": "execute_result",
          "data": {
            "text/plain": [
              "0"
            ]
          },
          "metadata": {},
          "execution_count": 237
        }
      ]
    },
    {
      "cell_type": "code",
      "source": [
        "len(X_pred.index.unique())==len(X_pred.index)"
      ],
      "metadata": {
        "colab": {
          "base_uri": "https://localhost:8080/"
        },
        "id": "f-Xcxo4e7XiD",
        "outputId": "b6a0fbf3-397a-4c32-dd0e-dda687a3697b"
      },
      "execution_count": null,
      "outputs": [
        {
          "output_type": "execute_result",
          "data": {
            "text/plain": [
              "True"
            ]
          },
          "metadata": {},
          "execution_count": 238
        }
      ]
    },
    {
      "cell_type": "code",
      "source": [
        "X_pred.shape"
      ],
      "metadata": {
        "colab": {
          "base_uri": "https://localhost:8080/"
        },
        "id": "BIIQRJmZ7XfJ",
        "outputId": "b5f9f4d6-f356-4f2d-fd79-df6ce32c1994"
      },
      "execution_count": null,
      "outputs": [
        {
          "output_type": "execute_result",
          "data": {
            "text/plain": [
              "(10000, 98)"
            ]
          },
          "metadata": {},
          "execution_count": 239
        }
      ]
    },
    {
      "cell_type": "code",
      "source": [
        "X_pred.info()"
      ],
      "metadata": {
        "colab": {
          "base_uri": "https://localhost:8080/"
        },
        "id": "A7tc9m-g7Xbp",
        "outputId": "3425aeff-736c-4264-8727-67ed47a1ca62"
      },
      "execution_count": null,
      "outputs": [
        {
          "output_type": "stream",
          "name": "stdout",
          "text": [
            "<class 'pandas.core.frame.DataFrame'>\n",
            "Int64Index: 10000 entries, 1090001 to 1100000\n",
            "Data columns (total 98 columns):\n",
            " #   Column            Non-Null Count  Dtype  \n",
            "---  ------            --------------  -----  \n",
            " 0   rev               10000 non-null  float64\n",
            " 1   mou               10000 non-null  float64\n",
            " 2   totmrc            10000 non-null  float64\n",
            " 3   da                10000 non-null  float64\n",
            " 4   ovrmou            10000 non-null  float64\n",
            " 5   ovrrev            10000 non-null  float64\n",
            " 6   vceovr            10000 non-null  float64\n",
            " 7   datovr            10000 non-null  float64\n",
            " 8   roam              10000 non-null  float64\n",
            " 9   change_mou        10000 non-null  float64\n",
            " 10  change_rev        10000 non-null  float64\n",
            " 11  drop_vce          10000 non-null  float64\n",
            " 12  drop_dat          10000 non-null  float64\n",
            " 13  blck_vce          10000 non-null  float64\n",
            " 14  blck_dat          10000 non-null  float64\n",
            " 15  unan_vce          10000 non-null  float64\n",
            " 16  unan_dat          10000 non-null  float64\n",
            " 17  plcd_vce          10000 non-null  float64\n",
            " 18  plcd_dat          10000 non-null  float64\n",
            " 19  recv_vce          10000 non-null  float64\n",
            " 20  recv_sms          10000 non-null  float64\n",
            " 21  comp_vce          10000 non-null  float64\n",
            " 22  comp_dat          10000 non-null  float64\n",
            " 23  custcare          10000 non-null  float64\n",
            " 24  ccrndmou          10000 non-null  float64\n",
            " 25  cc_mou            10000 non-null  float64\n",
            " 26  inonemin          10000 non-null  float64\n",
            " 27  threeway          10000 non-null  float64\n",
            " 28  mou_cvce          10000 non-null  float64\n",
            " 29  mou_cdat          10000 non-null  float64\n",
            " 30  mou_rvce          10000 non-null  float64\n",
            " 31  owylis_vce        10000 non-null  float64\n",
            " 32  mouowylisv        10000 non-null  float64\n",
            " 33  iwylis_vce        10000 non-null  float64\n",
            " 34  mouiwylisv        10000 non-null  float64\n",
            " 35  peak_vce          10000 non-null  float64\n",
            " 36  peak_dat          10000 non-null  float64\n",
            " 37  mou_peav          10000 non-null  float64\n",
            " 38  mou_pead          10000 non-null  float64\n",
            " 39  opk_vce           10000 non-null  float64\n",
            " 40  opk_dat           10000 non-null  float64\n",
            " 41  mou_opkv          10000 non-null  float64\n",
            " 42  mou_opkd          10000 non-null  float64\n",
            " 43  drop_blk          10000 non-null  float64\n",
            " 44  attempt           10000 non-null  float64\n",
            " 45  complete          10000 non-null  float64\n",
            " 46  callfwdv          10000 non-null  float64\n",
            " 47  callwait          10000 non-null  float64\n",
            " 48  months            10000 non-null  int64  \n",
            " 49  uniqsubs          10000 non-null  int64  \n",
            " 50  actvsubs          10000 non-null  int64  \n",
            " 51  new_cell          10000 non-null  object \n",
            " 52  crclscod          10000 non-null  object \n",
            " 53  asl_flag          10000 non-null  object \n",
            " 54  totcalls          10000 non-null  int64  \n",
            " 55  totmou            10000 non-null  float64\n",
            " 56  totrev            10000 non-null  float64\n",
            " 57  adjrev            10000 non-null  float64\n",
            " 58  adjmou            10000 non-null  float64\n",
            " 59  adjqty            10000 non-null  int64  \n",
            " 60  avgrev            10000 non-null  float64\n",
            " 61  avgmou            10000 non-null  float64\n",
            " 62  avgqty            10000 non-null  float64\n",
            " 63  avg3mou           10000 non-null  int64  \n",
            " 64  avg3qty           10000 non-null  int64  \n",
            " 65  avg3rev           10000 non-null  int64  \n",
            " 66  avg6mou           10000 non-null  float64\n",
            " 67  avg6qty           10000 non-null  float64\n",
            " 68  avg6rev           10000 non-null  float64\n",
            " 69  prizm_social_one  10000 non-null  object \n",
            " 70  area              10000 non-null  object \n",
            " 71  dualband          10000 non-null  object \n",
            " 72  refurb_new        10000 non-null  object \n",
            " 73  hnd_price         10000 non-null  float64\n",
            " 74  phones            10000 non-null  float64\n",
            " 75  models            10000 non-null  float64\n",
            " 76  hnd_webcap        10000 non-null  object \n",
            " 77  truck             10000 non-null  float64\n",
            " 78  rv                10000 non-null  float64\n",
            " 79  ownrent           10000 non-null  object \n",
            " 80  lor               10000 non-null  float64\n",
            " 81  dwlltype          10000 non-null  object \n",
            " 82  marital           10000 non-null  object \n",
            " 83  adults            10000 non-null  float64\n",
            " 84  infobase          10000 non-null  object \n",
            " 85  income            10000 non-null  float64\n",
            " 86  numbcars          10000 non-null  float64\n",
            " 87  HHstatin          10000 non-null  object \n",
            " 88  dwllsize          10000 non-null  object \n",
            " 89  forgntvl          10000 non-null  float64\n",
            " 90  ethnic            10000 non-null  object \n",
            " 91  kid0_2            10000 non-null  object \n",
            " 92  kid3_5            10000 non-null  object \n",
            " 93  kid6_10           10000 non-null  object \n",
            " 94  kid11_15          10000 non-null  object \n",
            " 95  kid16_17          10000 non-null  object \n",
            " 96  creditcd          10000 non-null  object \n",
            " 97  eqpdays           10000 non-null  float64\n",
            "dtypes: float64(69), int64(8), object(21)\n",
            "memory usage: 7.8+ MB\n"
          ]
        }
      ]
    },
    {
      "cell_type": "code",
      "source": [
        "X_pred.shape"
      ],
      "metadata": {
        "colab": {
          "base_uri": "https://localhost:8080/"
        },
        "id": "YgSXY-M07XZJ",
        "outputId": "3aacc579-2fa1-442a-9e5d-5397143edc3f"
      },
      "execution_count": null,
      "outputs": [
        {
          "output_type": "execute_result",
          "data": {
            "text/plain": [
              "(10000, 98)"
            ]
          },
          "metadata": {},
          "execution_count": 241
        }
      ]
    },
    {
      "cell_type": "code",
      "source": [
        "if X_pred.isnull().sum().any() == False:\n",
        "\n",
        "  print('El dataset no contiene nulos a imputar')"
      ],
      "metadata": {
        "colab": {
          "base_uri": "https://localhost:8080/"
        },
        "id": "zkLJgVRY7veW",
        "outputId": "9a8ca52d-bd70-4872-b61a-bdce71c114e6"
      },
      "execution_count": null,
      "outputs": [
        {
          "output_type": "stream",
          "name": "stdout",
          "text": [
            "El dataset no contiene nulos a imputar\n"
          ]
        }
      ]
    },
    {
      "cell_type": "code",
      "source": [
        "del(X_pred[\"infobase\"])"
      ],
      "metadata": {
        "id": "kpzBpAiX7yCN"
      },
      "execution_count": null,
      "outputs": []
    },
    {
      "cell_type": "code",
      "source": [
        "X_pred.head()"
      ],
      "metadata": {
        "colab": {
          "base_uri": "https://localhost:8080/",
          "height": 301
        },
        "id": "1opaE57W7x9q",
        "outputId": "698a87fb-231c-4505-89dd-7eadb343d8c8"
      },
      "execution_count": null,
      "outputs": [
        {
          "output_type": "execute_result",
          "data": {
            "text/plain": [
              "                  rev      mou    totmrc      da  ovrmou  ovrrev  vceovr  \\\n",
              "Customer_ID                                                                \n",
              "1090001       30.8350   136.75   29.9900  0.2475    1.25   0.500     0.5   \n",
              "1090002       35.8475   352.75   24.2700  0.4950   23.25   9.285     8.7   \n",
              "1090003       30.3275   241.50   39.9900  0.0000    0.00   0.000     0.0   \n",
              "1090004      154.6925  2297.00  149.9900  4.7025    0.00   0.000     0.0   \n",
              "1090005      156.0050   542.25   48.9475  0.7425   70.75  28.295    28.1   \n",
              "\n",
              "             datovr    roam  change_mou  change_rev   drop_vce  drop_dat  \\\n",
              "Customer_ID                                                                \n",
              "1090001       0.000  0.0975       48.25      1.1550   2.000000  0.000000   \n",
              "1090002       0.585  1.8000     -352.75    -35.8475   9.000000  0.000000   \n",
              "1090003       0.000  0.0000      -86.50      0.8625   2.000000  0.000000   \n",
              "1090004       0.000  0.0000      119.00      0.2475  20.333333  0.000000   \n",
              "1090005       0.195  0.0000      195.75     40.0150   5.666667  0.333333   \n",
              "\n",
              "              blck_vce  blck_dat    unan_vce  unan_dat     plcd_vce  plcd_dat  \\\n",
              "Customer_ID                                                                     \n",
              "1090001      10.333333       0.0   13.333333       0.0    66.000000  0.000000   \n",
              "1090002       0.000000       0.0   10.000000       0.0    82.666667  1.000000   \n",
              "1090003       4.666667       0.0   20.666667       0.0    85.333333  0.000000   \n",
              "1090004       5.000000       0.0  329.333333       0.0  1067.000000  0.000000   \n",
              "1090005       0.666667       0.0   46.333333       0.0   167.666667  0.666667   \n",
              "\n",
              "               recv_vce  recv_sms    comp_vce  comp_dat   custcare   ccrndmou  \\\n",
              "Customer_ID                                                                     \n",
              "1090001        3.333333       0.0   40.666667  0.000000   1.333333   1.333333   \n",
              "1090002       31.000000       0.0   65.333333  1.000000   3.666667   9.000000   \n",
              "1090003       26.666667       0.0   59.333333  0.000000   4.333333   6.333333   \n",
              "1090004      628.000000       0.0  723.000000  0.000000   0.333333   0.666667   \n",
              "1090005       11.333333       0.0  115.000000  0.333333  21.666667  48.000000   \n",
              "\n",
              "                cc_mou    inonemin  threeway    mou_cvce  mou_cdat  \\\n",
              "Customer_ID                                                          \n",
              "1090001       0.896667    0.666667  0.333333   71.746667  0.000000   \n",
              "1090002       5.890000   18.333333  1.333333   98.543333  1.023333   \n",
              "1090003       4.466667   17.000000  1.666667  143.530000  0.000000   \n",
              "1090004       0.376667  408.000000  0.000000  769.136667  0.000000   \n",
              "1090005      31.346667   10.000000  0.333333  343.066667  0.010000   \n",
              "\n",
              "               mou_rvce  owylis_vce  mouowylisv  iwylis_vce  mouiwylisv  \\\n",
              "Customer_ID                                                               \n",
              "1090001        5.406667    1.333333    0.713333    0.333333    0.473333   \n",
              "1090002       83.666667   15.666667   12.683333    1.333333   14.286667   \n",
              "1090003       27.373333    9.666667    3.760000   19.666667   21.736667   \n",
              "1090004      679.020000  271.000000  167.090000   68.666667  150.656667   \n",
              "1090005       11.243333   13.000000   14.563333    1.333333    2.100000   \n",
              "\n",
              "               peak_vce  peak_dat    mou_peav  mou_pead     opk_vce   opk_dat  \\\n",
              "Customer_ID                                                                     \n",
              "1090001       30.000000       0.0   54.500000       0.0   13.666667  0.000000   \n",
              "1090002       38.000000       0.0  106.926667       0.0   43.666667  1.000000   \n",
              "1090003       48.666667       0.0   76.356667       0.0   36.000000  0.000000   \n",
              "1090004      723.000000       0.0  961.736667       0.0  346.000000  0.000000   \n",
              "1090005       91.000000       0.0  205.216667       0.0   31.000000  0.333333   \n",
              "\n",
              "               mou_opkv  mou_opkd   drop_blk      attempt    complete  \\\n",
              "Customer_ID                                                             \n",
              "1090001       22.653333  0.000000  12.333333    66.000000   40.666667   \n",
              "1090002       75.283333  1.023333   9.000000    83.666667   66.333333   \n",
              "1090003       94.543333  0.000000   6.666667    85.333333   59.333333   \n",
              "1090004      486.420000  0.000000  25.333333  1067.000000  723.000000   \n",
              "1090005      149.096667  0.010000   6.666667   168.333333  115.333333   \n",
              "\n",
              "             callfwdv  callwait  months  uniqsubs  actvsubs new_cell crclscod  \\\n",
              "Customer_ID                                                                     \n",
              "1090001           0.0  0.000000       7         1         1        U       AA   \n",
              "1090002           0.0  1.333333       7         1         1        U       EA   \n",
              "1090003           0.0  0.333333       9         2         2        Y        A   \n",
              "1090004           0.0  8.333333      11         1         1        U       AA   \n",
              "1090005           0.0  0.666667       9         1         1        U       CA   \n",
              "\n",
              "            asl_flag  totcalls   totmou   totrev   adjrev   adjmou  adjqty  \\\n",
              "Customer_ID                                                                  \n",
              "1090001            N       393    958.0   248.46   182.94    958.0     393   \n",
              "1090002            Y      1641   4011.0   391.87   305.59   3998.0    1634   \n",
              "1090003            N       780   1889.0   312.91   219.45   1772.0     734   \n",
              "1090004            N      9018  18478.0  2217.05  2131.17  18478.0    9018   \n",
              "1090005            Y       791   2601.0   879.51   608.66   2601.0     791   \n",
              "\n",
              "             avgrev   avgmou  avgqty  avg3mou  avg3qty  avg3rev  avg6mou  \\\n",
              "Customer_ID                                                                \n",
              "1090001       30.49   159.67   65.50      121       52       30    160.0   \n",
              "1090002       50.93   666.33  272.33      470      181       48    666.0   \n",
              "1090003       31.35   253.14  104.86      270      107       30    273.0   \n",
              "1090004      213.12  1847.80  901.80     2257     1045      155   2452.0   \n",
              "1090005       86.95   371.57  113.00      477      130      143    349.0   \n",
              "\n",
              "             avg6qty  avg6rev prizm_social_one       area dualband refurb_new  \\\n",
              "Customer_ID                                                                     \n",
              "1090001         66.0     31.0                C  Southeast        Y          N   \n",
              "1090002        272.0     51.0                C       West        T          N   \n",
              "1090003        109.0     31.0                T  Southwest        N          N   \n",
              "1090004       1171.0    278.0                S  Southeast        N          R   \n",
              "1090005        103.0     91.0                U       West        Y          N   \n",
              "\n",
              "             hnd_price  phones  models hnd_webcap  truck   rv ownrent    lor  \\\n",
              "Customer_ID                                                                    \n",
              "1090001      149.98999     1.0     1.0       WCMB    0.0  0.0       R -999.0   \n",
              "1090002       99.98999     2.0     1.0       WCMB    0.0  0.0       O -999.0   \n",
              "1090003      129.98999     1.0     1.0       WCMB    1.0  0.0       O   13.0   \n",
              "1090004       79.98999     2.0     1.0       WCMB    0.0  0.0       O    3.0   \n",
              "1090005      149.98999     2.0     1.0       WCMB    0.0  0.0       O    1.0   \n",
              "\n",
              "            dwlltype marital  adults  income  numbcars HHstatin dwllsize  \\\n",
              "Customer_ID                                                                \n",
              "1090001            M       M     1.0     3.0    -999.0        C        A   \n",
              "1090002            S       U     2.0  -999.0    -999.0        C        A   \n",
              "1090003            S       M     3.0     6.0       1.0        C        A   \n",
              "1090004            S       U     3.0     6.0       1.0        C        A   \n",
              "1090005            M       S     1.0     6.0       1.0        C        A   \n",
              "\n",
              "             forgntvl ethnic kid0_2 kid3_5 kid6_10 kid11_15 kid16_17 creditcd  \\\n",
              "Customer_ID                                                                     \n",
              "1090001           1.0      U      U      U       U        U        U        Y   \n",
              "1090002           0.0      N      U      U       U        U        U        N   \n",
              "1090003           0.0      N      U      U       U        U        U        Y   \n",
              "1090004           0.0      S      U      U       U        U        U        Y   \n",
              "1090005           0.0      N      U      U       U        U        U        Y   \n",
              "\n",
              "             eqpdays  \n",
              "Customer_ID           \n",
              "1090001        216.0  \n",
              "1090002        101.0  \n",
              "1090003        262.0  \n",
              "1090004        127.0  \n",
              "1090005         37.0  "
            ],
            "text/html": [
              "\n",
              "\n",
              "  <div id=\"df-890d61e2-c781-4c17-8aad-29a784f056cb\">\n",
              "    <div class=\"colab-df-container\">\n",
              "      <div>\n",
              "<style scoped>\n",
              "    .dataframe tbody tr th:only-of-type {\n",
              "        vertical-align: middle;\n",
              "    }\n",
              "\n",
              "    .dataframe tbody tr th {\n",
              "        vertical-align: top;\n",
              "    }\n",
              "\n",
              "    .dataframe thead th {\n",
              "        text-align: right;\n",
              "    }\n",
              "</style>\n",
              "<table border=\"1\" class=\"dataframe\">\n",
              "  <thead>\n",
              "    <tr style=\"text-align: right;\">\n",
              "      <th></th>\n",
              "      <th>rev</th>\n",
              "      <th>mou</th>\n",
              "      <th>totmrc</th>\n",
              "      <th>da</th>\n",
              "      <th>ovrmou</th>\n",
              "      <th>ovrrev</th>\n",
              "      <th>vceovr</th>\n",
              "      <th>datovr</th>\n",
              "      <th>roam</th>\n",
              "      <th>change_mou</th>\n",
              "      <th>change_rev</th>\n",
              "      <th>drop_vce</th>\n",
              "      <th>drop_dat</th>\n",
              "      <th>blck_vce</th>\n",
              "      <th>blck_dat</th>\n",
              "      <th>unan_vce</th>\n",
              "      <th>unan_dat</th>\n",
              "      <th>plcd_vce</th>\n",
              "      <th>plcd_dat</th>\n",
              "      <th>recv_vce</th>\n",
              "      <th>recv_sms</th>\n",
              "      <th>comp_vce</th>\n",
              "      <th>comp_dat</th>\n",
              "      <th>custcare</th>\n",
              "      <th>ccrndmou</th>\n",
              "      <th>cc_mou</th>\n",
              "      <th>inonemin</th>\n",
              "      <th>threeway</th>\n",
              "      <th>mou_cvce</th>\n",
              "      <th>mou_cdat</th>\n",
              "      <th>mou_rvce</th>\n",
              "      <th>owylis_vce</th>\n",
              "      <th>mouowylisv</th>\n",
              "      <th>iwylis_vce</th>\n",
              "      <th>mouiwylisv</th>\n",
              "      <th>peak_vce</th>\n",
              "      <th>peak_dat</th>\n",
              "      <th>mou_peav</th>\n",
              "      <th>mou_pead</th>\n",
              "      <th>opk_vce</th>\n",
              "      <th>opk_dat</th>\n",
              "      <th>mou_opkv</th>\n",
              "      <th>mou_opkd</th>\n",
              "      <th>drop_blk</th>\n",
              "      <th>attempt</th>\n",
              "      <th>complete</th>\n",
              "      <th>callfwdv</th>\n",
              "      <th>callwait</th>\n",
              "      <th>months</th>\n",
              "      <th>uniqsubs</th>\n",
              "      <th>actvsubs</th>\n",
              "      <th>new_cell</th>\n",
              "      <th>crclscod</th>\n",
              "      <th>asl_flag</th>\n",
              "      <th>totcalls</th>\n",
              "      <th>totmou</th>\n",
              "      <th>totrev</th>\n",
              "      <th>adjrev</th>\n",
              "      <th>adjmou</th>\n",
              "      <th>adjqty</th>\n",
              "      <th>avgrev</th>\n",
              "      <th>avgmou</th>\n",
              "      <th>avgqty</th>\n",
              "      <th>avg3mou</th>\n",
              "      <th>avg3qty</th>\n",
              "      <th>avg3rev</th>\n",
              "      <th>avg6mou</th>\n",
              "      <th>avg6qty</th>\n",
              "      <th>avg6rev</th>\n",
              "      <th>prizm_social_one</th>\n",
              "      <th>area</th>\n",
              "      <th>dualband</th>\n",
              "      <th>refurb_new</th>\n",
              "      <th>hnd_price</th>\n",
              "      <th>phones</th>\n",
              "      <th>models</th>\n",
              "      <th>hnd_webcap</th>\n",
              "      <th>truck</th>\n",
              "      <th>rv</th>\n",
              "      <th>ownrent</th>\n",
              "      <th>lor</th>\n",
              "      <th>dwlltype</th>\n",
              "      <th>marital</th>\n",
              "      <th>adults</th>\n",
              "      <th>income</th>\n",
              "      <th>numbcars</th>\n",
              "      <th>HHstatin</th>\n",
              "      <th>dwllsize</th>\n",
              "      <th>forgntvl</th>\n",
              "      <th>ethnic</th>\n",
              "      <th>kid0_2</th>\n",
              "      <th>kid3_5</th>\n",
              "      <th>kid6_10</th>\n",
              "      <th>kid11_15</th>\n",
              "      <th>kid16_17</th>\n",
              "      <th>creditcd</th>\n",
              "      <th>eqpdays</th>\n",
              "    </tr>\n",
              "    <tr>\n",
              "      <th>Customer_ID</th>\n",
              "      <th></th>\n",
              "      <th></th>\n",
              "      <th></th>\n",
              "      <th></th>\n",
              "      <th></th>\n",
              "      <th></th>\n",
              "      <th></th>\n",
              "      <th></th>\n",
              "      <th></th>\n",
              "      <th></th>\n",
              "      <th></th>\n",
              "      <th></th>\n",
              "      <th></th>\n",
              "      <th></th>\n",
              "      <th></th>\n",
              "      <th></th>\n",
              "      <th></th>\n",
              "      <th></th>\n",
              "      <th></th>\n",
              "      <th></th>\n",
              "      <th></th>\n",
              "      <th></th>\n",
              "      <th></th>\n",
              "      <th></th>\n",
              "      <th></th>\n",
              "      <th></th>\n",
              "      <th></th>\n",
              "      <th></th>\n",
              "      <th></th>\n",
              "      <th></th>\n",
              "      <th></th>\n",
              "      <th></th>\n",
              "      <th></th>\n",
              "      <th></th>\n",
              "      <th></th>\n",
              "      <th></th>\n",
              "      <th></th>\n",
              "      <th></th>\n",
              "      <th></th>\n",
              "      <th></th>\n",
              "      <th></th>\n",
              "      <th></th>\n",
              "      <th></th>\n",
              "      <th></th>\n",
              "      <th></th>\n",
              "      <th></th>\n",
              "      <th></th>\n",
              "      <th></th>\n",
              "      <th></th>\n",
              "      <th></th>\n",
              "      <th></th>\n",
              "      <th></th>\n",
              "      <th></th>\n",
              "      <th></th>\n",
              "      <th></th>\n",
              "      <th></th>\n",
              "      <th></th>\n",
              "      <th></th>\n",
              "      <th></th>\n",
              "      <th></th>\n",
              "      <th></th>\n",
              "      <th></th>\n",
              "      <th></th>\n",
              "      <th></th>\n",
              "      <th></th>\n",
              "      <th></th>\n",
              "      <th></th>\n",
              "      <th></th>\n",
              "      <th></th>\n",
              "      <th></th>\n",
              "      <th></th>\n",
              "      <th></th>\n",
              "      <th></th>\n",
              "      <th></th>\n",
              "      <th></th>\n",
              "      <th></th>\n",
              "      <th></th>\n",
              "      <th></th>\n",
              "      <th></th>\n",
              "      <th></th>\n",
              "      <th></th>\n",
              "      <th></th>\n",
              "      <th></th>\n",
              "      <th></th>\n",
              "      <th></th>\n",
              "      <th></th>\n",
              "      <th></th>\n",
              "      <th></th>\n",
              "      <th></th>\n",
              "      <th></th>\n",
              "      <th></th>\n",
              "      <th></th>\n",
              "      <th></th>\n",
              "      <th></th>\n",
              "      <th></th>\n",
              "      <th></th>\n",
              "      <th></th>\n",
              "    </tr>\n",
              "  </thead>\n",
              "  <tbody>\n",
              "    <tr>\n",
              "      <th>1090001</th>\n",
              "      <td>30.8350</td>\n",
              "      <td>136.75</td>\n",
              "      <td>29.9900</td>\n",
              "      <td>0.2475</td>\n",
              "      <td>1.25</td>\n",
              "      <td>0.500</td>\n",
              "      <td>0.5</td>\n",
              "      <td>0.000</td>\n",
              "      <td>0.0975</td>\n",
              "      <td>48.25</td>\n",
              "      <td>1.1550</td>\n",
              "      <td>2.000000</td>\n",
              "      <td>0.000000</td>\n",
              "      <td>10.333333</td>\n",
              "      <td>0.0</td>\n",
              "      <td>13.333333</td>\n",
              "      <td>0.0</td>\n",
              "      <td>66.000000</td>\n",
              "      <td>0.000000</td>\n",
              "      <td>3.333333</td>\n",
              "      <td>0.0</td>\n",
              "      <td>40.666667</td>\n",
              "      <td>0.000000</td>\n",
              "      <td>1.333333</td>\n",
              "      <td>1.333333</td>\n",
              "      <td>0.896667</td>\n",
              "      <td>0.666667</td>\n",
              "      <td>0.333333</td>\n",
              "      <td>71.746667</td>\n",
              "      <td>0.000000</td>\n",
              "      <td>5.406667</td>\n",
              "      <td>1.333333</td>\n",
              "      <td>0.713333</td>\n",
              "      <td>0.333333</td>\n",
              "      <td>0.473333</td>\n",
              "      <td>30.000000</td>\n",
              "      <td>0.0</td>\n",
              "      <td>54.500000</td>\n",
              "      <td>0.0</td>\n",
              "      <td>13.666667</td>\n",
              "      <td>0.000000</td>\n",
              "      <td>22.653333</td>\n",
              "      <td>0.000000</td>\n",
              "      <td>12.333333</td>\n",
              "      <td>66.000000</td>\n",
              "      <td>40.666667</td>\n",
              "      <td>0.0</td>\n",
              "      <td>0.000000</td>\n",
              "      <td>7</td>\n",
              "      <td>1</td>\n",
              "      <td>1</td>\n",
              "      <td>U</td>\n",
              "      <td>AA</td>\n",
              "      <td>N</td>\n",
              "      <td>393</td>\n",
              "      <td>958.0</td>\n",
              "      <td>248.46</td>\n",
              "      <td>182.94</td>\n",
              "      <td>958.0</td>\n",
              "      <td>393</td>\n",
              "      <td>30.49</td>\n",
              "      <td>159.67</td>\n",
              "      <td>65.50</td>\n",
              "      <td>121</td>\n",
              "      <td>52</td>\n",
              "      <td>30</td>\n",
              "      <td>160.0</td>\n",
              "      <td>66.0</td>\n",
              "      <td>31.0</td>\n",
              "      <td>C</td>\n",
              "      <td>Southeast</td>\n",
              "      <td>Y</td>\n",
              "      <td>N</td>\n",
              "      <td>149.98999</td>\n",
              "      <td>1.0</td>\n",
              "      <td>1.0</td>\n",
              "      <td>WCMB</td>\n",
              "      <td>0.0</td>\n",
              "      <td>0.0</td>\n",
              "      <td>R</td>\n",
              "      <td>-999.0</td>\n",
              "      <td>M</td>\n",
              "      <td>M</td>\n",
              "      <td>1.0</td>\n",
              "      <td>3.0</td>\n",
              "      <td>-999.0</td>\n",
              "      <td>C</td>\n",
              "      <td>A</td>\n",
              "      <td>1.0</td>\n",
              "      <td>U</td>\n",
              "      <td>U</td>\n",
              "      <td>U</td>\n",
              "      <td>U</td>\n",
              "      <td>U</td>\n",
              "      <td>U</td>\n",
              "      <td>Y</td>\n",
              "      <td>216.0</td>\n",
              "    </tr>\n",
              "    <tr>\n",
              "      <th>1090002</th>\n",
              "      <td>35.8475</td>\n",
              "      <td>352.75</td>\n",
              "      <td>24.2700</td>\n",
              "      <td>0.4950</td>\n",
              "      <td>23.25</td>\n",
              "      <td>9.285</td>\n",
              "      <td>8.7</td>\n",
              "      <td>0.585</td>\n",
              "      <td>1.8000</td>\n",
              "      <td>-352.75</td>\n",
              "      <td>-35.8475</td>\n",
              "      <td>9.000000</td>\n",
              "      <td>0.000000</td>\n",
              "      <td>0.000000</td>\n",
              "      <td>0.0</td>\n",
              "      <td>10.000000</td>\n",
              "      <td>0.0</td>\n",
              "      <td>82.666667</td>\n",
              "      <td>1.000000</td>\n",
              "      <td>31.000000</td>\n",
              "      <td>0.0</td>\n",
              "      <td>65.333333</td>\n",
              "      <td>1.000000</td>\n",
              "      <td>3.666667</td>\n",
              "      <td>9.000000</td>\n",
              "      <td>5.890000</td>\n",
              "      <td>18.333333</td>\n",
              "      <td>1.333333</td>\n",
              "      <td>98.543333</td>\n",
              "      <td>1.023333</td>\n",
              "      <td>83.666667</td>\n",
              "      <td>15.666667</td>\n",
              "      <td>12.683333</td>\n",
              "      <td>1.333333</td>\n",
              "      <td>14.286667</td>\n",
              "      <td>38.000000</td>\n",
              "      <td>0.0</td>\n",
              "      <td>106.926667</td>\n",
              "      <td>0.0</td>\n",
              "      <td>43.666667</td>\n",
              "      <td>1.000000</td>\n",
              "      <td>75.283333</td>\n",
              "      <td>1.023333</td>\n",
              "      <td>9.000000</td>\n",
              "      <td>83.666667</td>\n",
              "      <td>66.333333</td>\n",
              "      <td>0.0</td>\n",
              "      <td>1.333333</td>\n",
              "      <td>7</td>\n",
              "      <td>1</td>\n",
              "      <td>1</td>\n",
              "      <td>U</td>\n",
              "      <td>EA</td>\n",
              "      <td>Y</td>\n",
              "      <td>1641</td>\n",
              "      <td>4011.0</td>\n",
              "      <td>391.87</td>\n",
              "      <td>305.59</td>\n",
              "      <td>3998.0</td>\n",
              "      <td>1634</td>\n",
              "      <td>50.93</td>\n",
              "      <td>666.33</td>\n",
              "      <td>272.33</td>\n",
              "      <td>470</td>\n",
              "      <td>181</td>\n",
              "      <td>48</td>\n",
              "      <td>666.0</td>\n",
              "      <td>272.0</td>\n",
              "      <td>51.0</td>\n",
              "      <td>C</td>\n",
              "      <td>West</td>\n",
              "      <td>T</td>\n",
              "      <td>N</td>\n",
              "      <td>99.98999</td>\n",
              "      <td>2.0</td>\n",
              "      <td>1.0</td>\n",
              "      <td>WCMB</td>\n",
              "      <td>0.0</td>\n",
              "      <td>0.0</td>\n",
              "      <td>O</td>\n",
              "      <td>-999.0</td>\n",
              "      <td>S</td>\n",
              "      <td>U</td>\n",
              "      <td>2.0</td>\n",
              "      <td>-999.0</td>\n",
              "      <td>-999.0</td>\n",
              "      <td>C</td>\n",
              "      <td>A</td>\n",
              "      <td>0.0</td>\n",
              "      <td>N</td>\n",
              "      <td>U</td>\n",
              "      <td>U</td>\n",
              "      <td>U</td>\n",
              "      <td>U</td>\n",
              "      <td>U</td>\n",
              "      <td>N</td>\n",
              "      <td>101.0</td>\n",
              "    </tr>\n",
              "    <tr>\n",
              "      <th>1090003</th>\n",
              "      <td>30.3275</td>\n",
              "      <td>241.50</td>\n",
              "      <td>39.9900</td>\n",
              "      <td>0.0000</td>\n",
              "      <td>0.00</td>\n",
              "      <td>0.000</td>\n",
              "      <td>0.0</td>\n",
              "      <td>0.000</td>\n",
              "      <td>0.0000</td>\n",
              "      <td>-86.50</td>\n",
              "      <td>0.8625</td>\n",
              "      <td>2.000000</td>\n",
              "      <td>0.000000</td>\n",
              "      <td>4.666667</td>\n",
              "      <td>0.0</td>\n",
              "      <td>20.666667</td>\n",
              "      <td>0.0</td>\n",
              "      <td>85.333333</td>\n",
              "      <td>0.000000</td>\n",
              "      <td>26.666667</td>\n",
              "      <td>0.0</td>\n",
              "      <td>59.333333</td>\n",
              "      <td>0.000000</td>\n",
              "      <td>4.333333</td>\n",
              "      <td>6.333333</td>\n",
              "      <td>4.466667</td>\n",
              "      <td>17.000000</td>\n",
              "      <td>1.666667</td>\n",
              "      <td>143.530000</td>\n",
              "      <td>0.000000</td>\n",
              "      <td>27.373333</td>\n",
              "      <td>9.666667</td>\n",
              "      <td>3.760000</td>\n",
              "      <td>19.666667</td>\n",
              "      <td>21.736667</td>\n",
              "      <td>48.666667</td>\n",
              "      <td>0.0</td>\n",
              "      <td>76.356667</td>\n",
              "      <td>0.0</td>\n",
              "      <td>36.000000</td>\n",
              "      <td>0.000000</td>\n",
              "      <td>94.543333</td>\n",
              "      <td>0.000000</td>\n",
              "      <td>6.666667</td>\n",
              "      <td>85.333333</td>\n",
              "      <td>59.333333</td>\n",
              "      <td>0.0</td>\n",
              "      <td>0.333333</td>\n",
              "      <td>9</td>\n",
              "      <td>2</td>\n",
              "      <td>2</td>\n",
              "      <td>Y</td>\n",
              "      <td>A</td>\n",
              "      <td>N</td>\n",
              "      <td>780</td>\n",
              "      <td>1889.0</td>\n",
              "      <td>312.91</td>\n",
              "      <td>219.45</td>\n",
              "      <td>1772.0</td>\n",
              "      <td>734</td>\n",
              "      <td>31.35</td>\n",
              "      <td>253.14</td>\n",
              "      <td>104.86</td>\n",
              "      <td>270</td>\n",
              "      <td>107</td>\n",
              "      <td>30</td>\n",
              "      <td>273.0</td>\n",
              "      <td>109.0</td>\n",
              "      <td>31.0</td>\n",
              "      <td>T</td>\n",
              "      <td>Southwest</td>\n",
              "      <td>N</td>\n",
              "      <td>N</td>\n",
              "      <td>129.98999</td>\n",
              "      <td>1.0</td>\n",
              "      <td>1.0</td>\n",
              "      <td>WCMB</td>\n",
              "      <td>1.0</td>\n",
              "      <td>0.0</td>\n",
              "      <td>O</td>\n",
              "      <td>13.0</td>\n",
              "      <td>S</td>\n",
              "      <td>M</td>\n",
              "      <td>3.0</td>\n",
              "      <td>6.0</td>\n",
              "      <td>1.0</td>\n",
              "      <td>C</td>\n",
              "      <td>A</td>\n",
              "      <td>0.0</td>\n",
              "      <td>N</td>\n",
              "      <td>U</td>\n",
              "      <td>U</td>\n",
              "      <td>U</td>\n",
              "      <td>U</td>\n",
              "      <td>U</td>\n",
              "      <td>Y</td>\n",
              "      <td>262.0</td>\n",
              "    </tr>\n",
              "    <tr>\n",
              "      <th>1090004</th>\n",
              "      <td>154.6925</td>\n",
              "      <td>2297.00</td>\n",
              "      <td>149.9900</td>\n",
              "      <td>4.7025</td>\n",
              "      <td>0.00</td>\n",
              "      <td>0.000</td>\n",
              "      <td>0.0</td>\n",
              "      <td>0.000</td>\n",
              "      <td>0.0000</td>\n",
              "      <td>119.00</td>\n",
              "      <td>0.2475</td>\n",
              "      <td>20.333333</td>\n",
              "      <td>0.000000</td>\n",
              "      <td>5.000000</td>\n",
              "      <td>0.0</td>\n",
              "      <td>329.333333</td>\n",
              "      <td>0.0</td>\n",
              "      <td>1067.000000</td>\n",
              "      <td>0.000000</td>\n",
              "      <td>628.000000</td>\n",
              "      <td>0.0</td>\n",
              "      <td>723.000000</td>\n",
              "      <td>0.000000</td>\n",
              "      <td>0.333333</td>\n",
              "      <td>0.666667</td>\n",
              "      <td>0.376667</td>\n",
              "      <td>408.000000</td>\n",
              "      <td>0.000000</td>\n",
              "      <td>769.136667</td>\n",
              "      <td>0.000000</td>\n",
              "      <td>679.020000</td>\n",
              "      <td>271.000000</td>\n",
              "      <td>167.090000</td>\n",
              "      <td>68.666667</td>\n",
              "      <td>150.656667</td>\n",
              "      <td>723.000000</td>\n",
              "      <td>0.0</td>\n",
              "      <td>961.736667</td>\n",
              "      <td>0.0</td>\n",
              "      <td>346.000000</td>\n",
              "      <td>0.000000</td>\n",
              "      <td>486.420000</td>\n",
              "      <td>0.000000</td>\n",
              "      <td>25.333333</td>\n",
              "      <td>1067.000000</td>\n",
              "      <td>723.000000</td>\n",
              "      <td>0.0</td>\n",
              "      <td>8.333333</td>\n",
              "      <td>11</td>\n",
              "      <td>1</td>\n",
              "      <td>1</td>\n",
              "      <td>U</td>\n",
              "      <td>AA</td>\n",
              "      <td>N</td>\n",
              "      <td>9018</td>\n",
              "      <td>18478.0</td>\n",
              "      <td>2217.05</td>\n",
              "      <td>2131.17</td>\n",
              "      <td>18478.0</td>\n",
              "      <td>9018</td>\n",
              "      <td>213.12</td>\n",
              "      <td>1847.80</td>\n",
              "      <td>901.80</td>\n",
              "      <td>2257</td>\n",
              "      <td>1045</td>\n",
              "      <td>155</td>\n",
              "      <td>2452.0</td>\n",
              "      <td>1171.0</td>\n",
              "      <td>278.0</td>\n",
              "      <td>S</td>\n",
              "      <td>Southeast</td>\n",
              "      <td>N</td>\n",
              "      <td>R</td>\n",
              "      <td>79.98999</td>\n",
              "      <td>2.0</td>\n",
              "      <td>1.0</td>\n",
              "      <td>WCMB</td>\n",
              "      <td>0.0</td>\n",
              "      <td>0.0</td>\n",
              "      <td>O</td>\n",
              "      <td>3.0</td>\n",
              "      <td>S</td>\n",
              "      <td>U</td>\n",
              "      <td>3.0</td>\n",
              "      <td>6.0</td>\n",
              "      <td>1.0</td>\n",
              "      <td>C</td>\n",
              "      <td>A</td>\n",
              "      <td>0.0</td>\n",
              "      <td>S</td>\n",
              "      <td>U</td>\n",
              "      <td>U</td>\n",
              "      <td>U</td>\n",
              "      <td>U</td>\n",
              "      <td>U</td>\n",
              "      <td>Y</td>\n",
              "      <td>127.0</td>\n",
              "    </tr>\n",
              "    <tr>\n",
              "      <th>1090005</th>\n",
              "      <td>156.0050</td>\n",
              "      <td>542.25</td>\n",
              "      <td>48.9475</td>\n",
              "      <td>0.7425</td>\n",
              "      <td>70.75</td>\n",
              "      <td>28.295</td>\n",
              "      <td>28.1</td>\n",
              "      <td>0.195</td>\n",
              "      <td>0.0000</td>\n",
              "      <td>195.75</td>\n",
              "      <td>40.0150</td>\n",
              "      <td>5.666667</td>\n",
              "      <td>0.333333</td>\n",
              "      <td>0.666667</td>\n",
              "      <td>0.0</td>\n",
              "      <td>46.333333</td>\n",
              "      <td>0.0</td>\n",
              "      <td>167.666667</td>\n",
              "      <td>0.666667</td>\n",
              "      <td>11.333333</td>\n",
              "      <td>0.0</td>\n",
              "      <td>115.000000</td>\n",
              "      <td>0.333333</td>\n",
              "      <td>21.666667</td>\n",
              "      <td>48.000000</td>\n",
              "      <td>31.346667</td>\n",
              "      <td>10.000000</td>\n",
              "      <td>0.333333</td>\n",
              "      <td>343.066667</td>\n",
              "      <td>0.010000</td>\n",
              "      <td>11.243333</td>\n",
              "      <td>13.000000</td>\n",
              "      <td>14.563333</td>\n",
              "      <td>1.333333</td>\n",
              "      <td>2.100000</td>\n",
              "      <td>91.000000</td>\n",
              "      <td>0.0</td>\n",
              "      <td>205.216667</td>\n",
              "      <td>0.0</td>\n",
              "      <td>31.000000</td>\n",
              "      <td>0.333333</td>\n",
              "      <td>149.096667</td>\n",
              "      <td>0.010000</td>\n",
              "      <td>6.666667</td>\n",
              "      <td>168.333333</td>\n",
              "      <td>115.333333</td>\n",
              "      <td>0.0</td>\n",
              "      <td>0.666667</td>\n",
              "      <td>9</td>\n",
              "      <td>1</td>\n",
              "      <td>1</td>\n",
              "      <td>U</td>\n",
              "      <td>CA</td>\n",
              "      <td>Y</td>\n",
              "      <td>791</td>\n",
              "      <td>2601.0</td>\n",
              "      <td>879.51</td>\n",
              "      <td>608.66</td>\n",
              "      <td>2601.0</td>\n",
              "      <td>791</td>\n",
              "      <td>86.95</td>\n",
              "      <td>371.57</td>\n",
              "      <td>113.00</td>\n",
              "      <td>477</td>\n",
              "      <td>130</td>\n",
              "      <td>143</td>\n",
              "      <td>349.0</td>\n",
              "      <td>103.0</td>\n",
              "      <td>91.0</td>\n",
              "      <td>U</td>\n",
              "      <td>West</td>\n",
              "      <td>Y</td>\n",
              "      <td>N</td>\n",
              "      <td>149.98999</td>\n",
              "      <td>2.0</td>\n",
              "      <td>1.0</td>\n",
              "      <td>WCMB</td>\n",
              "      <td>0.0</td>\n",
              "      <td>0.0</td>\n",
              "      <td>O</td>\n",
              "      <td>1.0</td>\n",
              "      <td>M</td>\n",
              "      <td>S</td>\n",
              "      <td>1.0</td>\n",
              "      <td>6.0</td>\n",
              "      <td>1.0</td>\n",
              "      <td>C</td>\n",
              "      <td>A</td>\n",
              "      <td>0.0</td>\n",
              "      <td>N</td>\n",
              "      <td>U</td>\n",
              "      <td>U</td>\n",
              "      <td>U</td>\n",
              "      <td>U</td>\n",
              "      <td>U</td>\n",
              "      <td>Y</td>\n",
              "      <td>37.0</td>\n",
              "    </tr>\n",
              "  </tbody>\n",
              "</table>\n",
              "</div>\n",
              "      <button class=\"colab-df-convert\" onclick=\"convertToInteractive('df-890d61e2-c781-4c17-8aad-29a784f056cb')\"\n",
              "              title=\"Convert this dataframe to an interactive table.\"\n",
              "              style=\"display:none;\">\n",
              "\n",
              "  <svg xmlns=\"http://www.w3.org/2000/svg\" height=\"24px\"viewBox=\"0 0 24 24\"\n",
              "       width=\"24px\">\n",
              "    <path d=\"M0 0h24v24H0V0z\" fill=\"none\"/>\n",
              "    <path d=\"M18.56 5.44l.94 2.06.94-2.06 2.06-.94-2.06-.94-.94-2.06-.94 2.06-2.06.94zm-11 1L8.5 8.5l.94-2.06 2.06-.94-2.06-.94L8.5 2.5l-.94 2.06-2.06.94zm10 10l.94 2.06.94-2.06 2.06-.94-2.06-.94-.94-2.06-.94 2.06-2.06.94z\"/><path d=\"M17.41 7.96l-1.37-1.37c-.4-.4-.92-.59-1.43-.59-.52 0-1.04.2-1.43.59L10.3 9.45l-7.72 7.72c-.78.78-.78 2.05 0 2.83L4 21.41c.39.39.9.59 1.41.59.51 0 1.02-.2 1.41-.59l7.78-7.78 2.81-2.81c.8-.78.8-2.07 0-2.86zM5.41 20L4 18.59l7.72-7.72 1.47 1.35L5.41 20z\"/>\n",
              "  </svg>\n",
              "      </button>\n",
              "\n",
              "\n",
              "\n",
              "    <div id=\"df-9cebe014-225b-4652-9c5a-61a54d63d03a\">\n",
              "      <button class=\"colab-df-quickchart\" onclick=\"quickchart('df-9cebe014-225b-4652-9c5a-61a54d63d03a')\"\n",
              "              title=\"Suggest charts.\"\n",
              "              style=\"display:none;\">\n",
              "\n",
              "<svg xmlns=\"http://www.w3.org/2000/svg\" height=\"24px\"viewBox=\"0 0 24 24\"\n",
              "     width=\"24px\">\n",
              "    <g>\n",
              "        <path d=\"M19 3H5c-1.1 0-2 .9-2 2v14c0 1.1.9 2 2 2h14c1.1 0 2-.9 2-2V5c0-1.1-.9-2-2-2zM9 17H7v-7h2v7zm4 0h-2V7h2v10zm4 0h-2v-4h2v4z\"/>\n",
              "    </g>\n",
              "</svg>\n",
              "      </button>\n",
              "    </div>\n",
              "\n",
              "<style>\n",
              "  .colab-df-quickchart {\n",
              "    background-color: #E8F0FE;\n",
              "    border: none;\n",
              "    border-radius: 50%;\n",
              "    cursor: pointer;\n",
              "    display: none;\n",
              "    fill: #1967D2;\n",
              "    height: 32px;\n",
              "    padding: 0 0 0 0;\n",
              "    width: 32px;\n",
              "  }\n",
              "\n",
              "  .colab-df-quickchart:hover {\n",
              "    background-color: #E2EBFA;\n",
              "    box-shadow: 0px 1px 2px rgba(60, 64, 67, 0.3), 0px 1px 3px 1px rgba(60, 64, 67, 0.15);\n",
              "    fill: #174EA6;\n",
              "  }\n",
              "\n",
              "  [theme=dark] .colab-df-quickchart {\n",
              "    background-color: #3B4455;\n",
              "    fill: #D2E3FC;\n",
              "  }\n",
              "\n",
              "  [theme=dark] .colab-df-quickchart:hover {\n",
              "    background-color: #434B5C;\n",
              "    box-shadow: 0px 1px 3px 1px rgba(0, 0, 0, 0.15);\n",
              "    filter: drop-shadow(0px 1px 2px rgba(0, 0, 0, 0.3));\n",
              "    fill: #FFFFFF;\n",
              "  }\n",
              "</style>\n",
              "\n",
              "    <script>\n",
              "      async function quickchart(key) {\n",
              "        const containerElement = document.querySelector('#' + key);\n",
              "        const charts = await google.colab.kernel.invokeFunction(\n",
              "            'suggestCharts', [key], {});\n",
              "      }\n",
              "    </script>\n",
              "\n",
              "      <script>\n",
              "\n",
              "function displayQuickchartButton(domScope) {\n",
              "  let quickchartButtonEl =\n",
              "    domScope.querySelector('#df-9cebe014-225b-4652-9c5a-61a54d63d03a button.colab-df-quickchart');\n",
              "  quickchartButtonEl.style.display =\n",
              "    google.colab.kernel.accessAllowed ? 'block' : 'none';\n",
              "}\n",
              "\n",
              "        displayQuickchartButton(document);\n",
              "      </script>\n",
              "      <style>\n",
              "    .colab-df-container {\n",
              "      display:flex;\n",
              "      flex-wrap:wrap;\n",
              "      gap: 12px;\n",
              "    }\n",
              "\n",
              "    .colab-df-convert {\n",
              "      background-color: #E8F0FE;\n",
              "      border: none;\n",
              "      border-radius: 50%;\n",
              "      cursor: pointer;\n",
              "      display: none;\n",
              "      fill: #1967D2;\n",
              "      height: 32px;\n",
              "      padding: 0 0 0 0;\n",
              "      width: 32px;\n",
              "    }\n",
              "\n",
              "    .colab-df-convert:hover {\n",
              "      background-color: #E2EBFA;\n",
              "      box-shadow: 0px 1px 2px rgba(60, 64, 67, 0.3), 0px 1px 3px 1px rgba(60, 64, 67, 0.15);\n",
              "      fill: #174EA6;\n",
              "    }\n",
              "\n",
              "    [theme=dark] .colab-df-convert {\n",
              "      background-color: #3B4455;\n",
              "      fill: #D2E3FC;\n",
              "    }\n",
              "\n",
              "    [theme=dark] .colab-df-convert:hover {\n",
              "      background-color: #434B5C;\n",
              "      box-shadow: 0px 1px 3px 1px rgba(0, 0, 0, 0.15);\n",
              "      filter: drop-shadow(0px 1px 2px rgba(0, 0, 0, 0.3));\n",
              "      fill: #FFFFFF;\n",
              "    }\n",
              "  </style>\n",
              "\n",
              "      <script>\n",
              "        const buttonEl =\n",
              "          document.querySelector('#df-890d61e2-c781-4c17-8aad-29a784f056cb button.colab-df-convert');\n",
              "        buttonEl.style.display =\n",
              "          google.colab.kernel.accessAllowed ? 'block' : 'none';\n",
              "\n",
              "        async function convertToInteractive(key) {\n",
              "          const element = document.querySelector('#df-890d61e2-c781-4c17-8aad-29a784f056cb');\n",
              "          const dataTable =\n",
              "            await google.colab.kernel.invokeFunction('convertToInteractive',\n",
              "                                                     [key], {});\n",
              "          if (!dataTable) return;\n",
              "\n",
              "          const docLinkHtml = 'Like what you see? Visit the ' +\n",
              "            '<a target=\"_blank\" href=https://colab.research.google.com/notebooks/data_table.ipynb>data table notebook</a>'\n",
              "            + ' to learn more about interactive tables.';\n",
              "          element.innerHTML = '';\n",
              "          dataTable['output_type'] = 'display_data';\n",
              "          await google.colab.output.renderOutput(dataTable, element);\n",
              "          const docLink = document.createElement('div');\n",
              "          docLink.innerHTML = docLinkHtml;\n",
              "          element.appendChild(docLink);\n",
              "        }\n",
              "      </script>\n",
              "    </div>\n",
              "  </div>\n"
            ]
          },
          "metadata": {},
          "execution_count": 244
        }
      ]
    },
    {
      "cell_type": "code",
      "source": [
        "target= [\"churn\"]\n",
        "def obtener_lista_variables(dataset):\n",
        "    lista_numericas=[]\n",
        "    lista_boolean=[]\n",
        "    lista_categoricas=[]\n",
        "    for i in dataset:\n",
        "        if    (dataset[i].dtype.kind==\"f\" or dataset[i].dtype.kind==\"i\") and len(dataset[i].unique())!= 2  and i not in target:\n",
        "              lista_numericas.append(i)\n",
        "        elif  (dataset[i].dtype.kind==\"f\" or dataset[i].dtype.kind==\"i\" or dataset[i].dtype.kind==\"b\")  and len(dataset[i].unique())== 2  and i not in target:\n",
        "              lista_boolean.append(i)\n",
        "        elif  (dataset[i].dtype.kind==\"O\")  and i not in target:\n",
        "              lista_categoricas.append(i)\n",
        "\n",
        "    return lista_numericas, lista_boolean, lista_categoricas"
      ],
      "metadata": {
        "id": "sGOhUoA37x6s"
      },
      "execution_count": null,
      "outputs": []
    },
    {
      "cell_type": "code",
      "source": [
        "l_num,l_bool,l_cat=obtener_lista_variables(X_pred)"
      ],
      "metadata": {
        "id": "zJthaS567x3u"
      },
      "execution_count": null,
      "outputs": []
    },
    {
      "cell_type": "code",
      "source": [
        "for i in l_bool:\n",
        "  if i in X_pred:\n",
        "    X_pred[i+\"_bool\"]=X_pred[i].astype(int)"
      ],
      "metadata": {
        "id": "a_aMKuP-7x0b"
      },
      "execution_count": null,
      "outputs": []
    },
    {
      "cell_type": "code",
      "source": [
        "for column in l_bool:\n",
        "    if column in X_pred:\n",
        "        X_pred = X_pred.drop(column, axis=1)"
      ],
      "metadata": {
        "id": "K82ZGemD7xxX"
      },
      "execution_count": null,
      "outputs": []
    },
    {
      "cell_type": "code",
      "source": [
        "l_num_2,l_bool_2,l_cat_2 =obtener_lista_variables(X_pred)"
      ],
      "metadata": {
        "id": "VvrXuaO68HXi"
      },
      "execution_count": null,
      "outputs": []
    },
    {
      "cell_type": "code",
      "source": [
        "l_num_2"
      ],
      "metadata": {
        "colab": {
          "base_uri": "https://localhost:8080/"
        },
        "id": "d82G_F0f8HK8",
        "outputId": "87a9af2b-3f14-49d9-94cc-c072fa8d004a"
      },
      "execution_count": null,
      "outputs": [
        {
          "output_type": "execute_result",
          "data": {
            "text/plain": [
              "['rev',\n",
              " 'mou',\n",
              " 'totmrc',\n",
              " 'da',\n",
              " 'ovrmou',\n",
              " 'ovrrev',\n",
              " 'vceovr',\n",
              " 'datovr',\n",
              " 'roam',\n",
              " 'change_mou',\n",
              " 'change_rev',\n",
              " 'drop_vce',\n",
              " 'drop_dat',\n",
              " 'blck_vce',\n",
              " 'blck_dat',\n",
              " 'unan_vce',\n",
              " 'unan_dat',\n",
              " 'plcd_vce',\n",
              " 'plcd_dat',\n",
              " 'recv_vce',\n",
              " 'recv_sms',\n",
              " 'comp_vce',\n",
              " 'comp_dat',\n",
              " 'custcare',\n",
              " 'ccrndmou',\n",
              " 'cc_mou',\n",
              " 'inonemin',\n",
              " 'threeway',\n",
              " 'mou_cvce',\n",
              " 'mou_cdat',\n",
              " 'mou_rvce',\n",
              " 'owylis_vce',\n",
              " 'mouowylisv',\n",
              " 'iwylis_vce',\n",
              " 'mouiwylisv',\n",
              " 'peak_vce',\n",
              " 'peak_dat',\n",
              " 'mou_peav',\n",
              " 'mou_pead',\n",
              " 'opk_vce',\n",
              " 'opk_dat',\n",
              " 'mou_opkv',\n",
              " 'mou_opkd',\n",
              " 'drop_blk',\n",
              " 'attempt',\n",
              " 'complete',\n",
              " 'callfwdv',\n",
              " 'callwait',\n",
              " 'months',\n",
              " 'uniqsubs',\n",
              " 'actvsubs',\n",
              " 'totcalls',\n",
              " 'totmou',\n",
              " 'totrev',\n",
              " 'adjrev',\n",
              " 'adjmou',\n",
              " 'adjqty',\n",
              " 'avgrev',\n",
              " 'avgmou',\n",
              " 'avgqty',\n",
              " 'avg3mou',\n",
              " 'avg3qty',\n",
              " 'avg3rev',\n",
              " 'avg6mou',\n",
              " 'avg6qty',\n",
              " 'avg6rev',\n",
              " 'hnd_price',\n",
              " 'phones',\n",
              " 'models',\n",
              " 'lor',\n",
              " 'adults',\n",
              " 'income',\n",
              " 'numbcars',\n",
              " 'eqpdays']"
            ]
          },
          "metadata": {},
          "execution_count": 250
        }
      ]
    },
    {
      "cell_type": "code",
      "source": [
        "l_bool_2"
      ],
      "metadata": {
        "colab": {
          "base_uri": "https://localhost:8080/"
        },
        "id": "LJeGl5uN8HHd",
        "outputId": "adfe2c00-ebc2-4522-b776-5826e592a881"
      },
      "execution_count": null,
      "outputs": [
        {
          "output_type": "execute_result",
          "data": {
            "text/plain": [
              "['truck_bool', 'rv_bool', 'forgntvl_bool']"
            ]
          },
          "metadata": {},
          "execution_count": 251
        }
      ]
    },
    {
      "cell_type": "code",
      "source": [
        "l_cat_2"
      ],
      "metadata": {
        "colab": {
          "base_uri": "https://localhost:8080/"
        },
        "id": "tjjbxNlD8HE8",
        "outputId": "ad60ca36-bb8a-4723-f623-7d789d770383"
      },
      "execution_count": null,
      "outputs": [
        {
          "output_type": "execute_result",
          "data": {
            "text/plain": [
              "['new_cell',\n",
              " 'crclscod',\n",
              " 'asl_flag',\n",
              " 'prizm_social_one',\n",
              " 'area',\n",
              " 'dualband',\n",
              " 'refurb_new',\n",
              " 'hnd_webcap',\n",
              " 'ownrent',\n",
              " 'dwlltype',\n",
              " 'marital',\n",
              " 'HHstatin',\n",
              " 'dwllsize',\n",
              " 'ethnic',\n",
              " 'kid0_2',\n",
              " 'kid3_5',\n",
              " 'kid6_10',\n",
              " 'kid11_15',\n",
              " 'kid16_17',\n",
              " 'creditcd']"
            ]
          },
          "metadata": {},
          "execution_count": 252
        }
      ]
    },
    {
      "cell_type": "code",
      "source": [
        "X_pred = pd.get_dummies(data=X_pred, columns=l_cat_2)"
      ],
      "metadata": {
        "id": "adO4YAJ18Y-u"
      },
      "execution_count": null,
      "outputs": []
    },
    {
      "cell_type": "code",
      "source": [
        "target = 'churn'\n",
        "features = X_pred.columns[X_pred.columns!=target]"
      ],
      "metadata": {
        "id": "7hWBiOsUcCV6"
      },
      "execution_count": null,
      "outputs": []
    },
    {
      "cell_type": "code",
      "source": [
        "X = X_pred[features]"
      ],
      "metadata": {
        "id": "zipumG4Kchs_"
      },
      "execution_count": null,
      "outputs": []
    },
    {
      "cell_type": "code",
      "source": [
        "y = X_pred.columns[X_pred.columns ==target]"
      ],
      "metadata": {
        "id": "I0X8Q0e7c1o9"
      },
      "execution_count": null,
      "outputs": []
    },
    {
      "cell_type": "code",
      "source": [
        "def highly_correlated(df, threshold):\n",
        "    col_corr = list() # Set of all the names of deleted columns\n",
        "    colnames = list()\n",
        "    rownames = list()\n",
        "    corr_matrix = df.corr().abs()\n",
        "    for i in range(len(corr_matrix.columns)):\n",
        "        for j in range(i):\n",
        "            if (corr_matrix.iloc[i, j] >= threshold) and (corr_matrix.columns[j] not in col_corr):\n",
        "                colnames.append(corr_matrix.columns[i]) # getting the name of column\n",
        "                rownames.append(corr_matrix.index[j])\n",
        "                col_corr.append(corr_matrix.iloc[i, j])\n",
        "    Z = pd.DataFrame({'F1':colnames,\n",
        "                      'F2':rownames,\n",
        "                      'corr_F1_F2':col_corr,\n",
        "                      'corr_F1_target': [np.abs(np.corrcoef(df[i])) for i in colnames],\n",
        "                      'corr_F2_target': [np.abs(np.corrcoef(df[i])) for i in rownames]\n",
        "                      })\n",
        "    Z['F_to_delete'] = rownames\n",
        "    Z['F_to_delete'][Z['corr_F1_target'] < Z['corr_F2_target']] = Z['F1'][Z['corr_F1_target'] < Z['corr_F2_target']]\n",
        "\n",
        "    return Z\n",
        "\n",
        "highly_corr = highly_correlated(X_pred,0.95)\n",
        "highly_corr"
      ],
      "metadata": {
        "colab": {
          "base_uri": "https://localhost:8080/",
          "height": 1000
        },
        "id": "aTQiIjDFdTrU",
        "outputId": "4a32579c-6d01-4059-8f53-8bb417186e2b"
      },
      "execution_count": null,
      "outputs": [
        {
          "output_type": "execute_result",
          "data": {
            "text/plain": [
              "                 F1             F2  corr_F1_F2  corr_F1_target  \\\n",
              "0            totmrc            rev    0.972949             1.0   \n",
              "1                da            rev    0.958894             1.0   \n",
              "2                da         totmrc    0.987479             1.0   \n",
              "3            ovrrev            rev    0.985852             1.0   \n",
              "4            ovrrev         totmrc    0.968993             1.0   \n",
              "5            ovrrev             da    0.977042             1.0   \n",
              "6            vceovr            rev    0.985326             1.0   \n",
              "7            vceovr         totmrc    0.969817             1.0   \n",
              "8            vceovr             da    0.978044             1.0   \n",
              "9            vceovr         ovrrev    0.999665             1.0   \n",
              "10           datovr            rev    0.958384             1.0   \n",
              "11           datovr         totmrc    0.986657             1.0   \n",
              "12           datovr             da    0.999551             1.0   \n",
              "13           datovr         ovrrev    0.977306             1.0   \n",
              "14           datovr         vceovr    0.977633             1.0   \n",
              "15             roam            rev    0.958876             1.0   \n",
              "16             roam         totmrc    0.986820             1.0   \n",
              "17             roam             da    0.999209             1.0   \n",
              "18             roam         ovrrev    0.975928             1.0   \n",
              "19             roam         vceovr    0.976913             1.0   \n",
              "20             roam         datovr    0.998937             1.0   \n",
              "21         comp_vce       plcd_vce    0.983718             1.0   \n",
              "22           cc_mou       ccrndmou    0.989200             1.0   \n",
              "23         inonemin       recv_vce    0.971066             1.0   \n",
              "24          opk_dat       comp_dat    0.964414             1.0   \n",
              "25         mou_opkd       mou_cdat    0.962236             1.0   \n",
              "26          attempt       plcd_vce    0.997309             1.0   \n",
              "27          attempt       comp_vce    0.981087             1.0   \n",
              "28         complete       plcd_vce    0.980221             1.0   \n",
              "29         complete       comp_vce    0.996346             1.0   \n",
              "30         complete        attempt    0.983523             1.0   \n",
              "31           adjrev         totrev    0.997572             1.0   \n",
              "32           adjmou         totmou    0.999262             1.0   \n",
              "33           adjqty       totcalls    0.999447             1.0   \n",
              "34       asl_flag_Y     asl_flag_N    1.000000             1.0   \n",
              "35     refurb_new_R   refurb_new_N    1.000000             1.0   \n",
              "36  hnd_webcap_UNKW     dualband_U    0.969126             1.0   \n",
              "37  hnd_webcap_WCMB  hnd_webcap_WC    0.981447             1.0   \n",
              "38        ownrent_R      ownrent_O    1.000000             1.0   \n",
              "39       dwlltype_S     dwlltype_M    1.000000             1.0   \n",
              "40         kid0_2_Y       kid0_2_U    1.000000             1.0   \n",
              "41         kid3_5_Y       kid3_5_U    1.000000             1.0   \n",
              "42        kid6_10_Y      kid6_10_U    1.000000             1.0   \n",
              "43       kid11_15_Y     kid11_15_U    1.000000             1.0   \n",
              "44       kid16_17_Y     kid16_17_U    1.000000             1.0   \n",
              "45       creditcd_Y     creditcd_N    1.000000             1.0   \n",
              "\n",
              "    corr_F2_target    F_to_delete  \n",
              "0              1.0            rev  \n",
              "1              1.0            rev  \n",
              "2              1.0         totmrc  \n",
              "3              1.0            rev  \n",
              "4              1.0         totmrc  \n",
              "5              1.0             da  \n",
              "6              1.0            rev  \n",
              "7              1.0         totmrc  \n",
              "8              1.0             da  \n",
              "9              1.0         ovrrev  \n",
              "10             1.0            rev  \n",
              "11             1.0         totmrc  \n",
              "12             1.0             da  \n",
              "13             1.0         ovrrev  \n",
              "14             1.0         vceovr  \n",
              "15             1.0            rev  \n",
              "16             1.0         totmrc  \n",
              "17             1.0             da  \n",
              "18             1.0         ovrrev  \n",
              "19             1.0         vceovr  \n",
              "20             1.0         datovr  \n",
              "21             1.0       plcd_vce  \n",
              "22             1.0       ccrndmou  \n",
              "23             1.0       recv_vce  \n",
              "24             1.0       comp_dat  \n",
              "25             1.0       mou_cdat  \n",
              "26             1.0       plcd_vce  \n",
              "27             1.0       comp_vce  \n",
              "28             1.0       plcd_vce  \n",
              "29             1.0       comp_vce  \n",
              "30             1.0        attempt  \n",
              "31             1.0         totrev  \n",
              "32             1.0         totmou  \n",
              "33             1.0       totcalls  \n",
              "34             1.0     asl_flag_N  \n",
              "35             1.0   refurb_new_N  \n",
              "36             1.0     dualband_U  \n",
              "37             1.0  hnd_webcap_WC  \n",
              "38             1.0      ownrent_O  \n",
              "39             1.0     dwlltype_M  \n",
              "40             1.0       kid0_2_U  \n",
              "41             1.0       kid3_5_U  \n",
              "42             1.0      kid6_10_U  \n",
              "43             1.0     kid11_15_U  \n",
              "44             1.0     kid16_17_U  \n",
              "45             1.0     creditcd_N  "
            ],
            "text/html": [
              "\n",
              "\n",
              "  <div id=\"df-055d289e-9a6e-474e-b0c5-611e3673ba46\">\n",
              "    <div class=\"colab-df-container\">\n",
              "      <div>\n",
              "<style scoped>\n",
              "    .dataframe tbody tr th:only-of-type {\n",
              "        vertical-align: middle;\n",
              "    }\n",
              "\n",
              "    .dataframe tbody tr th {\n",
              "        vertical-align: top;\n",
              "    }\n",
              "\n",
              "    .dataframe thead th {\n",
              "        text-align: right;\n",
              "    }\n",
              "</style>\n",
              "<table border=\"1\" class=\"dataframe\">\n",
              "  <thead>\n",
              "    <tr style=\"text-align: right;\">\n",
              "      <th></th>\n",
              "      <th>F1</th>\n",
              "      <th>F2</th>\n",
              "      <th>corr_F1_F2</th>\n",
              "      <th>corr_F1_target</th>\n",
              "      <th>corr_F2_target</th>\n",
              "      <th>F_to_delete</th>\n",
              "    </tr>\n",
              "  </thead>\n",
              "  <tbody>\n",
              "    <tr>\n",
              "      <th>0</th>\n",
              "      <td>totmrc</td>\n",
              "      <td>rev</td>\n",
              "      <td>0.972949</td>\n",
              "      <td>1.0</td>\n",
              "      <td>1.0</td>\n",
              "      <td>rev</td>\n",
              "    </tr>\n",
              "    <tr>\n",
              "      <th>1</th>\n",
              "      <td>da</td>\n",
              "      <td>rev</td>\n",
              "      <td>0.958894</td>\n",
              "      <td>1.0</td>\n",
              "      <td>1.0</td>\n",
              "      <td>rev</td>\n",
              "    </tr>\n",
              "    <tr>\n",
              "      <th>2</th>\n",
              "      <td>da</td>\n",
              "      <td>totmrc</td>\n",
              "      <td>0.987479</td>\n",
              "      <td>1.0</td>\n",
              "      <td>1.0</td>\n",
              "      <td>totmrc</td>\n",
              "    </tr>\n",
              "    <tr>\n",
              "      <th>3</th>\n",
              "      <td>ovrrev</td>\n",
              "      <td>rev</td>\n",
              "      <td>0.985852</td>\n",
              "      <td>1.0</td>\n",
              "      <td>1.0</td>\n",
              "      <td>rev</td>\n",
              "    </tr>\n",
              "    <tr>\n",
              "      <th>4</th>\n",
              "      <td>ovrrev</td>\n",
              "      <td>totmrc</td>\n",
              "      <td>0.968993</td>\n",
              "      <td>1.0</td>\n",
              "      <td>1.0</td>\n",
              "      <td>totmrc</td>\n",
              "    </tr>\n",
              "    <tr>\n",
              "      <th>5</th>\n",
              "      <td>ovrrev</td>\n",
              "      <td>da</td>\n",
              "      <td>0.977042</td>\n",
              "      <td>1.0</td>\n",
              "      <td>1.0</td>\n",
              "      <td>da</td>\n",
              "    </tr>\n",
              "    <tr>\n",
              "      <th>6</th>\n",
              "      <td>vceovr</td>\n",
              "      <td>rev</td>\n",
              "      <td>0.985326</td>\n",
              "      <td>1.0</td>\n",
              "      <td>1.0</td>\n",
              "      <td>rev</td>\n",
              "    </tr>\n",
              "    <tr>\n",
              "      <th>7</th>\n",
              "      <td>vceovr</td>\n",
              "      <td>totmrc</td>\n",
              "      <td>0.969817</td>\n",
              "      <td>1.0</td>\n",
              "      <td>1.0</td>\n",
              "      <td>totmrc</td>\n",
              "    </tr>\n",
              "    <tr>\n",
              "      <th>8</th>\n",
              "      <td>vceovr</td>\n",
              "      <td>da</td>\n",
              "      <td>0.978044</td>\n",
              "      <td>1.0</td>\n",
              "      <td>1.0</td>\n",
              "      <td>da</td>\n",
              "    </tr>\n",
              "    <tr>\n",
              "      <th>9</th>\n",
              "      <td>vceovr</td>\n",
              "      <td>ovrrev</td>\n",
              "      <td>0.999665</td>\n",
              "      <td>1.0</td>\n",
              "      <td>1.0</td>\n",
              "      <td>ovrrev</td>\n",
              "    </tr>\n",
              "    <tr>\n",
              "      <th>10</th>\n",
              "      <td>datovr</td>\n",
              "      <td>rev</td>\n",
              "      <td>0.958384</td>\n",
              "      <td>1.0</td>\n",
              "      <td>1.0</td>\n",
              "      <td>rev</td>\n",
              "    </tr>\n",
              "    <tr>\n",
              "      <th>11</th>\n",
              "      <td>datovr</td>\n",
              "      <td>totmrc</td>\n",
              "      <td>0.986657</td>\n",
              "      <td>1.0</td>\n",
              "      <td>1.0</td>\n",
              "      <td>totmrc</td>\n",
              "    </tr>\n",
              "    <tr>\n",
              "      <th>12</th>\n",
              "      <td>datovr</td>\n",
              "      <td>da</td>\n",
              "      <td>0.999551</td>\n",
              "      <td>1.0</td>\n",
              "      <td>1.0</td>\n",
              "      <td>da</td>\n",
              "    </tr>\n",
              "    <tr>\n",
              "      <th>13</th>\n",
              "      <td>datovr</td>\n",
              "      <td>ovrrev</td>\n",
              "      <td>0.977306</td>\n",
              "      <td>1.0</td>\n",
              "      <td>1.0</td>\n",
              "      <td>ovrrev</td>\n",
              "    </tr>\n",
              "    <tr>\n",
              "      <th>14</th>\n",
              "      <td>datovr</td>\n",
              "      <td>vceovr</td>\n",
              "      <td>0.977633</td>\n",
              "      <td>1.0</td>\n",
              "      <td>1.0</td>\n",
              "      <td>vceovr</td>\n",
              "    </tr>\n",
              "    <tr>\n",
              "      <th>15</th>\n",
              "      <td>roam</td>\n",
              "      <td>rev</td>\n",
              "      <td>0.958876</td>\n",
              "      <td>1.0</td>\n",
              "      <td>1.0</td>\n",
              "      <td>rev</td>\n",
              "    </tr>\n",
              "    <tr>\n",
              "      <th>16</th>\n",
              "      <td>roam</td>\n",
              "      <td>totmrc</td>\n",
              "      <td>0.986820</td>\n",
              "      <td>1.0</td>\n",
              "      <td>1.0</td>\n",
              "      <td>totmrc</td>\n",
              "    </tr>\n",
              "    <tr>\n",
              "      <th>17</th>\n",
              "      <td>roam</td>\n",
              "      <td>da</td>\n",
              "      <td>0.999209</td>\n",
              "      <td>1.0</td>\n",
              "      <td>1.0</td>\n",
              "      <td>da</td>\n",
              "    </tr>\n",
              "    <tr>\n",
              "      <th>18</th>\n",
              "      <td>roam</td>\n",
              "      <td>ovrrev</td>\n",
              "      <td>0.975928</td>\n",
              "      <td>1.0</td>\n",
              "      <td>1.0</td>\n",
              "      <td>ovrrev</td>\n",
              "    </tr>\n",
              "    <tr>\n",
              "      <th>19</th>\n",
              "      <td>roam</td>\n",
              "      <td>vceovr</td>\n",
              "      <td>0.976913</td>\n",
              "      <td>1.0</td>\n",
              "      <td>1.0</td>\n",
              "      <td>vceovr</td>\n",
              "    </tr>\n",
              "    <tr>\n",
              "      <th>20</th>\n",
              "      <td>roam</td>\n",
              "      <td>datovr</td>\n",
              "      <td>0.998937</td>\n",
              "      <td>1.0</td>\n",
              "      <td>1.0</td>\n",
              "      <td>datovr</td>\n",
              "    </tr>\n",
              "    <tr>\n",
              "      <th>21</th>\n",
              "      <td>comp_vce</td>\n",
              "      <td>plcd_vce</td>\n",
              "      <td>0.983718</td>\n",
              "      <td>1.0</td>\n",
              "      <td>1.0</td>\n",
              "      <td>plcd_vce</td>\n",
              "    </tr>\n",
              "    <tr>\n",
              "      <th>22</th>\n",
              "      <td>cc_mou</td>\n",
              "      <td>ccrndmou</td>\n",
              "      <td>0.989200</td>\n",
              "      <td>1.0</td>\n",
              "      <td>1.0</td>\n",
              "      <td>ccrndmou</td>\n",
              "    </tr>\n",
              "    <tr>\n",
              "      <th>23</th>\n",
              "      <td>inonemin</td>\n",
              "      <td>recv_vce</td>\n",
              "      <td>0.971066</td>\n",
              "      <td>1.0</td>\n",
              "      <td>1.0</td>\n",
              "      <td>recv_vce</td>\n",
              "    </tr>\n",
              "    <tr>\n",
              "      <th>24</th>\n",
              "      <td>opk_dat</td>\n",
              "      <td>comp_dat</td>\n",
              "      <td>0.964414</td>\n",
              "      <td>1.0</td>\n",
              "      <td>1.0</td>\n",
              "      <td>comp_dat</td>\n",
              "    </tr>\n",
              "    <tr>\n",
              "      <th>25</th>\n",
              "      <td>mou_opkd</td>\n",
              "      <td>mou_cdat</td>\n",
              "      <td>0.962236</td>\n",
              "      <td>1.0</td>\n",
              "      <td>1.0</td>\n",
              "      <td>mou_cdat</td>\n",
              "    </tr>\n",
              "    <tr>\n",
              "      <th>26</th>\n",
              "      <td>attempt</td>\n",
              "      <td>plcd_vce</td>\n",
              "      <td>0.997309</td>\n",
              "      <td>1.0</td>\n",
              "      <td>1.0</td>\n",
              "      <td>plcd_vce</td>\n",
              "    </tr>\n",
              "    <tr>\n",
              "      <th>27</th>\n",
              "      <td>attempt</td>\n",
              "      <td>comp_vce</td>\n",
              "      <td>0.981087</td>\n",
              "      <td>1.0</td>\n",
              "      <td>1.0</td>\n",
              "      <td>comp_vce</td>\n",
              "    </tr>\n",
              "    <tr>\n",
              "      <th>28</th>\n",
              "      <td>complete</td>\n",
              "      <td>plcd_vce</td>\n",
              "      <td>0.980221</td>\n",
              "      <td>1.0</td>\n",
              "      <td>1.0</td>\n",
              "      <td>plcd_vce</td>\n",
              "    </tr>\n",
              "    <tr>\n",
              "      <th>29</th>\n",
              "      <td>complete</td>\n",
              "      <td>comp_vce</td>\n",
              "      <td>0.996346</td>\n",
              "      <td>1.0</td>\n",
              "      <td>1.0</td>\n",
              "      <td>comp_vce</td>\n",
              "    </tr>\n",
              "    <tr>\n",
              "      <th>30</th>\n",
              "      <td>complete</td>\n",
              "      <td>attempt</td>\n",
              "      <td>0.983523</td>\n",
              "      <td>1.0</td>\n",
              "      <td>1.0</td>\n",
              "      <td>attempt</td>\n",
              "    </tr>\n",
              "    <tr>\n",
              "      <th>31</th>\n",
              "      <td>adjrev</td>\n",
              "      <td>totrev</td>\n",
              "      <td>0.997572</td>\n",
              "      <td>1.0</td>\n",
              "      <td>1.0</td>\n",
              "      <td>totrev</td>\n",
              "    </tr>\n",
              "    <tr>\n",
              "      <th>32</th>\n",
              "      <td>adjmou</td>\n",
              "      <td>totmou</td>\n",
              "      <td>0.999262</td>\n",
              "      <td>1.0</td>\n",
              "      <td>1.0</td>\n",
              "      <td>totmou</td>\n",
              "    </tr>\n",
              "    <tr>\n",
              "      <th>33</th>\n",
              "      <td>adjqty</td>\n",
              "      <td>totcalls</td>\n",
              "      <td>0.999447</td>\n",
              "      <td>1.0</td>\n",
              "      <td>1.0</td>\n",
              "      <td>totcalls</td>\n",
              "    </tr>\n",
              "    <tr>\n",
              "      <th>34</th>\n",
              "      <td>asl_flag_Y</td>\n",
              "      <td>asl_flag_N</td>\n",
              "      <td>1.000000</td>\n",
              "      <td>1.0</td>\n",
              "      <td>1.0</td>\n",
              "      <td>asl_flag_N</td>\n",
              "    </tr>\n",
              "    <tr>\n",
              "      <th>35</th>\n",
              "      <td>refurb_new_R</td>\n",
              "      <td>refurb_new_N</td>\n",
              "      <td>1.000000</td>\n",
              "      <td>1.0</td>\n",
              "      <td>1.0</td>\n",
              "      <td>refurb_new_N</td>\n",
              "    </tr>\n",
              "    <tr>\n",
              "      <th>36</th>\n",
              "      <td>hnd_webcap_UNKW</td>\n",
              "      <td>dualband_U</td>\n",
              "      <td>0.969126</td>\n",
              "      <td>1.0</td>\n",
              "      <td>1.0</td>\n",
              "      <td>dualband_U</td>\n",
              "    </tr>\n",
              "    <tr>\n",
              "      <th>37</th>\n",
              "      <td>hnd_webcap_WCMB</td>\n",
              "      <td>hnd_webcap_WC</td>\n",
              "      <td>0.981447</td>\n",
              "      <td>1.0</td>\n",
              "      <td>1.0</td>\n",
              "      <td>hnd_webcap_WC</td>\n",
              "    </tr>\n",
              "    <tr>\n",
              "      <th>38</th>\n",
              "      <td>ownrent_R</td>\n",
              "      <td>ownrent_O</td>\n",
              "      <td>1.000000</td>\n",
              "      <td>1.0</td>\n",
              "      <td>1.0</td>\n",
              "      <td>ownrent_O</td>\n",
              "    </tr>\n",
              "    <tr>\n",
              "      <th>39</th>\n",
              "      <td>dwlltype_S</td>\n",
              "      <td>dwlltype_M</td>\n",
              "      <td>1.000000</td>\n",
              "      <td>1.0</td>\n",
              "      <td>1.0</td>\n",
              "      <td>dwlltype_M</td>\n",
              "    </tr>\n",
              "    <tr>\n",
              "      <th>40</th>\n",
              "      <td>kid0_2_Y</td>\n",
              "      <td>kid0_2_U</td>\n",
              "      <td>1.000000</td>\n",
              "      <td>1.0</td>\n",
              "      <td>1.0</td>\n",
              "      <td>kid0_2_U</td>\n",
              "    </tr>\n",
              "    <tr>\n",
              "      <th>41</th>\n",
              "      <td>kid3_5_Y</td>\n",
              "      <td>kid3_5_U</td>\n",
              "      <td>1.000000</td>\n",
              "      <td>1.0</td>\n",
              "      <td>1.0</td>\n",
              "      <td>kid3_5_U</td>\n",
              "    </tr>\n",
              "    <tr>\n",
              "      <th>42</th>\n",
              "      <td>kid6_10_Y</td>\n",
              "      <td>kid6_10_U</td>\n",
              "      <td>1.000000</td>\n",
              "      <td>1.0</td>\n",
              "      <td>1.0</td>\n",
              "      <td>kid6_10_U</td>\n",
              "    </tr>\n",
              "    <tr>\n",
              "      <th>43</th>\n",
              "      <td>kid11_15_Y</td>\n",
              "      <td>kid11_15_U</td>\n",
              "      <td>1.000000</td>\n",
              "      <td>1.0</td>\n",
              "      <td>1.0</td>\n",
              "      <td>kid11_15_U</td>\n",
              "    </tr>\n",
              "    <tr>\n",
              "      <th>44</th>\n",
              "      <td>kid16_17_Y</td>\n",
              "      <td>kid16_17_U</td>\n",
              "      <td>1.000000</td>\n",
              "      <td>1.0</td>\n",
              "      <td>1.0</td>\n",
              "      <td>kid16_17_U</td>\n",
              "    </tr>\n",
              "    <tr>\n",
              "      <th>45</th>\n",
              "      <td>creditcd_Y</td>\n",
              "      <td>creditcd_N</td>\n",
              "      <td>1.000000</td>\n",
              "      <td>1.0</td>\n",
              "      <td>1.0</td>\n",
              "      <td>creditcd_N</td>\n",
              "    </tr>\n",
              "  </tbody>\n",
              "</table>\n",
              "</div>\n",
              "      <button class=\"colab-df-convert\" onclick=\"convertToInteractive('df-055d289e-9a6e-474e-b0c5-611e3673ba46')\"\n",
              "              title=\"Convert this dataframe to an interactive table.\"\n",
              "              style=\"display:none;\">\n",
              "\n",
              "  <svg xmlns=\"http://www.w3.org/2000/svg\" height=\"24px\"viewBox=\"0 0 24 24\"\n",
              "       width=\"24px\">\n",
              "    <path d=\"M0 0h24v24H0V0z\" fill=\"none\"/>\n",
              "    <path d=\"M18.56 5.44l.94 2.06.94-2.06 2.06-.94-2.06-.94-.94-2.06-.94 2.06-2.06.94zm-11 1L8.5 8.5l.94-2.06 2.06-.94-2.06-.94L8.5 2.5l-.94 2.06-2.06.94zm10 10l.94 2.06.94-2.06 2.06-.94-2.06-.94-.94-2.06-.94 2.06-2.06.94z\"/><path d=\"M17.41 7.96l-1.37-1.37c-.4-.4-.92-.59-1.43-.59-.52 0-1.04.2-1.43.59L10.3 9.45l-7.72 7.72c-.78.78-.78 2.05 0 2.83L4 21.41c.39.39.9.59 1.41.59.51 0 1.02-.2 1.41-.59l7.78-7.78 2.81-2.81c.8-.78.8-2.07 0-2.86zM5.41 20L4 18.59l7.72-7.72 1.47 1.35L5.41 20z\"/>\n",
              "  </svg>\n",
              "      </button>\n",
              "\n",
              "\n",
              "\n",
              "    <div id=\"df-33ec107e-bc32-4f5c-92a9-ff7c35ba76cf\">\n",
              "      <button class=\"colab-df-quickchart\" onclick=\"quickchart('df-33ec107e-bc32-4f5c-92a9-ff7c35ba76cf')\"\n",
              "              title=\"Suggest charts.\"\n",
              "              style=\"display:none;\">\n",
              "\n",
              "<svg xmlns=\"http://www.w3.org/2000/svg\" height=\"24px\"viewBox=\"0 0 24 24\"\n",
              "     width=\"24px\">\n",
              "    <g>\n",
              "        <path d=\"M19 3H5c-1.1 0-2 .9-2 2v14c0 1.1.9 2 2 2h14c1.1 0 2-.9 2-2V5c0-1.1-.9-2-2-2zM9 17H7v-7h2v7zm4 0h-2V7h2v10zm4 0h-2v-4h2v4z\"/>\n",
              "    </g>\n",
              "</svg>\n",
              "      </button>\n",
              "    </div>\n",
              "\n",
              "<style>\n",
              "  .colab-df-quickchart {\n",
              "    background-color: #E8F0FE;\n",
              "    border: none;\n",
              "    border-radius: 50%;\n",
              "    cursor: pointer;\n",
              "    display: none;\n",
              "    fill: #1967D2;\n",
              "    height: 32px;\n",
              "    padding: 0 0 0 0;\n",
              "    width: 32px;\n",
              "  }\n",
              "\n",
              "  .colab-df-quickchart:hover {\n",
              "    background-color: #E2EBFA;\n",
              "    box-shadow: 0px 1px 2px rgba(60, 64, 67, 0.3), 0px 1px 3px 1px rgba(60, 64, 67, 0.15);\n",
              "    fill: #174EA6;\n",
              "  }\n",
              "\n",
              "  [theme=dark] .colab-df-quickchart {\n",
              "    background-color: #3B4455;\n",
              "    fill: #D2E3FC;\n",
              "  }\n",
              "\n",
              "  [theme=dark] .colab-df-quickchart:hover {\n",
              "    background-color: #434B5C;\n",
              "    box-shadow: 0px 1px 3px 1px rgba(0, 0, 0, 0.15);\n",
              "    filter: drop-shadow(0px 1px 2px rgba(0, 0, 0, 0.3));\n",
              "    fill: #FFFFFF;\n",
              "  }\n",
              "</style>\n",
              "\n",
              "    <script>\n",
              "      async function quickchart(key) {\n",
              "        const containerElement = document.querySelector('#' + key);\n",
              "        const charts = await google.colab.kernel.invokeFunction(\n",
              "            'suggestCharts', [key], {});\n",
              "      }\n",
              "    </script>\n",
              "\n",
              "      <script>\n",
              "\n",
              "function displayQuickchartButton(domScope) {\n",
              "  let quickchartButtonEl =\n",
              "    domScope.querySelector('#df-33ec107e-bc32-4f5c-92a9-ff7c35ba76cf button.colab-df-quickchart');\n",
              "  quickchartButtonEl.style.display =\n",
              "    google.colab.kernel.accessAllowed ? 'block' : 'none';\n",
              "}\n",
              "\n",
              "        displayQuickchartButton(document);\n",
              "      </script>\n",
              "      <style>\n",
              "    .colab-df-container {\n",
              "      display:flex;\n",
              "      flex-wrap:wrap;\n",
              "      gap: 12px;\n",
              "    }\n",
              "\n",
              "    .colab-df-convert {\n",
              "      background-color: #E8F0FE;\n",
              "      border: none;\n",
              "      border-radius: 50%;\n",
              "      cursor: pointer;\n",
              "      display: none;\n",
              "      fill: #1967D2;\n",
              "      height: 32px;\n",
              "      padding: 0 0 0 0;\n",
              "      width: 32px;\n",
              "    }\n",
              "\n",
              "    .colab-df-convert:hover {\n",
              "      background-color: #E2EBFA;\n",
              "      box-shadow: 0px 1px 2px rgba(60, 64, 67, 0.3), 0px 1px 3px 1px rgba(60, 64, 67, 0.15);\n",
              "      fill: #174EA6;\n",
              "    }\n",
              "\n",
              "    [theme=dark] .colab-df-convert {\n",
              "      background-color: #3B4455;\n",
              "      fill: #D2E3FC;\n",
              "    }\n",
              "\n",
              "    [theme=dark] .colab-df-convert:hover {\n",
              "      background-color: #434B5C;\n",
              "      box-shadow: 0px 1px 3px 1px rgba(0, 0, 0, 0.15);\n",
              "      filter: drop-shadow(0px 1px 2px rgba(0, 0, 0, 0.3));\n",
              "      fill: #FFFFFF;\n",
              "    }\n",
              "  </style>\n",
              "\n",
              "      <script>\n",
              "        const buttonEl =\n",
              "          document.querySelector('#df-055d289e-9a6e-474e-b0c5-611e3673ba46 button.colab-df-convert');\n",
              "        buttonEl.style.display =\n",
              "          google.colab.kernel.accessAllowed ? 'block' : 'none';\n",
              "\n",
              "        async function convertToInteractive(key) {\n",
              "          const element = document.querySelector('#df-055d289e-9a6e-474e-b0c5-611e3673ba46');\n",
              "          const dataTable =\n",
              "            await google.colab.kernel.invokeFunction('convertToInteractive',\n",
              "                                                     [key], {});\n",
              "          if (!dataTable) return;\n",
              "\n",
              "          const docLinkHtml = 'Like what you see? Visit the ' +\n",
              "            '<a target=\"_blank\" href=https://colab.research.google.com/notebooks/data_table.ipynb>data table notebook</a>'\n",
              "            + ' to learn more about interactive tables.';\n",
              "          element.innerHTML = '';\n",
              "          dataTable['output_type'] = 'display_data';\n",
              "          await google.colab.output.renderOutput(dataTable, element);\n",
              "          const docLink = document.createElement('div');\n",
              "          docLink.innerHTML = docLinkHtml;\n",
              "          element.appendChild(docLink);\n",
              "        }\n",
              "      </script>\n",
              "    </div>\n",
              "  </div>\n"
            ]
          },
          "metadata": {},
          "execution_count": 257
        }
      ]
    },
    {
      "cell_type": "code",
      "source": [
        "drop_cols = list(highly_corr['F_to_delete'])"
      ],
      "metadata": {
        "id": "1ufNAO7kd5AL"
      },
      "execution_count": null,
      "outputs": []
    },
    {
      "cell_type": "code",
      "source": [
        "X_pred.drop(columns=drop_cols, inplace=True)\n",
        "print('Eliminadas columnas altamente correlacionadas:', drop_cols)"
      ],
      "metadata": {
        "colab": {
          "base_uri": "https://localhost:8080/"
        },
        "id": "whC-5864d-a8",
        "outputId": "9bd2cda0-9675-4872-bc06-a269ce4c319d"
      },
      "execution_count": null,
      "outputs": [
        {
          "output_type": "stream",
          "name": "stdout",
          "text": [
            "Eliminadas columnas altamente correlacionadas: ['rev', 'rev', 'totmrc', 'rev', 'totmrc', 'da', 'rev', 'totmrc', 'da', 'ovrrev', 'rev', 'totmrc', 'da', 'ovrrev', 'vceovr', 'rev', 'totmrc', 'da', 'ovrrev', 'vceovr', 'datovr', 'plcd_vce', 'ccrndmou', 'recv_vce', 'comp_dat', 'mou_cdat', 'plcd_vce', 'comp_vce', 'plcd_vce', 'comp_vce', 'attempt', 'totrev', 'totmou', 'totcalls', 'asl_flag_N', 'refurb_new_N', 'dualband_U', 'hnd_webcap_WC', 'ownrent_O', 'dwlltype_M', 'kid0_2_U', 'kid3_5_U', 'kid6_10_U', 'kid11_15_U', 'kid16_17_U', 'creditcd_N']\n"
          ]
        }
      ]
    },
    {
      "cell_type": "code",
      "source": [
        "X_pred.shape"
      ],
      "metadata": {
        "colab": {
          "base_uri": "https://localhost:8080/"
        },
        "id": "dpfhaJXzeBMa",
        "outputId": "29e3a4dc-ee96-4c6e-c04e-25090a8df6d8"
      },
      "execution_count": null,
      "outputs": [
        {
          "output_type": "execute_result",
          "data": {
            "text/plain": [
              "(10000, 178)"
            ]
          },
          "metadata": {},
          "execution_count": 260
        }
      ]
    },
    {
      "cell_type": "code",
      "source": [
        "target = 'churn'\n",
        "features = X_pred.columns[X_pred.columns!=target]"
      ],
      "metadata": {
        "id": "8A8jkG6ueE1G"
      },
      "execution_count": null,
      "outputs": []
    },
    {
      "cell_type": "code",
      "source": [
        "X2 = X_pred[features]"
      ],
      "metadata": {
        "id": "KYG4sIgYeNmK"
      },
      "execution_count": null,
      "outputs": []
    },
    {
      "cell_type": "code",
      "source": [
        "y2 = X_pred.columns[X_pred.columns ==target]"
      ],
      "metadata": {
        "id": "5M7IgLPNeMfi"
      },
      "execution_count": null,
      "outputs": []
    },
    {
      "cell_type": "code",
      "source": [
        "pip install scikit-learn"
      ],
      "metadata": {
        "colab": {
          "base_uri": "https://localhost:8080/"
        },
        "id": "tAbQI6Eied96",
        "outputId": "a34c069b-e1ce-4116-d94a-e402570f5238"
      },
      "execution_count": null,
      "outputs": [
        {
          "output_type": "stream",
          "name": "stdout",
          "text": [
            "Requirement already satisfied: scikit-learn in /usr/local/lib/python3.10/dist-packages (1.2.2)\n",
            "Requirement already satisfied: numpy>=1.17.3 in /usr/local/lib/python3.10/dist-packages (from scikit-learn) (1.23.5)\n",
            "Requirement already satisfied: scipy>=1.3.2 in /usr/local/lib/python3.10/dist-packages (from scikit-learn) (1.10.1)\n",
            "Requirement already satisfied: joblib>=1.1.1 in /usr/local/lib/python3.10/dist-packages (from scikit-learn) (1.3.2)\n",
            "Requirement already satisfied: threadpoolctl>=2.0.0 in /usr/local/lib/python3.10/dist-packages (from scikit-learn) (3.2.0)\n"
          ]
        }
      ]
    },
    {
      "cell_type": "code",
      "source": [
        "from sklearn.feature_selection import VarianceThreshold"
      ],
      "metadata": {
        "id": "gGCq-D4Pei1v"
      },
      "execution_count": null,
      "outputs": []
    },
    {
      "cell_type": "code",
      "source": [
        "X2.shape"
      ],
      "metadata": {
        "colab": {
          "base_uri": "https://localhost:8080/"
        },
        "id": "GPqVGzKBeq7S",
        "outputId": "1dc3d794-f68a-4f32-8354-9da8efe90f92"
      },
      "execution_count": null,
      "outputs": [
        {
          "output_type": "execute_result",
          "data": {
            "text/plain": [
              "(10000, 178)"
            ]
          },
          "metadata": {},
          "execution_count": 266
        }
      ]
    },
    {
      "cell_type": "code",
      "source": [
        "vt = VarianceThreshold(threshold = 0.01)"
      ],
      "metadata": {
        "id": "2f7DdSKvevyA"
      },
      "execution_count": null,
      "outputs": []
    },
    {
      "cell_type": "code",
      "source": [
        "vt.fit(X2)"
      ],
      "metadata": {
        "colab": {
          "base_uri": "https://localhost:8080/",
          "height": 74
        },
        "id": "57WQyZQaeyUA",
        "outputId": "8f11188d-6041-4c1b-8fe0-2f1b395f08a6"
      },
      "execution_count": null,
      "outputs": [
        {
          "output_type": "execute_result",
          "data": {
            "text/plain": [
              "VarianceThreshold(threshold=0.01)"
            ],
            "text/html": [
              "<style>#sk-container-id-1 {color: black;background-color: white;}#sk-container-id-1 pre{padding: 0;}#sk-container-id-1 div.sk-toggleable {background-color: white;}#sk-container-id-1 label.sk-toggleable__label {cursor: pointer;display: block;width: 100%;margin-bottom: 0;padding: 0.3em;box-sizing: border-box;text-align: center;}#sk-container-id-1 label.sk-toggleable__label-arrow:before {content: \"▸\";float: left;margin-right: 0.25em;color: #696969;}#sk-container-id-1 label.sk-toggleable__label-arrow:hover:before {color: black;}#sk-container-id-1 div.sk-estimator:hover label.sk-toggleable__label-arrow:before {color: black;}#sk-container-id-1 div.sk-toggleable__content {max-height: 0;max-width: 0;overflow: hidden;text-align: left;background-color: #f0f8ff;}#sk-container-id-1 div.sk-toggleable__content pre {margin: 0.2em;color: black;border-radius: 0.25em;background-color: #f0f8ff;}#sk-container-id-1 input.sk-toggleable__control:checked~div.sk-toggleable__content {max-height: 200px;max-width: 100%;overflow: auto;}#sk-container-id-1 input.sk-toggleable__control:checked~label.sk-toggleable__label-arrow:before {content: \"▾\";}#sk-container-id-1 div.sk-estimator input.sk-toggleable__control:checked~label.sk-toggleable__label {background-color: #d4ebff;}#sk-container-id-1 div.sk-label input.sk-toggleable__control:checked~label.sk-toggleable__label {background-color: #d4ebff;}#sk-container-id-1 input.sk-hidden--visually {border: 0;clip: rect(1px 1px 1px 1px);clip: rect(1px, 1px, 1px, 1px);height: 1px;margin: -1px;overflow: hidden;padding: 0;position: absolute;width: 1px;}#sk-container-id-1 div.sk-estimator {font-family: monospace;background-color: #f0f8ff;border: 1px dotted black;border-radius: 0.25em;box-sizing: border-box;margin-bottom: 0.5em;}#sk-container-id-1 div.sk-estimator:hover {background-color: #d4ebff;}#sk-container-id-1 div.sk-parallel-item::after {content: \"\";width: 100%;border-bottom: 1px solid gray;flex-grow: 1;}#sk-container-id-1 div.sk-label:hover label.sk-toggleable__label {background-color: #d4ebff;}#sk-container-id-1 div.sk-serial::before {content: \"\";position: absolute;border-left: 1px solid gray;box-sizing: border-box;top: 0;bottom: 0;left: 50%;z-index: 0;}#sk-container-id-1 div.sk-serial {display: flex;flex-direction: column;align-items: center;background-color: white;padding-right: 0.2em;padding-left: 0.2em;position: relative;}#sk-container-id-1 div.sk-item {position: relative;z-index: 1;}#sk-container-id-1 div.sk-parallel {display: flex;align-items: stretch;justify-content: center;background-color: white;position: relative;}#sk-container-id-1 div.sk-item::before, #sk-container-id-1 div.sk-parallel-item::before {content: \"\";position: absolute;border-left: 1px solid gray;box-sizing: border-box;top: 0;bottom: 0;left: 50%;z-index: -1;}#sk-container-id-1 div.sk-parallel-item {display: flex;flex-direction: column;z-index: 1;position: relative;background-color: white;}#sk-container-id-1 div.sk-parallel-item:first-child::after {align-self: flex-end;width: 50%;}#sk-container-id-1 div.sk-parallel-item:last-child::after {align-self: flex-start;width: 50%;}#sk-container-id-1 div.sk-parallel-item:only-child::after {width: 0;}#sk-container-id-1 div.sk-dashed-wrapped {border: 1px dashed gray;margin: 0 0.4em 0.5em 0.4em;box-sizing: border-box;padding-bottom: 0.4em;background-color: white;}#sk-container-id-1 div.sk-label label {font-family: monospace;font-weight: bold;display: inline-block;line-height: 1.2em;}#sk-container-id-1 div.sk-label-container {text-align: center;}#sk-container-id-1 div.sk-container {/* jupyter's `normalize.less` sets `[hidden] { display: none; }` but bootstrap.min.css set `[hidden] { display: none !important; }` so we also need the `!important` here to be able to override the default hidden behavior on the sphinx rendered scikit-learn.org. See: https://github.com/scikit-learn/scikit-learn/issues/21755 */display: inline-block !important;position: relative;}#sk-container-id-1 div.sk-text-repr-fallback {display: none;}</style><div id=\"sk-container-id-1\" class=\"sk-top-container\"><div class=\"sk-text-repr-fallback\"><pre>VarianceThreshold(threshold=0.01)</pre><b>In a Jupyter environment, please rerun this cell to show the HTML representation or trust the notebook. <br />On GitHub, the HTML representation is unable to render, please try loading this page with nbviewer.org.</b></div><div class=\"sk-container\" hidden><div class=\"sk-item\"><div class=\"sk-estimator sk-toggleable\"><input class=\"sk-toggleable__control sk-hidden--visually\" id=\"sk-estimator-id-1\" type=\"checkbox\" checked><label for=\"sk-estimator-id-1\" class=\"sk-toggleable__label sk-toggleable__label-arrow\">VarianceThreshold</label><div class=\"sk-toggleable__content\"><pre>VarianceThreshold(threshold=0.01)</pre></div></div></div></div></div>"
            ]
          },
          "metadata": {},
          "execution_count": 268
        }
      ]
    },
    {
      "cell_type": "code",
      "source": [
        "cols_lowvar = X2.columns[vt.get_support()==False]"
      ],
      "metadata": {
        "id": "MpWDVXBpeyA1"
      },
      "execution_count": null,
      "outputs": []
    },
    {
      "cell_type": "code",
      "source": [
        "X2.drop(columns=cols_lowvar,inplace=True)\n",
        "print(len(cols_lowvar),' low variance features were removed:\\n', cols_lowvar.to_list())"
      ],
      "metadata": {
        "colab": {
          "base_uri": "https://localhost:8080/"
        },
        "id": "v4TdSfi5e4mA",
        "outputId": "989e08ca-d027-4d81-f69a-719bd5e0b9a7"
      },
      "execution_count": null,
      "outputs": [
        {
          "output_type": "stream",
          "name": "stdout",
          "text": [
            "49  low variance features were removed:\n",
            " ['crclscod_A2', 'crclscod_B2', 'crclscod_C', 'crclscod_C2', 'crclscod_C5', 'crclscod_CC', 'crclscod_D', 'crclscod_D5', 'crclscod_E', 'crclscod_E2', 'crclscod_EC', 'crclscod_EM', 'crclscod_G', 'crclscod_GA', 'crclscod_GY', 'crclscod_H', 'crclscod_I', 'crclscod_J', 'crclscod_JF', 'crclscod_K', 'crclscod_L', 'crclscod_M', 'crclscod_O', 'crclscod_P1', 'crclscod_U', 'crclscod_U1', 'crclscod_W', 'crclscod_Y', 'crclscod_Z', 'crclscod_Z1', 'crclscod_Z2', 'crclscod_Z5', 'hnd_webcap_UNKW', 'dwllsize_D', 'dwllsize_E', 'dwllsize_F', 'dwllsize_G', 'dwllsize_H', 'dwllsize_I', 'dwllsize_K', 'dwllsize_L', 'dwllsize_M', 'dwllsize_N', 'dwllsize_O', 'ethnic_B', 'ethnic_D', 'ethnic_M', 'ethnic_R', 'ethnic_X']\n"
          ]
        }
      ]
    },
    {
      "cell_type": "code",
      "source": [
        "X2.shape"
      ],
      "metadata": {
        "colab": {
          "base_uri": "https://localhost:8080/"
        },
        "id": "YCxEYiV9e4Zy",
        "outputId": "3b885557-0b4d-46d4-be1f-5f825b40dbc7"
      },
      "execution_count": null,
      "outputs": [
        {
          "output_type": "execute_result",
          "data": {
            "text/plain": [
              "(10000, 129)"
            ]
          },
          "metadata": {},
          "execution_count": 271
        }
      ]
    },
    {
      "cell_type": "markdown",
      "source": [
        "# Check model features"
      ],
      "metadata": {
        "id": "cWWJHvZwLpRu"
      }
    },
    {
      "cell_type": "markdown",
      "source": [
        "* Comprobar que tenemos en el dataset preprocesado todas las model features, de lo contrario no podremos hacer predict.\n",
        "* Ordenar las variables en mismo orden que las model features"
      ],
      "metadata": {
        "id": "5c1AMI6qLsLf"
      }
    },
    {
      "cell_type": "code",
      "source": [
        "features_test = list(X_pred.columns)\n",
        "\n",
        "print('Columnas en dataset:',len(features_test))\n",
        "print('Variables en modelos:',len(features_model))\n",
        "print('¿Match?:', features_model == features_test)"
      ],
      "metadata": {
        "id": "H7Yuoi2ULoxa",
        "colab": {
          "base_uri": "https://localhost:8080/"
        },
        "outputId": "daa23561-a46e-41f3-99ef-78e1dd8758ca"
      },
      "execution_count": null,
      "outputs": [
        {
          "output_type": "stream",
          "name": "stdout",
          "text": [
            "Columnas en dataset: 178\n",
            "Variables en modelos: 129\n",
            "¿Match?: False\n"
          ]
        }
      ]
    },
    {
      "cell_type": "code",
      "source": [
        "missing_features = [i for i in features_model if i not in features_test]\n",
        "print('Variables que faltan en el dataset:\\n', missing_features)"
      ],
      "metadata": {
        "colab": {
          "base_uri": "https://localhost:8080/"
        },
        "id": "3_9_U3OvQBIH",
        "outputId": "168e6450-093f-4939-99eb-24a8ea918031"
      },
      "execution_count": null,
      "outputs": [
        {
          "output_type": "stream",
          "name": "stdout",
          "text": [
            "Variables que faltan en el dataset:\n",
            " ['rev', 'totmrc', 'vceovr', 'datovr', 'comp_dat']\n"
          ]
        }
      ]
    },
    {
      "cell_type": "code",
      "source": [
        "for col in missing_features:\n",
        "  X_pred[col]= 0"
      ],
      "metadata": {
        "id": "JqlwjjgTQEpD"
      },
      "execution_count": null,
      "outputs": []
    },
    {
      "cell_type": "code",
      "source": [
        "drop_features = [i for i in features_test if i not in features_model]\n",
        "print('Variables que debes eliminar de tu dataset:\\n', drop_features)"
      ],
      "metadata": {
        "colab": {
          "base_uri": "https://localhost:8080/"
        },
        "id": "J1uBGEy9QHWa",
        "outputId": "796241d2-7f82-4dcf-f831-48c6fcab18e3"
      },
      "execution_count": null,
      "outputs": [
        {
          "output_type": "stream",
          "name": "stdout",
          "text": [
            "Variables que debes eliminar de tu dataset:\n",
            " ['mou', 'plcd_dat', 'crclscod_A2', 'crclscod_B2', 'crclscod_C2', 'crclscod_C5', 'crclscod_CC', 'crclscod_CY', 'crclscod_D', 'crclscod_D4', 'crclscod_D5', 'crclscod_E', 'crclscod_E2', 'crclscod_E4', 'crclscod_EC', 'crclscod_EM', 'crclscod_G', 'crclscod_GA', 'crclscod_GY', 'crclscod_H', 'crclscod_I', 'crclscod_J', 'crclscod_JF', 'crclscod_K', 'crclscod_L', 'crclscod_M', 'crclscod_O', 'crclscod_P1', 'crclscod_U', 'crclscod_U1', 'crclscod_W', 'crclscod_Y', 'crclscod_Z', 'crclscod_Z1', 'crclscod_Z2', 'crclscod_Z4', 'crclscod_Z5', 'crclscod_ZY', 'hnd_webcap_UNKW', 'dwllsize_D', 'dwllsize_E', 'dwllsize_F', 'dwllsize_G', 'dwllsize_H', 'dwllsize_I', 'dwllsize_K', 'dwllsize_L', 'dwllsize_M', 'dwllsize_N', 'ethnic_C', 'ethnic_D', 'ethnic_M', 'ethnic_P', 'ethnic_X']\n"
          ]
        }
      ]
    },
    {
      "cell_type": "code",
      "source": [
        "X_pred.drop(columns = drop_features, inplace=True)"
      ],
      "metadata": {
        "id": "DEzwsrThQIvb"
      },
      "execution_count": null,
      "outputs": []
    },
    {
      "cell_type": "code",
      "source": [
        "# Reordena variables\n",
        "X_pred = X_pred[features_model]"
      ],
      "metadata": {
        "id": "iOEnIfuYQK03"
      },
      "execution_count": null,
      "outputs": []
    },
    {
      "cell_type": "code",
      "source": [
        "features_test = list(X_pred.columns)\n",
        "\n",
        "print('Columnas en dataset:',len(features_test))\n",
        "print('Variables en modelos:',len(features_model))\n",
        "print('¿Match?:', features_model == features_test)"
      ],
      "metadata": {
        "colab": {
          "base_uri": "https://localhost:8080/"
        },
        "id": "GdeSPGcxQO3j",
        "outputId": "64f9ad30-e5ab-4be9-950a-1598fff1f900"
      },
      "execution_count": null,
      "outputs": [
        {
          "output_type": "stream",
          "name": "stdout",
          "text": [
            "Columnas en dataset: 129\n",
            "Variables en modelos: 129\n",
            "¿Match?: True\n"
          ]
        }
      ]
    },
    {
      "cell_type": "markdown",
      "source": [
        "# Rescaling"
      ],
      "metadata": {
        "id": "vgy97kWoLKIX"
      }
    },
    {
      "cell_type": "markdown",
      "source": [
        "* Si se entrenó el modelo con un dataset estandarizado, estandarizar con mismo scaler."
      ],
      "metadata": {
        "id": "Uly0zItQLOIB"
      }
    },
    {
      "cell_type": "code",
      "source": [
        "# No hace falta"
      ],
      "metadata": {
        "id": "N_JoLydjLJZd"
      },
      "execution_count": null,
      "outputs": []
    },
    {
      "cell_type": "markdown",
      "source": [
        "# PREDICT"
      ],
      "metadata": {
        "id": "MQZVI5GjR815"
      }
    },
    {
      "cell_type": "markdown",
      "source": [
        "* predict() y predict_proba()"
      ],
      "metadata": {
        "id": "VO5szsPhMygE"
      }
    },
    {
      "cell_type": "code",
      "source": [
        "predictions = model.predict(X_pred)\n",
        "predictions"
      ],
      "metadata": {
        "id": "4a0k5mnKR8WI",
        "colab": {
          "base_uri": "https://localhost:8080/"
        },
        "outputId": "962a7771-a15b-42e4-e073-2c742e18d7f6"
      },
      "execution_count": null,
      "outputs": [
        {
          "output_type": "execute_result",
          "data": {
            "text/plain": [
              "array([0, 0, 0, ..., 1, 1, 1])"
            ]
          },
          "metadata": {},
          "execution_count": 280
        }
      ]
    },
    {
      "cell_type": "code",
      "source": [
        "predict_proba = model.predict_proba(X_pred)"
      ],
      "metadata": {
        "id": "Sa9PA__oQxxr"
      },
      "execution_count": null,
      "outputs": []
    },
    {
      "cell_type": "code",
      "source": [
        "X_pred.head()"
      ],
      "metadata": {
        "colab": {
          "base_uri": "https://localhost:8080/",
          "height": 319
        },
        "id": "6XvJqvzwhZRE",
        "outputId": "06e6b4ee-392f-417d-a2a1-ec3bf70621b5"
      },
      "execution_count": null,
      "outputs": [
        {
          "output_type": "execute_result",
          "data": {
            "text/plain": [
              "             rev  totmrc  ovrmou  vceovr  datovr    roam  change_mou  \\\n",
              "Customer_ID                                                            \n",
              "1090001        0       0    1.25       0       0  0.0975       48.25   \n",
              "1090002        0       0   23.25       0       0  1.8000     -352.75   \n",
              "1090003        0       0    0.00       0       0  0.0000      -86.50   \n",
              "1090004        0       0    0.00       0       0  0.0000      119.00   \n",
              "1090005        0       0   70.75       0       0  0.0000      195.75   \n",
              "\n",
              "             change_rev   drop_vce  drop_dat   blck_vce  blck_dat    unan_vce  \\\n",
              "Customer_ID                                                                     \n",
              "1090001          1.1550   2.000000  0.000000  10.333333       0.0   13.333333   \n",
              "1090002        -35.8475   9.000000  0.000000   0.000000       0.0   10.000000   \n",
              "1090003          0.8625   2.000000  0.000000   4.666667       0.0   20.666667   \n",
              "1090004          0.2475  20.333333  0.000000   5.000000       0.0  329.333333   \n",
              "1090005         40.0150   5.666667  0.333333   0.666667       0.0   46.333333   \n",
              "\n",
              "             unan_dat  recv_sms  comp_dat   custcare     cc_mou    inonemin  \\\n",
              "Customer_ID                                                                   \n",
              "1090001           0.0       0.0         0   1.333333   0.896667    0.666667   \n",
              "1090002           0.0       0.0         0   3.666667   5.890000   18.333333   \n",
              "1090003           0.0       0.0         0   4.333333   4.466667   17.000000   \n",
              "1090004           0.0       0.0         0   0.333333   0.376667  408.000000   \n",
              "1090005           0.0       0.0         0  21.666667  31.346667   10.000000   \n",
              "\n",
              "             threeway    mou_cvce    mou_rvce  owylis_vce  mouowylisv  \\\n",
              "Customer_ID                                                             \n",
              "1090001      0.333333   71.746667    5.406667    1.333333    0.713333   \n",
              "1090002      1.333333   98.543333   83.666667   15.666667   12.683333   \n",
              "1090003      1.666667  143.530000   27.373333    9.666667    3.760000   \n",
              "1090004      0.000000  769.136667  679.020000  271.000000  167.090000   \n",
              "1090005      0.333333  343.066667   11.243333   13.000000   14.563333   \n",
              "\n",
              "             iwylis_vce  mouiwylisv    peak_vce  peak_dat    mou_peav  \\\n",
              "Customer_ID                                                             \n",
              "1090001        0.333333    0.473333   30.000000       0.0   54.500000   \n",
              "1090002        1.333333   14.286667   38.000000       0.0  106.926667   \n",
              "1090003       19.666667   21.736667   48.666667       0.0   76.356667   \n",
              "1090004       68.666667  150.656667  723.000000       0.0  961.736667   \n",
              "1090005        1.333333    2.100000   91.000000       0.0  205.216667   \n",
              "\n",
              "             mou_pead     opk_vce   opk_dat    mou_opkv  mou_opkd   drop_blk  \\\n",
              "Customer_ID                                                                    \n",
              "1090001           0.0   13.666667  0.000000   22.653333  0.000000  12.333333   \n",
              "1090002           0.0   43.666667  1.000000   75.283333  1.023333   9.000000   \n",
              "1090003           0.0   36.000000  0.000000   94.543333  0.000000   6.666667   \n",
              "1090004           0.0  346.000000  0.000000  486.420000  0.000000  25.333333   \n",
              "1090005           0.0   31.000000  0.333333  149.096667  0.010000   6.666667   \n",
              "\n",
              "               complete  callfwdv  callwait  months  uniqsubs  actvsubs  \\\n",
              "Customer_ID                                                               \n",
              "1090001       40.666667       0.0  0.000000       7         1         1   \n",
              "1090002       66.333333       0.0  1.333333       7         1         1   \n",
              "1090003       59.333333       0.0  0.333333       9         2         2   \n",
              "1090004      723.000000       0.0  8.333333      11         1         1   \n",
              "1090005      115.333333       0.0  0.666667       9         1         1   \n",
              "\n",
              "              adjrev   adjmou  adjqty  avgrev   avgmou  avgqty  avg3mou  \\\n",
              "Customer_ID                                                               \n",
              "1090001       182.94    958.0     393   30.49   159.67   65.50      121   \n",
              "1090002       305.59   3998.0    1634   50.93   666.33  272.33      470   \n",
              "1090003       219.45   1772.0     734   31.35   253.14  104.86      270   \n",
              "1090004      2131.17  18478.0    9018  213.12  1847.80  901.80     2257   \n",
              "1090005       608.66   2601.0     791   86.95   371.57  113.00      477   \n",
              "\n",
              "             avg3qty  avg3rev  avg6mou  avg6qty  avg6rev  hnd_price  phones  \\\n",
              "Customer_ID                                                                   \n",
              "1090001           52       30    160.0     66.0     31.0  149.98999     1.0   \n",
              "1090002          181       48    666.0    272.0     51.0   99.98999     2.0   \n",
              "1090003          107       30    273.0    109.0     31.0  129.98999     1.0   \n",
              "1090004         1045      155   2452.0   1171.0    278.0   79.98999     2.0   \n",
              "1090005          130      143    349.0    103.0     91.0  149.98999     2.0   \n",
              "\n",
              "             models    lor  adults  income  numbcars  eqpdays  truck_bool  \\\n",
              "Customer_ID                                                                 \n",
              "1090001         1.0 -999.0     1.0     3.0    -999.0    216.0           0   \n",
              "1090002         1.0 -999.0     2.0  -999.0    -999.0    101.0           0   \n",
              "1090003         1.0   13.0     3.0     6.0       1.0    262.0           1   \n",
              "1090004         1.0    3.0     3.0     6.0       1.0    127.0           0   \n",
              "1090005         1.0    1.0     1.0     6.0       1.0     37.0           0   \n",
              "\n",
              "             rv_bool  forgntvl_bool  new_cell_N  new_cell_U  new_cell_Y  \\\n",
              "Customer_ID                                                               \n",
              "1090001            0              1           0           1           0   \n",
              "1090002            0              0           0           1           0   \n",
              "1090003            0              0           0           0           1   \n",
              "1090004            0              0           0           1           0   \n",
              "1090005            0              0           0           1           0   \n",
              "\n",
              "             crclscod_A  crclscod_AA  crclscod_B  crclscod_BA  crclscod_C  \\\n",
              "Customer_ID                                                                 \n",
              "1090001               0            1           0            0           0   \n",
              "1090002               0            0           0            0           0   \n",
              "1090003               1            0           0            0           0   \n",
              "1090004               0            1           0            0           0   \n",
              "1090005               0            0           0            0           0   \n",
              "\n",
              "             crclscod_CA  crclscod_DA  crclscod_EA  crclscod_ZA  asl_flag_Y  \\\n",
              "Customer_ID                                                                   \n",
              "1090001                0            0            0            0           0   \n",
              "1090002                0            0            1            0           1   \n",
              "1090003                0            0            0            0           0   \n",
              "1090004                0            0            0            0           0   \n",
              "1090005                1            0            0            0           1   \n",
              "\n",
              "             prizm_social_one_C  prizm_social_one_R  prizm_social_one_S  \\\n",
              "Customer_ID                                                               \n",
              "1090001                       1                   0                   0   \n",
              "1090002                       1                   0                   0   \n",
              "1090003                       0                   0                   0   \n",
              "1090004                       0                   0                   1   \n",
              "1090005                       0                   0                   0   \n",
              "\n",
              "             prizm_social_one_T  prizm_social_one_U  area_Mid-Atlantic  \\\n",
              "Customer_ID                                                              \n",
              "1090001                       0                   0                  0   \n",
              "1090002                       0                   0                  0   \n",
              "1090003                       1                   0                  0   \n",
              "1090004                       0                   0                  0   \n",
              "1090005                       0                   1                  0   \n",
              "\n",
              "             area_Midwest  area_Northeast  area_Southeast  area_Southwest  \\\n",
              "Customer_ID                                                                 \n",
              "1090001                 0               0               1               0   \n",
              "1090002                 0               0               0               0   \n",
              "1090003                 0               0               0               1   \n",
              "1090004                 0               0               1               0   \n",
              "1090005                 0               0               0               0   \n",
              "\n",
              "             area_West  dualband_N  dualband_T  dualband_Y  refurb_new_R  \\\n",
              "Customer_ID                                                                \n",
              "1090001              0           0           0           1             0   \n",
              "1090002              1           0           1           0             0   \n",
              "1090003              0           1           0           0             0   \n",
              "1090004              0           1           0           0             1   \n",
              "1090005              1           0           0           1             0   \n",
              "\n",
              "             hnd_webcap_WCMB  ownrent_R  dwlltype_S  marital_A  marital_B  \\\n",
              "Customer_ID                                                                 \n",
              "1090001                    1          1           0          0          0   \n",
              "1090002                    1          0           1          0          0   \n",
              "1090003                    1          0           1          0          0   \n",
              "1090004                    1          0           1          0          0   \n",
              "1090005                    1          0           0          0          0   \n",
              "\n",
              "             marital_M  marital_S  marital_U  HHstatin_A  HHstatin_B  \\\n",
              "Customer_ID                                                            \n",
              "1090001              1          0          0           0           0   \n",
              "1090002              0          0          1           0           0   \n",
              "1090003              1          0          0           0           0   \n",
              "1090004              0          0          1           0           0   \n",
              "1090005              0          1          0           0           0   \n",
              "\n",
              "             HHstatin_C  HHstatin_G  HHstatin_H  HHstatin_I  dwllsize_A  \\\n",
              "Customer_ID                                                               \n",
              "1090001               1           0           0           0           1   \n",
              "1090002               1           0           0           0           1   \n",
              "1090003               1           0           0           0           1   \n",
              "1090004               1           0           0           0           1   \n",
              "1090005               1           0           0           0           1   \n",
              "\n",
              "             dwllsize_B  dwllsize_C  dwllsize_J  dwllsize_O  ethnic_B  \\\n",
              "Customer_ID                                                             \n",
              "1090001               0           0           0           0         0   \n",
              "1090002               0           0           0           0         0   \n",
              "1090003               0           0           0           0         0   \n",
              "1090004               0           0           0           0         0   \n",
              "1090005               0           0           0           0         0   \n",
              "\n",
              "             ethnic_F  ethnic_G  ethnic_H  ethnic_I  ethnic_J  ethnic_N  \\\n",
              "Customer_ID                                                               \n",
              "1090001             0         0         0         0         0         0   \n",
              "1090002             0         0         0         0         0         1   \n",
              "1090003             0         0         0         0         0         1   \n",
              "1090004             0         0         0         0         0         0   \n",
              "1090005             0         0         0         0         0         1   \n",
              "\n",
              "             ethnic_O  ethnic_R  ethnic_S  ethnic_U  ethnic_Z  kid0_2_Y  \\\n",
              "Customer_ID                                                               \n",
              "1090001             0         0         0         1         0         0   \n",
              "1090002             0         0         0         0         0         0   \n",
              "1090003             0         0         0         0         0         0   \n",
              "1090004             0         0         1         0         0         0   \n",
              "1090005             0         0         0         0         0         0   \n",
              "\n",
              "             kid3_5_Y  kid6_10_Y  kid11_15_Y  kid16_17_Y  creditcd_Y  \n",
              "Customer_ID                                                           \n",
              "1090001             0          0           0           0           1  \n",
              "1090002             0          0           0           0           0  \n",
              "1090003             0          0           0           0           1  \n",
              "1090004             0          0           0           0           1  \n",
              "1090005             0          0           0           0           1  "
            ],
            "text/html": [
              "\n",
              "\n",
              "  <div id=\"df-510ab923-23dc-4614-805b-7a065f0100dc\">\n",
              "    <div class=\"colab-df-container\">\n",
              "      <div>\n",
              "<style scoped>\n",
              "    .dataframe tbody tr th:only-of-type {\n",
              "        vertical-align: middle;\n",
              "    }\n",
              "\n",
              "    .dataframe tbody tr th {\n",
              "        vertical-align: top;\n",
              "    }\n",
              "\n",
              "    .dataframe thead th {\n",
              "        text-align: right;\n",
              "    }\n",
              "</style>\n",
              "<table border=\"1\" class=\"dataframe\">\n",
              "  <thead>\n",
              "    <tr style=\"text-align: right;\">\n",
              "      <th></th>\n",
              "      <th>rev</th>\n",
              "      <th>totmrc</th>\n",
              "      <th>ovrmou</th>\n",
              "      <th>vceovr</th>\n",
              "      <th>datovr</th>\n",
              "      <th>roam</th>\n",
              "      <th>change_mou</th>\n",
              "      <th>change_rev</th>\n",
              "      <th>drop_vce</th>\n",
              "      <th>drop_dat</th>\n",
              "      <th>blck_vce</th>\n",
              "      <th>blck_dat</th>\n",
              "      <th>unan_vce</th>\n",
              "      <th>unan_dat</th>\n",
              "      <th>recv_sms</th>\n",
              "      <th>comp_dat</th>\n",
              "      <th>custcare</th>\n",
              "      <th>cc_mou</th>\n",
              "      <th>inonemin</th>\n",
              "      <th>threeway</th>\n",
              "      <th>mou_cvce</th>\n",
              "      <th>mou_rvce</th>\n",
              "      <th>owylis_vce</th>\n",
              "      <th>mouowylisv</th>\n",
              "      <th>iwylis_vce</th>\n",
              "      <th>mouiwylisv</th>\n",
              "      <th>peak_vce</th>\n",
              "      <th>peak_dat</th>\n",
              "      <th>mou_peav</th>\n",
              "      <th>mou_pead</th>\n",
              "      <th>opk_vce</th>\n",
              "      <th>opk_dat</th>\n",
              "      <th>mou_opkv</th>\n",
              "      <th>mou_opkd</th>\n",
              "      <th>drop_blk</th>\n",
              "      <th>complete</th>\n",
              "      <th>callfwdv</th>\n",
              "      <th>callwait</th>\n",
              "      <th>months</th>\n",
              "      <th>uniqsubs</th>\n",
              "      <th>actvsubs</th>\n",
              "      <th>adjrev</th>\n",
              "      <th>adjmou</th>\n",
              "      <th>adjqty</th>\n",
              "      <th>avgrev</th>\n",
              "      <th>avgmou</th>\n",
              "      <th>avgqty</th>\n",
              "      <th>avg3mou</th>\n",
              "      <th>avg3qty</th>\n",
              "      <th>avg3rev</th>\n",
              "      <th>avg6mou</th>\n",
              "      <th>avg6qty</th>\n",
              "      <th>avg6rev</th>\n",
              "      <th>hnd_price</th>\n",
              "      <th>phones</th>\n",
              "      <th>models</th>\n",
              "      <th>lor</th>\n",
              "      <th>adults</th>\n",
              "      <th>income</th>\n",
              "      <th>numbcars</th>\n",
              "      <th>eqpdays</th>\n",
              "      <th>truck_bool</th>\n",
              "      <th>rv_bool</th>\n",
              "      <th>forgntvl_bool</th>\n",
              "      <th>new_cell_N</th>\n",
              "      <th>new_cell_U</th>\n",
              "      <th>new_cell_Y</th>\n",
              "      <th>crclscod_A</th>\n",
              "      <th>crclscod_AA</th>\n",
              "      <th>crclscod_B</th>\n",
              "      <th>crclscod_BA</th>\n",
              "      <th>crclscod_C</th>\n",
              "      <th>crclscod_CA</th>\n",
              "      <th>crclscod_DA</th>\n",
              "      <th>crclscod_EA</th>\n",
              "      <th>crclscod_ZA</th>\n",
              "      <th>asl_flag_Y</th>\n",
              "      <th>prizm_social_one_C</th>\n",
              "      <th>prizm_social_one_R</th>\n",
              "      <th>prizm_social_one_S</th>\n",
              "      <th>prizm_social_one_T</th>\n",
              "      <th>prizm_social_one_U</th>\n",
              "      <th>area_Mid-Atlantic</th>\n",
              "      <th>area_Midwest</th>\n",
              "      <th>area_Northeast</th>\n",
              "      <th>area_Southeast</th>\n",
              "      <th>area_Southwest</th>\n",
              "      <th>area_West</th>\n",
              "      <th>dualband_N</th>\n",
              "      <th>dualband_T</th>\n",
              "      <th>dualband_Y</th>\n",
              "      <th>refurb_new_R</th>\n",
              "      <th>hnd_webcap_WCMB</th>\n",
              "      <th>ownrent_R</th>\n",
              "      <th>dwlltype_S</th>\n",
              "      <th>marital_A</th>\n",
              "      <th>marital_B</th>\n",
              "      <th>marital_M</th>\n",
              "      <th>marital_S</th>\n",
              "      <th>marital_U</th>\n",
              "      <th>HHstatin_A</th>\n",
              "      <th>HHstatin_B</th>\n",
              "      <th>HHstatin_C</th>\n",
              "      <th>HHstatin_G</th>\n",
              "      <th>HHstatin_H</th>\n",
              "      <th>HHstatin_I</th>\n",
              "      <th>dwllsize_A</th>\n",
              "      <th>dwllsize_B</th>\n",
              "      <th>dwllsize_C</th>\n",
              "      <th>dwllsize_J</th>\n",
              "      <th>dwllsize_O</th>\n",
              "      <th>ethnic_B</th>\n",
              "      <th>ethnic_F</th>\n",
              "      <th>ethnic_G</th>\n",
              "      <th>ethnic_H</th>\n",
              "      <th>ethnic_I</th>\n",
              "      <th>ethnic_J</th>\n",
              "      <th>ethnic_N</th>\n",
              "      <th>ethnic_O</th>\n",
              "      <th>ethnic_R</th>\n",
              "      <th>ethnic_S</th>\n",
              "      <th>ethnic_U</th>\n",
              "      <th>ethnic_Z</th>\n",
              "      <th>kid0_2_Y</th>\n",
              "      <th>kid3_5_Y</th>\n",
              "      <th>kid6_10_Y</th>\n",
              "      <th>kid11_15_Y</th>\n",
              "      <th>kid16_17_Y</th>\n",
              "      <th>creditcd_Y</th>\n",
              "    </tr>\n",
              "    <tr>\n",
              "      <th>Customer_ID</th>\n",
              "      <th></th>\n",
              "      <th></th>\n",
              "      <th></th>\n",
              "      <th></th>\n",
              "      <th></th>\n",
              "      <th></th>\n",
              "      <th></th>\n",
              "      <th></th>\n",
              "      <th></th>\n",
              "      <th></th>\n",
              "      <th></th>\n",
              "      <th></th>\n",
              "      <th></th>\n",
              "      <th></th>\n",
              "      <th></th>\n",
              "      <th></th>\n",
              "      <th></th>\n",
              "      <th></th>\n",
              "      <th></th>\n",
              "      <th></th>\n",
              "      <th></th>\n",
              "      <th></th>\n",
              "      <th></th>\n",
              "      <th></th>\n",
              "      <th></th>\n",
              "      <th></th>\n",
              "      <th></th>\n",
              "      <th></th>\n",
              "      <th></th>\n",
              "      <th></th>\n",
              "      <th></th>\n",
              "      <th></th>\n",
              "      <th></th>\n",
              "      <th></th>\n",
              "      <th></th>\n",
              "      <th></th>\n",
              "      <th></th>\n",
              "      <th></th>\n",
              "      <th></th>\n",
              "      <th></th>\n",
              "      <th></th>\n",
              "      <th></th>\n",
              "      <th></th>\n",
              "      <th></th>\n",
              "      <th></th>\n",
              "      <th></th>\n",
              "      <th></th>\n",
              "      <th></th>\n",
              "      <th></th>\n",
              "      <th></th>\n",
              "      <th></th>\n",
              "      <th></th>\n",
              "      <th></th>\n",
              "      <th></th>\n",
              "      <th></th>\n",
              "      <th></th>\n",
              "      <th></th>\n",
              "      <th></th>\n",
              "      <th></th>\n",
              "      <th></th>\n",
              "      <th></th>\n",
              "      <th></th>\n",
              "      <th></th>\n",
              "      <th></th>\n",
              "      <th></th>\n",
              "      <th></th>\n",
              "      <th></th>\n",
              "      <th></th>\n",
              "      <th></th>\n",
              "      <th></th>\n",
              "      <th></th>\n",
              "      <th></th>\n",
              "      <th></th>\n",
              "      <th></th>\n",
              "      <th></th>\n",
              "      <th></th>\n",
              "      <th></th>\n",
              "      <th></th>\n",
              "      <th></th>\n",
              "      <th></th>\n",
              "      <th></th>\n",
              "      <th></th>\n",
              "      <th></th>\n",
              "      <th></th>\n",
              "      <th></th>\n",
              "      <th></th>\n",
              "      <th></th>\n",
              "      <th></th>\n",
              "      <th></th>\n",
              "      <th></th>\n",
              "      <th></th>\n",
              "      <th></th>\n",
              "      <th></th>\n",
              "      <th></th>\n",
              "      <th></th>\n",
              "      <th></th>\n",
              "      <th></th>\n",
              "      <th></th>\n",
              "      <th></th>\n",
              "      <th></th>\n",
              "      <th></th>\n",
              "      <th></th>\n",
              "      <th></th>\n",
              "      <th></th>\n",
              "      <th></th>\n",
              "      <th></th>\n",
              "      <th></th>\n",
              "      <th></th>\n",
              "      <th></th>\n",
              "      <th></th>\n",
              "      <th></th>\n",
              "      <th></th>\n",
              "      <th></th>\n",
              "      <th></th>\n",
              "      <th></th>\n",
              "      <th></th>\n",
              "      <th></th>\n",
              "      <th></th>\n",
              "      <th></th>\n",
              "      <th></th>\n",
              "      <th></th>\n",
              "      <th></th>\n",
              "      <th></th>\n",
              "      <th></th>\n",
              "      <th></th>\n",
              "      <th></th>\n",
              "      <th></th>\n",
              "      <th></th>\n",
              "      <th></th>\n",
              "    </tr>\n",
              "  </thead>\n",
              "  <tbody>\n",
              "    <tr>\n",
              "      <th>1090001</th>\n",
              "      <td>0</td>\n",
              "      <td>0</td>\n",
              "      <td>1.25</td>\n",
              "      <td>0</td>\n",
              "      <td>0</td>\n",
              "      <td>0.0975</td>\n",
              "      <td>48.25</td>\n",
              "      <td>1.1550</td>\n",
              "      <td>2.000000</td>\n",
              "      <td>0.000000</td>\n",
              "      <td>10.333333</td>\n",
              "      <td>0.0</td>\n",
              "      <td>13.333333</td>\n",
              "      <td>0.0</td>\n",
              "      <td>0.0</td>\n",
              "      <td>0</td>\n",
              "      <td>1.333333</td>\n",
              "      <td>0.896667</td>\n",
              "      <td>0.666667</td>\n",
              "      <td>0.333333</td>\n",
              "      <td>71.746667</td>\n",
              "      <td>5.406667</td>\n",
              "      <td>1.333333</td>\n",
              "      <td>0.713333</td>\n",
              "      <td>0.333333</td>\n",
              "      <td>0.473333</td>\n",
              "      <td>30.000000</td>\n",
              "      <td>0.0</td>\n",
              "      <td>54.500000</td>\n",
              "      <td>0.0</td>\n",
              "      <td>13.666667</td>\n",
              "      <td>0.000000</td>\n",
              "      <td>22.653333</td>\n",
              "      <td>0.000000</td>\n",
              "      <td>12.333333</td>\n",
              "      <td>40.666667</td>\n",
              "      <td>0.0</td>\n",
              "      <td>0.000000</td>\n",
              "      <td>7</td>\n",
              "      <td>1</td>\n",
              "      <td>1</td>\n",
              "      <td>182.94</td>\n",
              "      <td>958.0</td>\n",
              "      <td>393</td>\n",
              "      <td>30.49</td>\n",
              "      <td>159.67</td>\n",
              "      <td>65.50</td>\n",
              "      <td>121</td>\n",
              "      <td>52</td>\n",
              "      <td>30</td>\n",
              "      <td>160.0</td>\n",
              "      <td>66.0</td>\n",
              "      <td>31.0</td>\n",
              "      <td>149.98999</td>\n",
              "      <td>1.0</td>\n",
              "      <td>1.0</td>\n",
              "      <td>-999.0</td>\n",
              "      <td>1.0</td>\n",
              "      <td>3.0</td>\n",
              "      <td>-999.0</td>\n",
              "      <td>216.0</td>\n",
              "      <td>0</td>\n",
              "      <td>0</td>\n",
              "      <td>1</td>\n",
              "      <td>0</td>\n",
              "      <td>1</td>\n",
              "      <td>0</td>\n",
              "      <td>0</td>\n",
              "      <td>1</td>\n",
              "      <td>0</td>\n",
              "      <td>0</td>\n",
              "      <td>0</td>\n",
              "      <td>0</td>\n",
              "      <td>0</td>\n",
              "      <td>0</td>\n",
              "      <td>0</td>\n",
              "      <td>0</td>\n",
              "      <td>1</td>\n",
              "      <td>0</td>\n",
              "      <td>0</td>\n",
              "      <td>0</td>\n",
              "      <td>0</td>\n",
              "      <td>0</td>\n",
              "      <td>0</td>\n",
              "      <td>0</td>\n",
              "      <td>1</td>\n",
              "      <td>0</td>\n",
              "      <td>0</td>\n",
              "      <td>0</td>\n",
              "      <td>0</td>\n",
              "      <td>1</td>\n",
              "      <td>0</td>\n",
              "      <td>1</td>\n",
              "      <td>1</td>\n",
              "      <td>0</td>\n",
              "      <td>0</td>\n",
              "      <td>0</td>\n",
              "      <td>1</td>\n",
              "      <td>0</td>\n",
              "      <td>0</td>\n",
              "      <td>0</td>\n",
              "      <td>0</td>\n",
              "      <td>1</td>\n",
              "      <td>0</td>\n",
              "      <td>0</td>\n",
              "      <td>0</td>\n",
              "      <td>1</td>\n",
              "      <td>0</td>\n",
              "      <td>0</td>\n",
              "      <td>0</td>\n",
              "      <td>0</td>\n",
              "      <td>0</td>\n",
              "      <td>0</td>\n",
              "      <td>0</td>\n",
              "      <td>0</td>\n",
              "      <td>0</td>\n",
              "      <td>0</td>\n",
              "      <td>0</td>\n",
              "      <td>0</td>\n",
              "      <td>0</td>\n",
              "      <td>0</td>\n",
              "      <td>1</td>\n",
              "      <td>0</td>\n",
              "      <td>0</td>\n",
              "      <td>0</td>\n",
              "      <td>0</td>\n",
              "      <td>0</td>\n",
              "      <td>0</td>\n",
              "      <td>1</td>\n",
              "    </tr>\n",
              "    <tr>\n",
              "      <th>1090002</th>\n",
              "      <td>0</td>\n",
              "      <td>0</td>\n",
              "      <td>23.25</td>\n",
              "      <td>0</td>\n",
              "      <td>0</td>\n",
              "      <td>1.8000</td>\n",
              "      <td>-352.75</td>\n",
              "      <td>-35.8475</td>\n",
              "      <td>9.000000</td>\n",
              "      <td>0.000000</td>\n",
              "      <td>0.000000</td>\n",
              "      <td>0.0</td>\n",
              "      <td>10.000000</td>\n",
              "      <td>0.0</td>\n",
              "      <td>0.0</td>\n",
              "      <td>0</td>\n",
              "      <td>3.666667</td>\n",
              "      <td>5.890000</td>\n",
              "      <td>18.333333</td>\n",
              "      <td>1.333333</td>\n",
              "      <td>98.543333</td>\n",
              "      <td>83.666667</td>\n",
              "      <td>15.666667</td>\n",
              "      <td>12.683333</td>\n",
              "      <td>1.333333</td>\n",
              "      <td>14.286667</td>\n",
              "      <td>38.000000</td>\n",
              "      <td>0.0</td>\n",
              "      <td>106.926667</td>\n",
              "      <td>0.0</td>\n",
              "      <td>43.666667</td>\n",
              "      <td>1.000000</td>\n",
              "      <td>75.283333</td>\n",
              "      <td>1.023333</td>\n",
              "      <td>9.000000</td>\n",
              "      <td>66.333333</td>\n",
              "      <td>0.0</td>\n",
              "      <td>1.333333</td>\n",
              "      <td>7</td>\n",
              "      <td>1</td>\n",
              "      <td>1</td>\n",
              "      <td>305.59</td>\n",
              "      <td>3998.0</td>\n",
              "      <td>1634</td>\n",
              "      <td>50.93</td>\n",
              "      <td>666.33</td>\n",
              "      <td>272.33</td>\n",
              "      <td>470</td>\n",
              "      <td>181</td>\n",
              "      <td>48</td>\n",
              "      <td>666.0</td>\n",
              "      <td>272.0</td>\n",
              "      <td>51.0</td>\n",
              "      <td>99.98999</td>\n",
              "      <td>2.0</td>\n",
              "      <td>1.0</td>\n",
              "      <td>-999.0</td>\n",
              "      <td>2.0</td>\n",
              "      <td>-999.0</td>\n",
              "      <td>-999.0</td>\n",
              "      <td>101.0</td>\n",
              "      <td>0</td>\n",
              "      <td>0</td>\n",
              "      <td>0</td>\n",
              "      <td>0</td>\n",
              "      <td>1</td>\n",
              "      <td>0</td>\n",
              "      <td>0</td>\n",
              "      <td>0</td>\n",
              "      <td>0</td>\n",
              "      <td>0</td>\n",
              "      <td>0</td>\n",
              "      <td>0</td>\n",
              "      <td>0</td>\n",
              "      <td>1</td>\n",
              "      <td>0</td>\n",
              "      <td>1</td>\n",
              "      <td>1</td>\n",
              "      <td>0</td>\n",
              "      <td>0</td>\n",
              "      <td>0</td>\n",
              "      <td>0</td>\n",
              "      <td>0</td>\n",
              "      <td>0</td>\n",
              "      <td>0</td>\n",
              "      <td>0</td>\n",
              "      <td>0</td>\n",
              "      <td>1</td>\n",
              "      <td>0</td>\n",
              "      <td>1</td>\n",
              "      <td>0</td>\n",
              "      <td>0</td>\n",
              "      <td>1</td>\n",
              "      <td>0</td>\n",
              "      <td>1</td>\n",
              "      <td>0</td>\n",
              "      <td>0</td>\n",
              "      <td>0</td>\n",
              "      <td>0</td>\n",
              "      <td>1</td>\n",
              "      <td>0</td>\n",
              "      <td>0</td>\n",
              "      <td>1</td>\n",
              "      <td>0</td>\n",
              "      <td>0</td>\n",
              "      <td>0</td>\n",
              "      <td>1</td>\n",
              "      <td>0</td>\n",
              "      <td>0</td>\n",
              "      <td>0</td>\n",
              "      <td>0</td>\n",
              "      <td>0</td>\n",
              "      <td>0</td>\n",
              "      <td>0</td>\n",
              "      <td>0</td>\n",
              "      <td>0</td>\n",
              "      <td>0</td>\n",
              "      <td>1</td>\n",
              "      <td>0</td>\n",
              "      <td>0</td>\n",
              "      <td>0</td>\n",
              "      <td>0</td>\n",
              "      <td>0</td>\n",
              "      <td>0</td>\n",
              "      <td>0</td>\n",
              "      <td>0</td>\n",
              "      <td>0</td>\n",
              "      <td>0</td>\n",
              "      <td>0</td>\n",
              "    </tr>\n",
              "    <tr>\n",
              "      <th>1090003</th>\n",
              "      <td>0</td>\n",
              "      <td>0</td>\n",
              "      <td>0.00</td>\n",
              "      <td>0</td>\n",
              "      <td>0</td>\n",
              "      <td>0.0000</td>\n",
              "      <td>-86.50</td>\n",
              "      <td>0.8625</td>\n",
              "      <td>2.000000</td>\n",
              "      <td>0.000000</td>\n",
              "      <td>4.666667</td>\n",
              "      <td>0.0</td>\n",
              "      <td>20.666667</td>\n",
              "      <td>0.0</td>\n",
              "      <td>0.0</td>\n",
              "      <td>0</td>\n",
              "      <td>4.333333</td>\n",
              "      <td>4.466667</td>\n",
              "      <td>17.000000</td>\n",
              "      <td>1.666667</td>\n",
              "      <td>143.530000</td>\n",
              "      <td>27.373333</td>\n",
              "      <td>9.666667</td>\n",
              "      <td>3.760000</td>\n",
              "      <td>19.666667</td>\n",
              "      <td>21.736667</td>\n",
              "      <td>48.666667</td>\n",
              "      <td>0.0</td>\n",
              "      <td>76.356667</td>\n",
              "      <td>0.0</td>\n",
              "      <td>36.000000</td>\n",
              "      <td>0.000000</td>\n",
              "      <td>94.543333</td>\n",
              "      <td>0.000000</td>\n",
              "      <td>6.666667</td>\n",
              "      <td>59.333333</td>\n",
              "      <td>0.0</td>\n",
              "      <td>0.333333</td>\n",
              "      <td>9</td>\n",
              "      <td>2</td>\n",
              "      <td>2</td>\n",
              "      <td>219.45</td>\n",
              "      <td>1772.0</td>\n",
              "      <td>734</td>\n",
              "      <td>31.35</td>\n",
              "      <td>253.14</td>\n",
              "      <td>104.86</td>\n",
              "      <td>270</td>\n",
              "      <td>107</td>\n",
              "      <td>30</td>\n",
              "      <td>273.0</td>\n",
              "      <td>109.0</td>\n",
              "      <td>31.0</td>\n",
              "      <td>129.98999</td>\n",
              "      <td>1.0</td>\n",
              "      <td>1.0</td>\n",
              "      <td>13.0</td>\n",
              "      <td>3.0</td>\n",
              "      <td>6.0</td>\n",
              "      <td>1.0</td>\n",
              "      <td>262.0</td>\n",
              "      <td>1</td>\n",
              "      <td>0</td>\n",
              "      <td>0</td>\n",
              "      <td>0</td>\n",
              "      <td>0</td>\n",
              "      <td>1</td>\n",
              "      <td>1</td>\n",
              "      <td>0</td>\n",
              "      <td>0</td>\n",
              "      <td>0</td>\n",
              "      <td>0</td>\n",
              "      <td>0</td>\n",
              "      <td>0</td>\n",
              "      <td>0</td>\n",
              "      <td>0</td>\n",
              "      <td>0</td>\n",
              "      <td>0</td>\n",
              "      <td>0</td>\n",
              "      <td>0</td>\n",
              "      <td>1</td>\n",
              "      <td>0</td>\n",
              "      <td>0</td>\n",
              "      <td>0</td>\n",
              "      <td>0</td>\n",
              "      <td>0</td>\n",
              "      <td>1</td>\n",
              "      <td>0</td>\n",
              "      <td>1</td>\n",
              "      <td>0</td>\n",
              "      <td>0</td>\n",
              "      <td>0</td>\n",
              "      <td>1</td>\n",
              "      <td>0</td>\n",
              "      <td>1</td>\n",
              "      <td>0</td>\n",
              "      <td>0</td>\n",
              "      <td>1</td>\n",
              "      <td>0</td>\n",
              "      <td>0</td>\n",
              "      <td>0</td>\n",
              "      <td>0</td>\n",
              "      <td>1</td>\n",
              "      <td>0</td>\n",
              "      <td>0</td>\n",
              "      <td>0</td>\n",
              "      <td>1</td>\n",
              "      <td>0</td>\n",
              "      <td>0</td>\n",
              "      <td>0</td>\n",
              "      <td>0</td>\n",
              "      <td>0</td>\n",
              "      <td>0</td>\n",
              "      <td>0</td>\n",
              "      <td>0</td>\n",
              "      <td>0</td>\n",
              "      <td>0</td>\n",
              "      <td>1</td>\n",
              "      <td>0</td>\n",
              "      <td>0</td>\n",
              "      <td>0</td>\n",
              "      <td>0</td>\n",
              "      <td>0</td>\n",
              "      <td>0</td>\n",
              "      <td>0</td>\n",
              "      <td>0</td>\n",
              "      <td>0</td>\n",
              "      <td>0</td>\n",
              "      <td>1</td>\n",
              "    </tr>\n",
              "    <tr>\n",
              "      <th>1090004</th>\n",
              "      <td>0</td>\n",
              "      <td>0</td>\n",
              "      <td>0.00</td>\n",
              "      <td>0</td>\n",
              "      <td>0</td>\n",
              "      <td>0.0000</td>\n",
              "      <td>119.00</td>\n",
              "      <td>0.2475</td>\n",
              "      <td>20.333333</td>\n",
              "      <td>0.000000</td>\n",
              "      <td>5.000000</td>\n",
              "      <td>0.0</td>\n",
              "      <td>329.333333</td>\n",
              "      <td>0.0</td>\n",
              "      <td>0.0</td>\n",
              "      <td>0</td>\n",
              "      <td>0.333333</td>\n",
              "      <td>0.376667</td>\n",
              "      <td>408.000000</td>\n",
              "      <td>0.000000</td>\n",
              "      <td>769.136667</td>\n",
              "      <td>679.020000</td>\n",
              "      <td>271.000000</td>\n",
              "      <td>167.090000</td>\n",
              "      <td>68.666667</td>\n",
              "      <td>150.656667</td>\n",
              "      <td>723.000000</td>\n",
              "      <td>0.0</td>\n",
              "      <td>961.736667</td>\n",
              "      <td>0.0</td>\n",
              "      <td>346.000000</td>\n",
              "      <td>0.000000</td>\n",
              "      <td>486.420000</td>\n",
              "      <td>0.000000</td>\n",
              "      <td>25.333333</td>\n",
              "      <td>723.000000</td>\n",
              "      <td>0.0</td>\n",
              "      <td>8.333333</td>\n",
              "      <td>11</td>\n",
              "      <td>1</td>\n",
              "      <td>1</td>\n",
              "      <td>2131.17</td>\n",
              "      <td>18478.0</td>\n",
              "      <td>9018</td>\n",
              "      <td>213.12</td>\n",
              "      <td>1847.80</td>\n",
              "      <td>901.80</td>\n",
              "      <td>2257</td>\n",
              "      <td>1045</td>\n",
              "      <td>155</td>\n",
              "      <td>2452.0</td>\n",
              "      <td>1171.0</td>\n",
              "      <td>278.0</td>\n",
              "      <td>79.98999</td>\n",
              "      <td>2.0</td>\n",
              "      <td>1.0</td>\n",
              "      <td>3.0</td>\n",
              "      <td>3.0</td>\n",
              "      <td>6.0</td>\n",
              "      <td>1.0</td>\n",
              "      <td>127.0</td>\n",
              "      <td>0</td>\n",
              "      <td>0</td>\n",
              "      <td>0</td>\n",
              "      <td>0</td>\n",
              "      <td>1</td>\n",
              "      <td>0</td>\n",
              "      <td>0</td>\n",
              "      <td>1</td>\n",
              "      <td>0</td>\n",
              "      <td>0</td>\n",
              "      <td>0</td>\n",
              "      <td>0</td>\n",
              "      <td>0</td>\n",
              "      <td>0</td>\n",
              "      <td>0</td>\n",
              "      <td>0</td>\n",
              "      <td>0</td>\n",
              "      <td>0</td>\n",
              "      <td>1</td>\n",
              "      <td>0</td>\n",
              "      <td>0</td>\n",
              "      <td>0</td>\n",
              "      <td>0</td>\n",
              "      <td>0</td>\n",
              "      <td>1</td>\n",
              "      <td>0</td>\n",
              "      <td>0</td>\n",
              "      <td>1</td>\n",
              "      <td>0</td>\n",
              "      <td>0</td>\n",
              "      <td>1</td>\n",
              "      <td>1</td>\n",
              "      <td>0</td>\n",
              "      <td>1</td>\n",
              "      <td>0</td>\n",
              "      <td>0</td>\n",
              "      <td>0</td>\n",
              "      <td>0</td>\n",
              "      <td>1</td>\n",
              "      <td>0</td>\n",
              "      <td>0</td>\n",
              "      <td>1</td>\n",
              "      <td>0</td>\n",
              "      <td>0</td>\n",
              "      <td>0</td>\n",
              "      <td>1</td>\n",
              "      <td>0</td>\n",
              "      <td>0</td>\n",
              "      <td>0</td>\n",
              "      <td>0</td>\n",
              "      <td>0</td>\n",
              "      <td>0</td>\n",
              "      <td>0</td>\n",
              "      <td>0</td>\n",
              "      <td>0</td>\n",
              "      <td>0</td>\n",
              "      <td>0</td>\n",
              "      <td>0</td>\n",
              "      <td>0</td>\n",
              "      <td>1</td>\n",
              "      <td>0</td>\n",
              "      <td>0</td>\n",
              "      <td>0</td>\n",
              "      <td>0</td>\n",
              "      <td>0</td>\n",
              "      <td>0</td>\n",
              "      <td>0</td>\n",
              "      <td>1</td>\n",
              "    </tr>\n",
              "    <tr>\n",
              "      <th>1090005</th>\n",
              "      <td>0</td>\n",
              "      <td>0</td>\n",
              "      <td>70.75</td>\n",
              "      <td>0</td>\n",
              "      <td>0</td>\n",
              "      <td>0.0000</td>\n",
              "      <td>195.75</td>\n",
              "      <td>40.0150</td>\n",
              "      <td>5.666667</td>\n",
              "      <td>0.333333</td>\n",
              "      <td>0.666667</td>\n",
              "      <td>0.0</td>\n",
              "      <td>46.333333</td>\n",
              "      <td>0.0</td>\n",
              "      <td>0.0</td>\n",
              "      <td>0</td>\n",
              "      <td>21.666667</td>\n",
              "      <td>31.346667</td>\n",
              "      <td>10.000000</td>\n",
              "      <td>0.333333</td>\n",
              "      <td>343.066667</td>\n",
              "      <td>11.243333</td>\n",
              "      <td>13.000000</td>\n",
              "      <td>14.563333</td>\n",
              "      <td>1.333333</td>\n",
              "      <td>2.100000</td>\n",
              "      <td>91.000000</td>\n",
              "      <td>0.0</td>\n",
              "      <td>205.216667</td>\n",
              "      <td>0.0</td>\n",
              "      <td>31.000000</td>\n",
              "      <td>0.333333</td>\n",
              "      <td>149.096667</td>\n",
              "      <td>0.010000</td>\n",
              "      <td>6.666667</td>\n",
              "      <td>115.333333</td>\n",
              "      <td>0.0</td>\n",
              "      <td>0.666667</td>\n",
              "      <td>9</td>\n",
              "      <td>1</td>\n",
              "      <td>1</td>\n",
              "      <td>608.66</td>\n",
              "      <td>2601.0</td>\n",
              "      <td>791</td>\n",
              "      <td>86.95</td>\n",
              "      <td>371.57</td>\n",
              "      <td>113.00</td>\n",
              "      <td>477</td>\n",
              "      <td>130</td>\n",
              "      <td>143</td>\n",
              "      <td>349.0</td>\n",
              "      <td>103.0</td>\n",
              "      <td>91.0</td>\n",
              "      <td>149.98999</td>\n",
              "      <td>2.0</td>\n",
              "      <td>1.0</td>\n",
              "      <td>1.0</td>\n",
              "      <td>1.0</td>\n",
              "      <td>6.0</td>\n",
              "      <td>1.0</td>\n",
              "      <td>37.0</td>\n",
              "      <td>0</td>\n",
              "      <td>0</td>\n",
              "      <td>0</td>\n",
              "      <td>0</td>\n",
              "      <td>1</td>\n",
              "      <td>0</td>\n",
              "      <td>0</td>\n",
              "      <td>0</td>\n",
              "      <td>0</td>\n",
              "      <td>0</td>\n",
              "      <td>0</td>\n",
              "      <td>1</td>\n",
              "      <td>0</td>\n",
              "      <td>0</td>\n",
              "      <td>0</td>\n",
              "      <td>1</td>\n",
              "      <td>0</td>\n",
              "      <td>0</td>\n",
              "      <td>0</td>\n",
              "      <td>0</td>\n",
              "      <td>1</td>\n",
              "      <td>0</td>\n",
              "      <td>0</td>\n",
              "      <td>0</td>\n",
              "      <td>0</td>\n",
              "      <td>0</td>\n",
              "      <td>1</td>\n",
              "      <td>0</td>\n",
              "      <td>0</td>\n",
              "      <td>1</td>\n",
              "      <td>0</td>\n",
              "      <td>1</td>\n",
              "      <td>0</td>\n",
              "      <td>0</td>\n",
              "      <td>0</td>\n",
              "      <td>0</td>\n",
              "      <td>0</td>\n",
              "      <td>1</td>\n",
              "      <td>0</td>\n",
              "      <td>0</td>\n",
              "      <td>0</td>\n",
              "      <td>1</td>\n",
              "      <td>0</td>\n",
              "      <td>0</td>\n",
              "      <td>0</td>\n",
              "      <td>1</td>\n",
              "      <td>0</td>\n",
              "      <td>0</td>\n",
              "      <td>0</td>\n",
              "      <td>0</td>\n",
              "      <td>0</td>\n",
              "      <td>0</td>\n",
              "      <td>0</td>\n",
              "      <td>0</td>\n",
              "      <td>0</td>\n",
              "      <td>0</td>\n",
              "      <td>1</td>\n",
              "      <td>0</td>\n",
              "      <td>0</td>\n",
              "      <td>0</td>\n",
              "      <td>0</td>\n",
              "      <td>0</td>\n",
              "      <td>0</td>\n",
              "      <td>0</td>\n",
              "      <td>0</td>\n",
              "      <td>0</td>\n",
              "      <td>0</td>\n",
              "      <td>1</td>\n",
              "    </tr>\n",
              "  </tbody>\n",
              "</table>\n",
              "</div>\n",
              "      <button class=\"colab-df-convert\" onclick=\"convertToInteractive('df-510ab923-23dc-4614-805b-7a065f0100dc')\"\n",
              "              title=\"Convert this dataframe to an interactive table.\"\n",
              "              style=\"display:none;\">\n",
              "\n",
              "  <svg xmlns=\"http://www.w3.org/2000/svg\" height=\"24px\"viewBox=\"0 0 24 24\"\n",
              "       width=\"24px\">\n",
              "    <path d=\"M0 0h24v24H0V0z\" fill=\"none\"/>\n",
              "    <path d=\"M18.56 5.44l.94 2.06.94-2.06 2.06-.94-2.06-.94-.94-2.06-.94 2.06-2.06.94zm-11 1L8.5 8.5l.94-2.06 2.06-.94-2.06-.94L8.5 2.5l-.94 2.06-2.06.94zm10 10l.94 2.06.94-2.06 2.06-.94-2.06-.94-.94-2.06-.94 2.06-2.06.94z\"/><path d=\"M17.41 7.96l-1.37-1.37c-.4-.4-.92-.59-1.43-.59-.52 0-1.04.2-1.43.59L10.3 9.45l-7.72 7.72c-.78.78-.78 2.05 0 2.83L4 21.41c.39.39.9.59 1.41.59.51 0 1.02-.2 1.41-.59l7.78-7.78 2.81-2.81c.8-.78.8-2.07 0-2.86zM5.41 20L4 18.59l7.72-7.72 1.47 1.35L5.41 20z\"/>\n",
              "  </svg>\n",
              "      </button>\n",
              "\n",
              "\n",
              "\n",
              "    <div id=\"df-db53fc75-747c-4c11-8f08-d772e1ac31b6\">\n",
              "      <button class=\"colab-df-quickchart\" onclick=\"quickchart('df-db53fc75-747c-4c11-8f08-d772e1ac31b6')\"\n",
              "              title=\"Suggest charts.\"\n",
              "              style=\"display:none;\">\n",
              "\n",
              "<svg xmlns=\"http://www.w3.org/2000/svg\" height=\"24px\"viewBox=\"0 0 24 24\"\n",
              "     width=\"24px\">\n",
              "    <g>\n",
              "        <path d=\"M19 3H5c-1.1 0-2 .9-2 2v14c0 1.1.9 2 2 2h14c1.1 0 2-.9 2-2V5c0-1.1-.9-2-2-2zM9 17H7v-7h2v7zm4 0h-2V7h2v10zm4 0h-2v-4h2v4z\"/>\n",
              "    </g>\n",
              "</svg>\n",
              "      </button>\n",
              "    </div>\n",
              "\n",
              "<style>\n",
              "  .colab-df-quickchart {\n",
              "    background-color: #E8F0FE;\n",
              "    border: none;\n",
              "    border-radius: 50%;\n",
              "    cursor: pointer;\n",
              "    display: none;\n",
              "    fill: #1967D2;\n",
              "    height: 32px;\n",
              "    padding: 0 0 0 0;\n",
              "    width: 32px;\n",
              "  }\n",
              "\n",
              "  .colab-df-quickchart:hover {\n",
              "    background-color: #E2EBFA;\n",
              "    box-shadow: 0px 1px 2px rgba(60, 64, 67, 0.3), 0px 1px 3px 1px rgba(60, 64, 67, 0.15);\n",
              "    fill: #174EA6;\n",
              "  }\n",
              "\n",
              "  [theme=dark] .colab-df-quickchart {\n",
              "    background-color: #3B4455;\n",
              "    fill: #D2E3FC;\n",
              "  }\n",
              "\n",
              "  [theme=dark] .colab-df-quickchart:hover {\n",
              "    background-color: #434B5C;\n",
              "    box-shadow: 0px 1px 3px 1px rgba(0, 0, 0, 0.15);\n",
              "    filter: drop-shadow(0px 1px 2px rgba(0, 0, 0, 0.3));\n",
              "    fill: #FFFFFF;\n",
              "  }\n",
              "</style>\n",
              "\n",
              "    <script>\n",
              "      async function quickchart(key) {\n",
              "        const containerElement = document.querySelector('#' + key);\n",
              "        const charts = await google.colab.kernel.invokeFunction(\n",
              "            'suggestCharts', [key], {});\n",
              "      }\n",
              "    </script>\n",
              "\n",
              "      <script>\n",
              "\n",
              "function displayQuickchartButton(domScope) {\n",
              "  let quickchartButtonEl =\n",
              "    domScope.querySelector('#df-db53fc75-747c-4c11-8f08-d772e1ac31b6 button.colab-df-quickchart');\n",
              "  quickchartButtonEl.style.display =\n",
              "    google.colab.kernel.accessAllowed ? 'block' : 'none';\n",
              "}\n",
              "\n",
              "        displayQuickchartButton(document);\n",
              "      </script>\n",
              "      <style>\n",
              "    .colab-df-container {\n",
              "      display:flex;\n",
              "      flex-wrap:wrap;\n",
              "      gap: 12px;\n",
              "    }\n",
              "\n",
              "    .colab-df-convert {\n",
              "      background-color: #E8F0FE;\n",
              "      border: none;\n",
              "      border-radius: 50%;\n",
              "      cursor: pointer;\n",
              "      display: none;\n",
              "      fill: #1967D2;\n",
              "      height: 32px;\n",
              "      padding: 0 0 0 0;\n",
              "      width: 32px;\n",
              "    }\n",
              "\n",
              "    .colab-df-convert:hover {\n",
              "      background-color: #E2EBFA;\n",
              "      box-shadow: 0px 1px 2px rgba(60, 64, 67, 0.3), 0px 1px 3px 1px rgba(60, 64, 67, 0.15);\n",
              "      fill: #174EA6;\n",
              "    }\n",
              "\n",
              "    [theme=dark] .colab-df-convert {\n",
              "      background-color: #3B4455;\n",
              "      fill: #D2E3FC;\n",
              "    }\n",
              "\n",
              "    [theme=dark] .colab-df-convert:hover {\n",
              "      background-color: #434B5C;\n",
              "      box-shadow: 0px 1px 3px 1px rgba(0, 0, 0, 0.15);\n",
              "      filter: drop-shadow(0px 1px 2px rgba(0, 0, 0, 0.3));\n",
              "      fill: #FFFFFF;\n",
              "    }\n",
              "  </style>\n",
              "\n",
              "      <script>\n",
              "        const buttonEl =\n",
              "          document.querySelector('#df-510ab923-23dc-4614-805b-7a065f0100dc button.colab-df-convert');\n",
              "        buttonEl.style.display =\n",
              "          google.colab.kernel.accessAllowed ? 'block' : 'none';\n",
              "\n",
              "        async function convertToInteractive(key) {\n",
              "          const element = document.querySelector('#df-510ab923-23dc-4614-805b-7a065f0100dc');\n",
              "          const dataTable =\n",
              "            await google.colab.kernel.invokeFunction('convertToInteractive',\n",
              "                                                     [key], {});\n",
              "          if (!dataTable) return;\n",
              "\n",
              "          const docLinkHtml = 'Like what you see? Visit the ' +\n",
              "            '<a target=\"_blank\" href=https://colab.research.google.com/notebooks/data_table.ipynb>data table notebook</a>'\n",
              "            + ' to learn more about interactive tables.';\n",
              "          element.innerHTML = '';\n",
              "          dataTable['output_type'] = 'display_data';\n",
              "          await google.colab.output.renderOutput(dataTable, element);\n",
              "          const docLink = document.createElement('div');\n",
              "          docLink.innerHTML = docLinkHtml;\n",
              "          element.appendChild(docLink);\n",
              "        }\n",
              "      </script>\n",
              "    </div>\n",
              "  </div>\n"
            ]
          },
          "metadata": {},
          "execution_count": 282
        }
      ]
    },
    {
      "cell_type": "markdown",
      "source": [
        "# Guarda predicciones"
      ],
      "metadata": {
        "id": "DGcGVB_rJUDz"
      }
    },
    {
      "cell_type": "markdown",
      "source": [
        "* Guardar las predicciones en data path. Cada fila debe estar etiquetada con el ID."
      ],
      "metadata": {
        "id": "RBexy20LM3sd"
      }
    },
    {
      "cell_type": "code",
      "source": [
        "submission = pd.DataFrame(predictions, index = X_pred.index)"
      ],
      "metadata": {
        "id": "_FzlcWmJJXAN"
      },
      "execution_count": null,
      "outputs": []
    },
    {
      "cell_type": "code",
      "source": [
        "submission.head()"
      ],
      "metadata": {
        "colab": {
          "base_uri": "https://localhost:8080/",
          "height": 237
        },
        "id": "wWch47yciJCy",
        "outputId": "602d9f8e-328c-47f9-ac6c-e1f338c482c5"
      },
      "execution_count": null,
      "outputs": [
        {
          "output_type": "execute_result",
          "data": {
            "text/plain": [
              "             0\n",
              "Customer_ID   \n",
              "1090001      0\n",
              "1090002      0\n",
              "1090003      0\n",
              "1090004      0\n",
              "1090005      0"
            ],
            "text/html": [
              "\n",
              "\n",
              "  <div id=\"df-3853e1a2-2fe6-42a8-bf18-c0abf7a803e9\">\n",
              "    <div class=\"colab-df-container\">\n",
              "      <div>\n",
              "<style scoped>\n",
              "    .dataframe tbody tr th:only-of-type {\n",
              "        vertical-align: middle;\n",
              "    }\n",
              "\n",
              "    .dataframe tbody tr th {\n",
              "        vertical-align: top;\n",
              "    }\n",
              "\n",
              "    .dataframe thead th {\n",
              "        text-align: right;\n",
              "    }\n",
              "</style>\n",
              "<table border=\"1\" class=\"dataframe\">\n",
              "  <thead>\n",
              "    <tr style=\"text-align: right;\">\n",
              "      <th></th>\n",
              "      <th>0</th>\n",
              "    </tr>\n",
              "    <tr>\n",
              "      <th>Customer_ID</th>\n",
              "      <th></th>\n",
              "    </tr>\n",
              "  </thead>\n",
              "  <tbody>\n",
              "    <tr>\n",
              "      <th>1090001</th>\n",
              "      <td>0</td>\n",
              "    </tr>\n",
              "    <tr>\n",
              "      <th>1090002</th>\n",
              "      <td>0</td>\n",
              "    </tr>\n",
              "    <tr>\n",
              "      <th>1090003</th>\n",
              "      <td>0</td>\n",
              "    </tr>\n",
              "    <tr>\n",
              "      <th>1090004</th>\n",
              "      <td>0</td>\n",
              "    </tr>\n",
              "    <tr>\n",
              "      <th>1090005</th>\n",
              "      <td>0</td>\n",
              "    </tr>\n",
              "  </tbody>\n",
              "</table>\n",
              "</div>\n",
              "      <button class=\"colab-df-convert\" onclick=\"convertToInteractive('df-3853e1a2-2fe6-42a8-bf18-c0abf7a803e9')\"\n",
              "              title=\"Convert this dataframe to an interactive table.\"\n",
              "              style=\"display:none;\">\n",
              "\n",
              "  <svg xmlns=\"http://www.w3.org/2000/svg\" height=\"24px\"viewBox=\"0 0 24 24\"\n",
              "       width=\"24px\">\n",
              "    <path d=\"M0 0h24v24H0V0z\" fill=\"none\"/>\n",
              "    <path d=\"M18.56 5.44l.94 2.06.94-2.06 2.06-.94-2.06-.94-.94-2.06-.94 2.06-2.06.94zm-11 1L8.5 8.5l.94-2.06 2.06-.94-2.06-.94L8.5 2.5l-.94 2.06-2.06.94zm10 10l.94 2.06.94-2.06 2.06-.94-2.06-.94-.94-2.06-.94 2.06-2.06.94z\"/><path d=\"M17.41 7.96l-1.37-1.37c-.4-.4-.92-.59-1.43-.59-.52 0-1.04.2-1.43.59L10.3 9.45l-7.72 7.72c-.78.78-.78 2.05 0 2.83L4 21.41c.39.39.9.59 1.41.59.51 0 1.02-.2 1.41-.59l7.78-7.78 2.81-2.81c.8-.78.8-2.07 0-2.86zM5.41 20L4 18.59l7.72-7.72 1.47 1.35L5.41 20z\"/>\n",
              "  </svg>\n",
              "      </button>\n",
              "\n",
              "\n",
              "\n",
              "    <div id=\"df-31d7ed59-51c6-4c71-89e1-767093c1ca94\">\n",
              "      <button class=\"colab-df-quickchart\" onclick=\"quickchart('df-31d7ed59-51c6-4c71-89e1-767093c1ca94')\"\n",
              "              title=\"Suggest charts.\"\n",
              "              style=\"display:none;\">\n",
              "\n",
              "<svg xmlns=\"http://www.w3.org/2000/svg\" height=\"24px\"viewBox=\"0 0 24 24\"\n",
              "     width=\"24px\">\n",
              "    <g>\n",
              "        <path d=\"M19 3H5c-1.1 0-2 .9-2 2v14c0 1.1.9 2 2 2h14c1.1 0 2-.9 2-2V5c0-1.1-.9-2-2-2zM9 17H7v-7h2v7zm4 0h-2V7h2v10zm4 0h-2v-4h2v4z\"/>\n",
              "    </g>\n",
              "</svg>\n",
              "      </button>\n",
              "    </div>\n",
              "\n",
              "<style>\n",
              "  .colab-df-quickchart {\n",
              "    background-color: #E8F0FE;\n",
              "    border: none;\n",
              "    border-radius: 50%;\n",
              "    cursor: pointer;\n",
              "    display: none;\n",
              "    fill: #1967D2;\n",
              "    height: 32px;\n",
              "    padding: 0 0 0 0;\n",
              "    width: 32px;\n",
              "  }\n",
              "\n",
              "  .colab-df-quickchart:hover {\n",
              "    background-color: #E2EBFA;\n",
              "    box-shadow: 0px 1px 2px rgba(60, 64, 67, 0.3), 0px 1px 3px 1px rgba(60, 64, 67, 0.15);\n",
              "    fill: #174EA6;\n",
              "  }\n",
              "\n",
              "  [theme=dark] .colab-df-quickchart {\n",
              "    background-color: #3B4455;\n",
              "    fill: #D2E3FC;\n",
              "  }\n",
              "\n",
              "  [theme=dark] .colab-df-quickchart:hover {\n",
              "    background-color: #434B5C;\n",
              "    box-shadow: 0px 1px 3px 1px rgba(0, 0, 0, 0.15);\n",
              "    filter: drop-shadow(0px 1px 2px rgba(0, 0, 0, 0.3));\n",
              "    fill: #FFFFFF;\n",
              "  }\n",
              "</style>\n",
              "\n",
              "    <script>\n",
              "      async function quickchart(key) {\n",
              "        const containerElement = document.querySelector('#' + key);\n",
              "        const charts = await google.colab.kernel.invokeFunction(\n",
              "            'suggestCharts', [key], {});\n",
              "      }\n",
              "    </script>\n",
              "\n",
              "      <script>\n",
              "\n",
              "function displayQuickchartButton(domScope) {\n",
              "  let quickchartButtonEl =\n",
              "    domScope.querySelector('#df-31d7ed59-51c6-4c71-89e1-767093c1ca94 button.colab-df-quickchart');\n",
              "  quickchartButtonEl.style.display =\n",
              "    google.colab.kernel.accessAllowed ? 'block' : 'none';\n",
              "}\n",
              "\n",
              "        displayQuickchartButton(document);\n",
              "      </script>\n",
              "      <style>\n",
              "    .colab-df-container {\n",
              "      display:flex;\n",
              "      flex-wrap:wrap;\n",
              "      gap: 12px;\n",
              "    }\n",
              "\n",
              "    .colab-df-convert {\n",
              "      background-color: #E8F0FE;\n",
              "      border: none;\n",
              "      border-radius: 50%;\n",
              "      cursor: pointer;\n",
              "      display: none;\n",
              "      fill: #1967D2;\n",
              "      height: 32px;\n",
              "      padding: 0 0 0 0;\n",
              "      width: 32px;\n",
              "    }\n",
              "\n",
              "    .colab-df-convert:hover {\n",
              "      background-color: #E2EBFA;\n",
              "      box-shadow: 0px 1px 2px rgba(60, 64, 67, 0.3), 0px 1px 3px 1px rgba(60, 64, 67, 0.15);\n",
              "      fill: #174EA6;\n",
              "    }\n",
              "\n",
              "    [theme=dark] .colab-df-convert {\n",
              "      background-color: #3B4455;\n",
              "      fill: #D2E3FC;\n",
              "    }\n",
              "\n",
              "    [theme=dark] .colab-df-convert:hover {\n",
              "      background-color: #434B5C;\n",
              "      box-shadow: 0px 1px 3px 1px rgba(0, 0, 0, 0.15);\n",
              "      filter: drop-shadow(0px 1px 2px rgba(0, 0, 0, 0.3));\n",
              "      fill: #FFFFFF;\n",
              "    }\n",
              "  </style>\n",
              "\n",
              "      <script>\n",
              "        const buttonEl =\n",
              "          document.querySelector('#df-3853e1a2-2fe6-42a8-bf18-c0abf7a803e9 button.colab-df-convert');\n",
              "        buttonEl.style.display =\n",
              "          google.colab.kernel.accessAllowed ? 'block' : 'none';\n",
              "\n",
              "        async function convertToInteractive(key) {\n",
              "          const element = document.querySelector('#df-3853e1a2-2fe6-42a8-bf18-c0abf7a803e9');\n",
              "          const dataTable =\n",
              "            await google.colab.kernel.invokeFunction('convertToInteractive',\n",
              "                                                     [key], {});\n",
              "          if (!dataTable) return;\n",
              "\n",
              "          const docLinkHtml = 'Like what you see? Visit the ' +\n",
              "            '<a target=\"_blank\" href=https://colab.research.google.com/notebooks/data_table.ipynb>data table notebook</a>'\n",
              "            + ' to learn more about interactive tables.';\n",
              "          element.innerHTML = '';\n",
              "          dataTable['output_type'] = 'display_data';\n",
              "          await google.colab.output.renderOutput(dataTable, element);\n",
              "          const docLink = document.createElement('div');\n",
              "          docLink.innerHTML = docLinkHtml;\n",
              "          element.appendChild(docLink);\n",
              "        }\n",
              "      </script>\n",
              "    </div>\n",
              "  </div>\n"
            ]
          },
          "metadata": {},
          "execution_count": 284
        }
      ]
    },
    {
      "cell_type": "code",
      "source": [
        "submission.value_counts(normalize=True) * 100"
      ],
      "metadata": {
        "colab": {
          "base_uri": "https://localhost:8080/"
        },
        "id": "TXqt5tlctC5-",
        "outputId": "265c2aee-89df-4226-c780-8d56d9074e19"
      },
      "execution_count": null,
      "outputs": [
        {
          "output_type": "execute_result",
          "data": {
            "text/plain": [
              "0    61.1\n",
              "1    38.9\n",
              "dtype: float64"
            ]
          },
          "metadata": {},
          "execution_count": 288
        }
      ]
    },
    {
      "cell_type": "code",
      "source": [
        "submission.to_csv('/content/drive/MyDrive/DSC 0523– Entregable 2 - Borrero, Dottori, He/Modelo/EJERCICIO-ML-Sup/data/predictions.csv')"
      ],
      "metadata": {
        "id": "w8QNILV2RB1w"
      },
      "execution_count": null,
      "outputs": []
    }
  ]
}